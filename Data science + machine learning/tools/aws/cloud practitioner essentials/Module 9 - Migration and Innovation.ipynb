{
 "cells": [
  {
   "cell_type": "markdown",
   "id": "f7a13165",
   "metadata": {},
   "source": [
    "## Cloud adoption framework (AWS CAF)\n",
    "\n",
    "guides the process of moving to AWS\n",
    "\n",
    "Six core perspecitves of the cloud adoption framework:<br> \n",
    "- business: ensures that IT aligns with business needs\n",
    "    - business managers\n",
    "    - finance managers\n",
    "    - budget owners\n",
    "    - strategy stakeholders\n",
    "- people: training, staffing, and organizational changes\n",
    "    - HR\n",
    "    - staffing\n",
    "    - people managers\n",
    "- governance: maximize business value and minimize risks\n",
    "    - Chief Information Officer (CIO)\n",
    "    - Program managers\n",
    "    - Enterprise architects\n",
    "    - Business Analysts\n",
    "    - Protfolio managers\n",
    "- platform: cloud architecture\n",
    "    - Chief Technology Officer (CTO)\n",
    "    - IT managers\n",
    "    - solutions architect\n",
    "- security: ensures security needs\n",
    "    - Chief information security officer (CISO)\n",
    "    - IT security managers\n",
    "    - IT security analysts\n",
    "- operations: day-to-day operations\n",
    "    - IT managers\n",
    "    - IT support managers\n",
    "\n",
    "AWS CAF Action plan: helps guide organization for migration<br> \n",
    "\n"
   ]
  },
  {
   "cell_type": "markdown",
   "id": "e3c65f71",
   "metadata": {},
   "source": [
    "## Migration strategies\n",
    "\n",
    "The 6 R's (strategies) of migration:<br> \n",
    "- Rehosting (lift and shift) - no actual changes. Pick up applications and move as-is. Without optimization, can still get ~30% savings, then optimize once in the cloud\n",
    "- Replatforming (lift, tinker, and shift) - make a few optimizations, but no new development. \n",
    "- Retire - ~10-20% of application protfolios include things that are no longer being used or already replaced. Use migration as an opportunity to kill applications. \n",
    "- Retain - keep applications that are about to be depreciated, so keep them where they live\n",
    "- Repurchasing - fresh start, end contract or licenses with legacy vendors in favor of cloud solutions. More expensive up front\n",
    "- Refactoring - add features or performance that are not available on-premesis. Highest initial cost. "
   ]
  },
  {
   "cell_type": "markdown",
   "id": "e9653353",
   "metadata": {},
   "source": [
    "## AWS Snow family\n",
    "\n",
    "Network with 1 GPS moves 1 PB in ~100 days<br> \n",
    "\n",
    "Use physical devices to move data to AWS datacenters. Order the device, copy data onto it, ship back to Amazon, then they will upload it to their hardware. \n",
    "\n",
    "- AWS Snowcone\n",
    "    - 8 TB\n",
    "- AWS Snowball Edge\n",
    "    - compute optimized\n",
    "    - storage optimized\n",
    "    - fit into existing server racks\n",
    "    - can run AWS services on premesis\n",
    "    - usually ship to remote locations\n",
    "    - use cases: streams from IOT, compression, ect. \n",
    "- AWS Snowmobile\n",
    "    - 45 ft shipping container\n",
    "    - 100 PB\n",
    "    - largest migrations & data center shutdowns"
   ]
  },
  {
   "cell_type": "markdown",
   "id": "ca8a7a2b",
   "metadata": {},
   "source": [
    "## Innovation with AWS\n",
    "\n"
   ]
  }
 ],
 "metadata": {
  "kernelspec": {
   "display_name": "Python 3",
   "language": "python",
   "name": "python3"
  },
  "language_info": {
   "codemirror_mode": {
    "name": "ipython",
    "version": 3
   },
   "file_extension": ".py",
   "mimetype": "text/x-python",
   "name": "python",
   "nbconvert_exporter": "python",
   "pygments_lexer": "ipython3",
   "version": "3.8.10"
  }
 },
 "nbformat": 4,
 "nbformat_minor": 5
}
