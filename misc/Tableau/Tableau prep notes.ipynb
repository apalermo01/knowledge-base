{
 "cells": [
  {
   "cell_type": "markdown",
   "id": "alpha-liverpool",
   "metadata": {},
   "source": [
    "# Steppig through the tableau prep workflow\n",
    "\n",
    "## Data preparation process\n",
    "\n",
    "need might arise from data problems during analysis (e.g. strange looking charts, inconsistent values (Hi vs High))\n",
    "\n",
    "- Cleaning data does NOT change the underlying source\n",
    "\n",
    "Selecting a value highlights associated values in the other rows\n",
    "\n",
    "ex: combine spellings of values on a row (e.g. Hi vs High)\n",
    "\n",
    "- check # rows for each value\n",
    "- change the spelling of an incorrect field to the correct spelling (replaces the wrong spelling with the correct spelling)- grouped values\n",
    "- changes arrow -> gives a list of all cleaning operations\n",
    "- right click any step after loading data -> check data in tableau desktop\n",
    "- file -> save as -> save as a tableau flow file (.tfl) or packaged tableau flow (.tflx) (this one saves a copy of the original data)\n",
    "\n",
    "- context menu -> group and replace can do more kinds of cleaning\n",
    "\n",
    "## Outputting clean data\n",
    "\n",
    "- -> add output\n",
    "- save clean data as a file or data source\n",
    "- default type: .hyper\n",
    "- run the flow to make the extract\n",
    "\n",
    "## Using the output file as a data source\n",
    "\n",
    "- Start -> connect to a file -> more -> navigate to location -> open "
   ]
  }
 ],
 "metadata": {
  "kernelspec": {
   "display_name": "Python 3",
   "language": "python",
   "name": "python3"
  },
  "language_info": {
   "codemirror_mode": {
    "name": "ipython",
    "version": 3
   },
   "file_extension": ".py",
   "mimetype": "text/x-python",
   "name": "python",
   "nbconvert_exporter": "python",
   "pygments_lexer": "ipython3",
   "version": "3.8.8"
  }
 },
 "nbformat": 4,
 "nbformat_minor": 5
}
