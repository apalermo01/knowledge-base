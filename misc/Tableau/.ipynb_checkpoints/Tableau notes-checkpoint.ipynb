{
 "cells": [
  {
   "cell_type": "markdown",
   "metadata": {},
   "source": [
    "# Context Filters\n",
    "\n",
    "- filters, by default, access all rows in the dataset regardless of other filters\n",
    "- Use a context filter to filter what other filters can see\n",
    "- esp. useful for top and bottom filters\n",
    "- ex: filtering top 10 products then filtering by region - does not by default show top 10 products in each region. Filter region first by adding to context THEN filter top 10"
   ]
  },
  {
   "cell_type": "markdown",
   "metadata": {},
   "source": [
    "## Splitting Data Fields\n",
    "\n",
    "- ex: split a customer name into separate fields for first and last name\n",
    "- in data source, right click on column & look at the menus\n",
    "- split from data pane: right click on field -> transform"
   ]
  },
  {
   "cell_type": "markdown",
   "metadata": {},
   "source": [
    "## Aggregating Dimensions\n",
    "\n",
    "- 3 situations when dimensions might be aggregated\n",
    "- blending multiple data sources \n",
    "- aggregate dimension in calculations since aggregate and non-aggregate data can't be mixed\n",
    "- \n",
    "\n",
    "### Different types of aggregations\n",
    "\n",
    "- 1) in calculated field (another lesson)<br>\n",
    "- 2) right click and drag into view -> drop field box<br>\n",
    "- 3) affter adding to view with context menu- right click- hover over 'measure' to see aggregations [doc](https://kb.tableau.com/articles/howto/when-to-use-the-attribute-attr-function)<br>\n",
    "    - 'attribute' - displays \\*, behaves similarly to min and max, useful with multiple data sources<br> \n",
    "    - 'minimum' - returns minimum value (top of list = minimum) - still a dimension<br>\n",
    "    - 'maximum' - returns maximum value (bottom of list = maximum) - still a dimension<br>\n",
    "    - 'count' - returns number of entries - turns to a temporary measure so it can perform calculations<br>\n",
    "    - 'count distinct' - returns number of unique entries - turns into a temporary measure<br>\n",
    "    \n",
    "### Aggregating dimensions in calculations\n",
    "ex: <br>\n",
    "IF SUM(\\[Profilt\\]) > 0 THEN \"profitable\" + MIN(\\[Category\\]) # using minimum since we just want the first (and only) value<br>\n",
    "ELSE \"unprofitable\" + MIN(\\[category\\])\n",
    "\n",
    "Any calculation that includes an aggregation is a measure"
   ]
  },
  {
   "cell_type": "markdown",
   "metadata": {},
   "source": [
    "## Specifying Scope and Direction\n",
    "\n",
    "table calculation: based on data in view- update when view is filtered\n",
    "1) Quick table calculation<br>\n",
    "2) Use table calculation dialog box<br>\n",
    "3) use calculation editor<br>\n",
    "\n",
    "Focus on \\#2<br>\n",
    "options for scope: table, pane, or cell<br>\n",
    "direction: across or down<br>\n",
    "automaticall shows scope and direction on crosstab<br>\n",
    "cell scope: useful for stacked bars<br>\n",
    "<br>\n",
    "what about null values in calculations? it depends<br>\n",
    "changing context in table calculation will change the output<br>\n",
    "\n",
    "**order in which filters are applied**<br>\n",
    "Extract<br>\n",
    "Data source<br>\n",
    "context<br>\n",
    "measure / dimension<br>\n",
    "table calculations<br>\n",
    "table calculation filters<br>\n",
    "\n",
    "right click on field in view -> add table calculation -> opens dialogue box"
   ]
  },
  {
   "cell_type": "markdown",
   "metadata": {},
   "source": [
    "## Level of Detail Expressions\n",
    "\n",
    "LOD - retain numbers at various levels of detail<br>\n",
    "ex: {SUM([profit])} - aggregates profit to the most aggregated leve<br>\n",
    "\n",
    "3 keywords: <br>\n",
    "fixed - {FIXED [Region]: SUM([profit])} - fixes aggregation to region<br>\n",
    "syntax: use {}- most aggregated by default<br>\n",
    "fix level of detail: {FIXED[Dimension]:<aggregate fucntion>}<br>\n",
    "    \n",
    "include & exclude (later)<br>\n",
    "    \n",
    "**TODO** play with this more"
   ]
  },
  {
   "cell_type": "markdown",
   "metadata": {},
   "source": [
    "## Using LOD Expressions with Filters\n",
    "\n",
    "Order of filters: <br>\n",
    "1) Extract filters<br>\n",
    "2) Data source filters<br>\n",
    "3) Context filters<br>\n",
    "4) FIXED<br>\n",
    "5) Dimension filters<br>\n",
    "6) Include / Exclude<br>\n",
    "7) Measure Filters<br>\n",
    "8) table calculation filters<br>\n",
    "9) Table calculations<br>\n"
   ]
  },
  {
   "cell_type": "markdown",
   "metadata": {},
   "source": [
    "## Using Parameters to Give Control\n",
    "\n",
    "works like a variable<br>\n",
    "\n",
    "adjust view according to needs<br>\n",
    "can adjust filter or reference line<br>\n",
    "\n",
    "3 steps: <br>\n",
    "Make it<br>\n",
    "Use it - within filter or calculation<br>\n",
    "Show it - show controls so user can adjust it<br>\n",
    "\n",
    "2 ways to use a parameter: in a calculation or with a filter"
   ]
  },
  {
   "cell_type": "markdown",
   "metadata": {},
   "source": [
    "# Adding parameters to a view"
   ]
  },
  {
   "cell_type": "markdown",
   "metadata": {},
   "source": [
    "# Using a parameter to swap measures\n",
    "\n",
    "- create a parameter\n",
    "- datatype=integer\n",
    "- allowable values -> list\n",
    "- value = 1, 2, 3, ...\n",
    "- Display as: text displayed for that value (i.e. the different measures)\n",
    "\n",
    "- use the parameter in a case statement<br>\n",
    "CASE [name of parameter]<br>\n",
    "WHEN 1 THEN [measure 1]<br>\n",
    "WHEN 2 THEN [mesasure 2]<br>\n",
    ".<br>\n",
    ".<br>\n",
    ".<br>\n",
    "END<br>\n",
    "\n",
    "- build the view\n",
    "- put the dynamic measure (calculated measure) into the view\n",
    "- put the control in the view\n",
    "\n"
   ]
  },
  {
   "cell_type": "markdown",
   "metadata": {},
   "source": [
    "# Advanced Mapping: Modifying Locations\n",
    "\n",
    "## Edit errors in geocode data\n",
    "\n",
    "'ambiguous' - location data is not unique (e.g. multiple counties with the same name in different states)<br>\n",
    "    - can manually adjust role, type lat or long, or ensure that the state / province is fixed\n",
    "   \n",
    "## Assign locations to data\n",
    "- select 'unkonwn box' -> 'Edit locations' -> matching locations might be 'unrecognized'; can type in city names or specific lat / long of a desired location"
   ]
  },
  {
   "cell_type": "markdown",
   "metadata": {},
   "source": [
    "# Advanced mapping: customizing tableau's geocoding\n",
    "\n",
    "you can do custom geocodes by mapping street addresses to lat / long<br>\n",
    "- join second datasource with lat / long\n",
    "\n",
    "### batch geocoding (many websites available that can do this)"
   ]
  },
  {
   "cell_type": "markdown",
   "metadata": {},
   "source": [
    "# Advanced Mapping: Using a Background image\n",
    "\n",
    "**to use image as background**<br>\n",
    "world map: each point is lat / long<br>\n",
    "what about an offic map? - define using x and y values (lat=x, long=y)<br>\n",
    "\n",
    "Define boundaries: x: 0-99, y: 0-99, or use pixel dimensions<br>\n",
    "can define however you like, but two above are the most common<br>\n",
    "\n",
    "- you must have at least one set of x,y values for the background to appear<br>\n",
    "X-> rows; y -> columns<br>\n",
    "fit -> entire view<br>\n",
    "remove axes<br>\n",
    "\n",
    "Map -> background images -> upload image<br>\n",
    "follow prompts to calibrate X and Y coordinates<br>\n",
    "\n",
    "how to find x and y coords for an arbitrary spot: <br>\n",
    "right click -> annotate. move around annotation and get x and y coords of the given spot<br>"
   ]
  },
  {
   "cell_type": "markdown",
   "metadata": {},
   "source": [
    "# Viewing distributions\n",
    "\n",
    "**Building histograms**<br>\n",
    "select measure -> showMe -> histogram thumbnail<br>\n",
    "Tableau automatically creates bin sizes<br>\n",
    "\n",
    "Manual process:<br>\n",
    "measure -> right click -> create -> bins<br> \n",
    "specify bin size<br> \n",
    "bin is defined by and inclusive of its lower limit, exclusive of upper limit<br>\n",
    "This creates a dimension<br> \n",
    "binned fields have histogram icon<br> \n",
    "labels: by default: lower limit<br>\n",
    "make age bin a continuous field<br>\n",
    "\n",
    "fix tick marks: right click x -> edit Axis -> tick marks -> click fixed, select size to match bin size<br>\n",
    "\n",
    "**Building Box and Whisker Plots**<br>\n",
    "ex: daily temperatures for every month<br>\n",
    "temp -> rows<br>\n",
    "date -> cols -> expand to month<br>\n",
    "date -> detail -> exact date<br>\n",
    "use circle mark type -> analytics pane<br>\n",
    "summarize -> box plot -> drop on cell<br>\n",
    "\n",
    "can also use the 'show me' menu"
   ]
  },
  {
   "cell_type": "markdown",
   "metadata": {},
   "source": [
    "# Comparing measures against a goal\n",
    "\n",
    "# Building Bar-in-Bar charts\n",
    "\n",
    "- useful for comparing two measures<br>\n",
    "drop second measure to axis where 2 bars appear -> side-by-side bars<br>\n",
    " \n",
    "\n",
    " **Measure Names** - dimension with each label in source\n",
    " \n",
    " **Measure Values** - contains numerical values for each field\n",
    " \n",
    " Combine bars \n",
    " measure name from rows to color -> get stacked bars\n",
    " unstack marks\n",
    " analysis menu -> stack marks -> off\n",
    " separate overlapping bars\n",
    " measure name / measure values determine which measure is on top\n",
    " drop down menu on measure name -> change formatting\n",
    " on marks card: measure names + ctrl -> size \n",
    " \n",
    " # Bullet Graphs\n",
    " "
   ]
  }
 ],
 "metadata": {
  "kernelspec": {
   "display_name": "Python 3",
   "language": "python",
   "name": "python3"
  },
  "language_info": {
   "codemirror_mode": {
    "name": "ipython",
    "version": 3
   },
   "file_extension": ".py",
   "mimetype": "text/x-python",
   "name": "python",
   "nbconvert_exporter": "python",
   "pygments_lexer": "ipython3",
   "version": "3.8.5"
  }
 },
 "nbformat": 4,
 "nbformat_minor": 5
}
