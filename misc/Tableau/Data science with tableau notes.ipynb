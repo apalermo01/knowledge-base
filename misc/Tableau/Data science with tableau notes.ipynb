{
 "cells": [
  {
   "cell_type": "markdown",
   "id": "second-maria",
   "metadata": {},
   "source": [
    "# Data Science with Tableau"
   ]
  },
  {
   "cell_type": "markdown",
   "id": "scientific-insert",
   "metadata": {},
   "source": [
    "# Using the Analytics Features in Tableau\n",
    "\n",
    "## Highlights of the analytics features\n",
    "\n"
   ]
  },
  {
   "cell_type": "markdown",
   "id": "nearby-party",
   "metadata": {},
   "source": [
    "# Leveraging R, Python, and MATLAB\n"
   ]
  }
 ],
 "metadata": {
  "kernelspec": {
   "display_name": "Python 3",
   "language": "python",
   "name": "python3"
  },
  "language_info": {
   "codemirror_mode": {
    "name": "ipython",
    "version": 3
   },
   "file_extension": ".py",
   "mimetype": "text/x-python",
   "name": "python",
   "nbconvert_exporter": "python",
   "pygments_lexer": "ipython3",
   "version": "3.8.6"
  }
 },
 "nbformat": 4,
 "nbformat_minor": 5
}
