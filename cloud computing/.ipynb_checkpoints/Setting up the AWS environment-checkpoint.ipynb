{
 "cells": [
  {
   "cell_type": "markdown",
   "id": "03f7fd76",
   "metadata": {},
   "source": [
    "# Securing AWS account\n",
    "\n",
    "**Adding MFA to root user**\n",
    "- Log in to the root account, go to IAM\n",
    "- select 'Add MFA'\n",
    "- follow the prompts to set up MFA\n",
    "\n",
    "**Set up a user group**\n",
    "- users are not separate accounts, they are separate users within the same account with different permissions\n",
    "- First, set up a user group - specifies permissions for multiple users\n",
    "- in IAM console, go to 'User groups'\n",
    "- select 'create group'\n",
    "- under 'administrators' under user group name\n",
    "- under 'Attach permissions policies', search for 'AdministratorAccess' and click the associated checkbox\n",
    "- hit 'create group'\n",
    "\n",
    "**create a new user**\n",
    "- On the IAM console, hit 'Users' on the left side\n",
    "- click 'Add users'\n",
    "- select a username and access type\n",
    "- then go to permissions\n",
    "- add the user to the 'administrators' group\n",
    "- select 'tags', add if desired\n",
    "- select 'create user'\n",
    "- make note of the login info and download the csv, **This is the only time these credentials will be made available**\n",
    "\n",
    "**Set an alias for the account**\n",
    "- in the IAM console, select 'Dashboard' on the left side\n",
    "- on the right side, select ih'create' under 'Account Alias'\n",
    "- enter the desired alias\n",
    "\n",
    "**install the AWS CLI**\n",
    "- follow the instructions here:\n",
    "    - https://docs.aws.amazon.com/cli/latest/userguide/getting-started-install.html\n",
    "- to configure the credentials, do `aws configure` in the terminal and enter the access key id and secret access key generated when adding the user from above\n"
   ]
  }
 ],
 "metadata": {
  "kernelspec": {
   "display_name": "Python 3 (ipykernel)",
   "language": "python",
   "name": "python3"
  },
  "language_info": {
   "codemirror_mode": {
    "name": "ipython",
    "version": 3
   },
   "file_extension": ".py",
   "mimetype": "text/x-python",
   "name": "python",
   "nbconvert_exporter": "python",
   "pygments_lexer": "ipython3",
   "version": "3.9.7"
  }
 },
 "nbformat": 4,
 "nbformat_minor": 5
}
