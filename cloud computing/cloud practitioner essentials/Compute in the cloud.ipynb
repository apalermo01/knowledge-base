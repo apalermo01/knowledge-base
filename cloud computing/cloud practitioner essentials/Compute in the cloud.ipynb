{
 "cells": [
  {
   "cell_type": "markdown",
   "id": "89cbd92c",
   "metadata": {},
   "source": [
    "# Module 2: Compute in the cloud"
   ]
  },
  {
   "cell_type": "markdown",
   "id": "e3c3e587",
   "metadata": {},
   "source": [
    "## Elastic Compute Cloud -> EC2\n",
    "\n",
    "EC2 is essentially a virtual server (to serve client requests) with on-demand capabilities. \n",
    "\n",
    "**multitenancy**: sharing underlying hardware between virtual machines<br>\n",
    "even though they are using the same resources, EC2 instances living on the same machine are not aware of each other becuase the hypervisor handling virtualization keeps them separated\n",
    "\n",
    "can create as many EC2 instances as you want with windows or linux with various software packages\n",
    "\n",
    "they are also resizable\n",
    "\n",
    "**vertical scaling** - instances can get bigger or smaller as needed\n",
    "\n",
    "can also control networking aspect (public or private?)\n",
    "\n",
    "uses **Compute as a Service (CaaS)**\n"
   ]
  },
  {
   "cell_type": "markdown",
   "id": "0f8f8768",
   "metadata": {},
   "source": [
    "## EC2 Instance Types\n",
    "\n",
    "each type is grouped under and instance family -> different optimizations<br> \n",
    "\n",
    "instance families:\n",
    "- general - balanced / diverse\n",
    "- compute optimized - Gaming / HPC / modeling\n",
    "- memory optimized - useful for processing large datasets all at once. \n",
    "- accelerated computing - floading point calcs, graphics processing, data pattern matching\n",
    "- storage optimized - for locally stored data; distributed file systems, data warehousing, and high-frequency online transaction processing (OLTP)"
   ]
  },
  {
   "cell_type": "markdown",
   "id": "fa11f8f7",
   "metadata": {},
   "source": [
    "## EC2 pricing\n",
    "\n",
    "- on-demand pricing - only pay for duration that instance runs for (per hour or per second) - good for baseline / testing\n",
    "- savings plans - commit to a certain amount of usage for 1 or 3 year term (72% savings)\n",
    "- reserved instances - steady-state workloads / predictable usage (~75% discourt) - 1 or 3 year term with installments\n",
    "- spot instances - ask for spare capacity (can be reclaimed at any time- 2 minute warning) - ~ 90% reduction\n",
    "- dedicated hosts - reserve a single machine"
   ]
  },
  {
   "cell_type": "markdown",
   "id": "17cabf49",
   "metadata": {},
   "source": [
    "## Scaling EC2\n",
    "\n",
    "Capacity can grow or shrink based on needs<br> \n",
    "\n",
    "There is no single point of failure for EC2 isntances.<br> \n",
    "\n",
    "**EC2 auto scaling**: <br> \n",
    "scale up: add more power to existing machines<br> \n",
    "scale out: add more instances<br> \n",
    "\n",
    "can add the right amount of power for each task<br>. \n",
    "\n",
    "adds instances based on demand and decomissions when they're not needed<br>"
   ]
  },
  {
   "cell_type": "markdown",
   "id": "fa97cbcc",
   "metadata": {},
   "source": [
    "## Elastic Load Balancing\n",
    "\n",
    "tells the client which EC2 instance to use based on load<br> \n",
    "\n",
    "ensures an even distribution of workload<br> \n",
    "\n",
    "regional construct<br> - automatically highly available<br> \n",
    "scales with EC2 isntances - no disruption to traffic handling<br>\n",
    "\n",
    "also handles front-end to back-end communications<br> \n",
    "\n",
    "front end doesn't know or care what backend instances are running<br> \n",
    "\n",
    "many ways to do it, many different services"
   ]
  },
  {
   "cell_type": "markdown",
   "id": "215d21b9",
   "metadata": {},
   "source": [
    "## Messaging and queuing\n",
    "\n",
    "if cashier and barista are out of sync- issues appear<br> \n",
    "fix: use a buffer / queue (e.g. order board)<br> \n",
    "applications send messages to each other<br> \n",
    "**tightly coupled** - apps talk directly to each other. if they go out of sync, then everyone is in trouble.<br> \n",
    "**loosely coupled** - if one component fails, it a isolated and there is no cascade of errors. Messages go through a queue. If reciever goes down, the line in the queue just gets bigger\n",
    "\n",
    "**Amazon Simple Queue Service (SQS)**<br> \n",
    "send, store, and recieve messages between components at any volume<br> \n",
    "Where messages are placed until they are processed<br>\n",
    "scale automatically<br> \n",
    "\n",
    "\n",
    "**Amazon Simple Notification Service**<br>\n",
    "sends messages to sevices and end users<br> \n",
    "**Amazon SNS topic:** - a channel for messages to be delivered<br>\n",
    "can send one message to a topic which will fan out to subscriber - s (which can be anything - end users, other AWS services, etc.)\n",
    "\n",
    "**Monolithic application** - application whose components are tightly coupled (if one component fails, the whole things goes down)\n",
    "\n",
    "**Microservice approach** - components of an application are loosely coupled"
   ]
  },
  {
   "cell_type": "markdown",
   "id": "b8708576",
   "metadata": {},
   "source": [
    "## Additional compute services\n",
    "\n",
    "**EC2** - good for a bunch of different services<br> \n",
    "requires that you set up and manage instances over time<br>\n",
    "you are responsible for patching, architecting solutions, and other management processes ect.<br>\n",
    "\n",
    "**Serverless** - you cannot see or access underlying infastructure / instances<br> \n",
    "all management processes are taken care of for you\n",
    "\n",
    "**AWS lambda** - upload code into lambda function, config trigger, then service waits for trigger. Code is run in a managed environment when the trigger goes off. Designed to run code < 15 min. Better for quick processing. \n",
    "\n",
    "**AWS Continer Services**\n",
    "- Amazon Elastic Container Services (ECS) - run containerized applications at scale.\n",
    "- Amazon Elastic Kubernetes Services (EKS) - similar, but with different tooling and features\n",
    "\n",
    "These are container orchestration tools<br> \n",
    "**container** = docker container<br> \n",
    "**container** = package for code<br> \n",
    "\n",
    "containers run in EC2 instances<br> \n",
    "\n",
    "Both of these can run on EC2<br> \n",
    "\n",
    "If you don't want to bother with EC2 instances, you can use **AWS Fargate**\n",
    "\n",
    "**Fargate** - serverless comput platform for ECS or EKS<br> \n",
    "\n",
    "traditional applications, full access to OS, use EC2<br> \n",
    "short runnign functions, service-oriented, event driven, no underlying environment, Lambda<br> \n",
    "docker container based: ECS or EKS, then choose platform (EC2 or serverless tool like Fargate)<br> \n",
    "\n",
    "\n",
    "**EC2**<br> \n",
    "- porvision instances\n",
    "- upload code\n",
    "- manage instances while app is running\n",
    "\n",
    "**Lambda**<br> \n",
    "- don't provision or manage servers\n",
    "- code runs only when triggered\n",
    "\n",
    "**Containerized applications**<br>\n",
    "- package code and dependencies into a single object\n",
    "- uses container orchestration services to manage containers on many different servers* \n",
    "\n",
    "**ECS**, **EKS**, **Fargate**"
   ]
  }
 ],
 "metadata": {
  "kernelspec": {
   "display_name": "Python 3",
   "language": "python",
   "name": "python3"
  },
  "language_info": {
   "codemirror_mode": {
    "name": "ipython",
    "version": 3
   },
   "file_extension": ".py",
   "mimetype": "text/x-python",
   "name": "python",
   "nbconvert_exporter": "python",
   "pygments_lexer": "ipython3",
   "version": "3.8.10"
  }
 },
 "nbformat": 4,
 "nbformat_minor": 5
}
