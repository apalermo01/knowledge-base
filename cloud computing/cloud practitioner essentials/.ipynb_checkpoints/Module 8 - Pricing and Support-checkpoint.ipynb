{
 "cells": [
  {
   "cell_type": "markdown",
   "id": "922ef479",
   "metadata": {},
   "source": [
    "## AWS Free Tier\n",
    "\n",
    "3 ways to try out a service<br> \n",
    "- always free\n",
    "- 12 months free\n",
    "- trials"
   ]
  },
  {
   "cell_type": "markdown",
   "id": "52967554",
   "metadata": {},
   "source": [
    "## AWS pricing concepts\n",
    "\n",
    "- Pay for what you use\n",
    "- Pay less when you reserve\n",
    "- Pay less with volume-based discounts when you use more"
   ]
  },
  {
   "cell_type": "markdown",
   "id": "f7219149",
   "metadata": {},
   "source": [
    "## Billing Dashboard\n",
    "\n",
    "## Consolidated Billing\n",
    "\n",
    "One bill for all accounts<br>\n",
    "bulk pricing<br> \n"
   ]
  },
  {
   "cell_type": "markdown",
   "id": "ed9c768c",
   "metadata": {},
   "source": [
    "## AWS budgets"
   ]
  },
  {
   "cell_type": "markdown",
   "id": "c1cf3713",
   "metadata": {},
   "source": [
    "## AWS cost explorer\n",
    "\n",
    "visualize, understand, and manage AWS costs and usage over time"
   ]
  },
  {
   "cell_type": "markdown",
   "id": "a334f40c",
   "metadata": {},
   "source": [
    "## AWS support plans\n",
    "\n",
    "Basic support:<br> \n",
    "- every customer gets this\n",
    "- 24/7 customer service\n",
    "- documentation\n",
    "- whitepapers\n",
    "- support forms\n",
    "- trusted advisor\n",
    "- alerts\n",
    "\n",
    "Developer tier:<br> \n",
    "- email customer support directly\n",
    "    - 24 hour response time, or 12 hour if services go down\n",
    "- best practice guidance\n",
    "- client-side diagnostic tools\n",
    "- building-block architecture support\n",
    "\n",
    "Business tier:<br> \n",
    "- AWS trusted advisor gives full set of checks\n",
    "- direct phone access to cloud support engineers (4 hour SOA if impared, 1 hour if down)\n",
    "- infastructure event management\n",
    "\n",
    "Enterprise tier:<br>\n",
    "- 15 minute SLA for business critical workloads\n",
    "- Technical Account Manager (TAM)\n",
    "\n",
    "**TAMs**<br> \n",
    "- monitor environment\n",
    "- well-architected review\n",
    "- reviews architectures with customers\n",
    "\n",
    "5 pillares of the well-architected framework:<br> \n",
    "- Operational Excellence\n",
    "- Security\n",
    "- Reliability\n",
    "- Performance Efficiency\n",
    "- Cost Optimization\n",
    "\n"
   ]
  },
  {
   "cell_type": "markdown",
   "id": "edc4c45c",
   "metadata": {},
   "source": [
    "## AWS marketplace\n",
    "\n",
    "curated digital catalogue of 3rd party software\n",
    "\n",
    "- one-click deployment\n",
    "- many can credit licences you already own\n",
    "- pay-as-you-go options\n",
    "\n",
    "\n",
    "Enterprise-focued features:<br> \n",
    "- custom terms and pricing\n",
    "- private marketplace\n",
    "- integration into procurement systems\n",
    "- cost management tools"
   ]
  }
 ],
 "metadata": {
  "kernelspec": {
   "display_name": "Python 3",
   "language": "python",
   "name": "python3"
  },
  "language_info": {
   "codemirror_mode": {
    "name": "ipython",
    "version": 3
   },
   "file_extension": ".py",
   "mimetype": "text/x-python",
   "name": "python",
   "nbconvert_exporter": "python",
   "pygments_lexer": "ipython3",
   "version": "3.8.10"
  }
 },
 "nbformat": 4,
 "nbformat_minor": 5
}
