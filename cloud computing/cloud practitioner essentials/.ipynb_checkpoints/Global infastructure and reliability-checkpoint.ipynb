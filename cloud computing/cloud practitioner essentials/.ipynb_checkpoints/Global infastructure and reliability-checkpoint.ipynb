{
 "cells": [
  {
   "cell_type": "markdown",
   "id": "99dec5db",
   "metadata": {},
   "source": [
    "**aws has multiple large data centers for redundancy**"
   ]
  },
  {
   "cell_type": "markdown",
   "id": "b999fd23",
   "metadata": {},
   "source": [
    "# AWS regions\n",
    "\n",
    "**Fundamental problems with datacenters** - things may happen that cause a lost connection to the building<br> \n",
    "\n",
    "data centers exist in large groups- regions<br> \n",
    "\n",
    "each region has multiple data centers<br> \n",
    "\n",
    "each region is connected through a fiber network<br> \n",
    "\n",
    "we choose which region to run out of<br> \n",
    "\n",
    "each is isolated from every other region. data is NEVER moved between regions without EXPLICIT permission<br> \n",
    "\n",
    "**factors that go into choosing a region**<br> \n",
    "- compliance\n",
    "- proximity - physical distance to customer base is important. **latency** - the time it takes for data to be sent and recieved\n",
    "- Feature availability - brand new services aren't rolled out in all regions at the same time. e.g. amazon braket (quantum computing platform) - currently not available in all regions\n",
    "- pricing - some locations are more expensive (each region has a different price sheet)"
   ]
  },
  {
   "cell_type": "markdown",
   "id": "7175e9ba",
   "metadata": {},
   "source": [
    "# Availability zones\n",
    "\n",
    "each region has multiple data centers<br> \n",
    "\n",
    "**availability zone** - one or more redundant data centers<br> \n",
    "\n",
    "each region has multiple separate and isolated availability zones<br>\n",
    "\n",
    "When you scale EC2 instances, new instances are created in separate availability zones for redundnacy. Can get up to 10s of miles apart while still having single digis ms latency<br> \n",
    "\n",
    "recommended to run across two availability zones in a region<br> \n",
    "\n",
    "many services run at the region level. e.g ELB - regional construct. Runs on all availability zone. \n",
    "\n",
    "**Regionally scoped service** - available on all availability zones\n",
    "\n"
   ]
  },
  {
   "cell_type": "markdown",
   "id": "2e75b552",
   "metadata": {},
   "source": [
    "# Edge locations\n",
    "\n",
    "\n",
    "what if you have customers all over the world? (or not close to any availability zones)?\n",
    "\n",
    "**Content delivery networkk** - **Amazon CloudFront** - delivers data / apps using **edge locations** to accelerate communications\n",
    "\n",
    "**edge locations** - separate from regions. Run DNS (**Amazon Route 53**) <br> \n",
    "\n",
    "**AWS Outposts** - AWS can install mini-region inside your own data center. \n",
    "\n",
    "\n",
    "**key points**\n",
    "- regions are geographically isolated areas\n",
    "- regions contain availability zones (with 10s of miles of separation)\n",
    "- edge locations run Amazon CloudFront to get content close to globally distributed customers\n",
    "\n",
    "**CloudFront** stores cached copies of content\n"
   ]
  },
  {
   "cell_type": "markdown",
   "id": "a8664da5",
   "metadata": {},
   "source": [
    "# How to Provision AWS resources\n",
    "\n",
    "everything is an **API** call<br> \n",
    "**API** = application programming interface<br> \n",
    "\n",
    "use these to provision, call, and manage AWS services<br> \n",
    "\n",
    "can use:\n",
    "- AWS management console\n",
    "- AWS command line interface (CLI)\n",
    "- AWS software development kits (SDKs)\n",
    "+ other tools\n",
    "\n",
    "**AWS management console**<br> \n",
    "manage visually, browser-based. Good for learning, test environments, non-technical resources.<br> \n",
    "\n",
    "**AWS CLI** <br> \n",
    "make API calls using terminal<br>\n",
    "actions become scriptable and repeatable<br> \n",
    "can run automatically, or based on triggers<br> \n",
    "\n",
    "**AWS SDK**<br> \n",
    "interact with AWS resources using various programming languages<br> \n",
    "\n",
    "**AWS Elastic Beanstalk**<br> \n",
    "provision EC2 environments. give it code and desired configurations, then builds out environment for you. can save env configurations. automatically manages and scales EC2 instances and others\n",
    "\n",
    "**AWS cloud formation**<br> \n",
    "infastructure as code tool. JSON or YAML - cloud formation templates. can define what you want without worrying about details. <br> \n",
    "storage, databases, analytics, ML, ect. <br> \n",
    "manages all calls to backend APIs for you"
   ]
  }
 ],
 "metadata": {
  "kernelspec": {
   "display_name": "Python 3",
   "language": "python",
   "name": "python3"
  },
  "language_info": {
   "codemirror_mode": {
    "name": "ipython",
    "version": 3
   },
   "file_extension": ".py",
   "mimetype": "text/x-python",
   "name": "python",
   "nbconvert_exporter": "python",
   "pygments_lexer": "ipython3",
   "version": "3.8.10"
  }
 },
 "nbformat": 4,
 "nbformat_minor": 5
}
