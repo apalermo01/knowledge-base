{
 "cells": [
  {
   "cell_type": "markdown",
   "id": "84939fb5",
   "metadata": {},
   "source": [
    "**Monitoring** - Observing systems, collecting metrics, and then using data to make decisions<br> "
   ]
  },
  {
   "cell_type": "markdown",
   "id": "4ef71862",
   "metadata": {},
   "source": [
    "## AWS CloudWatch\n",
    "\n",
    "- access to all metrics from a center location\n",
    "- gain visibility into applications, infastructure, and services\n",
    "- reduce mean time to resolution (MTTR) and improve TCO (total cost of ownership)\n",
    "- drive insights to optimize applications and operational resources\n",
    "- **CloudWatch alarms** - automatically perform actions if value of a metric has gone above or below a predefined threshold\n",
    "    - ex: can automatically stop an EC2 instance when CPU utilization has remained below a certain percentage for some time"
   ]
  },
  {
   "cell_type": "markdown",
   "id": "12153d95",
   "metadata": {},
   "source": [
    "## AWS CloudTrail\n",
    "\n",
    "comprehensive API auditing tool<br> \n",
    "\n",
    "Every request made to AWS is logged in the cloud trail engine.<br> \n",
    "\n",
    "logs who did the request, where it came from, result, ect. <br> \n",
    "\n",
    "can save logs from CloudTrail in tamper-proof S3 vaults<br> "
   ]
  },
  {
   "cell_type": "markdown",
   "id": "bf08d549",
   "metadata": {},
   "source": [
    "## AWS TrustedAdvisor\n",
    "\n",
    "evaluates resources against 5 pillars:<br> \n",
    "- cost optimization\n",
    "- performance\n",
    "- security\n",
    "- fault tolerance\n",
    "- service limits\n",
    "\n",
    "some are free, some available based on tier<br> "
   ]
  }
 ],
 "metadata": {
  "kernelspec": {
   "display_name": "Python 3",
   "language": "python",
   "name": "python3"
  },
  "language_info": {
   "codemirror_mode": {
    "name": "ipython",
    "version": 3
   },
   "file_extension": ".py",
   "mimetype": "text/x-python",
   "name": "python",
   "nbconvert_exporter": "python",
   "pygments_lexer": "ipython3",
   "version": "3.8.10"
  }
 },
 "nbformat": 4,
 "nbformat_minor": 5
}
