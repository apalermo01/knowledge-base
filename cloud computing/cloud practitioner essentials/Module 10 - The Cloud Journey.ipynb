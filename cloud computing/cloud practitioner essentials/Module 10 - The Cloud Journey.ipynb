{
 "cells": [
  {
   "cell_type": "markdown",
   "id": "7a3ec7db",
   "metadata": {},
   "source": [
    "## The AWS well-architected framework\n",
    "\n",
    "- Operational excellence - run and monitor systems to deliver business value and continually improve supporting processes and procedures\n",
    "- security - protect information, systems, and assets while delivering business value through risk assessments and mitigation strategies\n",
    "- reliability - recovery planning (disruptions / failures)\n",
    "- performance efficiency - using IT and computing resources efficiently\n",
    "- cost optimization - control where money is spent\n"
   ]
  },
  {
   "cell_type": "markdown",
   "id": "c50ef981",
   "metadata": {},
   "source": [
    "## Benefits of the AWS cloud\n",
    "\n",
    "- trade fixed expense for varied expense\n",
    "- benefit from massive economies of scale\n",
    "- stop guessing capacity\n",
    "- increase speed and agility\n",
    "- stop spending money running and maintaining data centers\n",
    "- go global in minutes"
   ]
  }
 ],
 "metadata": {
  "kernelspec": {
   "display_name": "Python 3",
   "language": "python",
   "name": "python3"
  },
  "language_info": {
   "codemirror_mode": {
    "name": "ipython",
    "version": 3
   },
   "file_extension": ".py",
   "mimetype": "text/x-python",
   "name": "python",
   "nbconvert_exporter": "python",
   "pygments_lexer": "ipython3",
   "version": "3.8.10"
  }
 },
 "nbformat": 4,
 "nbformat_minor": 5
}
