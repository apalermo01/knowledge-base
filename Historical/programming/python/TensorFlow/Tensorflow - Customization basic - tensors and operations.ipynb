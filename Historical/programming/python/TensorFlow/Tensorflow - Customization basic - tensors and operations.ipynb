{
 "cells": [
  {
   "cell_type": "markdown",
   "id": "1e83c692",
   "metadata": {},
   "source": [
    "Tensors are multidimensional arrays similar to numpy arrays (or pytorch tensors). There are numerous builtin operations ranging from addition to matrix inversion. \n",
    "\n",
    "Big differences between numpy arrays and tensors:\n",
    "\n",
    "- tensors can be backed by accelerator memory (e.g. GPU, TPU)\n",
    "- tensors are immutable\n",
    "\n",
    "\n",
    "\n",
    "Conversions:\n",
    "\n",
    "- tf operations automatically convert numpy arrays to tensors\n",
    "- numpy operations automatically convert tensors to numpy arrays\n",
    "\n",
    "\n",
    "can convert a tensor to numpy array using `.numpy()`\n",
    "\n",
    "\n",
    "## Device names\n",
    "\n",
    "- tensors have a fully qualified string name of the device hosting the conents of the tensor, even the network address of the host for distributed training.\n",
    "\n",
    "can do explicit device placement using the context manager\n",
    "\n",
    "```python\n",
    "with tf.device(\"GPU:0\"):\n",
    "    x = tf.random.uniform([1000, 1000])\n",
    "\n",
    "```\n"
   ]
  },
  {
   "cell_type": "markdown",
   "id": "97b7cfa1",
   "metadata": {},
   "source": [
    "### Creating a source dataset"
   ]
  },
  {
   "cell_type": "code",
   "execution_count": 2,
   "id": "f5416602",
   "metadata": {},
   "outputs": [
    {
     "name": "stderr",
     "output_type": "stream",
     "text": [
      "2023-08-02 08:36:45.610367: I tensorflow/tsl/cuda/cudart_stub.cc:28] Could not find cuda drivers on your machine, GPU will not be used.\n",
      "2023-08-02 08:36:45.650309: I tensorflow/tsl/cuda/cudart_stub.cc:28] Could not find cuda drivers on your machine, GPU will not be used.\n",
      "2023-08-02 08:36:45.650976: I tensorflow/core/platform/cpu_feature_guard.cc:182] This TensorFlow binary is optimized to use available CPU instructions in performance-critical operations.\n",
      "To enable the following instructions: AVX2 FMA, in other operations, rebuild TensorFlow with the appropriate compiler flags.\n",
      "2023-08-02 08:36:46.399720: W tensorflow/compiler/tf2tensorrt/utils/py_utils.cc:38] TF-TRT Warning: Could not find TensorRT\n"
     ]
    }
   ],
   "source": [
    "import tensorflow as tf\n",
    "\n",
    "ds_tensors = tf.data.Dataset.from_tensor_slices([1, 2, 3, 4, 5, 6])\n",
    "\n",
    "# create a CSV file\n",
    "import tempfile\n",
    "_, filename = tempfile.mkstemp()\n",
    "\n",
    "with open(filename, \"w\") as f:\n",
    "    f.write(\"\"\"Line 1\n",
    "Line 2\n",
    "Line 3\n",
    "  \"\"\")\n",
    "\n",
    "ds_file = tf.data.TextLineDataset(filename)"
   ]
  },
  {
   "cell_type": "markdown",
   "id": "53e209a6",
   "metadata": {},
   "source": [
    "### apply transformations"
   ]
  },
  {
   "cell_type": "code",
   "execution_count": 6,
   "id": "5ce773e8",
   "metadata": {},
   "outputs": [],
   "source": [
    "ds_tensors = ds_tensors.map(tf.math.square).shuffle(2).batch(2)\n",
    "\n",
    "ds_file = ds_file.batch(2)"
   ]
  },
  {
   "cell_type": "markdown",
   "id": "a5b9e965",
   "metadata": {},
   "source": [
    "Iterate"
   ]
  },
  {
   "cell_type": "code",
   "execution_count": 8,
   "id": "f64310e0",
   "metadata": {},
   "outputs": [
    {
     "name": "stdout",
     "output_type": "stream",
     "text": [
      "Elements of ds_tensors:\n",
      "tf.Tensor(\n",
      "[[  16  625]\n",
      " [ 256 1296]], shape=(2, 2), dtype=int32)\n",
      "tf.Tensor([[ 1 81]], shape=(1, 2), dtype=int32)\n",
      "\n",
      "Elements in ds_file:\n",
      "tf.Tensor(\n",
      "[[b'Line 1' b'Line 2']\n",
      " [b'Line 3' b'  ']], shape=(2, 2), dtype=string)\n"
     ]
    }
   ],
   "source": [
    "print('Elements of ds_tensors:')\n",
    "for x in ds_tensors:\n",
    "    print(x)\n",
    "\n",
    "print('\\nElements in ds_file:')\n",
    "for x in ds_file:\n",
    "    print(x)"
   ]
  },
  {
   "cell_type": "markdown",
   "id": "ae9994a4",
   "metadata": {},
   "source": [
    "# References\n",
    "\n",
    "- https://www.tensorflow.org/tutorials/customization/basics"
   ]
  }
 ],
 "metadata": {
  "kernelspec": {
   "display_name": "Python 3 (ipykernel)",
   "language": "python",
   "name": "python3"
  },
  "language_info": {
   "codemirror_mode": {
    "name": "ipython",
    "version": 3
   },
   "file_extension": ".py",
   "mimetype": "text/x-python",
   "name": "python",
   "nbconvert_exporter": "python",
   "pygments_lexer": "ipython3",
   "version": "3.10.12"
  }
 },
 "nbformat": 4,
 "nbformat_minor": 5
}
