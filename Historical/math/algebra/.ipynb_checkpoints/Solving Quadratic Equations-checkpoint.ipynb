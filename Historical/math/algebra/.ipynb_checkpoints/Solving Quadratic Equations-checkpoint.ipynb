{
 "cells": [
  {
   "cell_type": "markdown",
   "id": "351f848d",
   "metadata": {},
   "source": [
    "# Solving quadratic equations\n",
    "\n",
    "There are 4 ways to solve any quadratic equation:\n",
    "\n",
    "- Graphing\n",
    "- Factoring\n",
    "- Quadratic Formula\n",
    "- Completing the Square\n",
    "\n",
    "Note: there are several terms used to talk about the solutions to quadratic equations: *solutions*, *zeros*, *roots*\n",
    "\n",
    "There are 3 types of solutions to quadratic equations:\n",
    "\n",
    "- 2 solutions\n",
    "- 1 solution\n",
    "- no solution\n",
    "\n",
    "By the fundamental theorem of algebra, any polynomial of degree n has exactly n solutions, so how can we get no solution for a quadratic? The answer is that if you have no real roots, then then solutions are complex. Similarly, If you have 1 solution / root, then we call that a repeated root.  "
   ]
  },
  {
   "cell_type": "markdown",
   "id": "8cd34529",
   "metadata": {},
   "source": [
    "# 1. Solving quadratic equations by graphing\n",
    "\n",
    "To solve a quadratic equation by graphing, look for where the graph crosses the x-axis. The x-coordinates where the graph meets the axis are the roots"
   ]
  },
  {
   "cell_type": "code",
   "execution_count": 14,
   "id": "0f5f782e",
   "metadata": {},
   "outputs": [
    {
     "data": {
      "image/png": "[encoded data removed]",
      "text/plain": [
       "<Figure size 648x216 with 3 Axes>"
      ]
     },
     "metadata": {
      "needs_background": "light"
     },
     "output_type": "display_data"
    }
   ],
   "source": [
    "import matplotlib.pyplot as plt\n",
    "import numpy as np\n",
    "\n",
    "def plot_poly(ax, coefs):\n",
    "\n",
    "    # Move left y-axis and bottim x-axis to centre, passing through (0,0)\n",
    "    ax.spines['left'].set_position('center')\n",
    "    ax.spines['bottom'].set_position('center')\n",
    "\n",
    "    # Eliminate upper and right axes\n",
    "    ax.spines['right'].set_color('none')\n",
    "    ax.spines['top'].set_color('none')\n",
    "\n",
    "    # Show ticks in the left and lower axes only\n",
    "    ax.xaxis.set_ticks_position('bottom')\n",
    "    ax.yaxis.set_ticks_position('left')\n",
    "    roots = np.roots(coefs)\n",
    "    x = np.linspace(-10, 10, 100)\n",
    "    y = np.polyval(coefs, x)\n",
    "    ax.plot(x, y)\n",
    "    ax.set_xlim([-10, 10])\n",
    "    ax.set_ylim([-10, 10])\n",
    "    ax.spines['left'].set_position('center')\n",
    "    ax.spines['bottom'].set_position('center')\n",
    "    ax.grid()\n",
    "fig, ax = plt.subplots(ncols=3, figsize=[9, 3])\n",
    "plot_poly(ax[0], (1, 0, -2))"
   ]
  },
  {
   "cell_type": "code",
   "execution_count": null,
   "id": "9b7e3b1e",
   "metadata": {},
   "outputs": [],
   "source": []
  }
 ],
 "metadata": {
  "kernelspec": {
   "display_name": "Python 3 (ipykernel)",
   "language": "python",
   "name": "python3"
  },
  "language_info": {
   "codemirror_mode": {
    "name": "ipython",
    "version": 3
   },
   "file_extension": ".py",
   "mimetype": "text/x-python",
   "name": "python",
   "nbconvert_exporter": "python",
   "pygments_lexer": "ipython3",
   "version": "3.9.7"
  }
 },
 "nbformat": 4,
 "nbformat_minor": 5
}
