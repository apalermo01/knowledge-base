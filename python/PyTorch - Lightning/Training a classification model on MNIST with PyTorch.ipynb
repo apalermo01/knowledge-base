{
 "cells": [
  {
   "cell_type": "code",
   "execution_count": 1,
   "id": "ea2a76f0",
   "metadata": {},
   "outputs": [],
   "source": [
    "import torch\n",
    "from torch import nn, optim\n",
    "from torchvision import datasets, transforms\n",
    "from torch.utils.data import random_split, DataLoader"
   ]
  },
  {
   "cell_type": "code",
   "execution_count": 3,
   "id": "1ae1ce86",
   "metadata": {},
   "outputs": [],
   "source": [
    "# train, val split\n",
    "train_data = datasets.MNIST('data', train=True, download=False, transform=transforms.ToTensor())\n",
    "train, val = random_split(train_data, [55000, 5000])\n",
    "train_loader = DataLoader(train, batch_size=32)\n",
    "val_loader = DataLoader(val, batch_size=32)"
   ]
  },
  {
   "cell_type": "code",
   "execution_count": 4,
   "id": "83e90b60",
   "metadata": {},
   "outputs": [],
   "source": [
    "# define model\n",
    "model = nn.Sequential(\n",
    "  nn.Linear(28*28, 64),\n",
    "  nn.ReLU(),\n",
    "  nn.Linear(64, 64), \n",
    "  nn.ReLU(),\n",
    "  nn.Dropout(0.1),\n",
    "  nn.Linear(64, 10)\n",
    ")"
   ]
  },
  {
   "cell_type": "code",
   "execution_count": 9,
   "id": "a1ec4622",
   "metadata": {},
   "outputs": [],
   "source": [
    "# define a more flexible model\n",
    "class ResNet(nn.Module):\n",
    "  def __init__(self):\n",
    "    super().__init__()\n",
    "    self.l1 = nn.Linear(28*28, 64)\n",
    "    self.l2 = nn.Linear(64, 64)\n",
    "    self.l3 = nn.Linear(64, 10)\n",
    "    self.do = nn.Dropout(0.1)\n",
    "    \n",
    "  def forward(self, x):\n",
    "    h1 = nn.functional.relu(self.l1(x))\n",
    "    h2 = nn.functional.relu(self.l2(h1))\n",
    "    do = self.do(h2+h1)\n",
    "    logits = self.l3(do)\n",
    "    return logits\n",
    "model = ResNet()"
   ]
  },
  {
   "cell_type": "code",
   "execution_count": 10,
   "id": "afa2fb44",
   "metadata": {},
   "outputs": [],
   "source": [
    "# Define optimizer\n",
    "params = model.parameters()\n",
    "optimiser = optim.SGD(params, lr=1e-2)"
   ]
  },
  {
   "cell_type": "code",
   "execution_count": 11,
   "id": "e0986cf3",
   "metadata": {},
   "outputs": [],
   "source": [
    "# Define loss\n",
    "loss = nn.CrossEntropyLoss()"
   ]
  },
  {
   "cell_type": "code",
   "execution_count": 14,
   "id": "28b0a5fb",
   "metadata": {},
   "outputs": [
    {
     "name": "stdout",
     "output_type": "stream",
     "text": [
      "Epoch 1, training loss: 0.81, training accuracy: 0.79\n",
      "Epoch 1, validation loss: 0.40, validation accuracy: 0.89\n",
      "Epoch 2, training loss: 0.37, training accuracy: 0.89\n",
      "Epoch 2, validation loss: 0.32, validation accuracy: 0.91\n",
      "Epoch 3, training loss: 0.30, training accuracy: 0.91\n",
      "Epoch 3, validation loss: 0.28, validation accuracy: 0.92\n",
      "Epoch 4, training loss: 0.26, training accuracy: 0.92\n",
      "Epoch 4, validation loss: 0.25, validation accuracy: 0.93\n",
      "Epoch 5, training loss: 0.23, training accuracy: 0.93\n",
      "Epoch 5, validation loss: 0.22, validation accuracy: 0.94\n"
     ]
    }
   ],
   "source": [
    "# training and validation loops\n",
    "nb_epochs = 5\n",
    "for epoch in range(nb_epochs):\n",
    "  losses = list()\n",
    "  accuracies = list()\n",
    "  model.train()\n",
    "  for batch in train_loader:\n",
    "    x, y = batch\n",
    "    \n",
    "    # x: b x 1 x 28 x 28\n",
    "    b = x.size(0)\n",
    "    x = x.view(b, -1)\n",
    "    \n",
    "    # 1 forward\n",
    "    l = model(x) # l: logits\n",
    "    \n",
    "    # 2 compute objective function\n",
    "    J = loss(l, y)\n",
    "    \n",
    "    # 3 clearning the gradients\n",
    "    model.zero_grad()\n",
    "    \n",
    "    # accumulate the partial derivatives of J wrt params\n",
    "    J.backward()\n",
    "    \n",
    "    # 5 step in the opposite direction of the gradient\n",
    "    optimiser.step()\n",
    "    \n",
    "    losses.append(J.item())\n",
    "    accuracies.append(y.eq(l.detach().argmax(dim=1)).float().mean())\n",
    "    \n",
    "  print(f'Epoch {epoch+1}', end=', ')\n",
    "  print(f'training loss: {torch.tensor(losses).mean():.2f}', end=', ')\n",
    "  print(f'training accuracy: {torch.tensor(accuracies).mean():.2f}')\n",
    "  \n",
    "  losses = list()\n",
    "  accuracies = list()\n",
    "  model.eval()\n",
    "  for batch in val_loader:\n",
    "    x, y = batch\n",
    "    \n",
    "    # x: b x 1 x 28 x 28\n",
    "    b = x.size(0)\n",
    "    x = x.view(b, -1)\n",
    "    \n",
    "    # 1 forward\n",
    "    with torch.no_grad():\n",
    "      l = model(x) # l: logits\n",
    "    \n",
    "    # 2 compute objective function\n",
    "    J = loss(l, y)\n",
    "    \n",
    "    losses.append(J.item())\n",
    "    accuracies.append(y.eq(l.detach().argmax(dim=1)).float().mean())\n",
    "\n",
    "  print(f'Epoch {epoch+1}', end=', ')\n",
    "  print(f'validation loss: {torch.tensor(losses).mean():.2f}', end=', ')\n",
    "  print(f'validation accuracy: {torch.tensor(accuracies).mean():.2f}')"
   ]
  }
 ],
 "metadata": {
  "kernelspec": {
   "display_name": "Python 3 (ipykernel)",
   "language": "python",
   "name": "python3"
  },
  "language_info": {
   "codemirror_mode": {
    "name": "ipython",
    "version": 3
   },
   "file_extension": ".py",
   "mimetype": "text/x-python",
   "name": "python",
   "nbconvert_exporter": "python",
   "pygments_lexer": "ipython3",
   "version": "3.9.7"
  }
 },
 "nbformat": 4,
 "nbformat_minor": 5
}
