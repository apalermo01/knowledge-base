{
 "cells": [
  {
   "cell_type": "markdown",
   "id": "skilled-consortium",
   "metadata": {},
   "source": [
    "# The N-dimensional array (ndarray)\n",
    "\n",
    "- ndarray = usually fixed-sized multidimensional array of items with same types and size. \n",
    "- shape = tuple of integers specifying the sizes of each dimension"
   ]
  },
  {
   "cell_type": "code",
   "execution_count": 8,
   "id": "contemporary-means",
   "metadata": {},
   "outputs": [
    {
     "data": {
      "text/plain": [
       "numpy.ndarray"
      ]
     },
     "execution_count": 8,
     "metadata": {},
     "output_type": "execute_result"
    }
   ],
   "source": [
    "import numpy as np\n",
    "\n",
    "x = np.array([[5, 2, 3], [8, 2, 4]], np.int32)\n",
    "type(x)"
   ]
  },
  {
   "cell_type": "code",
   "execution_count": 9,
   "id": "lined-radical",
   "metadata": {},
   "outputs": [
    {
     "data": {
      "text/plain": [
       "array([[5, 2, 3],\n",
       "       [8, 2, 4]])"
      ]
     },
     "execution_count": 9,
     "metadata": {},
     "output_type": "execute_result"
    }
   ],
   "source": [
    "x"
   ]
  },
  {
   "cell_type": "code",
   "execution_count": 3,
   "id": "aware-custom",
   "metadata": {},
   "outputs": [
    {
     "data": {
      "text/plain": [
       "(2, 3)"
      ]
     },
     "execution_count": 3,
     "metadata": {},
     "output_type": "execute_result"
    }
   ],
   "source": [
    "x.shape"
   ]
  },
  {
   "cell_type": "code",
   "execution_count": 4,
   "id": "first-rouge",
   "metadata": {},
   "outputs": [
    {
     "data": {
      "text/plain": [
       "dtype('int32')"
      ]
     },
     "execution_count": 4,
     "metadata": {},
     "output_type": "execute_result"
    }
   ],
   "source": [
    "x.dtype"
   ]
  },
  {
   "cell_type": "markdown",
   "id": "japanese-simon",
   "metadata": {},
   "source": [
    "Some indexing"
   ]
  },
  {
   "cell_type": "code",
   "execution_count": 5,
   "id": "focused-cattle",
   "metadata": {},
   "outputs": [
    {
     "data": {
      "text/plain": [
       "4"
      ]
     },
     "execution_count": 5,
     "metadata": {},
     "output_type": "execute_result"
    }
   ],
   "source": [
    "# second row, 3rd column\n",
    "x[1, 2]"
   ]
  },
  {
   "cell_type": "markdown",
   "id": "convinced-belly",
   "metadata": {},
   "source": [
    "Numpy arrays can be sliced much like DataFrames"
   ]
  },
  {
   "cell_type": "code",
   "execution_count": 10,
   "id": "current-enemy",
   "metadata": {},
   "outputs": [
    {
     "data": {
      "text/plain": [
       "array([2, 2])"
      ]
     },
     "execution_count": 10,
     "metadata": {},
     "output_type": "execute_result"
    }
   ],
   "source": [
    "# second column, every row\n",
    "y = x[:, 1]\n",
    "y"
   ]
  },
  {
   "cell_type": "code",
   "execution_count": 11,
   "id": "hungry-swiss",
   "metadata": {},
   "outputs": [
    {
     "data": {
      "text/plain": [
       "2"
      ]
     },
     "execution_count": 11,
     "metadata": {},
     "output_type": "execute_result"
    }
   ],
   "source": [
    "y[0]"
   ]
  },
  {
   "cell_type": "markdown",
   "id": "passing-difference",
   "metadata": {},
   "source": [
    "Here, y is a **view** of x, if we change x, we change y"
   ]
  },
  {
   "cell_type": "code",
   "execution_count": 14,
   "id": "preliminary-balloon",
   "metadata": {},
   "outputs": [
    {
     "data": {
      "text/plain": [
       "array([[ 5, 11,  3],\n",
       "       [ 8,  2,  4]])"
      ]
     },
     "execution_count": 14,
     "metadata": {},
     "output_type": "execute_result"
    }
   ],
   "source": [
    "x[0, 1] = 11\n",
    "x"
   ]
  },
  {
   "cell_type": "code",
   "execution_count": 15,
   "id": "flying-chamber",
   "metadata": {},
   "outputs": [
    {
     "data": {
      "text/plain": [
       "11"
      ]
     },
     "execution_count": 15,
     "metadata": {},
     "output_type": "execute_result"
    }
   ],
   "source": [
    "y[0]"
   ]
  },
  {
   "cell_type": "markdown",
   "id": "communist-reform",
   "metadata": {},
   "source": [
    "If we change y, we change x"
   ]
  },
  {
   "cell_type": "code",
   "execution_count": 16,
   "id": "separate-motion",
   "metadata": {},
   "outputs": [
    {
     "data": {
      "text/plain": [
       "array([[ 5, 13,  3],\n",
       "       [ 8,  2,  4]])"
      ]
     },
     "execution_count": 16,
     "metadata": {},
     "output_type": "execute_result"
    }
   ],
   "source": [
    "y[0] = 13\n",
    "x"
   ]
  },
  {
   "cell_type": "markdown",
   "id": "flying-theology",
   "metadata": {},
   "source": [
    "# useful ndarray attributes\n",
    "\n",
    "- x.shape = array shape\n",
    "- x.ndim = number of dimensions\n",
    "- x.size = number of element\n",
    "- x.T = transposed array\n",
    "- x.real = real part of array\n",
    "- x.imag = imaginary part of array\n",
    "- x.flat = 1D iterator"
   ]
  },
  {
   "cell_type": "code",
   "execution_count": 33,
   "id": "novel-juice",
   "metadata": {},
   "outputs": [
    {
     "name": "stdout",
     "output_type": "stream",
     "text": [
      "x= [[ 5 13  3]\n",
      " [ 8  2  4]]\n",
      "\n",
      "x.shape\n",
      "(2, 3)\n",
      "\n",
      "x.ndim\n",
      "2\n",
      "\n",
      "x.size\n",
      "6\n",
      "\n",
      "x.T\n",
      "[[ 5  8]\n",
      " [13  2]\n",
      " [ 3  4]]\n",
      "\n",
      "x.real\n",
      "[[ 5 13  3]\n",
      " [ 8  2  4]]\n",
      "\n",
      "x.img\n",
      "[[0 0 0]\n",
      " [0 0 0]]\n",
      "\n",
      "x.flat\n",
      "[5, 13, 3, 8, 2, 4]\n"
     ]
    }
   ],
   "source": [
    "print(\"x =\", x)\n",
    "print(\"\\nx.shape\")\n",
    "print(x.shape)\n",
    "print(\"\\nx.ndim\")\n",
    "print(x.ndim)\n",
    "print(\"\\nx.size\")\n",
    "print(x.size)\n",
    "print(\"\\nx.T\")\n",
    "print(x.T)\n",
    "print(\"\\nx.real\")\n",
    "print(x.real)\n",
    "print(\"\\nx.img\")\n",
    "print(x.imag)\n",
    "print(\"\\nx.flat\")\n",
    "print(list(x.flat))"
   ]
  }
 ],
 "metadata": {
  "kernelspec": {
   "display_name": "Python 3 (ipykernel)",
   "language": "python",
   "name": "python3"
  },
  "language_info": {
   "codemirror_mode": {
    "name": "ipython",
    "version": 3
   },
   "file_extension": ".py",
   "mimetype": "text/x-python",
   "name": "python",
   "nbconvert_exporter": "python",
   "pygments_lexer": "ipython3",
   "version": "3.7.11"
  }
 },
 "nbformat": 4,
 "nbformat_minor": 5
}
