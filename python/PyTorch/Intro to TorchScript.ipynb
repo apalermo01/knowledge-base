{
 "cells": [
  {
   "cell_type": "markdown",
   "id": "9725d2af",
   "metadata": {},
   "source": [
    "# Introduction to TorchScript\n",
    "\n",
    "https://pytorch.org/tutorials/beginner/Intro_to_TorchScript_tutorial.html\n",
    "\n",
    "language-independent representation of pytorch models that can be run in other environments (e.g. C++)"
   ]
  },
  {
   "cell_type": "code",
   "execution_count": 1,
   "id": "ebeeeb1b",
   "metadata": {},
   "outputs": [
    {
     "name": "stdout",
     "output_type": "stream",
     "text": [
      "1.7.1\n"
     ]
    }
   ],
   "source": [
    "import torch\n",
    "print(torch.__version__)"
   ]
  },
  {
   "cell_type": "markdown",
   "id": "81ed562c",
   "metadata": {},
   "source": [
    "## Basics of PyTorch Model Authoring\n",
    "\n",
    "define a simple module"
   ]
  },
  {
   "cell_type": "code",
   "execution_count": 10,
   "id": "37012e7c",
   "metadata": {},
   "outputs": [],
   "source": [
    "class MyCell1(torch.nn.Module):\n",
    "  def __init__(self):\n",
    "    super(MyCell1, self).__init__()\n",
    "    \n",
    "  def forward(self, x, h):\n",
    "    new_h = torch.tanh(x+h)\n",
    "    return new_h, new_h"
   ]
  },
  {
   "cell_type": "code",
   "execution_count": 11,
   "id": "e49f97b0",
   "metadata": {},
   "outputs": [
    {
     "name": "stdout",
     "output_type": "stream",
     "text": [
      "(tensor([[0.4333, 0.4071, 0.2366, 0.7620],\n",
      "        [0.7723, 0.6108, 0.8062, 0.7892],\n",
      "        [0.7976, 0.7747, 0.5746, 0.8612]]), tensor([[0.4333, 0.4071, 0.2366, 0.7620],\n",
      "        [0.7723, 0.6108, 0.8062, 0.7892],\n",
      "        [0.7976, 0.7747, 0.5746, 0.8612]]))\n"
     ]
    }
   ],
   "source": [
    "my_cell = MyCell1()\n",
    "\n",
    "x = torch.rand(3, 4)\n",
    "h = torch.rand(3, 4)\n",
    "print(my_cell(x, h))"
   ]
  },
  {
   "cell_type": "markdown",
   "id": "227d6791",
   "metadata": {},
   "source": [
    "Something a little more interesting"
   ]
  },
  {
   "cell_type": "code",
   "execution_count": 12,
   "id": "79f9a4bf",
   "metadata": {},
   "outputs": [],
   "source": [
    "class MyCell2(torch.nn.Module):\n",
    "  def __init__(self):\n",
    "    super(MyCell2, self).__init__()\n",
    "    self.linear = torch.nn.Linear(4, 4)\n",
    "    \n",
    "  def forward(self, x, h):\n",
    "    new_h = torch.tanh(self.linear(x)+h)\n",
    "    return new_h, new_h"
   ]
  },
  {
   "cell_type": "code",
   "execution_count": 13,
   "id": "1d10326a",
   "metadata": {},
   "outputs": [
    {
     "name": "stdout",
     "output_type": "stream",
     "text": [
      "(tensor([[ 0.3396,  0.6812, -0.0612,  0.0077],\n",
      "        [ 0.7622,  0.2133, -0.2595,  0.6893],\n",
      "        [ 0.8999,  0.6787,  0.4849,  0.5211]], grad_fn=<TanhBackward>), tensor([[ 0.3396,  0.6812, -0.0612,  0.0077],\n",
      "        [ 0.7622,  0.2133, -0.2595,  0.6893],\n",
      "        [ 0.8999,  0.6787,  0.4849,  0.5211]], grad_fn=<TanhBackward>))\n"
     ]
    }
   ],
   "source": [
    "my_cell = MyCell2()\n",
    "\n",
    "x = torch.rand(3, 4)\n",
    "h = torch.rand(3, 4)\n",
    "print(my_cell(x, h))"
   ]
  },
  {
   "cell_type": "markdown",
   "id": "6d6186e9",
   "metadata": {},
   "source": [
    "More complicated cell"
   ]
  },
  {
   "cell_type": "code",
   "execution_count": 14,
   "id": "cf0a0264",
   "metadata": {},
   "outputs": [],
   "source": [
    "class MyDecisionGate(torch.nn.Module):\n",
    "  def forward(self, x):\n",
    "    if x.sum() > 0:\n",
    "      return x\n",
    "    else:\n",
    "      return -x\n",
    "    \n",
    "class MyCell3(torch.nn.Module):\n",
    "  def __init__(self):\n",
    "    super(MyCell3, self).__init__()\n",
    "    self.dg = MyDecisionGate()\n",
    "    self.linear = torch.nn.Linear(4, 4)\n",
    "    \n",
    "  def forward(self, x, h):\n",
    "    new_h = torch.tanh(self.dg(self.linear(x))+h)\n",
    "    return new_h, new_h"
   ]
  },
  {
   "cell_type": "code",
   "execution_count": 15,
   "id": "3d172cee",
   "metadata": {},
   "outputs": [
    {
     "name": "stdout",
     "output_type": "stream",
     "text": [
      "MyCell3(\n",
      "  (dg): MyDecisionGate()\n",
      "  (linear): Linear(in_features=4, out_features=4, bias=True)\n",
      ")\n",
      "(tensor([[-0.0047,  0.4234, -0.0544,  0.3878],\n",
      "        [ 0.5767, -0.0541, -0.0144,  0.8046],\n",
      "        [ 0.7059,  0.6536,  0.5000,  0.7352]], grad_fn=<TanhBackward>), tensor([[-0.0047,  0.4234, -0.0544,  0.3878],\n",
      "        [ 0.5767, -0.0541, -0.0144,  0.8046],\n",
      "        [ 0.7059,  0.6536,  0.5000,  0.7352]], grad_fn=<TanhBackward>))\n"
     ]
    }
   ],
   "source": [
    "my_cell = MyCell3()\n",
    "print(my_cell)\n",
    "print(my_cell(x, h))"
   ]
  },
  {
   "cell_type": "markdown",
   "id": "92e67664",
   "metadata": {},
   "source": [
    "### Tracing Modules"
   ]
  },
  {
   "cell_type": "code",
   "execution_count": 16,
   "id": "f4a1e6b1",
   "metadata": {},
   "outputs": [
    {
     "name": "stdout",
     "output_type": "stream",
     "text": [
      "MyCell2(\n",
      "  original_name=MyCell2\n",
      "  (linear): Linear(original_name=Linear)\n",
      ")\n"
     ]
    },
    {
     "data": {
      "text/plain": [
       "(tensor([[ 0.0605,  0.4208,  0.2279, -0.5719],\n",
       "         [-0.5544, -0.1919,  0.0962, -0.0751],\n",
       "         [ 0.5301,  0.5226,  0.7805,  0.5141]], grad_fn=<TanhBackward>),\n",
       " tensor([[ 0.0605,  0.4208,  0.2279, -0.5719],\n",
       "         [-0.5544, -0.1919,  0.0962, -0.0751],\n",
       "         [ 0.5301,  0.5226,  0.7805,  0.5141]], grad_fn=<TanhBackward>))"
      ]
     },
     "execution_count": 16,
     "metadata": {},
     "output_type": "execute_result"
    }
   ],
   "source": [
    "my_cell = MyCell2()\n",
    "\n",
    "x, h = torch.rand(3, 4), torch.rand(3, 4)\n",
    "traced_cell = torch.jit.trace(my_cell, (x, h))\n",
    "print(traced_cell)\n",
    "traced_cell(x, h)"
   ]
  },
  {
   "cell_type": "markdown",
   "id": "7b472ec4",
   "metadata": {},
   "source": [
    "This \"traced\" a sample input through the model and recorded what operations took place"
   ]
  },
  {
   "cell_type": "code",
   "execution_count": 17,
   "id": "1a2a1c5f",
   "metadata": {},
   "outputs": [
    {
     "name": "stdout",
     "output_type": "stream",
     "text": [
      "graph(%self.1 : __torch__.MyCell2,\n",
      "      %input : Float(3:4, 4:1, requires_grad=0, device=cpu),\n",
      "      %h : Float(3:4, 4:1, requires_grad=0, device=cpu)):\n",
      "  %19 : __torch__.torch.nn.modules.linear.Linear = prim::GetAttr[name=\"linear\"](%self.1)\n",
      "  %21 : Tensor = prim::CallMethod[name=\"forward\"](%19, %input)\n",
      "  %12 : int = prim::Constant[value=1]() # <ipython-input-12-7b94133aa41b>:7:0\n",
      "  %13 : Float(3:4, 4:1, requires_grad=1, device=cpu) = aten::add(%21, %h, %12) # <ipython-input-12-7b94133aa41b>:7:0\n",
      "  %14 : Float(3:4, 4:1, requires_grad=1, device=cpu) = aten::tanh(%13) # <ipython-input-12-7b94133aa41b>:7:0\n",
      "  %15 : (Float(3:4, 4:1, requires_grad=1, device=cpu), Float(3:4, 4:1, requires_grad=1, device=cpu)) = prim::TupleConstruct(%14, %14)\n",
      "  return (%15)\n",
      "\n"
     ]
    }
   ],
   "source": [
    "print(traced_cell.graph)"
   ]
  },
  {
   "cell_type": "code",
   "execution_count": 18,
   "id": "a73e4dc6",
   "metadata": {},
   "outputs": [
    {
     "name": "stdout",
     "output_type": "stream",
     "text": [
      "def forward(self,\n",
      "    input: Tensor,\n",
      "    h: Tensor) -> Tuple[Tensor, Tensor]:\n",
      "  _0 = torch.add((self.linear).forward(input, ), h, alpha=1)\n",
      "  _1 = torch.tanh(_0)\n",
      "  return (_1, _1)\n",
      "\n"
     ]
    }
   ],
   "source": [
    "print(traced_cell.code)"
   ]
  },
  {
   "cell_type": "markdown",
   "id": "6ce86d44",
   "metadata": {},
   "source": [
    "calling traced_cell produces the same result as the original module"
   ]
  },
  {
   "cell_type": "markdown",
   "id": "047bb9a1",
   "metadata": {},
   "source": [
    "## Using scripting to convert modules"
   ]
  },
  {
   "cell_type": "code",
   "execution_count": 20,
   "id": "7b9d74f4",
   "metadata": {},
   "outputs": [
    {
     "name": "stdout",
     "output_type": "stream",
     "text": [
      "def forward(self,\n",
      "    argument_1: Tensor) -> Tensor:\n",
      "  return torch.neg(argument_1)\n",
      "\n",
      "def forward(self,\n",
      "    input: Tensor,\n",
      "    h: Tensor) -> Tuple[Tensor, Tensor]:\n",
      "  _0 = (self.dg).forward((self.linear).forward(input, ), )\n",
      "  _1 = torch.tanh(torch.add(_0, h, alpha=1))\n",
      "  return (_1, _1)\n",
      "\n"
     ]
    },
    {
     "name": "stderr",
     "output_type": "stream",
     "text": [
      "<ipython-input-20-72d46ebe4639>:3: TracerWarning: Converting a tensor to a Python boolean might cause the trace to be incorrect. We can't record the data flow of Python values, so this value will be treated as a constant in the future. This means that the trace might not generalize to other inputs!\n",
      "  if x.sum() > 0:\n"
     ]
    }
   ],
   "source": [
    "class MyDecisionGate(torch.nn.Module):\n",
    "  def forward(self, x):\n",
    "    if x.sum() > 0:\n",
    "      return x\n",
    "    else:\n",
    "      return -x\n",
    "    \n",
    "class MyCell3(torch.nn.Module):\n",
    "  def __init__(self, dg):\n",
    "    super(MyCell3, self).__init__()\n",
    "    self.dg = dg\n",
    "    self.linear = torch.nn.Linear(4, 4)\n",
    "    \n",
    "  def forward(self, x, h):\n",
    "    new_h = torch.tanh(self.dg(self.linear(x))+h)\n",
    "    return new_h, new_h\n",
    "  \n",
    "my_cell = MyCell3(MyDecisionGate())\n",
    "traced_cell = torch.jit.trace(my_cell, (x, h))\n",
    "\n",
    "print(traced_cell.dg.code)\n",
    "print(traced_cell.code)"
   ]
  },
  {
   "cell_type": "markdown",
   "id": "7102af54",
   "metadata": {},
   "source": [
    "We lost one of the decision branches becuase it was never executed!\n",
    "\n",
    "To fix this, use a script compiler"
   ]
  },
  {
   "cell_type": "code",
   "execution_count": 22,
   "id": "ac45b293",
   "metadata": {},
   "outputs": [
    {
     "name": "stdout",
     "output_type": "stream",
     "text": [
      "def forward(self,\n",
      "    x: Tensor) -> Tensor:\n",
      "  _0 = bool(torch.gt(torch.sum(x, dtype=None), 0))\n",
      "  if _0:\n",
      "    _1 = x\n",
      "  else:\n",
      "    _1 = torch.neg(x)\n",
      "  return _1\n",
      "\n",
      "def forward(self,\n",
      "    x: Tensor,\n",
      "    h: Tensor) -> Tuple[Tensor, Tensor]:\n",
      "  _0 = (self.dg).forward((self.linear).forward(x, ), )\n",
      "  new_h = torch.tanh(torch.add(_0, h, alpha=1))\n",
      "  return (new_h, new_h)\n",
      "\n"
     ]
    }
   ],
   "source": [
    "scripted_gate = torch.jit.script(MyDecisionGate())\n",
    "\n",
    "my_cell = MyCell3(scripted_gate)\n",
    "scripted_cell = torch.jit.script(my_cell)\n",
    "\n",
    "print(scripted_gate.code)\n",
    "print(scripted_cell.code)"
   ]
  },
  {
   "cell_type": "markdown",
   "id": "b215f9ba",
   "metadata": {},
   "source": [
    "Can combine scripting and tracing (do this later)"
   ]
  }
 ],
 "metadata": {
  "kernelspec": {
   "display_name": "Python 3 (ipykernel)",
   "language": "python",
   "name": "python3"
  },
  "language_info": {
   "codemirror_mode": {
    "name": "ipython",
    "version": 3
   },
   "file_extension": ".py",
   "mimetype": "text/x-python",
   "name": "python",
   "nbconvert_exporter": "python",
   "pygments_lexer": "ipython3",
   "version": "3.7.11"
  }
 },
 "nbformat": 4,
 "nbformat_minor": 5
}
