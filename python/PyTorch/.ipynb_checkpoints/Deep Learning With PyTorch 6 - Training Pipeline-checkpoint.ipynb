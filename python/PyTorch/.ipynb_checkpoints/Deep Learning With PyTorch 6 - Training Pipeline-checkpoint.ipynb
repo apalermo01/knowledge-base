{
 "cells": [
  {
   "cell_type": "markdown",
   "id": "whole-assignment",
   "metadata": {},
   "source": [
    "# Deep Learning With PyTorch 6 - Training Pipeline"
   ]
  },
  {
   "cell_type": "markdown",
   "id": "recorded-variable",
   "metadata": {},
   "source": [
    "replace prediction, loss, and parameters with pytorch. "
   ]
  },
  {
   "cell_type": "markdown",
   "id": "organized-saturday",
   "metadata": {},
   "source": [
    "**Original**"
   ]
  },
  {
   "cell_type": "code",
   "execution_count": 1,
   "id": "entertaining-power",
   "metadata": {},
   "outputs": [
    {
     "name": "stdout",
     "output_type": "stream",
     "text": [
      "Prediction before training: f(5) = 0.000\n",
      "epoch 1: w = 3.000, loss = 30.00000000\n",
      "epoch 2: w = 1.500, loss = 7.50000000\n",
      "epoch 3: w = 2.250, loss = 1.87500000\n",
      "epoch 4: w = 1.875, loss = 0.46875000\n",
      "epoch 5: w = 2.062, loss = 0.11718750\n",
      "epoch 6: w = 1.969, loss = 0.02929688\n",
      "epoch 7: w = 2.016, loss = 0.00732422\n",
      "epoch 8: w = 1.992, loss = 0.00183105\n",
      "epoch 9: w = 2.004, loss = 0.00045776\n",
      "epoch 10: w = 1.998, loss = 0.00011444\n",
      "epoch 11: w = 2.001, loss = 0.00002861\n",
      "epoch 12: w = 2.000, loss = 0.00000715\n",
      "epoch 13: w = 2.000, loss = 0.00000179\n",
      "epoch 14: w = 2.000, loss = 0.00000045\n",
      "epoch 15: w = 2.000, loss = 0.00000011\n",
      "epoch 16: w = 2.000, loss = 0.00000003\n",
      "epoch 17: w = 2.000, loss = 0.00000001\n",
      "epoch 18: w = 2.000, loss = 0.00000000\n",
      "epoch 19: w = 2.000, loss = 0.00000000\n",
      "epoch 20: w = 2.000, loss = 0.00000000\n",
      "Prediction after training: f(5) = 10.000\n"
     ]
    }
   ],
   "source": [
    "import torch\n",
    "\n",
    "X = torch.tensor([1, 2, 3, 4], dtype=torch.float32)\n",
    "Y = torch.tensor([2, 4, 6, 8], dtype=torch.float32)\n",
    "\n",
    "# init weight\n",
    "w = torch.tensor(0.0, dtype=torch.float32, requires_grad=True)\n",
    "\n",
    "# model prediction\n",
    "def forward(x):\n",
    "    return w*x\n",
    "\n",
    "# loss = MSE\n",
    "def loss(y, y_predicted):\n",
    "    return ((y_predicted - y) ** 2).mean()\n",
    "\n",
    "print(f\"Prediction before training: f(5) = {forward(5):.3f}\")\n",
    "\n",
    "# training\n",
    "learning_rate = 0.1\n",
    "n_iters = 20\n",
    "\n",
    "for epoch in range(n_iters):\n",
    "    \n",
    "    # prediction = forward pass\n",
    "    y_pred = forward(X)\n",
    "    \n",
    "    # loss\n",
    "    l = loss(Y, y_pred)\n",
    "    \n",
    "    # gradients = backward pass\n",
    "    l.backward() # dl/dw\n",
    "\n",
    "    \n",
    "    # update weights\n",
    "        \n",
    "    with torch.no_grad():\n",
    "        w -= w.grad * learning_rate\n",
    "    w.grad.zero_()\n",
    "    \n",
    "    if epoch%1 == 0:\n",
    "        print(f\"epoch {epoch+1}: w = {w:.3f}, loss = {l:.8f}\")\n",
    "print(f\"Prediction after training: f(5) = {forward(5):.3f}\")"
   ]
  },
  {
   "cell_type": "markdown",
   "id": "based-oliver",
   "metadata": {},
   "source": [
    "## General training pipeline in pytorch\n",
    "\n",
    "1) Design model (input size, outptu size, forward pass)<br> \n",
    "2) Construct loss and optimizer<br> \n",
    "3) Training loop<br>\n",
    "\n",
    "- forward pass: compute the prediction\n",
    "- backward pass: gradients\n",
    "- Update weights\n",
    "- iterate until we're done!"
   ]
  },
  {
   "cell_type": "markdown",
   "id": "worse-spring",
   "metadata": {},
   "source": [
    "Replace loss and optimization"
   ]
  },
  {
   "cell_type": "code",
   "execution_count": 3,
   "id": "solar-webcam",
   "metadata": {},
   "outputs": [
    {
     "name": "stdout",
     "output_type": "stream",
     "text": [
      "Prediction before training: f(5) = 0.000\n",
      "epoch 1: w = 0.300, loss = 30.00000000\n",
      "epoch 11: w = 1.665, loss = 1.16278565\n",
      "epoch 21: w = 1.934, loss = 0.04506890\n",
      "epoch 31: w = 1.987, loss = 0.00174685\n",
      "epoch 41: w = 1.997, loss = 0.00006770\n",
      "epoch 51: w = 1.999, loss = 0.00000262\n",
      "epoch 61: w = 2.000, loss = 0.00000010\n",
      "epoch 71: w = 2.000, loss = 0.00000000\n",
      "epoch 81: w = 2.000, loss = 0.00000000\n",
      "epoch 91: w = 2.000, loss = 0.00000000\n",
      "Prediction after training: f(5) = 10.000\n"
     ]
    }
   ],
   "source": [
    "import torch\n",
    "import torch.nn as nn\n",
    "\n",
    "X = torch.tensor([1, 2, 3, 4], dtype=torch.float32)\n",
    "Y = torch.tensor([2, 4, 6, 8], dtype=torch.float32)\n",
    "\n",
    "# init weight\n",
    "w = torch.tensor(0.0, dtype=torch.float32, requires_grad=True)\n",
    "\n",
    "# model prediction\n",
    "def forward(x):\n",
    "    return w*x\n",
    "\n",
    "print(f\"Prediction before training: f(5) = {forward(5):.3f}\")\n",
    "\n",
    "# training\n",
    "learning_rate = 0.01\n",
    "n_iters = 100\n",
    "\n",
    "loss = nn.MSELoss()\n",
    "optimizer = torch.optim.SGD([w], lr=learning_rate)\n",
    "\n",
    "for epoch in range(n_iters):\n",
    "    \n",
    "    # prediction = forward pass\n",
    "    y_pred = forward(X)\n",
    "    \n",
    "    # loss\n",
    "    l = loss(Y, y_pred)\n",
    "    \n",
    "    # gradients = backward pass\n",
    "    l.backward() # dl/dw\n",
    "\n",
    "    \n",
    "    # update weights\n",
    "    optimizer.step()\n",
    "    \n",
    "    optimizer.zero_grad()\n",
    "    \n",
    "    if epoch%10 == 0:\n",
    "        print(f\"epoch {epoch+1}: w = {w:.3f}, loss = {l:.8f}\")\n",
    "print(f\"Prediction after training: f(5) = {forward(5):.3f}\")"
   ]
  },
  {
   "cell_type": "markdown",
   "id": "ranging-scroll",
   "metadata": {},
   "source": [
    "Replace forward with pytorch model<br>\n",
    "Make x an y 2d array<br> \n",
    "num rows = num samples<br>"
   ]
  },
  {
   "cell_type": "code",
   "execution_count": 11,
   "id": "beginning-northwest",
   "metadata": {},
   "outputs": [
    {
     "name": "stdout",
     "output_type": "stream",
     "text": [
      "Prediction before training: f(5) = 1.893\n",
      "epoch 1: w = 0.431, loss = 17.12932777\n",
      "epoch 11: w = 1.384, loss = 0.71142823\n",
      "epoch 21: w = 1.548, loss = 0.27104411\n",
      "epoch 31: w = 1.585, loss = 0.24494536\n",
      "epoch 41: w = 1.601, loss = 0.23042139\n",
      "epoch 51: w = 1.613, loss = 0.21700262\n",
      "epoch 61: w = 1.625, loss = 0.20437184\n",
      "epoch 71: w = 1.636, loss = 0.19247638\n",
      "epoch 81: w = 1.647, loss = 0.18127325\n",
      "epoch 91: w = 1.657, loss = 0.17072232\n",
      "Prediction after training: f(5) = 9.313\n"
     ]
    }
   ],
   "source": [
    "import torch\n",
    "import torch.nn as nn\n",
    "\n",
    "X = torch.tensor([[1], [2], [3], [4]], dtype=torch.float32)\n",
    "Y = torch.tensor([[2], [4], [6], [8]], dtype=torch.float32)\n",
    "X_test = torch.tensor([5], dtype=torch.float32)\n",
    "n_samples, n_features = X.shape\n",
    "\n",
    "input_size = n_features\n",
    "output_size = n_features\n",
    "model = nn.Linear(input_size, output_size)\n",
    "\n",
    "print(f\"Prediction before training: f(5) = {model(X_test).item():.3f}\")\n",
    "\n",
    "# training\n",
    "learning_rate = 0.01\n",
    "n_iters = 100\n",
    "\n",
    "loss = nn.MSELoss()\n",
    "optimizer = torch.optim.SGD(model.parameters(), lr=learning_rate)\n",
    "\n",
    "for epoch in range(n_iters):\n",
    "    \n",
    "    # prediction = forward pass\n",
    "    y_pred = model(X)\n",
    "    \n",
    "    # loss\n",
    "    l = loss(Y, y_pred)\n",
    "    \n",
    "    # gradients = backward pass\n",
    "    l.backward() # dl/dw\n",
    "\n",
    "    \n",
    "    # update weights\n",
    "    optimizer.step()\n",
    "    \n",
    "    optimizer.zero_grad()\n",
    "    \n",
    "    if epoch%10 == 0:\n",
    "        [w, b] = model.parameters()\n",
    "        print(f\"epoch {epoch+1}: w = {w[0].item():.3f}, loss = {l:.8f}\")\n",
    "print(f\"Prediction after training: f(5) = {model(X_test).item():.3f}\")"
   ]
  },
  {
   "cell_type": "markdown",
   "id": "rubber-switzerland",
   "metadata": {},
   "source": [
    "Let's say we'd like to make a custom model"
   ]
  },
  {
   "cell_type": "code",
   "execution_count": 13,
   "id": "encouraging-warrant",
   "metadata": {},
   "outputs": [
    {
     "name": "stdout",
     "output_type": "stream",
     "text": [
      "Prediction before training: f(5) = 2.731\n",
      "epoch 1: w = 0.827, loss = 16.70854568\n",
      "epoch 11: w = 1.765, loss = 0.43668324\n",
      "epoch 21: w = 1.917, loss = 0.01543556\n",
      "epoch 31: w = 1.943, loss = 0.00429605\n",
      "epoch 41: w = 1.948, loss = 0.00378105\n",
      "epoch 51: w = 1.950, loss = 0.00355410\n",
      "epoch 61: w = 1.952, loss = 0.00334706\n",
      "epoch 71: w = 1.953, loss = 0.00315224\n",
      "epoch 81: w = 1.955, loss = 0.00296876\n",
      "epoch 91: w = 1.956, loss = 0.00279596\n",
      "Prediction after training: f(5) = 9.912\n"
     ]
    }
   ],
   "source": [
    "import torch\n",
    "import torch.nn as nn\n",
    "\n",
    "X = torch.tensor([[1], [2], [3], [4]], dtype=torch.float32)\n",
    "Y = torch.tensor([[2], [4], [6], [8]], dtype=torch.float32)\n",
    "X_test = torch.tensor([5], dtype=torch.float32)\n",
    "n_samples, n_features = X.shape\n",
    "\n",
    "input_size = n_features\n",
    "output_size = n_features\n",
    "\n",
    "class LinearRegression(nn.Module):\n",
    "    \n",
    "    def __init__(self, input_dim, output_dim):\n",
    "        \n",
    "        # this super will call the super's constructor module\n",
    "        super(LinearRegression, self).__init__()\n",
    "        \n",
    "        # define layers\n",
    "        self.lin = nn.Linear(input_dim, output_dim)\n",
    "        \n",
    "    # implement forward pass\n",
    "    def forward(self, x):\n",
    "        return self.lin(x)\n",
    "    \n",
    "model = LinearRegression(input_size, output_size)\n",
    "\n",
    "\n",
    "print(f\"Prediction before training: f(5) = {model(X_test).item():.3f}\")\n",
    "\n",
    "# training\n",
    "learning_rate = 0.01\n",
    "n_iters = 100\n",
    "\n",
    "loss = nn.MSELoss()\n",
    "optimizer = torch.optim.SGD(model.parameters(), lr=learning_rate)\n",
    "\n",
    "for epoch in range(n_iters):\n",
    "    \n",
    "    # prediction = forward pass\n",
    "    y_pred = model(X)\n",
    "    \n",
    "    # loss\n",
    "    l = loss(Y, y_pred)\n",
    "    \n",
    "    # gradients = backward pass\n",
    "    l.backward() # dl/dw\n",
    "\n",
    "    \n",
    "    # update weights\n",
    "    optimizer.step()\n",
    "    \n",
    "    optimizer.zero_grad()\n",
    "    \n",
    "    if epoch%10 == 0:\n",
    "        [w, b] = model.parameters()\n",
    "        print(f\"epoch {epoch+1}: w = {w[0].item():.3f}, loss = {l:.8f}\")\n",
    "print(f\"Prediction after training: f(5) = {model(X_test).item():.3f}\")"
   ]
  },
  {
   "cell_type": "code",
   "execution_count": null,
   "id": "considered-prerequisite",
   "metadata": {},
   "outputs": [],
   "source": []
  }
 ],
 "metadata": {
  "kernelspec": {
   "display_name": "Armada_AV",
   "language": "python",
   "name": "armada_av"
  },
  "language_info": {
   "codemirror_mode": {
    "name": "ipython",
    "version": 3
   },
   "file_extension": ".py",
   "mimetype": "text/x-python",
   "name": "python",
   "nbconvert_exporter": "python",
   "pygments_lexer": "ipython3",
   "version": "3.8.8"
  }
 },
 "nbformat": 4,
 "nbformat_minor": 5
}
