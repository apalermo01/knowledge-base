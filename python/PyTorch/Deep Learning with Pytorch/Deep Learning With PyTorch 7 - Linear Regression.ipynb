{
 "cells": [
  {
   "cell_type": "markdown",
   "id": "generous-malpractice",
   "metadata": {},
   "source": [
    "# Deep Learning With PyTorch 7 - Linear Regression"
   ]
  },
  {
   "cell_type": "markdown",
   "id": "given-flour",
   "metadata": {},
   "source": [
    "## General training pipeline in pytorch\n",
    "\n",
    "1) Design model (input size, outptu size, forward pass)<br> \n",
    "2) Construct loss and optimizer<br> \n",
    "3) Training loop<br>\n",
    "\n",
    "- forward pass: compute the prediction\n",
    "- backward pass: gradients\n",
    "- Update weights\n",
    "- iterate until we're done!"
   ]
  },
  {
   "cell_type": "code",
   "execution_count": 2,
   "id": "stainless-agriculture",
   "metadata": {},
   "outputs": [],
   "source": [
    "import torch\n",
    "import torch.nn as nn\n",
    "import numpy as np\n",
    "from sklearn import datasets\n",
    "import matplotlib.pyplot as plt"
   ]
  },
  {
   "cell_type": "code",
   "execution_count": 7,
   "id": "known-barcelona",
   "metadata": {},
   "outputs": [
    {
     "name": "stdout",
     "output_type": "stream",
     "text": [
      "epoch: 100, loss = 567.4867\n",
      "epoch: 200, loss = 342.7598\n",
      "epoch: 300, loss = 333.0179\n",
      "epoch: 400, loss = 332.5876\n",
      "epoch: 500, loss = 332.5685\n",
      "epoch: 600, loss = 332.5676\n",
      "epoch: 700, loss = 332.5675\n",
      "epoch: 800, loss = 332.5675\n",
      "epoch: 900, loss = 332.5676\n",
      "epoch: 1000, loss = 332.5676\n"
     ]
    },
    {
     "data": {
      "text/plain": [
       "[<matplotlib.lines.Line2D at 0x2c496e54b20>]"
      ]
     },
     "execution_count": 7,
     "metadata": {},
     "output_type": "execute_result"
    },
    {
     "data": {
      "image/png": "[encoded data removed]",
      "text/plain": [
       "<Figure size 432x288 with 1 Axes>"
      ]
     },
     "metadata": {
      "needs_background": "light"
     },
     "output_type": "display_data"
    }
   ],
   "source": [
    "# 0) prepare_data\n",
    "X_numpy, y_numpy = datasets.make_regression(n_samples=100, n_features=1, noise=20, random_state=1)\n",
    "\n",
    "X = torch.from_numpy(X_numpy.astype(np.float32))\n",
    "y = torch.from_numpy(y_numpy.astype(np.float32))\n",
    "y = y.view(y.shape[0], 1) # reshape y\n",
    "\n",
    "n_samples, n_features = X.shape\n",
    "\n",
    "# 1) model\n",
    "model = nn.Linear(n_features, 1)\n",
    "\n",
    "# 2) loss and optimizer\n",
    "learning_rate = 0.01\n",
    "criterion = nn.MSELoss()\n",
    "optimizer = torch.optim.SGD(model.parameters(), lr=learning_rate)\n",
    "\n",
    "# 3) training loop\n",
    "num_epochs = 1000\n",
    "for epoch in range(num_epochs):\n",
    "    \n",
    "    # forward pass and loss\n",
    "    y_predicted = model(X)\n",
    "    loss = criterion(y_predicted, y)\n",
    "    \n",
    "    # backward pass\n",
    "    loss.backward()\n",
    "    \n",
    "    # update\n",
    "    optimizer.step()\n",
    "    optimizer.zero_grad()\n",
    "    \n",
    "    if (epoch+1) % 100 == 0: \n",
    "        print(f\"epoch: {epoch+1}, loss = {loss.item():.4f}\")\n",
    "\n",
    "# plot\n",
    "predicted = model(X).detach().numpy()\n",
    "plt.plot(X_numpy, y_numpy, 'ro')\n",
    "plt.plot(X_numpy, predicted, 'b')"
   ]
  }
 ],
 "metadata": {
  "kernelspec": {
   "display_name": "Armada_AV",
   "language": "python",
   "name": "armada_av"
  },
  "language_info": {
   "codemirror_mode": {
    "name": "ipython",
    "version": 3
   },
   "file_extension": ".py",
   "mimetype": "text/x-python",
   "name": "python",
   "nbconvert_exporter": "python",
   "pygments_lexer": "ipython3",
   "version": "3.8.8"
  }
 },
 "nbformat": 4,
 "nbformat_minor": 5
}
