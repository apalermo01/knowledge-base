{
 "cells": [
  {
   "cell_type": "markdown",
   "id": "greenhouse-rochester",
   "metadata": {},
   "source": [
    "# Deep Learning With PyTorch 9 - Dataset and DataLoader"
   ]
  },
  {
   "cell_type": "markdown",
   "id": "offshore-disco",
   "metadata": {},
   "source": [
    "Better way for large datasets: divide model into batches. \n",
    "\n",
    "- epoch = 1 forward and backward pass of ALL training samples\n",
    "- batch_size = number of training samples in one forward and backward pass\n",
    "- number of iterations = number of passes, each pass using [batch_size] number of samples"
   ]
  },
  {
   "cell_type": "code",
   "execution_count": 1,
   "id": "martial-operator",
   "metadata": {},
   "outputs": [],
   "source": [
    "import torch\n",
    "import torchvision\n",
    "from torch.utils.data import Dataset, DataLoader\n",
    "import numpy as np\n",
    "import math"
   ]
  },
  {
   "cell_type": "code",
   "execution_count": 7,
   "id": "banner-anaheim",
   "metadata": {},
   "outputs": [
    {
     "name": "stdout",
     "output_type": "stream",
     "text": [
      "tensor([1.4230e+01, 1.7100e+00, 2.4300e+00, 1.5600e+01, 1.2700e+02, 2.8000e+00,\n",
      "        3.0600e+00, 2.8000e-01, 2.2900e+00, 5.6400e+00, 1.0400e+00, 3.9200e+00,\n",
      "        1.0650e+03])\n",
      "tensor([1.])\n"
     ]
    }
   ],
   "source": [
    "class WineDataset(Dataset):\n",
    "    \n",
    "    def __init__(self):\n",
    "        # data loading\n",
    "        xy = np.loadtxt('./wine.csv', delimiter=',', dtype=np.float32, skiprows=1)\n",
    "        self.x = torch.from_numpy(xy[:, 1:])\n",
    "        self.y = torch.from_numpy(xy[:, [0]]) # makes this into the shape the pytorch likes\n",
    "        self.n_samples = xy.shape[0]\n",
    "        \n",
    "    def __getitem__(self, index):\n",
    "        # dataset[index]\n",
    "        return self.x[index], self.y[index]\n",
    "\n",
    "    def __len__(self):\n",
    "        return self.n_samples\n",
    "    \n",
    "dataset = WineDataset()\n",
    "first_data = dataset[0]\n",
    "features, labels = first_data\n",
    "print(features)\n",
    "print(labels)"
   ]
  },
  {
   "cell_type": "code",
   "execution_count": 18,
   "id": "chief-bridal",
   "metadata": {},
   "outputs": [],
   "source": [
    "dataloader = DataLoader(dataset=dataset, batch_size=4, shuffle=True)"
   ]
  },
  {
   "cell_type": "markdown",
   "id": "pointed-lawrence",
   "metadata": {},
   "source": [
    "num_workers uses multiple subprocesses to load the data"
   ]
  },
  {
   "cell_type": "code",
   "execution_count": 19,
   "id": "strong-prefix",
   "metadata": {},
   "outputs": [
    {
     "name": "stdout",
     "output_type": "stream",
     "text": [
      "tensor([[1.3580e+01, 2.5800e+00, 2.6900e+00, 2.4500e+01, 1.0500e+02, 1.5500e+00,\n",
      "         8.4000e-01, 3.9000e-01, 1.5400e+00, 8.6600e+00, 7.4000e-01, 1.8000e+00,\n",
      "         7.5000e+02],\n",
      "        [1.1820e+01, 1.4700e+00, 1.9900e+00, 2.0800e+01, 8.6000e+01, 1.9800e+00,\n",
      "         1.6000e+00, 3.0000e-01, 1.5300e+00, 1.9500e+00, 9.5000e-01, 3.3300e+00,\n",
      "         4.9500e+02],\n",
      "        [1.3170e+01, 2.5900e+00, 2.3700e+00, 2.0000e+01, 1.2000e+02, 1.6500e+00,\n",
      "         6.8000e-01, 5.3000e-01, 1.4600e+00, 9.3000e+00, 6.0000e-01, 1.6200e+00,\n",
      "         8.4000e+02],\n",
      "        [1.3480e+01, 1.8100e+00, 2.4100e+00, 2.0500e+01, 1.0000e+02, 2.7000e+00,\n",
      "         2.9800e+00, 2.6000e-01, 1.8600e+00, 5.1000e+00, 1.0400e+00, 3.4700e+00,\n",
      "         9.2000e+02]])\n",
      "tensor([[3.],\n",
      "        [2.],\n",
      "        [3.],\n",
      "        [1.]])\n"
     ]
    }
   ],
   "source": [
    "datatiter = iter(dataloader)\n",
    "data = datatiter.next()\n",
    "features, labels = data\n",
    "print(features)\n",
    "print(labels)"
   ]
  },
  {
   "cell_type": "markdown",
   "id": "comfortable-boring",
   "metadata": {},
   "source": [
    "Training loop"
   ]
  },
  {
   "cell_type": "code",
   "execution_count": 20,
   "id": "distinct-regular",
   "metadata": {},
   "outputs": [
    {
     "name": "stdout",
     "output_type": "stream",
     "text": [
      "178 45\n"
     ]
    }
   ],
   "source": [
    "num_epochs = 2\n",
    "\n",
    "total_samples = len(dataset)\n",
    "n_iterations = math.ceil(total_samples / 4)\n",
    "print(total_samples, n_iterations)"
   ]
  },
  {
   "cell_type": "code",
   "execution_count": 21,
   "id": "statistical-certificate",
   "metadata": {},
   "outputs": [
    {
     "name": "stdout",
     "output_type": "stream",
     "text": [
      "epoch: 1/2, step 5/45, inputs torch.Size([4, 13])\n",
      "epoch: 1/2, step 10/45, inputs torch.Size([4, 13])\n",
      "epoch: 1/2, step 15/45, inputs torch.Size([4, 13])\n",
      "epoch: 1/2, step 20/45, inputs torch.Size([4, 13])\n",
      "epoch: 1/2, step 25/45, inputs torch.Size([4, 13])\n",
      "epoch: 1/2, step 30/45, inputs torch.Size([4, 13])\n",
      "epoch: 1/2, step 35/45, inputs torch.Size([4, 13])\n",
      "epoch: 1/2, step 40/45, inputs torch.Size([4, 13])\n",
      "epoch: 1/2, step 45/45, inputs torch.Size([2, 13])\n",
      "epoch: 2/2, step 5/45, inputs torch.Size([4, 13])\n",
      "epoch: 2/2, step 10/45, inputs torch.Size([4, 13])\n",
      "epoch: 2/2, step 15/45, inputs torch.Size([4, 13])\n",
      "epoch: 2/2, step 20/45, inputs torch.Size([4, 13])\n",
      "epoch: 2/2, step 25/45, inputs torch.Size([4, 13])\n",
      "epoch: 2/2, step 30/45, inputs torch.Size([4, 13])\n",
      "epoch: 2/2, step 35/45, inputs torch.Size([4, 13])\n",
      "epoch: 2/2, step 40/45, inputs torch.Size([4, 13])\n",
      "epoch: 2/2, step 45/45, inputs torch.Size([2, 13])\n"
     ]
    }
   ],
   "source": [
    "for epoch in range(num_epochs):\n",
    "    for i, (inputs, labels) in enumerate(dataloader):\n",
    "        \n",
    "        if (i+1) % 5 == 0: \n",
    "            print(f\"epoch: {epoch+1}/{num_epochs}, step {i+1}/{n_iterations}, inputs {inputs.shape}\")"
   ]
  }
 ],
 "metadata": {
  "kernelspec": {
   "display_name": "Armada_AV",
   "language": "python",
   "name": "armada_av"
  },
  "language_info": {
   "codemirror_mode": {
    "name": "ipython",
    "version": 3
   },
   "file_extension": ".py",
   "mimetype": "text/x-python",
   "name": "python",
   "nbconvert_exporter": "python",
   "pygments_lexer": "ipython3",
   "version": "3.8.8"
  }
 },
 "nbformat": 4,
 "nbformat_minor": 5
}
