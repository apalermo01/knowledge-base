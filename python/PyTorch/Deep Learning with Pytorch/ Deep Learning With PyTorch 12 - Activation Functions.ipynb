{
 "cells": [
  {
   "cell_type": "markdown",
   "id": "smooth-macro",
   "metadata": {},
   "source": [
    "#  Deep Learning With PyTorch 12 - Activation Functions"
   ]
  },
  {
   "cell_type": "markdown",
   "id": "automated-rugby",
   "metadata": {},
   "source": [
    "**Most popular activation functions**\n",
    "- Step function\n",
    "- Sigmoid\n",
    "- TanH\n",
    "- ReLu\n",
    "- Leaky ReLu\n",
    "- Softmax\n",
    "\n",
    "available in torch.nn, torch, and torch.nn.functional"
   ]
  }
 ],
 "metadata": {
  "kernelspec": {
   "display_name": "Armada_AV",
   "language": "python",
   "name": "armada_av"
  },
  "language_info": {
   "codemirror_mode": {
    "name": "ipython",
    "version": 3
   },
   "file_extension": ".py",
   "mimetype": "text/x-python",
   "name": "python",
   "nbconvert_exporter": "python",
   "pygments_lexer": "ipython3",
   "version": "3.8.8"
  }
 },
 "nbformat": 4,
 "nbformat_minor": 5
}
