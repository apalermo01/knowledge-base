{
 "cells": [
  {
   "cell_type": "markdown",
   "id": "seasonal-pioneer",
   "metadata": {},
   "source": [
    "# Deep Learning With PyTorch 17 Save and Load models"
   ]
  },
  {
   "cell_type": "code",
   "execution_count": null,
   "id": "together-season",
   "metadata": {},
   "outputs": [],
   "source": [
    "import torch\n",
    "import torch.nn as nn\n",
    "\n",
    "### Complete model\n",
    "torch.save(model, PATH)\n",
    "\n",
    "# model class must be defined somewhere\n",
    "model = torch.load(PATH)\n",
    "mode.eval"
   ]
  },
  {
   "cell_type": "markdown",
   "id": "changing-budapest",
   "metadata": {},
   "source": [
    "Second option, recommended way"
   ]
  },
  {
   "cell_type": "code",
   "execution_count": null,
   "id": "civic-windows",
   "metadata": {},
   "outputs": [],
   "source": [
    "torch.save(model.state_dict(), PATH)\n",
    "\n",
    "# model must be created again with parameters\n",
    "model = Model(*args, **kwargs)\n",
    "model.load_state_dict(torch.load(PATH))\n",
    "model.eval()"
   ]
  }
 ],
 "metadata": {
  "kernelspec": {
   "display_name": "Armada_AV",
   "language": "python",
   "name": "armada_av"
  },
  "language_info": {
   "codemirror_mode": {
    "name": "ipython",
    "version": 3
   },
   "file_extension": ".py",
   "mimetype": "text/x-python",
   "name": "python",
   "nbconvert_exporter": "python",
   "pygments_lexer": "ipython3",
   "version": "3.8.8"
  }
 },
 "nbformat": 4,
 "nbformat_minor": 5
}
