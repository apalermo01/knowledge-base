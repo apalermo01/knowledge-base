{
 "cells": [
  {
   "cell_type": "markdown",
   "id": "executed-patch",
   "metadata": {},
   "source": [
    "# Deep Learning With PyTorch 5 - Gradient Descent using Autograd\n",
    "\n",
    "\n",
    "Implement linear regression manually, and then replace each step with pytorch's implementation"
   ]
  },
  {
   "cell_type": "code",
   "execution_count": 8,
   "id": "premium-halloween",
   "metadata": {},
   "outputs": [
    {
     "name": "stdout",
     "output_type": "stream",
     "text": [
      "Prediction before training: f(5) = 0.000\n",
      "epoch 1: w = 1.200, loss = 30.00000000\n",
      "epoch 11: w = 2.000, loss = 0.00000033\n",
      "epoch 21: w = 2.000, loss = 0.00000000\n",
      "epoch 31: w = 2.000, loss = 0.00000000\n",
      "epoch 41: w = 2.000, loss = 0.00000000\n",
      "epoch 51: w = 2.000, loss = 0.00000000\n",
      "epoch 61: w = 2.000, loss = 0.00000000\n",
      "epoch 71: w = 2.000, loss = 0.00000000\n",
      "epoch 81: w = 2.000, loss = 0.00000000\n",
      "epoch 91: w = 2.000, loss = 0.00000000\n",
      "Prediction after training: f(5) = 10.000\n"
     ]
    }
   ],
   "source": [
    "import numpy as np\n",
    "\n",
    "X = np.array([1, 2, 3, 4], dtype=np.float32)\n",
    "Y = np.array([2, 4, 6, 8], dtype=np.float32)\n",
    "\n",
    "# init weight\n",
    "w = 0\n",
    "\n",
    "# model prediction\n",
    "def forward(x):\n",
    "    return w*x\n",
    "\n",
    "# loss = MSE\n",
    "def loss(y, y_predicted):\n",
    "    return ((y_predicted - y) ** 2).mean()\n",
    "\n",
    "# gradient\n",
    "# MSE = 1/N * (w*x - y)**2\n",
    "# dJ/dw = 1/N * 2x (w*x - y)\n",
    "def gradient(x, y, y_predicted):\n",
    "    return np.dot(2*x, y_predicted-y).mean()\n",
    "\n",
    "print(f\"Prediction before training: f(5) = {forward(5):.3f}\")\n",
    "\n",
    "# training\n",
    "learning_rate = 0.01\n",
    "n_iters = 100\n",
    "\n",
    "for epoch in range(n_iters):\n",
    "    \n",
    "    # prediction = forward pass\n",
    "    y_pred = forward(X)\n",
    "    \n",
    "    # loss\n",
    "    l = loss(Y, y_pred)\n",
    "    \n",
    "    # gradients\n",
    "    dw = gradient(X, Y, y_pred)\n",
    "    \n",
    "    # update weights\n",
    "    w -= dw * learning_rate\n",
    "    \n",
    "    if epoch%10 == 0:\n",
    "        print(f\"epoch {epoch+1}: w = {w:.3f}, loss = {l:.8f}\")\n",
    "print(f\"Prediction after training: f(5) = {forward(5):.3f}\")"
   ]
  },
  {
   "cell_type": "markdown",
   "id": "colored-consensus",
   "metadata": {},
   "source": [
    "Now replace the gradient calculation"
   ]
  },
  {
   "cell_type": "code",
   "execution_count": 13,
   "id": "daily-coordinate",
   "metadata": {},
   "outputs": [
    {
     "name": "stdout",
     "output_type": "stream",
     "text": [
      "Prediction before training: f(5) = 0.000\n",
      "epoch 1: w = 3.000, loss = 30.00000000\n",
      "epoch 2: w = 1.500, loss = 7.50000000\n",
      "epoch 3: w = 2.250, loss = 1.87500000\n",
      "epoch 4: w = 1.875, loss = 0.46875000\n",
      "epoch 5: w = 2.062, loss = 0.11718750\n",
      "epoch 6: w = 1.969, loss = 0.02929688\n",
      "epoch 7: w = 2.016, loss = 0.00732422\n",
      "epoch 8: w = 1.992, loss = 0.00183105\n",
      "epoch 9: w = 2.004, loss = 0.00045776\n",
      "epoch 10: w = 1.998, loss = 0.00011444\n",
      "epoch 11: w = 2.001, loss = 0.00002861\n",
      "epoch 12: w = 2.000, loss = 0.00000715\n",
      "epoch 13: w = 2.000, loss = 0.00000179\n",
      "epoch 14: w = 2.000, loss = 0.00000045\n",
      "epoch 15: w = 2.000, loss = 0.00000011\n",
      "epoch 16: w = 2.000, loss = 0.00000003\n",
      "epoch 17: w = 2.000, loss = 0.00000001\n",
      "epoch 18: w = 2.000, loss = 0.00000000\n",
      "epoch 19: w = 2.000, loss = 0.00000000\n",
      "epoch 20: w = 2.000, loss = 0.00000000\n",
      "Prediction after training: f(5) = 10.000\n"
     ]
    }
   ],
   "source": [
    "import torch\n",
    "\n",
    "X = torch.tensor([1, 2, 3, 4], dtype=torch.float32)\n",
    "Y = torch.tensor([2, 4, 6, 8], dtype=torch.float32)\n",
    "\n",
    "# init weight\n",
    "w = torch.tensor(0.0, dtype=torch.float32, requires_grad=True)\n",
    "\n",
    "# model prediction\n",
    "def forward(x):\n",
    "    return w*x\n",
    "\n",
    "# loss = MSE\n",
    "def loss(y, y_predicted):\n",
    "    return ((y_predicted - y) ** 2).mean()\n",
    "\n",
    "print(f\"Prediction before training: f(5) = {forward(5):.3f}\")\n",
    "\n",
    "# training\n",
    "learning_rate = 0.1\n",
    "n_iters = 20\n",
    "\n",
    "for epoch in range(n_iters):\n",
    "    \n",
    "    # prediction = forward pass\n",
    "    y_pred = forward(X)\n",
    "    \n",
    "    # loss\n",
    "    l = loss(Y, y_pred)\n",
    "    \n",
    "    # gradients = backward pass\n",
    "    l.backward() # dl/dw\n",
    "\n",
    "    \n",
    "    # update weights\n",
    "        \n",
    "    with torch.no_grad():\n",
    "        w -= w.grad * learning_rate\n",
    "    w.grad.zero_()\n",
    "    \n",
    "    if epoch%1 == 0:\n",
    "        print(f\"epoch {epoch+1}: w = {w:.3f}, loss = {l:.8f}\")\n",
    "print(f\"Prediction after training: f(5) = {forward(5):.3f}\")"
   ]
  },
  {
   "cell_type": "markdown",
   "id": "smooth-architecture",
   "metadata": {},
   "source": [
    "This requires more iterations before because pytorch's gradient descent is not a numerically accurate as the manual implementation"
   ]
  }
 ],
 "metadata": {
  "kernelspec": {
   "display_name": "Armada_AV",
   "language": "python",
   "name": "armada_av"
  },
  "language_info": {
   "codemirror_mode": {
    "name": "ipython",
    "version": 3
   },
   "file_extension": ".py",
   "mimetype": "text/x-python",
   "name": "python",
   "nbconvert_exporter": "python",
   "pygments_lexer": "ipython3",
   "version": "3.8.8"
  }
 },
 "nbformat": 4,
 "nbformat_minor": 5
}
