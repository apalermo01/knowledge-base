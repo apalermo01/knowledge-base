{
 "cells": [
  {
   "cell_type": "markdown",
   "id": "nominated-walnut",
   "metadata": {},
   "source": [
    "# Deep Learning With PyTorch 2 - Tensor Basics\n",
    "https://www.youtube.com/watch?v=c36lUUr864M"
   ]
  },
  {
   "cell_type": "markdown",
   "id": "innocent-diesel",
   "metadata": {},
   "source": [
    "Everything is based on tensor operations. \n",
    "- Can have any number of dimensions\n",
    "\n",
    "Create an empty tensor of different sizes"
   ]
  },
  {
   "cell_type": "code",
   "execution_count": 1,
   "id": "authorized-aging",
   "metadata": {},
   "outputs": [
    {
     "name": "stdout",
     "output_type": "stream",
     "text": [
      "tensor([0.])\n"
     ]
    }
   ],
   "source": [
    "import torch\n",
    "\n",
    "x = torch.empty(1)\n",
    "print(x)"
   ]
  },
  {
   "cell_type": "code",
   "execution_count": 2,
   "id": "controlled-invention",
   "metadata": {},
   "outputs": [
    {
     "name": "stdout",
     "output_type": "stream",
     "text": [
      "tensor([1.7753e+28, 1.3458e-14, 7.8448e+17])\n"
     ]
    }
   ],
   "source": [
    "x = torch.empty(3)\n",
    "print(x)"
   ]
  },
  {
   "cell_type": "code",
   "execution_count": 3,
   "id": "rural-reduction",
   "metadata": {},
   "outputs": [
    {
     "name": "stdout",
     "output_type": "stream",
     "text": [
      "tensor([[1.3590e+22, 4.1291e-05, 4.1577e+21],\n",
      "        [1.6926e+22, 4.0973e-11, 4.2330e+21]])\n"
     ]
    }
   ],
   "source": [
    "x = torch.empty(2, 3)\n",
    "print(x)"
   ]
  },
  {
   "cell_type": "code",
   "execution_count": 4,
   "id": "saving-filling",
   "metadata": {},
   "outputs": [
    {
     "name": "stdout",
     "output_type": "stream",
     "text": [
      "tensor([[[[9.2755e-39, 1.0561e-38],\n",
      "          [8.9082e-39, 9.2755e-39]],\n",
      "\n",
      "         [[9.0919e-39, 4.2246e-39],\n",
      "          [1.0286e-38, 1.0653e-38]]],\n",
      "\n",
      "\n",
      "        [[[1.0194e-38, 8.4490e-39],\n",
      "          [1.0469e-38, 9.3674e-39]],\n",
      "\n",
      "         [[9.9184e-39, 8.7245e-39],\n",
      "          [9.2755e-39, 8.9082e-39]]]])\n"
     ]
    }
   ],
   "source": [
    "x = torch.empty(2, 2, 2, 2)\n",
    "print(x)"
   ]
  },
  {
   "cell_type": "markdown",
   "id": "confidential-monthly",
   "metadata": {},
   "source": [
    "**Other methods for initializing tensors**\n",
    "torch.random()\n",
    "torch.zeros()\n",
    "torch.ones()\n",
    "\n",
    "datatypes"
   ]
  },
  {
   "cell_type": "code",
   "execution_count": 5,
   "id": "relative-activation",
   "metadata": {},
   "outputs": [
    {
     "data": {
      "text/plain": [
       "torch.float32"
      ]
     },
     "execution_count": 5,
     "metadata": {},
     "output_type": "execute_result"
    }
   ],
   "source": [
    "x.dtype"
   ]
  },
  {
   "cell_type": "markdown",
   "id": "cheap-indianapolis",
   "metadata": {},
   "source": [
    "float32 by default.\n",
    "\n",
    "Can specify datatype during initialization"
   ]
  },
  {
   "cell_type": "code",
   "execution_count": 6,
   "id": "backed-generation",
   "metadata": {},
   "outputs": [
    {
     "data": {
      "text/plain": [
       "tensor([-1797939728,       32760], dtype=torch.int32)"
      ]
     },
     "execution_count": 6,
     "metadata": {},
     "output_type": "execute_result"
    }
   ],
   "source": [
    "x = torch.empty(2, dtype=torch.int32)\n",
    "x"
   ]
  },
  {
   "cell_type": "code",
   "execution_count": 7,
   "id": "subject-chinese",
   "metadata": {},
   "outputs": [
    {
     "data": {
      "text/plain": [
       "torch.Size([2])"
      ]
     },
     "execution_count": 7,
     "metadata": {},
     "output_type": "execute_result"
    }
   ],
   "source": [
    "x.size()"
   ]
  },
  {
   "cell_type": "markdown",
   "id": "dependent-information",
   "metadata": {},
   "source": [
    "can construct tensors from other datatypes"
   ]
  },
  {
   "cell_type": "code",
   "execution_count": 8,
   "id": "unauthorized-innocent",
   "metadata": {},
   "outputs": [
    {
     "data": {
      "text/plain": [
       "tensor([2.5000, 0.1000])"
      ]
     },
     "execution_count": 8,
     "metadata": {},
     "output_type": "execute_result"
    }
   ],
   "source": [
    "x = torch.tensor([2.5, 0.1])\n",
    "x"
   ]
  },
  {
   "cell_type": "markdown",
   "id": "biblical-science",
   "metadata": {},
   "source": [
    "**Tensor operations**"
   ]
  },
  {
   "cell_type": "code",
   "execution_count": 9,
   "id": "south-ratio",
   "metadata": {},
   "outputs": [
    {
     "name": "stdout",
     "output_type": "stream",
     "text": [
      "tensor([[0.7913, 0.0284],\n",
      "        [0.8455, 0.0326]])\n",
      "tensor([[0.9528, 0.5208],\n",
      "        [0.9833, 0.7684]])\n"
     ]
    }
   ],
   "source": [
    "x = torch.rand(2, 2)\n",
    "y = torch.rand(2, 2)\n",
    "print(x)\n",
    "print(y)"
   ]
  },
  {
   "cell_type": "code",
   "execution_count": 10,
   "id": "reasonable-anxiety",
   "metadata": {},
   "outputs": [
    {
     "data": {
      "text/plain": [
       "tensor([[1.7441, 0.5493],\n",
       "        [1.8288, 0.8010]])"
      ]
     },
     "execution_count": 10,
     "metadata": {},
     "output_type": "execute_result"
    }
   ],
   "source": [
    "z = x + y\n",
    "z"
   ]
  },
  {
   "cell_type": "code",
   "execution_count": 12,
   "id": "painful-reading",
   "metadata": {},
   "outputs": [
    {
     "data": {
      "text/plain": [
       "tensor([[1.7441, 0.5493],\n",
       "        [1.8288, 0.8010]])"
      ]
     },
     "execution_count": 12,
     "metadata": {},
     "output_type": "execute_result"
    }
   ],
   "source": [
    "z = torch.add(x, y)\n",
    "z"
   ]
  },
  {
   "cell_type": "markdown",
   "id": "convertible-letters",
   "metadata": {},
   "source": [
    "Addition in place, modifies y"
   ]
  },
  {
   "cell_type": "code",
   "execution_count": 13,
   "id": "cordless-humanity",
   "metadata": {},
   "outputs": [
    {
     "name": "stdout",
     "output_type": "stream",
     "text": [
      "tensor([[1.7441, 0.5493],\n",
      "        [1.8288, 0.8010]])\n"
     ]
    }
   ],
   "source": [
    "y.add_(x)\n",
    "print(y)"
   ]
  },
  {
   "cell_type": "markdown",
   "id": "fundamental-italic",
   "metadata": {},
   "source": [
    "Every function with _<name> does an inplace operation - modifies the variable that is is applied on"
   ]
  },
  {
   "cell_type": "code",
   "execution_count": 15,
   "id": "related-microphone",
   "metadata": {},
   "outputs": [
    {
     "data": {
      "text/plain": [
       "tensor([[-0.9528, -0.5208],\n",
       "        [-0.9833, -0.7684]])"
      ]
     },
     "execution_count": 15,
     "metadata": {},
     "output_type": "execute_result"
    }
   ],
   "source": [
    "z = x - y\n",
    "z = torch.sub(x, y)\n",
    "z"
   ]
  },
  {
   "cell_type": "code",
   "execution_count": 16,
   "id": "greek-aruba",
   "metadata": {},
   "outputs": [
    {
     "name": "stdout",
     "output_type": "stream",
     "text": [
      "tensor([[1.3802, 0.0156],\n",
      "        [1.5463, 0.0261]])\n"
     ]
    }
   ],
   "source": [
    "z = torch.mul(x, y)\n",
    "print(z)"
   ]
  },
  {
   "cell_type": "markdown",
   "id": "arctic-guide",
   "metadata": {},
   "source": [
    "Same trend with all the basic operations\n",
    "\n",
    "**Slicing operations**\n",
    "basically the same as numpy arrays"
   ]
  },
  {
   "cell_type": "code",
   "execution_count": 17,
   "id": "durable-rochester",
   "metadata": {},
   "outputs": [
    {
     "data": {
      "text/plain": [
       "tensor([[0.9206, 0.3275, 0.8231],\n",
       "        [0.6739, 0.1803, 0.9109],\n",
       "        [0.0688, 0.8515, 0.6428],\n",
       "        [0.4119, 0.8909, 0.2463],\n",
       "        [0.9637, 0.0502, 0.3632]])"
      ]
     },
     "execution_count": 17,
     "metadata": {},
     "output_type": "execute_result"
    }
   ],
   "source": [
    "x = torch.rand(5, 3)\n",
    "x"
   ]
  },
  {
   "cell_type": "code",
   "execution_count": 18,
   "id": "immediate-crest",
   "metadata": {},
   "outputs": [
    {
     "data": {
      "text/plain": [
       "tensor([0.6739, 0.1803, 0.9109])"
      ]
     },
     "execution_count": 18,
     "metadata": {},
     "output_type": "execute_result"
    }
   ],
   "source": [
    "x[1]"
   ]
  },
  {
   "cell_type": "code",
   "execution_count": 19,
   "id": "protecting-capital",
   "metadata": {},
   "outputs": [
    {
     "data": {
      "text/plain": [
       "tensor([0.3275, 0.1803, 0.8515, 0.8909, 0.0502])"
      ]
     },
     "execution_count": 19,
     "metadata": {},
     "output_type": "execute_result"
    }
   ],
   "source": [
    "x[:, 1]"
   ]
  },
  {
   "cell_type": "code",
   "execution_count": 20,
   "id": "boring-jewel",
   "metadata": {},
   "outputs": [
    {
     "data": {
      "text/plain": [
       "tensor(0.6739)"
      ]
     },
     "execution_count": 20,
     "metadata": {},
     "output_type": "execute_result"
    }
   ],
   "source": [
    "x[1, 0]"
   ]
  },
  {
   "cell_type": "markdown",
   "id": "meaning-sender",
   "metadata": {},
   "source": [
    ".item() returns the actual value, but only works on single datapoints"
   ]
  },
  {
   "cell_type": "code",
   "execution_count": 22,
   "id": "tutorial-pixel",
   "metadata": {},
   "outputs": [
    {
     "data": {
      "text/plain": [
       "0.6738866567611694"
      ]
     },
     "execution_count": 22,
     "metadata": {},
     "output_type": "execute_result"
    }
   ],
   "source": [
    "x[1, 0].item()"
   ]
  },
  {
   "cell_type": "markdown",
   "id": "material-novelty",
   "metadata": {},
   "source": [
    "**re-shaping**"
   ]
  },
  {
   "cell_type": "code",
   "execution_count": 25,
   "id": "played-punishment",
   "metadata": {},
   "outputs": [
    {
     "name": "stdout",
     "output_type": "stream",
     "text": [
      "tensor([[0.2867, 0.3498, 0.3490, 0.0895],\n",
      "        [0.5149, 0.0365, 0.6158, 0.1435],\n",
      "        [0.8038, 0.7098, 0.6676, 0.2491],\n",
      "        [0.2739, 0.9186, 0.6970, 0.4815]])\n",
      "tensor([0.2867, 0.3498, 0.3490, 0.0895, 0.5149, 0.0365, 0.6158, 0.1435, 0.8038,\n",
      "        0.7098, 0.6676, 0.2491, 0.2739, 0.9186, 0.6970, 0.4815])\n"
     ]
    }
   ],
   "source": [
    "x = torch.rand(4, 4)\n",
    "print(x) \n",
    "y = x.view(16)\n",
    "print(y)"
   ]
  },
  {
   "cell_type": "code",
   "execution_count": 28,
   "id": "limiting-librarian",
   "metadata": {},
   "outputs": [
    {
     "data": {
      "text/plain": [
       "tensor([[0.2867, 0.3498, 0.3490, 0.0895, 0.5149, 0.0365, 0.6158, 0.1435],\n",
       "        [0.8038, 0.7098, 0.6676, 0.2491, 0.2739, 0.9186, 0.6970, 0.4815]])"
      ]
     },
     "execution_count": 28,
     "metadata": {},
     "output_type": "execute_result"
    }
   ],
   "source": [
    "x.view(-1, 8)"
   ]
  },
  {
   "cell_type": "code",
   "execution_count": 29,
   "id": "distinct-paris",
   "metadata": {},
   "outputs": [
    {
     "name": "stdout",
     "output_type": "stream",
     "text": [
      "torch.Size([2, 8])\n"
     ]
    }
   ],
   "source": [
    "print(x.view(-1, 8).size())"
   ]
  },
  {
   "cell_type": "markdown",
   "id": "saving-consumption",
   "metadata": {},
   "source": [
    "**Converting numpy to torch**"
   ]
  },
  {
   "cell_type": "code",
   "execution_count": 31,
   "id": "neutral-prescription",
   "metadata": {},
   "outputs": [],
   "source": [
    "import numpy as np"
   ]
  },
  {
   "cell_type": "code",
   "execution_count": 32,
   "id": "meaningful-sally",
   "metadata": {},
   "outputs": [
    {
     "data": {
      "text/plain": [
       "tensor([1., 1., 1., 1., 1.])"
      ]
     },
     "execution_count": 32,
     "metadata": {},
     "output_type": "execute_result"
    }
   ],
   "source": [
    "a = torch.ones(5)\n",
    "a"
   ]
  },
  {
   "cell_type": "code",
   "execution_count": 33,
   "id": "driving-spring",
   "metadata": {},
   "outputs": [
    {
     "data": {
      "text/plain": [
       "array([1., 1., 1., 1., 1.], dtype=float32)"
      ]
     },
     "execution_count": 33,
     "metadata": {},
     "output_type": "execute_result"
    }
   ],
   "source": [
    "b = a.numpy()\n",
    "b"
   ]
  },
  {
   "cell_type": "markdown",
   "id": "viral-dress",
   "metadata": {},
   "source": [
    "If we modify b or a inplace: "
   ]
  },
  {
   "cell_type": "code",
   "execution_count": 35,
   "id": "nervous-impossible",
   "metadata": {},
   "outputs": [
    {
     "data": {
      "text/plain": [
       "tensor([2., 2., 2., 2., 2.])"
      ]
     },
     "execution_count": 35,
     "metadata": {},
     "output_type": "execute_result"
    }
   ],
   "source": [
    "a.add_(1)\n",
    "a"
   ]
  },
  {
   "cell_type": "code",
   "execution_count": 36,
   "id": "duplicate-supervision",
   "metadata": {},
   "outputs": [
    {
     "data": {
      "text/plain": [
       "array([2., 2., 2., 2., 2.], dtype=float32)"
      ]
     },
     "execution_count": 36,
     "metadata": {},
     "output_type": "execute_result"
    }
   ],
   "source": [
    "b"
   ]
  },
  {
   "cell_type": "markdown",
   "id": "tropical-conjunction",
   "metadata": {},
   "source": [
    "The tensor and numpy array occupy the same memory location. I think this works differently on a GPU"
   ]
  },
  {
   "cell_type": "code",
   "execution_count": 37,
   "id": "adult-remains",
   "metadata": {},
   "outputs": [
    {
     "data": {
      "text/plain": [
       "array([1., 1., 1., 1., 1.])"
      ]
     },
     "execution_count": 37,
     "metadata": {},
     "output_type": "execute_result"
    }
   ],
   "source": [
    "a = np.ones(5)\n",
    "a"
   ]
  },
  {
   "cell_type": "code",
   "execution_count": 41,
   "id": "polish-pricing",
   "metadata": {},
   "outputs": [
    {
     "data": {
      "text/plain": [
       "tensor([1., 1., 1., 1., 1.], dtype=torch.float64)"
      ]
     },
     "execution_count": 41,
     "metadata": {},
     "output_type": "execute_result"
    }
   ],
   "source": [
    "b = torch.from_numpy(a)\n",
    "b"
   ]
  },
  {
   "cell_type": "markdown",
   "id": "academic-forward",
   "metadata": {},
   "source": [
    "Again, if we modify a in place, we also modify b\n",
    "\n",
    "But we can create a tensor right on the GPU like this: "
   ]
  },
  {
   "cell_type": "code",
   "execution_count": 46,
   "id": "collect-backup",
   "metadata": {},
   "outputs": [
    {
     "name": "stdout",
     "output_type": "stream",
     "text": [
      "Cuda not available\n"
     ]
    }
   ],
   "source": [
    "if torch.cuda.is_available():\n",
    "    print(\"Cuda is available\")\n",
    "    device = torch.device(\"cuda\")\n",
    "    x = torch.ones(5, device=device) # creates a tensor on the GPU\n",
    "    y = torch.ones(5)\n",
    "    # can move a variable to gpu\n",
    "    y = y.to(device)\n",
    "    \n",
    "    # calling: \n",
    "    y.to_numpy()\n",
    "    \n",
    "    # will throw an error becuase numpy can't handle GPU operations\n",
    "    \n",
    "    z = x + y\n",
    "    # we can fix this by doing\n",
    "    z.to(\"cpu\")\n",
    "else: \n",
    "    print(\"Cuda not available\")"
   ]
  },
  {
   "cell_type": "markdown",
   "id": "young-trout",
   "metadata": {},
   "source": [
    "We can tell pytorch ahead of time when we will be required to calculate the gradient of a tensor"
   ]
  },
  {
   "cell_type": "code",
   "execution_count": 48,
   "id": "previous-google",
   "metadata": {},
   "outputs": [
    {
     "data": {
      "text/plain": [
       "tensor([1., 1., 1., 1., 1.], requires_grad=True)"
      ]
     },
     "execution_count": 48,
     "metadata": {},
     "output_type": "execute_result"
    }
   ],
   "source": [
    "x = torch.ones(5, requires_grad=True)\n",
    "x"
   ]
  }
 ],
 "metadata": {
  "kernelspec": {
   "display_name": "Python 3",
   "language": "python",
   "name": "python3"
  },
  "language_info": {
   "codemirror_mode": {
    "name": "ipython",
    "version": 3
   },
   "file_extension": ".py",
   "mimetype": "text/x-python",
   "name": "python",
   "nbconvert_exporter": "python",
   "pygments_lexer": "ipython3",
   "version": "3.8.10"
  }
 },
 "nbformat": 4,
 "nbformat_minor": 5
}
