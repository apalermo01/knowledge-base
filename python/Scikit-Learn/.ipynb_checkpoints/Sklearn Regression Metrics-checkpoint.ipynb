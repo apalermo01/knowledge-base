{
 "cells": [
  {
   "cell_type": "markdown",
   "id": "brave-liquid",
   "metadata": {},
   "source": [
    "# Scikit-Learn Metrics (Regression)\n",
    "\n",
    "Notes on the scoring options in sklearn's metrics library"
   ]
  },
  {
   "cell_type": "markdown",
   "id": "square-schema",
   "metadata": {},
   "source": [
    "### explained_variance_score\n",
    "[documentation](https://scikit-learn.org/stable/modules/model_evaluation.html#explained-variance-score)<br> \n",
    "[wikipedia](https://en.wikipedia.org/wiki/Explained_variation)\n",
    "\n",
    "- How much does this model account for the variation of a dataset?\n",
    "- $\\hat{y}$ = estimated target output\n",
    "- $y$ = correct output\n",
    "- $\\operatorname{Var}$ = variance (square of standard deviation)\n",
    "$$\n",
    "\\operatorname{explained\\_variance}(y, \\hat{y}) = 1 - \\frac{\n",
    "    \\operatorname{Var}\\{ y - \\hat{y} \\}\n",
    "    }{\n",
    "    \\operatorname{Var}\\{ y\\}\n",
    "    }\n",
    "$$\n",
    "\n",
    "- best score = 1, lower = worse"
   ]
  },
  {
   "cell_type": "markdown",
   "id": "hundred-township",
   "metadata": {},
   "source": [
    "### max_error\n",
    "\n",
    "[documentation](https://scikit-learn.org/stable/modules/model_evaluation.html#max-error)\n",
    "\n",
    "- computes maximum residual error- worst case error between predicted and true\n",
    "\n",
    "- $\\hat{y}$ = estimated target output\n",
    "- $y$ = correct output\n",
    "\n",
    "$$\n",
    "\\operatorname{Max Error}(y, \\hat{y}) = \\max{|y_i - \\hat{y}_i|}\n",
    "$$"
   ]
  },
  {
   "cell_type": "markdown",
   "id": "polar-ordinance",
   "metadata": {},
   "source": [
    "### mean_absolute_error\n",
    "\n",
    "- Expected value of the absolute error loss ($l_1$-norm loss)\n",
    "- $\\hat{y}$ = estimated target output\n",
    "- $y$ = correct output\n",
    "- $n$ = number of samples\n",
    "\n",
    "$$\n",
    "\\operatorname{MAE}(y, \\hat{y}) = \\frac{1}{n}\n",
    "\\sum_{i=0}^{n-1}{|y_i - \\hat{y}_i|}\n",
    "$$"
   ]
  },
  {
   "cell_type": "markdown",
   "id": "simplified-newport",
   "metadata": {},
   "source": [
    "### mean_squared_error\n",
    "\n",
    "[documentation](https://scikit-learn.org/stable/modules/model_evaluation.html#mean-squared-error)\n",
    "\n",
    "- expected value of the quadratic loss ($l_2$-norm loss)\n",
    "- $\\hat{y}$ = estimated target output\n",
    "- $y$ = correct output\n",
    "- $n$ = number of samples\n",
    "\n",
    "$$\n",
    "\\operatorname{MSE}(y, \\hat{y}) = \\frac{1}{n}\n",
    "\\sum_{i=0}^{n-1}{(y_i - \\hat{y}_i)^2}\n",
    "$$"
   ]
  },
  {
   "cell_type": "markdown",
   "id": "minor-glance",
   "metadata": {},
   "source": [
    "### mean_squared_log_error\n",
    "\n",
    "[documentation](https://scikit-learn.org/stable/modules/model_evaluation.html#mean-squared-log-error)\n",
    "\n",
    "- Expected value of the squared logarithmic quadratic loss\n",
    "\n",
    "- expected value of the quadratic loss ($l_2$-norm loss)\n",
    "- $\\hat{y}$ = estimated target output\n",
    "- $y$ = correct output\n",
    "- $n$ = number of samples\n",
    "\n",
    "$$\n",
    "\\operatorname{MSLE}(y, \\hat{y}) = \\frac{1}{n}\n",
    "\\sum_{i=0}^{n-1}{(\\ln(1+y_i) - \\ln(1+\\hat{y}_i))^2}\n",
    "$$\n",
    "\n",
    "- best used when targets have exponential growth"
   ]
  },
  {
   "cell_type": "markdown",
   "id": "decimal-wales",
   "metadata": {},
   "source": [
    "### median_absolute_error\n",
    "\n",
    "[documentation](https://scikit-learn.org/stable/modules/model_evaluation.html#median-absolute-error)\n",
    "\n",
    "- robust to outliers\n",
    "- takes median of all differences between targets and predictions\n",
    "- $\\hat{y}$ = estimated target output\n",
    "- $y$ = correct output\n",
    "- $n$ = number of samples\n",
    "\n",
    "$$\n",
    "\\operatorname{MedAE}(y, \\hat{y}) = \\operatorname{median}(\n",
    "       |y_1 - \\hat{y}_1|, ..., |y_n - \\hat{y}_n| \n",
    ")\n",
    "$$"
   ]
  },
  {
   "cell_type": "markdown",
   "id": "excited-devil",
   "metadata": {},
   "source": [
    "### r2_score\n",
    "\n",
    "[documentation](https://scikit-learn.org/stable/modules/model_evaluation.html#r2-score)\n",
    "\n",
    "- Coefficient of determination\n",
    "- \"The proportion of variance (of y) that has been explained by the independent variables in the model\n",
    "- Optimal values vary from dataset to dataset\n",
    "$$\n",
    "R^2(y, \\hat{y}) = 1 - \\frac{\\sum_{i=1}^{n}{(y_i - \\hat{y}_i)^2}}{\\sum_{i=1}^{n}{(y_i - \\bar{y})^2}}\n",
    "$$\n",
    "\n",
    "where: \n",
    "- $\\hat{y}_i$ = predicted value of the $i$-th sample, $y_i$ is the corresponding true value for $n$ samples\n",
    "- $\\bar{y} = \\frac{1}{n} \\sum_{i=1}^{n}{y_i}$\n",
    "- $\\sum_{i=1}^{n}{(y_i - \\hat{y}_i)^2} = \\sum_{i=1}^{n}{\\epsilon_i^2}$"
   ]
  },
  {
   "attachments": {
    "image.png": {
     "image/png": "[encoded data removed]"
    }
   },
   "cell_type": "markdown",
   "id": "sustainable-airline",
   "metadata": {},
   "source": [
    "### mean_poisson, gamma, and tweedie deviances\n",
    "\n",
    "[documentation](https://scikit-learn.org/stable/modules/model_evaluation.html#mean-tweedie-deviance)\n",
    "[wikipedia](https://en.wikipedia.org/wiki/Tweedie_distribution#The_Tweedie_deviance)\n",
    "\n",
    "- elicits predicted expecation values of targets\n",
    "\n",
    "- power = 0: mean squared error\n",
    "- power = 1: mean poisson deviance\n",
    "- power = 2: mean gamma devaince\n",
    "\n",
    "- $\\hat{y}$ = estimated target output\n",
    "- $y$ = correct output\n",
    "- $n$ = number of samples\n",
    "\n",
    "![image.png](attachment:image.png)\n"
   ]
  },
  {
   "cell_type": "markdown",
   "id": "agreed-velvet",
   "metadata": {},
   "source": [
    "### mean_absolute_percentage_error\n",
    "\n",
    "[documentation](https://scikit-learn.org/stable/modules/model_evaluation.html#mean-squared-log-error)\n",
    "\n",
    "- sensitive to relative errors (not changed by global scaling)\n",
    "- $\\hat{y}$ = estimated target output\n",
    "- $y$ = correct output\n",
    "- $n$ = number of samples\n",
    "\n",
    "$$\n",
    "\\operatorname{MAPE}(y, \\hat{y}) = \\frac{1}{n}\n",
    "\\sum_{i=0}^{n-1}{\\frac{\n",
    "    |y_i - \\hat{y}_i|\n",
    "    }{\n",
    "    \\max(\\epsilon, |y_i|)\n",
    "    }\n",
    "    }\n",
    "$$\n",
    "\n",
    "- $\\epsilon$ is some small positive number to safeguard against $y_i = 0$"
   ]
  }
 ],
 "metadata": {
  "kernelspec": {
   "display_name": "covid_project",
   "language": "python",
   "name": "covid_project"
  },
  "language_info": {
   "codemirror_mode": {
    "name": "ipython",
    "version": 3
   },
   "file_extension": ".py",
   "mimetype": "text/x-python",
   "name": "python",
   "nbconvert_exporter": "python",
   "pygments_lexer": "ipython3",
   "version": "3.8.6"
  }
 },
 "nbformat": 4,
 "nbformat_minor": 5
}
