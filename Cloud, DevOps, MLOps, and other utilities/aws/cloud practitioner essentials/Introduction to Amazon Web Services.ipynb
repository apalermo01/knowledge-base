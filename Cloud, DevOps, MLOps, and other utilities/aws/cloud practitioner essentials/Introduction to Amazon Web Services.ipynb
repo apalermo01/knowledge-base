{
 "cells": [
  {
   "cell_type": "markdown",
   "id": "313bd5f9",
   "metadata": {},
   "source": [
    "# Cloud compute model\n",
    "\n",
    "\n",
    "client-server model: use coffee shop analogy<br>\n",
    "barista: server<br>\n",
    "customer: client<br>\n",
    "\n",
    "request may be anything\n",
    "\n",
    "barista may be an EC2 instance (elastic cloud compute)<br> \n",
    "makes request -> validates that it's legit -> sends response<br> \n",
    "\n",
    "**You only pay for what you use**<br> \n",
    "store owner decides how many baristas are needed, and just pays for those baristas<br> \n",
    "you don't prepay for anything and don't worry about capacity<br> \n",
    "for onsite servers: you constantly pay for fixed resources whether you use them or not<br>\n",
    "\n"
   ]
  },
  {
   "cell_type": "markdown",
   "id": "d41a1c83",
   "metadata": {},
   "source": [
    "**cloud computing** - on-demand delivery of IT resources over the internet with pay-as-you-go pricing\n",
    "\n",
    "**undifferentiated heavy lifting of IT** - common, time-consuming, and repetative tasks\n",
    "\n",
    "## 3 cloud computing deployment models\n",
    "\n",
    "- cloud-based: all the intensive hardware is remote\n",
    "- on-premesis: private cloud deployment. Essentially makes resource use more efficient through virtualization\n",
    "- hybrid - some systems on the cloud, some on-premesis"
   ]
  },
  {
   "cell_type": "markdown",
   "id": "aa1839a0",
   "metadata": {},
   "source": [
    "## Benefits of cloud computing\n",
    "\n",
    "- variable expenses\n",
    "- no cost of running / maintaining data centers\n",
    "- no guessing capacity\n",
    "- economies of scale\n",
    "- better speed / agility\n",
    "- global"
   ]
  }
 ],
 "metadata": {
  "kernelspec": {
   "display_name": "Python 3",
   "language": "python",
   "name": "python3"
  },
  "language_info": {
   "codemirror_mode": {
    "name": "ipython",
    "version": 3
   },
   "file_extension": ".py",
   "mimetype": "text/x-python",
   "name": "python",
   "nbconvert_exporter": "python",
   "pygments_lexer": "ipython3",
   "version": "3.8.10"
  }
 },
 "nbformat": 4,
 "nbformat_minor": 5
}
