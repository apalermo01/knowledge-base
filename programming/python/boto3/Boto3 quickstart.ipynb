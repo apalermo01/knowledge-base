{
 "cells": [
  {
   "cell_type": "markdown",
   "id": "3eb2f0b2",
   "metadata": {},
   "source": [
    "# Boto3 quickstart\n",
    "\n",
    "Before executing anything, ensure that the aws cli is installed and configured<br> \n",
    "https://docs.aws.amazon.com/cli/latest/userguide/cli-configure-quickstart.html"
   ]
  },
  {
   "cell_type": "code",
   "execution_count": 6,
   "id": "5c83611e",
   "metadata": {},
   "outputs": [],
   "source": [
    "import boto3"
   ]
  },
  {
   "cell_type": "markdown",
   "id": "efeaf9ea",
   "metadata": {},
   "source": [
    "Make a boto3 session.\n",
    "\n",
    "On my machine, I currently have 2 sets of credentials: one for my work account and another for a personal account so I can keep the ArmadaIQ infastructure separate from any tutorials / documentation I work through which I might make publically available. \n",
    "\n",
    "`profile_name` specifies which set of credentials to use (no argument for the profile name uses my work account as defaul)"
   ]
  },
  {
   "cell_type": "code",
   "execution_count": 10,
   "id": "5b2a0621",
   "metadata": {},
   "outputs": [],
   "source": [
    "sess = boto3.Session(profile_name=\"personal\")"
   ]
  },
  {
   "cell_type": "markdown",
   "id": "446ff8ea",
   "metadata": {},
   "source": [
    "select which service to use"
   ]
  },
  {
   "cell_type": "code",
   "execution_count": 16,
   "id": "145b8396",
   "metadata": {},
   "outputs": [
    {
     "data": {
      "text/plain": [
       "s3.ServiceResource()"
      ]
     },
     "execution_count": 16,
     "metadata": {},
     "output_type": "execute_result"
    }
   ],
   "source": [
    "s3 = sess.resource('s3')\n",
    "s3"
   ]
  },
  {
   "cell_type": "markdown",
   "id": "36b6d877",
   "metadata": {},
   "source": [
    "print out bucket names"
   ]
  },
  {
   "cell_type": "code",
   "execution_count": 17,
   "id": "8ba40a60",
   "metadata": {},
   "outputs": [
    {
     "name": "stdout",
     "output_type": "stream",
     "text": [
      "abucket-20210719-1519\n"
     ]
    }
   ],
   "source": [
    "for bucket in s3.buckets.all():\n",
    "  print(bucket.name)"
   ]
  }
 ],
 "metadata": {
  "kernelspec": {
   "display_name": "Python 3 (ipykernel)",
   "language": "python",
   "name": "python3"
  },
  "language_info": {
   "codemirror_mode": {
    "name": "ipython",
    "version": 3
   },
   "file_extension": ".py",
   "mimetype": "text/x-python",
   "name": "python",
   "nbconvert_exporter": "python",
   "pygments_lexer": "ipython3",
   "version": "3.10.8"
  }
 },
 "nbformat": 4,
 "nbformat_minor": 5
}
