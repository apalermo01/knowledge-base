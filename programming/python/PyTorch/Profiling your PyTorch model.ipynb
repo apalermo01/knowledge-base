{
 "cells": [
  {
   "cell_type": "markdown",
   "id": "c9200da2",
   "metadata": {},
   "source": [
    "# Profiling pytorch models\n",
    "\n",
    "https://pytorch.org/tutorials/beginner/profiler.html\n",
    "\n",
    "Identifies time and memory costs of pytorch operations. can be printed as a table or returned in JSON"
   ]
  },
  {
   "cell_type": "code",
   "execution_count": 3,
   "id": "ed7106a4",
   "metadata": {},
   "outputs": [],
   "source": [
    "import torch\n",
    "import numpy as np\n",
    "from torch import nn\n",
    "import torch.autograd.profiler as profiler"
   ]
  },
  {
   "cell_type": "markdown",
   "id": "69a7efad",
   "metadata": {},
   "source": [
    "define a simple model"
   ]
  },
  {
   "cell_type": "code",
   "execution_count": 4,
   "id": "eb668d57",
   "metadata": {},
   "outputs": [],
   "source": [
    "class MyModule(nn.Module):\n",
    "  def __init__(self,\n",
    "               in_features: int,\n",
    "               out_features: int,\n",
    "               bias: bool = True):\n",
    "    super(MyModule, self).__init__()\n",
    "    self.linear = nn.Linear(in_features, out_features, bias)\n",
    "    \n",
    "  def forward(self, inputs, mask):\n",
    "    with profiler.record_function(\"LINEAR PASS\"):\n",
    "      out = self.linear(inputs)\n",
    "    \n",
    "    with profiler.record_function(\"MASK INDICES\"):\n",
    "      threshold = out.sum(axis=1).mean().item()\n",
    "      hi_idx = np.argwhere(mask.cpu().numpy() > threshold)\n",
    "      hi_idx = torch.from_numpy(hi_idx).cuda()\n",
    "\n",
    "    return out, hi_idx"
   ]
  },
  {
   "cell_type": "markdown",
   "id": "8f31abf0",
   "metadata": {},
   "source": [
    "## profile forward pass\n",
    "\n",
    "initialize input, mask, and model\n",
    "\n",
    "warm-up cuda (for accuracy), then do forward pass in context manager\n",
    "\n",
    "`with_stack=True` - appends file and line number of operation in trace"
   ]
  },
  {
   "cell_type": "code",
   "execution_count": 5,
   "id": "c73ac38a",
   "metadata": {},
   "outputs": [],
   "source": [
    "model = MyModule(100, 10).cuda()\n",
    "inputs = torch.rand(32, 100).cuda()\n",
    "mask = torch.rand((100, 100, 100), dtype=torch.double).cuda()\n",
    "\n",
    "# warm up \n",
    "model(inputs, mask)\n",
    "\n",
    "with profiler.profile(with_stack=True, profile_memory=True) as prof:\n",
    "  out, idx = model(inputs, mask)"
   ]
  },
  {
   "cell_type": "markdown",
   "id": "5eb07175",
   "metadata": {},
   "source": [
    "## Printing profiler results\n",
    "\n",
    "`profiler.key_averages`- agg results by name, input shapes, and/or stack traces. \n",
    "\n",
    "Use grou_by_stack_n = 5 to aggregate by operation and traceback"
   ]
  },
  {
   "cell_type": "code",
   "execution_count": 6,
   "id": "58efced5",
   "metadata": {},
   "outputs": [
    {
     "name": "stdout",
     "output_type": "stream",
     "text": [
      "-----------------------------  ------------  ------------  ------------  ------------  ------------  ------------  ------------  ------------  ------------  ------------  ---------------------------------------------------------------------------  \n",
      "                         Name    Self CPU %      Self CPU   CPU total %     CPU total  CPU time avg       CPU Mem  Self CPU Mem      CUDA Mem  Self CUDA Mem    # of Calls  Source Location                                                              \n",
      "-----------------------------  ------------  ------------  ------------  ------------  ------------  ------------  ------------  ------------  ------------  ------------  ---------------------------------------------------------------------------  \n",
      "                  aten::zeros        90.70%     224.923ms        90.80%     225.173ms     225.173ms           4 b           0 b           0 b           0 b             1  ..._3/lib/python3.7/site-packages/torch/autograd/profiler.py(611): __init__  \n",
      "                                                                                                                                                                           /tmp/ipykernel_42446/2206843926.py(10): forward                              \n",
      "                                                                                                                                                                           ...lib/python3.7/site-packages/torch/nn/modules/module.py(1051): _call_impl  \n",
      "                                                                                                                                                                           /tmp/ipykernel_42446/4099370643.py(9): <module>                              \n",
      "                                                                                                                                                                           ...python3.7/site-packages/IPython/core/interactiveshell.py(3441): run_code  \n",
      "                                                                                                                                                                                                                                                        \n",
      "                 MASK INDICES         5.25%      13.010ms         8.79%      21.809ms      21.809ms          -4 b      -7.63 Mb      14.22 Mb      -1.00 Kb             1  ...3/lib/python3.7/site-packages/torch/autograd/profiler.py(614): __enter__  \n",
      "                                                                                                                                                                           /tmp/ipykernel_42446/2206843926.py(13): forward                              \n",
      "                                                                                                                                                                           ...lib/python3.7/site-packages/torch/nn/modules/module.py(1051): _call_impl  \n",
      "                                                                                                                                                                           /tmp/ipykernel_42446/4099370643.py(9): <module>                              \n",
      "                                                                                                                                                                           ...python3.7/site-packages/IPython/core/interactiveshell.py(3441): run_code  \n",
      "                                                                                                                                                                                                                                                        \n",
      "                  aten::copy_         2.14%       5.317ms         2.14%       5.317ms       5.317ms           0 b           0 b           0 b           0 b             1  /tmp/ipykernel_42446/2206843926.py(16): forward                              \n",
      "                                                                                                                                                                           ...lib/python3.7/site-packages/torch/nn/modules/module.py(1051): _call_impl  \n",
      "                                                                                                                                                                           /tmp/ipykernel_42446/4099370643.py(9): <module>                              \n",
      "                                                                                                                                                                           ...python3.7/site-packages/IPython/core/interactiveshell.py(3441): run_code  \n",
      "                                                                                                                                                                           ...n3.7/site-packages/IPython/core/interactiveshell.py(3361): run_ast_nodes  \n",
      "                                                                                                                                                                                                                                                        \n",
      "                  aten::copy_         1.05%       2.615ms         1.05%       2.615ms       2.615ms           0 b           0 b           0 b           0 b             1  /tmp/ipykernel_42446/2206843926.py(15): forward                              \n",
      "                                                                                                                                                                           ...lib/python3.7/site-packages/torch/nn/modules/module.py(1051): _call_impl  \n",
      "                                                                                                                                                                           /tmp/ipykernel_42446/4099370643.py(9): <module>                              \n",
      "                                                                                                                                                                           ...python3.7/site-packages/IPython/core/interactiveshell.py(3441): run_code  \n",
      "                                                                                                                                                                           ...n3.7/site-packages/IPython/core/interactiveshell.py(3361): run_ast_nodes  \n",
      "                                                                                                                                                                                                                                                        \n",
      "                  aten::addmm         0.08%     189.347us         0.13%     314.357us     314.357us           0 b           0 b       1.50 Kb       1.50 Kb             1  ...da_IQ_3/lib/python3.7/site-packages/torch/nn/functional.py(1847): linear  \n",
      "                                                                                                                                                                           ...IQ_3/lib/python3.7/site-packages/torch/nn/modules/linear.py(96): forward  \n",
      "                                                                                                                                                                           ...lib/python3.7/site-packages/torch/nn/modules/module.py(1051): _call_impl  \n",
      "                                                                                                                                                                           /tmp/ipykernel_42446/2206843926.py(11): forward                              \n",
      "                                                                                                                                                                           ...lib/python3.7/site-packages/torch/nn/modules/module.py(1051): _call_impl  \n",
      "                                                                                                                                                                                                                                                        \n",
      "-----------------------------  ------------  ------------  ------------  ------------  ------------  ------------  ------------  ------------  ------------  ------------  ---------------------------------------------------------------------------  \n",
      "Self CPU time total: 247.988ms\n",
      "\n"
     ]
    }
   ],
   "source": [
    "print(prof.key_averages(group_by_stack_n=5).table(sort_by='self_cpu_time_total', row_limit=5))"
   ]
  },
  {
   "cell_type": "code",
   "execution_count": null,
   "id": "6c819442",
   "metadata": {},
   "outputs": [],
   "source": []
  }
 ],
 "metadata": {
  "kernelspec": {
   "display_name": "Python 3 (ipykernel)",
   "language": "python",
   "name": "python3"
  },
  "language_info": {
   "codemirror_mode": {
    "name": "ipython",
    "version": 3
   },
   "file_extension": ".py",
   "mimetype": "text/x-python",
   "name": "python",
   "nbconvert_exporter": "python",
   "pygments_lexer": "ipython3",
   "version": "3.7.11"
  }
 },
 "nbformat": 4,
 "nbformat_minor": 5
}
