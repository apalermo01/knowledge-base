{
 "cells": [
  {
   "cell_type": "markdown",
   "id": "joint-chinese",
   "metadata": {},
   "source": [
    "# Tensorflow tutorial: Quickstart for beginners"
   ]
  },
  {
   "cell_type": "code",
   "execution_count": 2,
   "id": "determined-anxiety",
   "metadata": {},
   "outputs": [],
   "source": [
    "import tensorflow as tf"
   ]
  },
  {
   "cell_type": "markdown",
   "id": "monetary-crossing",
   "metadata": {},
   "source": [
    "Load & prepare MNIST"
   ]
  },
  {
   "cell_type": "code",
   "execution_count": 3,
   "id": "controversial-pharmaceutical",
   "metadata": {},
   "outputs": [
    {
     "name": "stdout",
     "output_type": "stream",
     "text": [
      "Downloading data from https://storage.googleapis.com/tensorflow/tf-keras-datasets/mnist.npz\n",
      "11493376/11490434 [==============================] - 14s 1us/step\n"
     ]
    }
   ],
   "source": [
    "mnist = tf.keras.datasets.mnist\n",
    "\n",
    "(X_train, y_train), (X_test, y_test) = mnist.load_data()\n",
    "\n",
    "# normalize data\n",
    "X_train, X_test = X_train / 255.0, X_test / 255.0"
   ]
  },
  {
   "cell_type": "markdown",
   "id": "acute-policy",
   "metadata": {},
   "source": [
    "Build a sequential neural net"
   ]
  },
  {
   "cell_type": "code",
   "execution_count": 5,
   "id": "political-myanmar",
   "metadata": {},
   "outputs": [
    {
     "name": "stdout",
     "output_type": "stream",
     "text": [
      "Model: \"sequential_1\"\n",
      "_________________________________________________________________\n",
      "Layer (type)                 Output Shape              Param #   \n",
      "=================================================================\n",
      "flatten_1 (Flatten)          (None, 784)               0         \n",
      "_________________________________________________________________\n",
      "dense_2 (Dense)              (None, 128)               100480    \n",
      "_________________________________________________________________\n",
      "dropout_1 (Dropout)          (None, 128)               0         \n",
      "_________________________________________________________________\n",
      "dense_3 (Dense)              (None, 10)                1290      \n",
      "=================================================================\n",
      "Total params: 101,770\n",
      "Trainable params: 101,770\n",
      "Non-trainable params: 0\n",
      "_________________________________________________________________\n"
     ]
    }
   ],
   "source": [
    "model = tf.keras.models.Sequential([\n",
    "    tf.keras.layers.Flatten(input_shape=(28, 28)), \n",
    "    tf.keras.layers.Dense(128, activation='relu'), \n",
    "    tf.keras.layers.Dropout(0.2), \n",
    "    tf.keras.layers.Dense(10)\n",
    "])\n",
    "model.summary()"
   ]
  },
  {
   "cell_type": "markdown",
   "id": "above-bubble",
   "metadata": {},
   "source": [
    "For each example, the model returns logits, or log-odds scores for each class\n",
    "\n",
    "**logits**: non-normalized predictions (usually input to softmax which normalizes the probabilities)<br> \n",
    "\n",
    "**log-odds**: logarithm of the odds of an event: $\\text{log-odds} = \\ln(\\frac{p}{1-p})$. This is the inverse of sigmoid."
   ]
  },
  {
   "cell_type": "code",
   "execution_count": 9,
   "id": "promising-controversy",
   "metadata": {},
   "outputs": [
    {
     "data": {
      "text/plain": [
       "array([[-0.12554444, -0.126252  , -0.5178235 ,  0.13532521, -0.50004005,\n",
       "        -0.41123134, -0.35366565, -0.14402214, -0.13909012,  0.43870565]],\n",
       "      dtype=float32)"
      ]
     },
     "execution_count": 9,
     "metadata": {},
     "output_type": "execute_result"
    }
   ],
   "source": [
    "predictions = model(X_train[:1]).numpy()\n",
    "predictions"
   ]
  },
  {
   "cell_type": "markdown",
   "id": "meaningful-approach",
   "metadata": {},
   "source": [
    "Now use `tf.nn.softmax` to convert to probabilities"
   ]
  },
  {
   "cell_type": "code",
   "execution_count": 10,
   "id": "balanced-lucas",
   "metadata": {},
   "outputs": [
    {
     "data": {
      "text/plain": [
       "array([[0.10066038, 0.10058919, 0.06799766, 0.13066305, 0.0692177 ,\n",
       "        0.07564607, 0.08012846, 0.09881749, 0.09930606, 0.17697392]],\n",
       "      dtype=float32)"
      ]
     },
     "execution_count": 10,
     "metadata": {},
     "output_type": "execute_result"
    }
   ],
   "source": [
    "tf.nn.softmax(predictions).numpy()"
   ]
  },
  {
   "cell_type": "markdown",
   "id": "dramatic-arcade",
   "metadata": {},
   "source": [
    "**Note**: you can put tf.nn.softmax as the last layer. Discouraged b/c softmax output makes it impossible to provide an exact / stable loss calculation. \n",
    "\n",
    "`losses.SparseCategoricalCrossentropy` - take a vector of logits & returns a scalar loss"
   ]
  },
  {
   "cell_type": "code",
   "execution_count": 11,
   "id": "novel-meaning",
   "metadata": {},
   "outputs": [],
   "source": [
    "loss_fn = tf.keras.losses.SparseCategoricalCrossentropy(from_logits=True)"
   ]
  },
  {
   "cell_type": "markdown",
   "id": "furnished-blend",
   "metadata": {},
   "source": [
    "This is the negative log probability of the true class: zero if model is 100% sure that this is the correct class. \n",
    "\n",
    "Since the model is untrained, the probabilities will be close to random, so loss should be log(1/10) ~ 2.3"
   ]
  },
  {
   "cell_type": "code",
   "execution_count": 12,
   "id": "asian-medicine",
   "metadata": {},
   "outputs": [
    {
     "data": {
      "text/plain": [
       "<bound method _EagerTensorBase.numpy of <tf.Tensor: shape=(), dtype=float32, numpy=2.5816898>>"
      ]
     },
     "execution_count": 12,
     "metadata": {},
     "output_type": "execute_result"
    }
   ],
   "source": [
    "loss_fn(y_train[:1], predictions).numpy"
   ]
  },
  {
   "cell_type": "markdown",
   "id": "unexpected-thirty",
   "metadata": {},
   "source": [
    "Now compile and train the model"
   ]
  },
  {
   "cell_type": "code",
   "execution_count": 13,
   "id": "objective-collar",
   "metadata": {},
   "outputs": [],
   "source": [
    "model.compile(optimizer='adam', \n",
    "             loss=loss_fn, \n",
    "             metrics=['accuracy'])"
   ]
  },
  {
   "cell_type": "code",
   "execution_count": 14,
   "id": "smart-schema",
   "metadata": {},
   "outputs": [
    {
     "name": "stdout",
     "output_type": "stream",
     "text": [
      "Epoch 1/5\n",
      "1875/1875 [==============================] - 2s 1ms/step - loss: 0.2986 - accuracy: 0.9131\n",
      "Epoch 2/5\n",
      "1875/1875 [==============================] - 2s 933us/step - loss: 0.1446 - accuracy: 0.9564\n",
      "Epoch 3/5\n",
      "1875/1875 [==============================] - 2s 976us/step - loss: 0.1086 - accuracy: 0.9669\n",
      "Epoch 4/5\n",
      "1875/1875 [==============================] - 2s 939us/step - loss: 0.0877 - accuracy: 0.9733\n",
      "Epoch 5/5\n",
      "1875/1875 [==============================] - 2s 955us/step - loss: 0.0748 - accuracy: 0.9765\n"
     ]
    },
    {
     "data": {
      "text/plain": [
       "<tensorflow.python.keras.callbacks.History at 0x1990fb92070>"
      ]
     },
     "execution_count": 14,
     "metadata": {},
     "output_type": "execute_result"
    }
   ],
   "source": [
    "model.fit(X_train, y_train, epochs=5)"
   ]
  },
  {
   "cell_type": "markdown",
   "id": "available-rogers",
   "metadata": {},
   "source": [
    "`Model.evaluate` - check performance on a validation or test set"
   ]
  },
  {
   "cell_type": "code",
   "execution_count": 16,
   "id": "swedish-apparel",
   "metadata": {},
   "outputs": [
    {
     "name": "stdout",
     "output_type": "stream",
     "text": [
      "313/313 - 0s - loss: 0.0752 - accuracy: 0.9771\n"
     ]
    },
    {
     "data": {
      "text/plain": [
       "[0.07517100125551224, 0.9771000146865845]"
      ]
     },
     "execution_count": 16,
     "metadata": {},
     "output_type": "execute_result"
    }
   ],
   "source": [
    "model.evaluate(X_test, y_test, verbose=2)"
   ]
  }
 ],
 "metadata": {
  "kernelspec": {
   "display_name": "Armada_AV",
   "language": "python",
   "name": "armada_av"
  },
  "language_info": {
   "codemirror_mode": {
    "name": "ipython",
    "version": 3
   },
   "file_extension": ".py",
   "mimetype": "text/x-python",
   "name": "python",
   "nbconvert_exporter": "python",
   "pygments_lexer": "ipython3",
   "version": "3.8.8"
  }
 },
 "nbformat": 4,
 "nbformat_minor": 5
}
