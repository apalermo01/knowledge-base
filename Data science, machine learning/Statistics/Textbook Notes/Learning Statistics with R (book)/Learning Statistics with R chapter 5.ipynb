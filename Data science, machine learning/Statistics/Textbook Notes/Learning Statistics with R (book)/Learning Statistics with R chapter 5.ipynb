{
 "cells": [
  {
   "cell_type": "markdown",
   "id": "57f63efb",
   "metadata": {},
   "source": [
    "# Descriptive Statistics"
   ]
  },
  {
   "cell_type": "code",
   "execution_count": 1,
   "id": "91936673",
   "metadata": {},
   "outputs": [
    {
     "data": {
      "text/plain": [
       "   -- Name --      -- Class --   -- Size --\n",
       "   afl.finalists   factor        400       \n",
       "   afl.margins     numeric       176       "
      ]
     },
     "metadata": {},
     "output_type": "display_data"
    }
   ],
   "source": [
    "load(\"aflsmall.Rdata\")\n",
    "library(lsr)\n",
    "who()"
   ]
  },
  {
   "cell_type": "code",
   "execution_count": 2,
   "id": "b0e80c4c",
   "metadata": {},
   "outputs": [
    {
     "name": "stdout",
     "output_type": "stream",
     "text": [
      "  [1]  56  31  56   8  32  14  36  56  19   1   3 104  43  44  72   9  28  25\n",
      " [19]  27  55  20  16  16   7  23  40  48  64  22  55  95  15  49  52  50  10\n",
      " [37]  65  12  39  36   3  26  23  20  43 108  53  38   4   8   3  13  66  67\n",
      " [55]  50  61  36  38  29   9  81   3  26  12  36  37  70   1  35  12  50  35\n",
      " [73]   9  54  47   8  47   2  29  61  38  41  23  24   1   9  11  10  29  47\n",
      " [91]  71  38  49  65  18   0  16   9  19  36  60  24  25  44  55   3  57  83\n",
      "[109]  84  35   4  35  26  22   2  14  19  30  19  68  11  75  48  32  36  39\n",
      "[127]  50  11   0  63  82  26   3  82  73  19  33  48   8  10  53  20  71  75\n",
      "[145]  76  54  44   5  22  94  29   8  98   9  89   1 101   7  21  52  42  21\n",
      "[163] 116   3  44  29  27  16   6  44   3  28  38  29  10  10\n"
     ]
    }
   ],
   "source": [
    "print(afl.margins)"
   ]
  },
  {
   "cell_type": "code",
   "execution_count": 3,
   "id": "37e4cfc5",
   "metadata": {},
   "outputs": [
    {
     "data": {
      "image/png": "[encoded data removed]",
      "text/plain": [
       "Plot with title “Histogram of afl.margins”"
      ]
     },
     "metadata": {},
     "output_type": "display_data"
    }
   ],
   "source": [
    "hist(afl.margins)"
   ]
  },
  {
   "cell_type": "markdown",
   "id": "97f4c02e",
   "metadata": {},
   "source": [
    "## Measures of central tendency"
   ]
  },
  {
   "cell_type": "markdown",
   "id": "eb480410",
   "metadata": {},
   "source": [
    "**mean**"
   ]
  },
  {
   "cell_type": "code",
   "execution_count": 4,
   "id": "b03f7aee",
   "metadata": {},
   "outputs": [
    {
     "data": {
      "text/html": [
       "35.3011363636364"
      ],
      "text/latex": [
       "35.3011363636364"
      ],
      "text/markdown": [
       "35.3011363636364"
      ],
      "text/plain": [
       "[1] 35.30114"
      ]
     },
     "metadata": {},
     "output_type": "display_data"
    }
   ],
   "source": [
    "mean(afl.margins)"
   ]
  },
  {
   "cell_type": "markdown",
   "id": "5eb4329b",
   "metadata": {},
   "source": [
    "sort values"
   ]
  },
  {
   "cell_type": "code",
   "execution_count": 5,
   "id": "eac6a672",
   "metadata": {},
   "outputs": [
    {
     "data": {
      "text/html": [
       "<ol class=list-inline>\n",
       "\t<li>0</li>\n",
       "\t<li>0</li>\n",
       "\t<li>1</li>\n",
       "\t<li>1</li>\n",
       "\t<li>1</li>\n",
       "\t<li>1</li>\n",
       "\t<li>2</li>\n",
       "\t<li>2</li>\n",
       "\t<li>3</li>\n",
       "\t<li>3</li>\n",
       "\t<li>3</li>\n",
       "\t<li>3</li>\n",
       "\t<li>3</li>\n",
       "\t<li>3</li>\n",
       "\t<li>3</li>\n",
       "\t<li>3</li>\n",
       "\t<li>4</li>\n",
       "\t<li>4</li>\n",
       "\t<li>5</li>\n",
       "\t<li>6</li>\n",
       "\t<li>7</li>\n",
       "\t<li>7</li>\n",
       "\t<li>8</li>\n",
       "\t<li>8</li>\n",
       "\t<li>8</li>\n",
       "\t<li>8</li>\n",
       "\t<li>8</li>\n",
       "\t<li>9</li>\n",
       "\t<li>9</li>\n",
       "\t<li>9</li>\n",
       "\t<li>9</li>\n",
       "\t<li>9</li>\n",
       "\t<li>9</li>\n",
       "\t<li>10</li>\n",
       "\t<li>10</li>\n",
       "\t<li>10</li>\n",
       "\t<li>10</li>\n",
       "\t<li>10</li>\n",
       "\t<li>11</li>\n",
       "\t<li>11</li>\n",
       "\t<li>11</li>\n",
       "\t<li>12</li>\n",
       "\t<li>12</li>\n",
       "\t<li>12</li>\n",
       "\t<li>13</li>\n",
       "\t<li>14</li>\n",
       "\t<li>14</li>\n",
       "\t<li>15</li>\n",
       "\t<li>16</li>\n",
       "\t<li>16</li>\n",
       "\t<li>16</li>\n",
       "\t<li>16</li>\n",
       "\t<li>18</li>\n",
       "\t<li>19</li>\n",
       "\t<li>19</li>\n",
       "\t<li>19</li>\n",
       "\t<li>19</li>\n",
       "\t<li>19</li>\n",
       "\t<li>20</li>\n",
       "\t<li>20</li>\n",
       "\t<li>20</li>\n",
       "\t<li>21</li>\n",
       "\t<li>21</li>\n",
       "\t<li>22</li>\n",
       "\t<li>22</li>\n",
       "\t<li>22</li>\n",
       "\t<li>23</li>\n",
       "\t<li>23</li>\n",
       "\t<li>23</li>\n",
       "\t<li>24</li>\n",
       "\t<li>24</li>\n",
       "\t<li>25</li>\n",
       "\t<li>25</li>\n",
       "\t<li>26</li>\n",
       "\t<li>26</li>\n",
       "\t<li>26</li>\n",
       "\t<li>26</li>\n",
       "\t<li>27</li>\n",
       "\t<li>27</li>\n",
       "\t<li>28</li>\n",
       "\t<li>28</li>\n",
       "\t<li>29</li>\n",
       "\t<li>29</li>\n",
       "\t<li>29</li>\n",
       "\t<li>29</li>\n",
       "\t<li>29</li>\n",
       "\t<li>29</li>\n",
       "\t<li>30</li>\n",
       "\t<li>31</li>\n",
       "\t<li>32</li>\n",
       "\t<li>32</li>\n",
       "\t<li>33</li>\n",
       "\t<li>35</li>\n",
       "\t<li>35</li>\n",
       "\t<li>35</li>\n",
       "\t<li>35</li>\n",
       "\t<li>36</li>\n",
       "\t<li>36</li>\n",
       "\t<li>36</li>\n",
       "\t<li>36</li>\n",
       "\t<li>36</li>\n",
       "\t<li>36</li>\n",
       "\t<li>37</li>\n",
       "\t<li>38</li>\n",
       "\t<li>38</li>\n",
       "\t<li>38</li>\n",
       "\t<li>38</li>\n",
       "\t<li>38</li>\n",
       "\t<li>39</li>\n",
       "\t<li>39</li>\n",
       "\t<li>40</li>\n",
       "\t<li>41</li>\n",
       "\t<li>42</li>\n",
       "\t<li>43</li>\n",
       "\t<li>43</li>\n",
       "\t<li>44</li>\n",
       "\t<li>44</li>\n",
       "\t<li>44</li>\n",
       "\t<li>44</li>\n",
       "\t<li>44</li>\n",
       "\t<li>47</li>\n",
       "\t<li>47</li>\n",
       "\t<li>47</li>\n",
       "\t<li>48</li>\n",
       "\t<li>48</li>\n",
       "\t<li>48</li>\n",
       "\t<li>49</li>\n",
       "\t<li>49</li>\n",
       "\t<li>50</li>\n",
       "\t<li>50</li>\n",
       "\t<li>50</li>\n",
       "\t<li>50</li>\n",
       "\t<li>52</li>\n",
       "\t<li>52</li>\n",
       "\t<li>53</li>\n",
       "\t<li>53</li>\n",
       "\t<li>54</li>\n",
       "\t<li>54</li>\n",
       "\t<li>55</li>\n",
       "\t<li>55</li>\n",
       "\t<li>55</li>\n",
       "\t<li>56</li>\n",
       "\t<li>56</li>\n",
       "\t<li>56</li>\n",
       "\t<li>57</li>\n",
       "\t<li>60</li>\n",
       "\t<li>61</li>\n",
       "\t<li>61</li>\n",
       "\t<li>63</li>\n",
       "\t<li>64</li>\n",
       "\t<li>65</li>\n",
       "\t<li>65</li>\n",
       "\t<li>66</li>\n",
       "\t<li>67</li>\n",
       "\t<li>68</li>\n",
       "\t<li>70</li>\n",
       "\t<li>71</li>\n",
       "\t<li>71</li>\n",
       "\t<li>72</li>\n",
       "\t<li>73</li>\n",
       "\t<li>75</li>\n",
       "\t<li>75</li>\n",
       "\t<li>76</li>\n",
       "\t<li>81</li>\n",
       "\t<li>82</li>\n",
       "\t<li>82</li>\n",
       "\t<li>83</li>\n",
       "\t<li>84</li>\n",
       "\t<li>89</li>\n",
       "\t<li>94</li>\n",
       "\t<li>95</li>\n",
       "\t<li>98</li>\n",
       "\t<li>101</li>\n",
       "\t<li>104</li>\n",
       "\t<li>108</li>\n",
       "\t<li>116</li>\n",
       "</ol>\n"
      ],
      "text/latex": [
       "\\begin{enumerate*}\n",
       "\\item 0\n",
       "\\item 0\n",
       "\\item 1\n",
       "\\item 1\n",
       "\\item 1\n",
       "\\item 1\n",
       "\\item 2\n",
       "\\item 2\n",
       "\\item 3\n",
       "\\item 3\n",
       "\\item 3\n",
       "\\item 3\n",
       "\\item 3\n",
       "\\item 3\n",
       "\\item 3\n",
       "\\item 3\n",
       "\\item 4\n",
       "\\item 4\n",
       "\\item 5\n",
       "\\item 6\n",
       "\\item 7\n",
       "\\item 7\n",
       "\\item 8\n",
       "\\item 8\n",
       "\\item 8\n",
       "\\item 8\n",
       "\\item 8\n",
       "\\item 9\n",
       "\\item 9\n",
       "\\item 9\n",
       "\\item 9\n",
       "\\item 9\n",
       "\\item 9\n",
       "\\item 10\n",
       "\\item 10\n",
       "\\item 10\n",
       "\\item 10\n",
       "\\item 10\n",
       "\\item 11\n",
       "\\item 11\n",
       "\\item 11\n",
       "\\item 12\n",
       "\\item 12\n",
       "\\item 12\n",
       "\\item 13\n",
       "\\item 14\n",
       "\\item 14\n",
       "\\item 15\n",
       "\\item 16\n",
       "\\item 16\n",
       "\\item 16\n",
       "\\item 16\n",
       "\\item 18\n",
       "\\item 19\n",
       "\\item 19\n",
       "\\item 19\n",
       "\\item 19\n",
       "\\item 19\n",
       "\\item 20\n",
       "\\item 20\n",
       "\\item 20\n",
       "\\item 21\n",
       "\\item 21\n",
       "\\item 22\n",
       "\\item 22\n",
       "\\item 22\n",
       "\\item 23\n",
       "\\item 23\n",
       "\\item 23\n",
       "\\item 24\n",
       "\\item 24\n",
       "\\item 25\n",
       "\\item 25\n",
       "\\item 26\n",
       "\\item 26\n",
       "\\item 26\n",
       "\\item 26\n",
       "\\item 27\n",
       "\\item 27\n",
       "\\item 28\n",
       "\\item 28\n",
       "\\item 29\n",
       "\\item 29\n",
       "\\item 29\n",
       "\\item 29\n",
       "\\item 29\n",
       "\\item 29\n",
       "\\item 30\n",
       "\\item 31\n",
       "\\item 32\n",
       "\\item 32\n",
       "\\item 33\n",
       "\\item 35\n",
       "\\item 35\n",
       "\\item 35\n",
       "\\item 35\n",
       "\\item 36\n",
       "\\item 36\n",
       "\\item 36\n",
       "\\item 36\n",
       "\\item 36\n",
       "\\item 36\n",
       "\\item 37\n",
       "\\item 38\n",
       "\\item 38\n",
       "\\item 38\n",
       "\\item 38\n",
       "\\item 38\n",
       "\\item 39\n",
       "\\item 39\n",
       "\\item 40\n",
       "\\item 41\n",
       "\\item 42\n",
       "\\item 43\n",
       "\\item 43\n",
       "\\item 44\n",
       "\\item 44\n",
       "\\item 44\n",
       "\\item 44\n",
       "\\item 44\n",
       "\\item 47\n",
       "\\item 47\n",
       "\\item 47\n",
       "\\item 48\n",
       "\\item 48\n",
       "\\item 48\n",
       "\\item 49\n",
       "\\item 49\n",
       "\\item 50\n",
       "\\item 50\n",
       "\\item 50\n",
       "\\item 50\n",
       "\\item 52\n",
       "\\item 52\n",
       "\\item 53\n",
       "\\item 53\n",
       "\\item 54\n",
       "\\item 54\n",
       "\\item 55\n",
       "\\item 55\n",
       "\\item 55\n",
       "\\item 56\n",
       "\\item 56\n",
       "\\item 56\n",
       "\\item 57\n",
       "\\item 60\n",
       "\\item 61\n",
       "\\item 61\n",
       "\\item 63\n",
       "\\item 64\n",
       "\\item 65\n",
       "\\item 65\n",
       "\\item 66\n",
       "\\item 67\n",
       "\\item 68\n",
       "\\item 70\n",
       "\\item 71\n",
       "\\item 71\n",
       "\\item 72\n",
       "\\item 73\n",
       "\\item 75\n",
       "\\item 75\n",
       "\\item 76\n",
       "\\item 81\n",
       "\\item 82\n",
       "\\item 82\n",
       "\\item 83\n",
       "\\item 84\n",
       "\\item 89\n",
       "\\item 94\n",
       "\\item 95\n",
       "\\item 98\n",
       "\\item 101\n",
       "\\item 104\n",
       "\\item 108\n",
       "\\item 116\n",
       "\\end{enumerate*}\n"
      ],
      "text/markdown": [
       "1. 0\n",
       "2. 0\n",
       "3. 1\n",
       "4. 1\n",
       "5. 1\n",
       "6. 1\n",
       "7. 2\n",
       "8. 2\n",
       "9. 3\n",
       "10. 3\n",
       "11. 3\n",
       "12. 3\n",
       "13. 3\n",
       "14. 3\n",
       "15. 3\n",
       "16. 3\n",
       "17. 4\n",
       "18. 4\n",
       "19. 5\n",
       "20. 6\n",
       "21. 7\n",
       "22. 7\n",
       "23. 8\n",
       "24. 8\n",
       "25. 8\n",
       "26. 8\n",
       "27. 8\n",
       "28. 9\n",
       "29. 9\n",
       "30. 9\n",
       "31. 9\n",
       "32. 9\n",
       "33. 9\n",
       "34. 10\n",
       "35. 10\n",
       "36. 10\n",
       "37. 10\n",
       "38. 10\n",
       "39. 11\n",
       "40. 11\n",
       "41. 11\n",
       "42. 12\n",
       "43. 12\n",
       "44. 12\n",
       "45. 13\n",
       "46. 14\n",
       "47. 14\n",
       "48. 15\n",
       "49. 16\n",
       "50. 16\n",
       "51. 16\n",
       "52. 16\n",
       "53. 18\n",
       "54. 19\n",
       "55. 19\n",
       "56. 19\n",
       "57. 19\n",
       "58. 19\n",
       "59. 20\n",
       "60. 20\n",
       "61. 20\n",
       "62. 21\n",
       "63. 21\n",
       "64. 22\n",
       "65. 22\n",
       "66. 22\n",
       "67. 23\n",
       "68. 23\n",
       "69. 23\n",
       "70. 24\n",
       "71. 24\n",
       "72. 25\n",
       "73. 25\n",
       "74. 26\n",
       "75. 26\n",
       "76. 26\n",
       "77. 26\n",
       "78. 27\n",
       "79. 27\n",
       "80. 28\n",
       "81. 28\n",
       "82. 29\n",
       "83. 29\n",
       "84. 29\n",
       "85. 29\n",
       "86. 29\n",
       "87. 29\n",
       "88. 30\n",
       "89. 31\n",
       "90. 32\n",
       "91. 32\n",
       "92. 33\n",
       "93. 35\n",
       "94. 35\n",
       "95. 35\n",
       "96. 35\n",
       "97. 36\n",
       "98. 36\n",
       "99. 36\n",
       "100. 36\n",
       "101. 36\n",
       "102. 36\n",
       "103. 37\n",
       "104. 38\n",
       "105. 38\n",
       "106. 38\n",
       "107. 38\n",
       "108. 38\n",
       "109. 39\n",
       "110. 39\n",
       "111. 40\n",
       "112. 41\n",
       "113. 42\n",
       "114. 43\n",
       "115. 43\n",
       "116. 44\n",
       "117. 44\n",
       "118. 44\n",
       "119. 44\n",
       "120. 44\n",
       "121. 47\n",
       "122. 47\n",
       "123. 47\n",
       "124. 48\n",
       "125. 48\n",
       "126. 48\n",
       "127. 49\n",
       "128. 49\n",
       "129. 50\n",
       "130. 50\n",
       "131. 50\n",
       "132. 50\n",
       "133. 52\n",
       "134. 52\n",
       "135. 53\n",
       "136. 53\n",
       "137. 54\n",
       "138. 54\n",
       "139. 55\n",
       "140. 55\n",
       "141. 55\n",
       "142. 56\n",
       "143. 56\n",
       "144. 56\n",
       "145. 57\n",
       "146. 60\n",
       "147. 61\n",
       "148. 61\n",
       "149. 63\n",
       "150. 64\n",
       "151. 65\n",
       "152. 65\n",
       "153. 66\n",
       "154. 67\n",
       "155. 68\n",
       "156. 70\n",
       "157. 71\n",
       "158. 71\n",
       "159. 72\n",
       "160. 73\n",
       "161. 75\n",
       "162. 75\n",
       "163. 76\n",
       "164. 81\n",
       "165. 82\n",
       "166. 82\n",
       "167. 83\n",
       "168. 84\n",
       "169. 89\n",
       "170. 94\n",
       "171. 95\n",
       "172. 98\n",
       "173. 101\n",
       "174. 104\n",
       "175. 108\n",
       "176. 116\n",
       "\n",
       "\n"
      ],
      "text/plain": [
       "  [1]   0   0   1   1   1   1   2   2   3   3   3   3   3   3   3   3   4   4\n",
       " [19]   5   6   7   7   8   8   8   8   8   9   9   9   9   9   9  10  10  10\n",
       " [37]  10  10  11  11  11  12  12  12  13  14  14  15  16  16  16  16  18  19\n",
       " [55]  19  19  19  19  20  20  20  21  21  22  22  22  23  23  23  24  24  25\n",
       " [73]  25  26  26  26  26  27  27  28  28  29  29  29  29  29  29  30  31  32\n",
       " [91]  32  33  35  35  35  35  36  36  36  36  36  36  37  38  38  38  38  38\n",
       "[109]  39  39  40  41  42  43  43  44  44  44  44  44  47  47  47  48  48  48\n",
       "[127]  49  49  50  50  50  50  52  52  53  53  54  54  55  55  55  56  56  56\n",
       "[145]  57  60  61  61  63  64  65  65  66  67  68  70  71  71  72  73  75  75\n",
       "[163]  76  81  82  82  83  84  89  94  95  98 101 104 108 116"
      ]
     },
     "metadata": {},
     "output_type": "display_data"
    }
   ],
   "source": [
    "sort(afl.margins)"
   ]
  },
  {
   "cell_type": "markdown",
   "id": "65e4b173",
   "metadata": {},
   "source": [
    "**median**"
   ]
  },
  {
   "cell_type": "code",
   "execution_count": 6,
   "id": "47588680",
   "metadata": {},
   "outputs": [
    {
     "data": {
      "text/html": [
       "30.5"
      ],
      "text/latex": [
       "30.5"
      ],
      "text/markdown": [
       "30.5"
      ],
      "text/plain": [
       "[1] 30.5"
      ]
     },
     "metadata": {},
     "output_type": "display_data"
    }
   ],
   "source": [
    "median(afl.margins)"
   ]
  },
  {
   "cell_type": "markdown",
   "id": "bd126d43",
   "metadata": {},
   "source": [
    "**mean or median?**\n",
    "\n",
    "mean = center of mass of data<br>\n",
    "median = middle observation<br>\n",
    "\n",
    "if nominal scale- don't use median or mean<br>\n",
    "if ordinal scale- you most likely want median<br>\n",
    "if interval / ratio scale- either one, depends on exactly what you're trying to do. \n",
    "\n",
    "Systematic differences between mean and median:<br>\n",
    "mean is much more sensitive to outliers<br>\n",
    "mean -> big picture<br> \n",
    "median -> what's typical<br>\n",
    "\n",
    "**example**<br>\n",
    "www.abc.net.au/news/stories/2010/09/24/3021480.htm\n",
    "\n",
    "article criticized a bank for calculating house price to income ratio by \"comparing average incomes with median housing prices\", which lowered the ratio"
   ]
  },
  {
   "cell_type": "markdown",
   "id": "21949d4c",
   "metadata": {},
   "source": [
    "**trimmed mean**\n",
    "\n",
    "discard the n% largest and smallest observations<br>\n",
    "0% trimmed mean = normal mean<br>\n",
    "50% trimmed mean = median"
   ]
  },
  {
   "cell_type": "code",
   "execution_count": 7,
   "id": "1501f57f",
   "metadata": {},
   "outputs": [],
   "source": [
    "dataset <- c(-15, 2, 3, 4, 5, 6, 7, 8, 9, 12)"
   ]
  },
  {
   "cell_type": "code",
   "execution_count": 8,
   "id": "5c533ca2",
   "metadata": {},
   "outputs": [
    {
     "data": {
      "text/html": [
       "4.1"
      ],
      "text/latex": [
       "4.1"
      ],
      "text/markdown": [
       "4.1"
      ],
      "text/plain": [
       "[1] 4.1"
      ]
     },
     "metadata": {},
     "output_type": "display_data"
    }
   ],
   "source": [
    "mean(dataset)"
   ]
  },
  {
   "cell_type": "code",
   "execution_count": 9,
   "id": "946888b9",
   "metadata": {},
   "outputs": [
    {
     "data": {
      "text/html": [
       "5.5"
      ],
      "text/latex": [
       "5.5"
      ],
      "text/markdown": [
       "5.5"
      ],
      "text/plain": [
       "[1] 5.5"
      ]
     },
     "metadata": {},
     "output_type": "display_data"
    }
   ],
   "source": [
    "median(dataset)"
   ]
  },
  {
   "cell_type": "code",
   "execution_count": 10,
   "id": "74b92d71",
   "metadata": {},
   "outputs": [
    {
     "data": {
      "text/html": [
       "5.5"
      ],
      "text/latex": [
       "5.5"
      ],
      "text/markdown": [
       "5.5"
      ],
      "text/plain": [
       "[1] 5.5"
      ]
     },
     "metadata": {},
     "output_type": "display_data"
    }
   ],
   "source": [
    "mean(dataset, trim=0.1)"
   ]
  },
  {
   "cell_type": "code",
   "execution_count": 11,
   "id": "01bd6c32",
   "metadata": {},
   "outputs": [
    {
     "data": {
      "text/html": [
       "35.3011363636364"
      ],
      "text/latex": [
       "35.3011363636364"
      ],
      "text/markdown": [
       "35.3011363636364"
      ],
      "text/plain": [
       "[1] 35.30114"
      ]
     },
     "metadata": {},
     "output_type": "display_data"
    }
   ],
   "source": [
    "mean(afl.margins)"
   ]
  },
  {
   "cell_type": "code",
   "execution_count": 13,
   "id": "40373977",
   "metadata": {},
   "outputs": [
    {
     "data": {
      "text/html": [
       "33.75"
      ],
      "text/latex": [
       "33.75"
      ],
      "text/markdown": [
       "33.75"
      ],
      "text/plain": [
       "[1] 33.75"
      ]
     },
     "metadata": {},
     "output_type": "display_data"
    }
   ],
   "source": [
    "mean(afl.margins, trim=0.05)"
   ]
  },
  {
   "cell_type": "markdown",
   "id": "16534573",
   "metadata": {},
   "source": [
    "**mode**"
   ]
  },
  {
   "cell_type": "code",
   "execution_count": 14,
   "id": "2430b799",
   "metadata": {
    "scrolled": true
   },
   "outputs": [
    {
     "name": "stdout",
     "output_type": "stream",
     "text": [
      "  [1] Hawthorn         Melbourne        Carlton          Melbourne       \n",
      "  [5] Hawthorn         Carlton          Melbourne        Carlton         \n",
      "  [9] Hawthorn         Melbourne        Melbourne        Hawthorn        \n",
      " [13] Melbourne        Essendon         Hawthorn         Geelong         \n",
      " [17] Geelong          Hawthorn         Collingwood      Melbourne       \n",
      " [21] Collingwood      West Coast       Collingwood      Essendon        \n",
      " [25] Collingwood      Melbourne        Hawthorn         Geelong         \n",
      " [29] Hawthorn         West Coast       West Coast       Hawthorn        \n",
      " [33] St Kilda         West Coast       Geelong          Western Bulldogs\n",
      " [37] West Coast       Geelong          West Coast       West Coast      \n",
      " [41] Carlton          Adelaide         Carlton          Essendon        \n",
      " [45] Essendon         Essendon         North Melbourne  Geelong         \n",
      " [49] West Coast       Melbourne        Geelong          Melbourne       \n",
      " [53] West Coast       Geelong          West Coast       North Melbourne \n",
      " [57] Essendon         Geelong          Carlton          Richmond        \n",
      " [61] North Melbourne  Carlton          Geelong          Carlton         \n",
      " [65] Brisbane         West Coast       Sydney           North Melbourne \n",
      " [69] Essendon         Brisbane         Sydney           North Melbourne \n",
      " [73] North Melbourne  Western Bulldogs St Kilda         North Melbourne \n",
      " [77] Adelaide         North Melbourne  Adelaide         St Kilda        \n",
      " [81] Adelaide         Adelaide         North Melbourne  Sydney          \n",
      " [85] Melbourne        Western Bulldogs Melbourne        Adelaide        \n",
      " [89] North Melbourne  Adelaide         Adelaide         West Coast      \n",
      " [93] North Melbourne  Brisbane         Essendon         Brisbane        \n",
      " [97] Carlton          North Melbourne  Carlton          North Melbourne \n",
      "[101] Geelong          Essendon         Brisbane         Carlton         \n",
      "[105] North Melbourne  Carlton          Melbourne        Essendon        \n",
      "[109] Essendon         Essendon         Carlton          Brisbane        \n",
      "[113] Hawthorn         Richmond         Port Adelaide    Essendon        \n",
      "[117] Brisbane         Essendon         Port Adelaide    Brisbane        \n",
      "[121] Essendon         Melbourne        Port Adelaide    Adelaide        \n",
      "[125] Collingwood      Brisbane         Brisbane         Fremantle       \n",
      "[129] Collingwood      Adelaide         Port Adelaide    Brisbane        \n",
      "[133] Port Adelaide    Collingwood      Sydney           Collingwood     \n",
      "[137] Brisbane         Melbourne        Sydney           Port Adelaide   \n",
      "[141] St Kilda         Geelong          Port Adelaide    Brisbane        \n",
      "[145] Port Adelaide    West Coast       Geelong          Adelaide        \n",
      "[149] North Melbourne  Sydney           Adelaide         St Kilda        \n",
      "[153] West Coast       Sydney           St Kilda         Adelaide        \n",
      "[157] West Coast       Collingwood      Fremantle        West Coast      \n",
      "[161] Sydney           Adelaide         Sydney           Port Adelaide   \n",
      "[165] Hawthorn         Collingwood      Geelong          West Coast      \n",
      "[169] North Melbourne  Geelong          Port Adelaide    Geelong         \n",
      "[173] Hawthorn         Adelaide         Sydney           Geelong         \n",
      "[177] Western Bulldogs St Kilda         Geelong          Hawthorn        \n",
      "[181] Geelong          Adelaide         Geelong          Brisbane        \n",
      "[185] St Kilda         Western Bulldogs Collingwood      St Kilda        \n",
      "[189] Geelong          St Kilda         Geelong          Fremantle       \n",
      "[193] Collingwood      Sydney           Geelong          Western Bulldogs\n",
      "[197] Collingwood      St Kilda         Collingwood      Collingwood     \n",
      "[201] Sydney           North Melbourne  Hawthorn         Sydney          \n",
      "[205] Melbourne        Hawthorn         West Coast       Collingwood     \n",
      "[209] Carlton          Collingwood      Carlton          Melbourne       \n",
      "[213] Collingwood      Geelong          Essendon         Melbourne       \n",
      "[217] Essendon         Geelong          West Coast       Hawthorn        \n",
      "[221] West Coast       Melbourne        Essendon         West Coast      \n",
      "[225] Essendon         Essendon         West Coast       St Kilda        \n",
      "[229] Geelong          Melbourne        Geelong          West Coast      \n",
      "[233] Collingwood      Hawthorn         Western Bulldogs St Kilda        \n",
      "[237] Geelong          Western Bulldogs Geelong          North Melbourne \n",
      "[241] Essendon         Hawthorn         Adelaide         West Coast      \n",
      "[245] Adelaide         Carlton          Hawthorn         Western Bulldogs\n",
      "[249] Collingwood      Carlton          Carlton          Western Bulldogs\n",
      "[253] Melbourne        North Melbourne  Geelong          Richmond        \n",
      "[257] West Coast       Western Bulldogs Brisbane         Essendon        \n",
      "[261] West Coast       North Melbourne  Richmond         Geelong         \n",
      "[265] Essendon         Carlton          Hawthorn         Geelong         \n",
      "[269] West Coast       Carlton          Essendon         Brisbane        \n",
      "[273] Sydney           Sydney           Brisbane         Geelong         \n",
      "[277] West Coast       West Coast       Geelong          North Melbourne \n",
      "[281] Western Bulldogs St Kilda         Essendon         St Kilda        \n",
      "[285] Adelaide         West Coast       St Kilda         Sydney          \n",
      "[289] Melbourne        Western Bulldogs North Melbourne  Western Bulldogs\n",
      "[293] Port Adelaide    Carlton          Sydney           Western Bulldogs\n",
      "[297] West Coast       Brisbane         Essendon         Carlton         \n",
      "[301] Hawthorn         North Melbourne  Western Bulldogs Melbourne       \n",
      "[305] Hawthorn         Brisbane         North Melbourne  Carlton         \n",
      "[309] Melbourne        Richmond         Adelaide         Port Adelaide   \n",
      "[313] Sydney           Carlton          Hawthorn         Hawthorn        \n",
      "[317] Richmond         Brisbane         Collingwood      Adelaide        \n",
      "[321] West Coast       North Melbourne  Essendon         Melbourne       \n",
      "[325] Adelaide         Port Adelaide    Collingwood      Essendon        \n",
      "[329] Brisbane         West Coast       Sydney           Adelaide        \n",
      "[333] Essendon         Port Adelaide    Brisbane         Brisbane        \n",
      "[337] St Kilda         Essendon         West Coast       Geelong         \n",
      "[341] Sydney           Essendon         St Kilda         Geelong         \n",
      "[345] Brisbane         Sydney           Melbourne        St Kilda        \n",
      "[349] Port Adelaide    Geelong          Port Adelaide    Sydney          \n",
      "[353] Adelaide         West Coast       Melbourne        Fremantle       \n",
      "[357] Sydney           Western Bulldogs Melbourne        Western Bulldogs\n",
      "[361] Fremantle        West Coast       West Coast       West Coast      \n",
      "[365] Adelaide         Sydney           North Melbourne  Collingwood     \n",
      "[369] Hawthorn         Collingwood      North Melbourne  Port Adelaide   \n",
      "[373] Western Bulldogs Collingwood      North Melbourne  St Kilda        \n",
      "[377] Sydney           Collingwood      Western Bulldogs St Kilda        \n",
      "[381] Hawthorn         Essendon         Western Bulldogs Carlton         \n",
      "[385] Collingwood      Brisbane         Adelaide         Western Bulldogs\n",
      "[389] Collingwood      Geelong          St Kilda         Hawthorn        \n",
      "[393] Western Bulldogs Carlton          Fremantle        Sydney          \n",
      "[397] Geelong          Western Bulldogs St Kilda         St Kilda        \n",
      "17 Levels: Adelaide Brisbane Carlton Collingwood Essendon Fitzroy ... Western Bulldogs\n"
     ]
    }
   ],
   "source": [
    "print(afl.finalists)"
   ]
  },
  {
   "cell_type": "markdown",
   "id": "a6d97715",
   "metadata": {},
   "source": [
    "make a frequency table"
   ]
  },
  {
   "cell_type": "code",
   "execution_count": 15,
   "id": "ac1b5d7e",
   "metadata": {},
   "outputs": [
    {
     "data": {
      "text/plain": [
       "afl.finalists\n",
       "        Adelaide         Brisbane          Carlton      Collingwood \n",
       "              26               25               26               28 \n",
       "        Essendon          Fitzroy        Fremantle          Geelong \n",
       "              32                0                6               39 \n",
       "        Hawthorn        Melbourne  North Melbourne    Port Adelaide \n",
       "              27               28               28               17 \n",
       "        Richmond         St Kilda           Sydney       West Coast \n",
       "               6               24               26               38 \n",
       "Western Bulldogs \n",
       "              24 "
      ]
     },
     "metadata": {},
     "output_type": "display_data"
    }
   ],
   "source": [
    "table(afl.finalists)"
   ]
  },
  {
   "cell_type": "markdown",
   "id": "d6114f82",
   "metadata": {},
   "source": [
    "no native function in R for calculating mode, but there is one in the lsr package"
   ]
  },
  {
   "cell_type": "code",
   "execution_count": 17,
   "id": "ca7f1b26",
   "metadata": {},
   "outputs": [
    {
     "data": {
      "text/html": [
       "'Geelong'"
      ],
      "text/latex": [
       "'Geelong'"
      ],
      "text/markdown": [
       "'Geelong'"
      ],
      "text/plain": [
       "[1] \"Geelong\""
      ]
     },
     "metadata": {},
     "output_type": "display_data"
    }
   ],
   "source": [
    "modeOf(afl.finalists)"
   ]
  },
  {
   "cell_type": "markdown",
   "id": "dd77fd4a",
   "metadata": {},
   "source": [
    "also maximum frequency"
   ]
  },
  {
   "cell_type": "code",
   "execution_count": 18,
   "id": "cd6c5069",
   "metadata": {},
   "outputs": [
    {
     "data": {
      "text/html": [
       "39"
      ],
      "text/latex": [
       "39"
      ],
      "text/markdown": [
       "39"
      ],
      "text/plain": [
       "[1] 39"
      ]
     },
     "metadata": {},
     "output_type": "display_data"
    }
   ],
   "source": [
    "maxFreq(afl.finalists)"
   ]
  },
  {
   "cell_type": "markdown",
   "id": "5871c81b",
   "metadata": {},
   "source": [
    "## Measures of variability"
   ]
  },
  {
   "cell_type": "markdown",
   "id": "63c801cf",
   "metadata": {},
   "source": [
    "**range**<br>\n",
    "max - min"
   ]
  },
  {
   "cell_type": "code",
   "execution_count": 19,
   "id": "9d3ea796",
   "metadata": {},
   "outputs": [
    {
     "data": {
      "text/html": [
       "<ol class=list-inline>\n",
       "\t<li>0</li>\n",
       "\t<li>116</li>\n",
       "</ol>\n"
      ],
      "text/latex": [
       "\\begin{enumerate*}\n",
       "\\item 0\n",
       "\\item 116\n",
       "\\end{enumerate*}\n"
      ],
      "text/markdown": [
       "1. 0\n",
       "2. 116\n",
       "\n",
       "\n"
      ],
      "text/plain": [
       "[1]   0 116"
      ]
     },
     "metadata": {},
     "output_type": "display_data"
    }
   ],
   "source": [
    "range(afl.margins)"
   ]
  },
  {
   "cell_type": "markdown",
   "id": "ae39b859",
   "metadata": {},
   "source": [
    "**interquartile range**"
   ]
  },
  {
   "cell_type": "code",
   "execution_count": 20,
   "id": "09aece1e",
   "metadata": {},
   "outputs": [
    {
     "data": {
      "text/html": [
       "<strong>50%:</strong> 30.5"
      ],
      "text/latex": [
       "\\textbf{50\\textbackslash{}\\%:} 30.5"
      ],
      "text/markdown": [
       "**50%:** 30.5"
      ],
      "text/plain": [
       " 50% \n",
       "30.5 "
      ]
     },
     "metadata": {},
     "output_type": "display_data"
    }
   ],
   "source": [
    "quantile(afl.margins, probs=0.5)"
   ]
  },
  {
   "cell_type": "code",
   "execution_count": 21,
   "id": "37745384",
   "metadata": {},
   "outputs": [
    {
     "data": {
      "text/html": [
       "<dl class=dl-horizontal>\n",
       "\t<dt>25%</dt>\n",
       "\t\t<dd>12.75</dd>\n",
       "\t<dt>75%</dt>\n",
       "\t\t<dd>50.5</dd>\n",
       "</dl>\n"
      ],
      "text/latex": [
       "\\begin{description*}\n",
       "\\item[25\\textbackslash{}\\%] 12.75\n",
       "\\item[75\\textbackslash{}\\%] 50.5\n",
       "\\end{description*}\n"
      ],
      "text/markdown": [
       "25%\n",
       ":   12.7575%\n",
       ":   50.5\n",
       "\n"
      ],
      "text/plain": [
       "  25%   75% \n",
       "12.75 50.50 "
      ]
     },
     "metadata": {},
     "output_type": "display_data"
    }
   ],
   "source": [
    "quantile(afl.margins, probs=c(0.25, 0.75))"
   ]
  },
  {
   "cell_type": "code",
   "execution_count": 22,
   "id": "baa59fb4",
   "metadata": {},
   "outputs": [
    {
     "data": {
      "text/html": [
       "37.75"
      ],
      "text/latex": [
       "37.75"
      ],
      "text/markdown": [
       "37.75"
      ],
      "text/plain": [
       "[1] 37.75"
      ]
     },
     "metadata": {},
     "output_type": "display_data"
    }
   ],
   "source": [
    "IQR(afl.margins)"
   ]
  },
  {
   "cell_type": "markdown",
   "id": "6653627b",
   "metadata": {},
   "source": [
    "**mean absolute deviation**\n",
    "\n",
    "select mean or median, then report the mean or median of the deviations from that measure<br>\n",
    "(mean or median) absolute deviation from the (mean or median) (4 options)\n",
    "\n",
    "average absolute deviation:\n",
    "$$\n",
    "\\text{AAD}(X) = \\frac{1}{N} \\sum_{i=1}^{N} |X_i - \\bar{X}|\n",
    "$$\n",
    "\n",
    "where $\\bar{X}$ can be the mean or median"
   ]
  },
  {
   "cell_type": "markdown",
   "id": "736dacdf",
   "metadata": {},
   "source": [
    "use aad function in the lsr package"
   ]
  },
  {
   "cell_type": "code",
   "execution_count": 23,
   "id": "55358522",
   "metadata": {},
   "outputs": [
    {
     "data": {
      "text/html": [
       "21.1012396694215"
      ],
      "text/latex": [
       "21.1012396694215"
      ],
      "text/markdown": [
       "21.1012396694215"
      ],
      "text/plain": [
       "[1] 21.10124"
      ]
     },
     "metadata": {},
     "output_type": "display_data"
    }
   ],
   "source": [
    "aad(afl.margins)"
   ]
  },
  {
   "cell_type": "markdown",
   "id": "2c901f00",
   "metadata": {},
   "source": [
    "**Variance**\n",
    "\n",
    "use squared deviation instead of absolute deviation"
   ]
  },
  {
   "cell_type": "code",
   "execution_count": 24,
   "id": "5a353ac6",
   "metadata": {},
   "outputs": [
    {
     "data": {
      "text/html": [
       "679.834512987013"
      ],
      "text/latex": [
       "679.834512987013"
      ],
      "text/markdown": [
       "679.834512987013"
      ],
      "text/plain": [
       "[1] 679.8345"
      ]
     },
     "metadata": {},
     "output_type": "display_data"
    }
   ],
   "source": [
    "var(afl.margins)"
   ]
  },
  {
   "cell_type": "code",
   "execution_count": 25,
   "id": "10ae51de",
   "metadata": {},
   "outputs": [
    {
     "data": {
      "text/html": [
       "675.971816890496"
      ],
      "text/latex": [
       "675.971816890496"
      ],
      "text/markdown": [
       "675.971816890496"
      ],
      "text/plain": [
       "[1] 675.9718"
      ]
     },
     "metadata": {},
     "output_type": "display_data"
    }
   ],
   "source": [
    "mean( (afl.margins - mean(afl.margins))^2)"
   ]
  },
  {
   "cell_type": "markdown",
   "id": "28940cb3",
   "metadata": {},
   "source": [
    "why are these different?\n",
    "\n",
    "var(afl.margins):\n",
    "$$\n",
    "\\frac{1}{N-1} \\sum_{i=1}^{N} (X_i - \\bar{X})^2\n",
    "$$\n",
    "\n",
    "mean( (afl.margins - mean(afl.margins))^2):\n",
    "$$\n",
    "\\frac{1}{N} \\sum_{i=1}^{N} (X_i - \\bar{X})^2\n",
    "$$\n",
    "\n",
    "Technical details will be reserved for chapter 10. Related to sample statistics vs. population parameters"
   ]
  },
  {
   "cell_type": "markdown",
   "id": "6620bace",
   "metadata": {},
   "source": [
    "**standard deviation**\n",
    "\n",
    "represent variance in units of the original measurement (i.e. not squared)\n",
    "\n",
    "Root mean squared deviation = RMSD\n",
    "$$\n",
    "s = \\sqrt{\\frac{1}{N} \\sum_{i=1}^{N} (X_i - \\bar{X})^2}\n",
    "$$\n",
    "\n",
    "$$\n",
    "\\hat{\\sigma} = \\sqrt{\\frac{1}{N-1} \\sum_{i=1}^{N} (X_i - \\bar{X})^2}\n",
    "$$"
   ]
  },
  {
   "cell_type": "code",
   "execution_count": 26,
   "id": "8eb54481",
   "metadata": {},
   "outputs": [
    {
     "data": {
      "text/html": [
       "26.0736363591083"
      ],
      "text/latex": [
       "26.0736363591083"
      ],
      "text/markdown": [
       "26.0736363591083"
      ],
      "text/plain": [
       "[1] 26.07364"
      ]
     },
     "metadata": {},
     "output_type": "display_data"
    }
   ],
   "source": [
    "sd(afl.margins)"
   ]
  },
  {
   "cell_type": "markdown",
   "id": "953873b2",
   "metadata": {},
   "source": [
    "## Median absolute deviation"
   ]
  },
  {
   "cell_type": "code",
   "execution_count": 28,
   "id": "ef6f3cf2",
   "metadata": {},
   "outputs": [
    {
     "name": "stdout",
     "output_type": "stream",
     "text": [
      "[1] 21.10124\n",
      "[1] 19.5\n"
     ]
    }
   ],
   "source": [
    "# mean absolute deviation from the mean\n",
    "print(mean(abs(afl.margins - mean(afl.margins))))\n",
    "\n",
    "# median absolute deviation from the median\n",
    "print(median(abs(afl.margins - median(afl.margins))))"
   ]
  },
  {
   "cell_type": "markdown",
   "id": "0db58714",
   "metadata": {},
   "source": [
    "use builtin function mad()"
   ]
  },
  {
   "cell_type": "code",
   "execution_count": 29,
   "id": "9887593e",
   "metadata": {},
   "outputs": [
    {
     "data": {
      "text/html": [
       "19.5"
      ],
      "text/latex": [
       "19.5"
      ],
      "text/markdown": [
       "19.5"
      ],
      "text/plain": [
       "[1] 19.5"
      ]
     },
     "metadata": {},
     "output_type": "display_data"
    }
   ],
   "source": [
    "mad(afl.margins, constant=1)"
   ]
  },
  {
   "cell_type": "markdown",
   "id": "4ae67fc4",
   "metadata": {},
   "source": [
    "the MAD is sometimes used as a robust standard deviation (i.e. less prone to outliers), which is where the constant comes in. By default, constant = 1.4826, which makes the MAD directly comparable to the standard deviation"
   ]
  },
  {
   "cell_type": "code",
   "execution_count": 30,
   "id": "713f0a3c",
   "metadata": {},
   "outputs": [
    {
     "data": {
      "text/html": [
       "28.9107"
      ],
      "text/latex": [
       "28.9107"
      ],
      "text/markdown": [
       "28.9107"
      ],
      "text/plain": [
       "[1] 28.9107"
      ]
     },
     "metadata": {},
     "output_type": "display_data"
    }
   ],
   "source": [
    "mad(afl.margins)"
   ]
  },
  {
   "cell_type": "markdown",
   "id": "0699294e",
   "metadata": {},
   "source": [
    "### Summary\n",
    "\n",
    "- rnage - full spread\n",
    "- interquartile range - where the middle half sits\n",
    "- mean absolute deviation - how far observations are \"on average\" from the mean. Rarely used.\n",
    "- variance - usually correct way to measure variation around mean\n",
    "- standard deviation - square root of variance- default measure of variation\n",
    "- median absolute deviation - median deviation from median. Corrected form = robust way to get std\n",
    "\n",
    "IQR and standard deviation are most common"
   ]
  },
  {
   "cell_type": "markdown",
   "id": "4ea78b9a",
   "metadata": {},
   "source": [
    "## Skew and kurtosis\n",
    "\n",
    "**skewness** = measure of asymmetry\n",
    "\n",
    "$$\n",
    "\\text{skewness}(X) = \\frac{1}{N \\hat{\\sigma}^3} \\sum_{i=1}^{N} (X_i - \\bar{X})^3\n",
    "$$"
   ]
  },
  {
   "cell_type": "markdown",
   "id": "8371d509",
   "metadata": {},
   "source": [
    "use psych library for skey"
   ]
  },
  {
   "cell_type": "code",
   "execution_count": 32,
   "id": "7a79b707",
   "metadata": {},
   "outputs": [
    {
     "data": {
      "text/html": [
       "0.767155515761526"
      ],
      "text/latex": [
       "0.767155515761526"
      ],
      "text/markdown": [
       "0.767155515761526"
      ],
      "text/plain": [
       "[1] 0.7671555"
      ]
     },
     "metadata": {},
     "output_type": "display_data"
    }
   ],
   "source": [
    "library(psych)\n",
    "skew(afl.margins)"
   ]
  },
  {
   "attachments": {
    "image-2.png": {
     "image/png": "[encoded data removed]"
    },
    "image.png": {
     "image/png": "[encoded data removed]"
    }
   },
   "cell_type": "markdown",
   "id": "a2eb7a18",
   "metadata": {},
   "source": [
    "**kurtosis** = pointiness of a dataset\n",
    "![image.png](attachment:image.png)\n",
    "\n",
    "$$\n",
    "\\text{kurtosis}(X) = \\frac{1}{N \\hat{\\sigma}^4} \\sum_{i=1}^{N} (X_i - \\bar{X})^4 - 3\n",
    "$$\n",
    "\n",
    "![image-2.png](attachment:image-2.png)"
   ]
  },
  {
   "cell_type": "markdown",
   "id": "5ed687ae",
   "metadata": {},
   "source": [
    "use psych package for kurtosis"
   ]
  },
  {
   "cell_type": "code",
   "execution_count": 33,
   "id": "f4927106",
   "metadata": {},
   "outputs": [
    {
     "data": {
      "text/html": [
       "0.0296263303725643"
      ],
      "text/latex": [
       "0.0296263303725643"
      ],
      "text/markdown": [
       "0.0296263303725643"
      ],
      "text/plain": [
       "[1] 0.02962633"
      ]
     },
     "metadata": {},
     "output_type": "display_data"
    }
   ],
   "source": [
    "kurtosi(afl.margins)"
   ]
  },
  {
   "cell_type": "markdown",
   "id": "ec764bbe",
   "metadata": {},
   "source": [
    "## Summary of a variable\n",
    "\n",
    "summary() = generic builtin function"
   ]
  },
  {
   "cell_type": "code",
   "execution_count": 35,
   "id": "19254fe1",
   "metadata": {},
   "outputs": [
    {
     "data": {
      "text/plain": [
       "   Min. 1st Qu.  Median    Mean 3rd Qu.    Max. \n",
       "   0.00   12.75   30.50   35.30   50.50  116.00 "
      ]
     },
     "metadata": {},
     "output_type": "display_data"
    }
   ],
   "source": [
    "summary(afl.margins)"
   ]
  },
  {
   "cell_type": "code",
   "execution_count": 36,
   "id": "bebddfc7",
   "metadata": {},
   "outputs": [
    {
     "data": {
      "text/plain": [
       "   Mode   FALSE    TRUE \n",
       "logical     132      44 "
      ]
     },
     "metadata": {},
     "output_type": "display_data"
    }
   ],
   "source": [
    "blowouts <- afl.margins > 50\n",
    "summary(blowouts)"
   ]
  },
  {
   "cell_type": "code",
   "execution_count": 37,
   "id": "95a1755c",
   "metadata": {},
   "outputs": [
    {
     "data": {
      "text/html": [
       "<dl class=dl-horizontal>\n",
       "\t<dt>Adelaide</dt>\n",
       "\t\t<dd>26</dd>\n",
       "\t<dt>Brisbane</dt>\n",
       "\t\t<dd>25</dd>\n",
       "\t<dt>Carlton</dt>\n",
       "\t\t<dd>26</dd>\n",
       "\t<dt>Collingwood</dt>\n",
       "\t\t<dd>28</dd>\n",
       "\t<dt>Essendon</dt>\n",
       "\t\t<dd>32</dd>\n",
       "\t<dt>Fitzroy</dt>\n",
       "\t\t<dd>0</dd>\n",
       "\t<dt>Fremantle</dt>\n",
       "\t\t<dd>6</dd>\n",
       "\t<dt>Geelong</dt>\n",
       "\t\t<dd>39</dd>\n",
       "\t<dt>Hawthorn</dt>\n",
       "\t\t<dd>27</dd>\n",
       "\t<dt>Melbourne</dt>\n",
       "\t\t<dd>28</dd>\n",
       "\t<dt>North Melbourne</dt>\n",
       "\t\t<dd>28</dd>\n",
       "\t<dt>Port Adelaide</dt>\n",
       "\t\t<dd>17</dd>\n",
       "\t<dt>Richmond</dt>\n",
       "\t\t<dd>6</dd>\n",
       "\t<dt>St Kilda</dt>\n",
       "\t\t<dd>24</dd>\n",
       "\t<dt>Sydney</dt>\n",
       "\t\t<dd>26</dd>\n",
       "\t<dt>West Coast</dt>\n",
       "\t\t<dd>38</dd>\n",
       "\t<dt>Western Bulldogs</dt>\n",
       "\t\t<dd>24</dd>\n",
       "</dl>\n"
      ],
      "text/latex": [
       "\\begin{description*}\n",
       "\\item[Adelaide] 26\n",
       "\\item[Brisbane] 25\n",
       "\\item[Carlton] 26\n",
       "\\item[Collingwood] 28\n",
       "\\item[Essendon] 32\n",
       "\\item[Fitzroy] 0\n",
       "\\item[Fremantle] 6\n",
       "\\item[Geelong] 39\n",
       "\\item[Hawthorn] 27\n",
       "\\item[Melbourne] 28\n",
       "\\item[North Melbourne] 28\n",
       "\\item[Port Adelaide] 17\n",
       "\\item[Richmond] 6\n",
       "\\item[St Kilda] 24\n",
       "\\item[Sydney] 26\n",
       "\\item[West Coast] 38\n",
       "\\item[Western Bulldogs] 24\n",
       "\\end{description*}\n"
      ],
      "text/markdown": [
       "Adelaide\n",
       ":   26Brisbane\n",
       ":   25Carlton\n",
       ":   26Collingwood\n",
       ":   28Essendon\n",
       ":   32Fitzroy\n",
       ":   0Fremantle\n",
       ":   6Geelong\n",
       ":   39Hawthorn\n",
       ":   27Melbourne\n",
       ":   28North Melbourne\n",
       ":   28Port Adelaide\n",
       ":   17Richmond\n",
       ":   6St Kilda\n",
       ":   24Sydney\n",
       ":   26West Coast\n",
       ":   38Western Bulldogs\n",
       ":   24\n",
       "\n"
      ],
      "text/plain": [
       "        Adelaide         Brisbane          Carlton      Collingwood \n",
       "              26               25               26               28 \n",
       "        Essendon          Fitzroy        Fremantle          Geelong \n",
       "              32                0                6               39 \n",
       "        Hawthorn        Melbourne  North Melbourne    Port Adelaide \n",
       "              27               28               28               17 \n",
       "        Richmond         St Kilda           Sydney       West Coast \n",
       "               6               24               26               38 \n",
       "Western Bulldogs \n",
       "              24 "
      ]
     },
     "metadata": {},
     "output_type": "display_data"
    }
   ],
   "source": [
    "summary(afl.finalists)"
   ]
  },
  {
   "cell_type": "code",
   "execution_count": 38,
   "id": "cab2a973",
   "metadata": {},
   "outputs": [
    {
     "data": {
      "text/plain": [
       "   Length     Class      Mode \n",
       "      400 character character "
      ]
     },
     "metadata": {},
     "output_type": "display_data"
    }
   ],
   "source": [
    "f2 <- as.character(afl.finalists)\n",
    "summary(f2)"
   ]
  },
  {
   "cell_type": "markdown",
   "id": "39a19714",
   "metadata": {},
   "source": [
    "### Summarizing a data frame"
   ]
  },
  {
   "cell_type": "code",
   "execution_count": 39,
   "id": "9e81993f",
   "metadata": {},
   "outputs": [
    {
     "data": {
      "text/plain": [
       "   -- Name --      -- Class --   -- Size --\n",
       "   afl.finalists   factor        400       \n",
       "   afl.margins     numeric       176       \n",
       "   blowouts        logical       176       \n",
       "   clin.trial      data.frame    18 x 3    \n",
       "    $drug          factor        18        \n",
       "    $therapy       factor        18        \n",
       "    $mood.gain     numeric       18        \n",
       "   dataset         numeric       10        \n",
       "   f2              character     400       "
      ]
     },
     "metadata": {},
     "output_type": "display_data"
    }
   ],
   "source": [
    "load(\"clinicaltrial.Rdata\")\n",
    "who(TRUE)"
   ]
  },
  {
   "cell_type": "code",
   "execution_count": 40,
   "id": "8d306b82",
   "metadata": {},
   "outputs": [
    {
     "data": {
      "text/plain": [
       "       drug         therapy    mood.gain     \n",
       " placebo :6   no.therapy:9   Min.   :0.1000  \n",
       " anxifree:6   CBT       :9   1st Qu.:0.4250  \n",
       " joyzepam:6                  Median :0.8500  \n",
       "                             Mean   :0.8833  \n",
       "                             3rd Qu.:1.3000  \n",
       "                             Max.   :1.8000  "
      ]
     },
     "metadata": {},
     "output_type": "display_data"
    }
   ],
   "source": [
    "summary(clin.trial)"
   ]
  },
  {
   "cell_type": "markdown",
   "id": "9f9d4f5f",
   "metadata": {},
   "source": [
    "### Describing a data frame\n",
    "\n",
    "describe() in psych package, for interval or ratio scale"
   ]
  },
  {
   "cell_type": "code",
   "execution_count": 41,
   "id": "8ca7b800",
   "metadata": {},
   "outputs": [
    {
     "data": {
      "text/html": [
       "<table>\n",
       "<thead><tr><th></th><th scope=col>vars</th><th scope=col>n</th><th scope=col>mean</th><th scope=col>sd</th><th scope=col>median</th><th scope=col>trimmed</th><th scope=col>mad</th><th scope=col>min</th><th scope=col>max</th><th scope=col>range</th><th scope=col>skew</th><th scope=col>kurtosis</th><th scope=col>se</th></tr></thead>\n",
       "<tbody>\n",
       "\t<tr><th scope=row>drug*</th><td>1        </td><td>18       </td><td>2.0000000</td><td>0.8401681</td><td>2.00     </td><td>2.000    </td><td>1.48260  </td><td>1.0      </td><td>3.0      </td><td>2.0      </td><td>0.0000000</td><td>-1.662037</td><td>0.1980295</td></tr>\n",
       "\t<tr><th scope=row>therapy*</th><td>2        </td><td>18       </td><td>1.5000000</td><td>0.5144958</td><td>1.50     </td><td>1.500    </td><td>0.74130  </td><td>1.0      </td><td>2.0      </td><td>1.0      </td><td>0.0000000</td><td>-2.108025</td><td>0.1212678</td></tr>\n",
       "\t<tr><th scope=row>mood.gain</th><td>3        </td><td>18       </td><td>0.8833333</td><td>0.5338539</td><td>0.85     </td><td>0.875    </td><td>0.66717  </td><td>0.1      </td><td>1.8      </td><td>1.7      </td><td>0.1333981</td><td>-1.439739</td><td>0.1258306</td></tr>\n",
       "</tbody>\n",
       "</table>\n"
      ],
      "text/latex": [
       "\\begin{tabular}{r|lllllllllllll}\n",
       "  & vars & n & mean & sd & median & trimmed & mad & min & max & range & skew & kurtosis & se\\\\\n",
       "\\hline\n",
       "\tdrug* & 1         & 18        & 2.0000000 & 0.8401681 & 2.00      & 2.000     & 1.48260   & 1.0       & 3.0       & 2.0       & 0.0000000 & -1.662037 & 0.1980295\\\\\n",
       "\ttherapy* & 2         & 18        & 1.5000000 & 0.5144958 & 1.50      & 1.500     & 0.74130   & 1.0       & 2.0       & 1.0       & 0.0000000 & -2.108025 & 0.1212678\\\\\n",
       "\tmood.gain & 3         & 18        & 0.8833333 & 0.5338539 & 0.85      & 0.875     & 0.66717   & 0.1       & 1.8       & 1.7       & 0.1333981 & -1.439739 & 0.1258306\\\\\n",
       "\\end{tabular}\n"
      ],
      "text/markdown": [
       "\n",
       "| <!--/--> | vars | n | mean | sd | median | trimmed | mad | min | max | range | skew | kurtosis | se |\n",
       "|---|---|---|---|---|---|---|---|---|---|---|---|---|---|\n",
       "| drug* | 1         | 18        | 2.0000000 | 0.8401681 | 2.00      | 2.000     | 1.48260   | 1.0       | 3.0       | 2.0       | 0.0000000 | -1.662037 | 0.1980295 |\n",
       "| therapy* | 2         | 18        | 1.5000000 | 0.5144958 | 1.50      | 1.500     | 0.74130   | 1.0       | 2.0       | 1.0       | 0.0000000 | -2.108025 | 0.1212678 |\n",
       "| mood.gain | 3         | 18        | 0.8833333 | 0.5338539 | 0.85      | 0.875     | 0.66717   | 0.1       | 1.8       | 1.7       | 0.1333981 | -1.439739 | 0.1258306 |\n",
       "\n"
      ],
      "text/plain": [
       "          vars n  mean      sd        median trimmed mad     min max range\n",
       "drug*     1    18 2.0000000 0.8401681 2.00   2.000   1.48260 1.0 3.0 2.0  \n",
       "therapy*  2    18 1.5000000 0.5144958 1.50   1.500   0.74130 1.0 2.0 1.0  \n",
       "mood.gain 3    18 0.8833333 0.5338539 0.85   0.875   0.66717 0.1 1.8 1.7  \n",
       "          skew      kurtosis  se       \n",
       "drug*     0.0000000 -1.662037 0.1980295\n",
       "therapy*  0.0000000 -2.108025 0.1212678\n",
       "mood.gain 0.1333981 -1.439739 0.1258306"
      ]
     },
     "metadata": {},
     "output_type": "display_data"
    }
   ],
   "source": [
    "describe(clin.trial)"
   ]
  },
  {
   "cell_type": "markdown",
   "id": "4ed0444f",
   "metadata": {},
   "source": [
    "## Descriptive statistics for each group\n",
    "\n",
    "by(), describeBy(), and aggregate()"
   ]
  },
  {
   "cell_type": "code",
   "execution_count": 42,
   "id": "705a9eb7",
   "metadata": {},
   "outputs": [
    {
     "data": {
      "text/plain": [
       "\n",
       " Descriptive statistics by group \n",
       "group: no.therapy\n",
       "          vars n mean   sd median trimmed  mad min max range skew kurtosis   se\n",
       "drug*        1 9 2.00 0.87    2.0    2.00 1.48 1.0 3.0   2.0 0.00    -1.81 0.29\n",
       "therapy*     2 9 1.00 0.00    1.0    1.00 0.00 1.0 1.0   0.0  NaN      NaN 0.00\n",
       "mood.gain    3 9 0.72 0.59    0.5    0.72 0.44 0.1 1.7   1.6 0.51    -1.59 0.20\n",
       "------------------------------------------------------------ \n",
       "group: CBT\n",
       "          vars n mean   sd median trimmed  mad min max range  skew kurtosis\n",
       "drug*        1 9 2.00 0.87    2.0    2.00 1.48 1.0 3.0   2.0  0.00    -1.81\n",
       "therapy*     2 9 2.00 0.00    2.0    2.00 0.00 2.0 2.0   0.0   NaN      NaN\n",
       "mood.gain    3 9 1.04 0.45    1.1    1.04 0.44 0.3 1.8   1.5 -0.03    -1.12\n",
       "            se\n",
       "drug*     0.29\n",
       "therapy*  0.00\n",
       "mood.gain 0.15"
      ]
     },
     "metadata": {},
     "output_type": "display_data"
    }
   ],
   "source": [
    "describeBy(clin.trial, group=clin.trial$therapy)"
   ]
  },
  {
   "cell_type": "markdown",
   "id": "7f775a62",
   "metadata": {},
   "source": [
    "by() just applied some function to each group"
   ]
  },
  {
   "cell_type": "code",
   "execution_count": 43,
   "id": "ea0d3283",
   "metadata": {},
   "outputs": [
    {
     "data": {
      "text/plain": [
       "clin.trial$therapy: no.therapy\n",
       "          vars n mean   sd median trimmed  mad min max range skew kurtosis   se\n",
       "drug*        1 9 2.00 0.87    2.0    2.00 1.48 1.0 3.0   2.0 0.00    -1.81 0.29\n",
       "therapy*     2 9 1.00 0.00    1.0    1.00 0.00 1.0 1.0   0.0  NaN      NaN 0.00\n",
       "mood.gain    3 9 0.72 0.59    0.5    0.72 0.44 0.1 1.7   1.6 0.51    -1.59 0.20\n",
       "------------------------------------------------------------ \n",
       "clin.trial$therapy: CBT\n",
       "          vars n mean   sd median trimmed  mad min max range  skew kurtosis\n",
       "drug*        1 9 2.00 0.87    2.0    2.00 1.48 1.0 3.0   2.0  0.00    -1.81\n",
       "therapy*     2 9 2.00 0.00    2.0    2.00 0.00 2.0 2.0   0.0   NaN      NaN\n",
       "mood.gain    3 9 1.04 0.45    1.1    1.04 0.44 0.3 1.8   1.5 -0.03    -1.12\n",
       "            se\n",
       "drug*     0.29\n",
       "therapy*  0.00\n",
       "mood.gain 0.15"
      ]
     },
     "metadata": {},
     "output_type": "display_data"
    }
   ],
   "source": [
    "by(data=clin.trial, INDICES=clin.trial$therapy, FUN=describe)"
   ]
  },
  {
   "cell_type": "code",
   "execution_count": 44,
   "id": "2a1139dd",
   "metadata": {},
   "outputs": [
    {
     "data": {
      "text/plain": [
       "clin.trial$therapy: no.therapy\n",
       "       drug         therapy    mood.gain     \n",
       " placebo :3   no.therapy:9   Min.   :0.1000  \n",
       " anxifree:3   CBT       :0   1st Qu.:0.3000  \n",
       " joyzepam:3                  Median :0.5000  \n",
       "                             Mean   :0.7222  \n",
       "                             3rd Qu.:1.3000  \n",
       "                             Max.   :1.7000  \n",
       "------------------------------------------------------------ \n",
       "clin.trial$therapy: CBT\n",
       "       drug         therapy    mood.gain    \n",
       " placebo :3   no.therapy:0   Min.   :0.300  \n",
       " anxifree:3   CBT       :9   1st Qu.:0.800  \n",
       " joyzepam:3                  Median :1.100  \n",
       "                             Mean   :1.044  \n",
       "                             3rd Qu.:1.300  \n",
       "                             Max.   :1.800  "
      ]
     },
     "metadata": {},
     "output_type": "display_data"
    }
   ],
   "source": [
    "by(data=clin.trial, INDICES=clin.trial$therapy, FUN=summary)"
   ]
  },
  {
   "cell_type": "markdown",
   "id": "6cef3f56",
   "metadata": {},
   "source": [
    "**aggregate**\n",
    "\n",
    "formula = which variable to analyze and which variables used to specify the groups<br>\n",
    "ex: look at mood.gain for each combination of drug and therapy, use `mood.gain ~ drug + therapy`\n",
    "\n",
    "data = data frame\n",
    "\n",
    "FUN = function"
   ]
  },
  {
   "cell_type": "code",
   "execution_count": 45,
   "id": "7c10484d",
   "metadata": {},
   "outputs": [
    {
     "data": {
      "text/html": [
       "<table>\n",
       "<thead><tr><th scope=col>drug</th><th scope=col>therapy</th><th scope=col>mood.gain</th></tr></thead>\n",
       "<tbody>\n",
       "\t<tr><td>placebo   </td><td>no.therapy</td><td>0.300000  </td></tr>\n",
       "\t<tr><td>anxifree  </td><td>no.therapy</td><td>0.400000  </td></tr>\n",
       "\t<tr><td>joyzepam  </td><td>no.therapy</td><td>1.466667  </td></tr>\n",
       "\t<tr><td>placebo   </td><td>CBT       </td><td>0.600000  </td></tr>\n",
       "\t<tr><td>anxifree  </td><td>CBT       </td><td>1.033333  </td></tr>\n",
       "\t<tr><td>joyzepam  </td><td>CBT       </td><td>1.500000  </td></tr>\n",
       "</tbody>\n",
       "</table>\n"
      ],
      "text/latex": [
       "\\begin{tabular}{r|lll}\n",
       " drug & therapy & mood.gain\\\\\n",
       "\\hline\n",
       "\t placebo    & no.therapy & 0.300000  \\\\\n",
       "\t anxifree   & no.therapy & 0.400000  \\\\\n",
       "\t joyzepam   & no.therapy & 1.466667  \\\\\n",
       "\t placebo    & CBT        & 0.600000  \\\\\n",
       "\t anxifree   & CBT        & 1.033333  \\\\\n",
       "\t joyzepam   & CBT        & 1.500000  \\\\\n",
       "\\end{tabular}\n"
      ],
      "text/markdown": [
       "\n",
       "| drug | therapy | mood.gain |\n",
       "|---|---|---|\n",
       "| placebo    | no.therapy | 0.300000   |\n",
       "| anxifree   | no.therapy | 0.400000   |\n",
       "| joyzepam   | no.therapy | 1.466667   |\n",
       "| placebo    | CBT        | 0.600000   |\n",
       "| anxifree   | CBT        | 1.033333   |\n",
       "| joyzepam   | CBT        | 1.500000   |\n",
       "\n"
      ],
      "text/plain": [
       "  drug     therapy    mood.gain\n",
       "1 placebo  no.therapy 0.300000 \n",
       "2 anxifree no.therapy 0.400000 \n",
       "3 joyzepam no.therapy 1.466667 \n",
       "4 placebo  CBT        0.600000 \n",
       "5 anxifree CBT        1.033333 \n",
       "6 joyzepam CBT        1.500000 "
      ]
     },
     "metadata": {},
     "output_type": "display_data"
    }
   ],
   "source": [
    "aggregate(formula = mood.gain~drug+therapy,\n",
    "          data = clin.trial,\n",
    "          FUN=mean)"
   ]
  },
  {
   "cell_type": "code",
   "execution_count": 46,
   "id": "72173d80",
   "metadata": {},
   "outputs": [
    {
     "data": {
      "text/html": [
       "<table>\n",
       "<thead><tr><th scope=col>drug</th><th scope=col>therapy</th><th scope=col>mood.gain</th></tr></thead>\n",
       "<tbody>\n",
       "\t<tr><td>placebo   </td><td>no.therapy</td><td>0.2000000 </td></tr>\n",
       "\t<tr><td>anxifree  </td><td>no.therapy</td><td>0.2000000 </td></tr>\n",
       "\t<tr><td>joyzepam  </td><td>no.therapy</td><td>0.2081666 </td></tr>\n",
       "\t<tr><td>placebo   </td><td>CBT       </td><td>0.3000000 </td></tr>\n",
       "\t<tr><td>anxifree  </td><td>CBT       </td><td>0.2081666 </td></tr>\n",
       "\t<tr><td>joyzepam  </td><td>CBT       </td><td>0.2645751 </td></tr>\n",
       "</tbody>\n",
       "</table>\n"
      ],
      "text/latex": [
       "\\begin{tabular}{r|lll}\n",
       " drug & therapy & mood.gain\\\\\n",
       "\\hline\n",
       "\t placebo    & no.therapy & 0.2000000 \\\\\n",
       "\t anxifree   & no.therapy & 0.2000000 \\\\\n",
       "\t joyzepam   & no.therapy & 0.2081666 \\\\\n",
       "\t placebo    & CBT        & 0.3000000 \\\\\n",
       "\t anxifree   & CBT        & 0.2081666 \\\\\n",
       "\t joyzepam   & CBT        & 0.2645751 \\\\\n",
       "\\end{tabular}\n"
      ],
      "text/markdown": [
       "\n",
       "| drug | therapy | mood.gain |\n",
       "|---|---|---|\n",
       "| placebo    | no.therapy | 0.2000000  |\n",
       "| anxifree   | no.therapy | 0.2000000  |\n",
       "| joyzepam   | no.therapy | 0.2081666  |\n",
       "| placebo    | CBT        | 0.3000000  |\n",
       "| anxifree   | CBT        | 0.2081666  |\n",
       "| joyzepam   | CBT        | 0.2645751  |\n",
       "\n"
      ],
      "text/plain": [
       "  drug     therapy    mood.gain\n",
       "1 placebo  no.therapy 0.2000000\n",
       "2 anxifree no.therapy 0.2000000\n",
       "3 joyzepam no.therapy 0.2081666\n",
       "4 placebo  CBT        0.3000000\n",
       "5 anxifree CBT        0.2081666\n",
       "6 joyzepam CBT        0.2645751"
      ]
     },
     "metadata": {},
     "output_type": "display_data"
    }
   ],
   "source": [
    "aggregate(formula = mood.gain~drug+therapy,\n",
    "          data = clin.trial,\n",
    "          FUN=sd)"
   ]
  },
  {
   "cell_type": "markdown",
   "id": "cc83317b",
   "metadata": {},
   "source": [
    "## Standard Scores"
   ]
  },
  {
   "cell_type": "markdown",
   "id": "10800428",
   "metadata": {},
   "source": [
    "this is another name for z-score\n",
    "\n",
    "$$\n",
    "z_i = \\frac{X_i - \\bar{X}}{\\hat{\\sigma}}\n",
    "$$"
   ]
  },
  {
   "cell_type": "markdown",
   "id": "607563ba",
   "metadata": {},
   "source": [
    "pnorm - converts standard score to percentile"
   ]
  },
  {
   "cell_type": "code",
   "execution_count": 47,
   "id": "f290b07f",
   "metadata": {},
   "outputs": [
    {
     "data": {
      "text/html": [
       "0.999840891409842"
      ],
      "text/latex": [
       "0.999840891409842"
      ],
      "text/markdown": [
       "0.999840891409842"
      ],
      "text/plain": [
       "[1] 0.9998409"
      ]
     },
     "metadata": {},
     "output_type": "display_data"
    }
   ],
   "source": [
    "pnorm(3.6)"
   ]
  },
  {
   "cell_type": "markdown",
   "id": "388e8551",
   "metadata": {},
   "source": [
    "## Correlations"
   ]
  },
  {
   "cell_type": "code",
   "execution_count": 48,
   "id": "2011ec68",
   "metadata": {},
   "outputs": [
    {
     "data": {
      "text/plain": [
       "   -- Name --      -- Class --   -- Size --\n",
       "   afl.finalists   factor        400       \n",
       "   afl.margins     numeric       176       \n",
       "   blowouts        logical       176       \n",
       "   clin.trial      data.frame    18 x 3    \n",
       "    $drug          factor        18        \n",
       "    $therapy       factor        18        \n",
       "    $mood.gain     numeric       18        \n",
       "   dataset         numeric       10        \n",
       "   f2              character     400       \n",
       "   parenthood      data.frame    100 x 4   \n",
       "    $dan.sleep     numeric       100       \n",
       "    $baby.sleep    numeric       100       \n",
       "    $dan.grump     numeric       100       \n",
       "    $day           integer       100       "
      ]
     },
     "metadata": {},
     "output_type": "display_data"
    }
   ],
   "source": [
    "load(\"parenthood.Rdata\")\n",
    "who(TRUE)"
   ]
  },
  {
   "cell_type": "code",
   "execution_count": 49,
   "id": "c47244e1",
   "metadata": {},
   "outputs": [
    {
     "data": {
      "text/html": [
       "<table>\n",
       "<thead><tr><th></th><th scope=col>vars</th><th scope=col>n</th><th scope=col>mean</th><th scope=col>sd</th><th scope=col>median</th><th scope=col>trimmed</th><th scope=col>mad</th><th scope=col>min</th><th scope=col>max</th><th scope=col>range</th><th scope=col>skew</th><th scope=col>kurtosis</th><th scope=col>se</th></tr></thead>\n",
       "<tbody>\n",
       "\t<tr><th scope=row>dan.sleep</th><td>1          </td><td>100        </td><td> 6.9652    </td><td> 1.015884  </td><td> 7.03      </td><td> 7.003125  </td><td> 1.089711  </td><td> 4.84      </td><td>  9.00     </td><td> 4.16      </td><td>-0.28683284</td><td>-0.7225107 </td><td>0.1015884  </td></tr>\n",
       "\t<tr><th scope=row>baby.sleep</th><td>2          </td><td>100        </td><td> 8.0492    </td><td> 2.074232  </td><td> 7.95      </td><td> 8.047750  </td><td> 2.327682  </td><td> 3.25      </td><td> 12.07     </td><td> 8.82      </td><td>-0.02310118</td><td>-0.6893588 </td><td>0.2074232  </td></tr>\n",
       "\t<tr><th scope=row>dan.grump</th><td>3          </td><td>100        </td><td>63.7100    </td><td>10.049670  </td><td>62.00      </td><td>63.162500  </td><td> 9.636900  </td><td>41.00      </td><td> 91.00     </td><td>50.00      </td><td> 0.43410145</td><td>-0.1576624 </td><td>1.0049670  </td></tr>\n",
       "\t<tr><th scope=row>day</th><td>4          </td><td>100        </td><td>50.5000    </td><td>29.011492  </td><td>50.50      </td><td>50.500000  </td><td>37.065000  </td><td> 1.00      </td><td>100.00     </td><td>99.00      </td><td> 0.00000000</td><td>-1.2360552 </td><td>2.9011492  </td></tr>\n",
       "</tbody>\n",
       "</table>\n"
      ],
      "text/latex": [
       "\\begin{tabular}{r|lllllllllllll}\n",
       "  & vars & n & mean & sd & median & trimmed & mad & min & max & range & skew & kurtosis & se\\\\\n",
       "\\hline\n",
       "\tdan.sleep & 1           & 100         &  6.9652     &  1.015884   &  7.03       &  7.003125   &  1.089711   &  4.84       &   9.00      &  4.16       & -0.28683284 & -0.7225107  & 0.1015884  \\\\\n",
       "\tbaby.sleep & 2           & 100         &  8.0492     &  2.074232   &  7.95       &  8.047750   &  2.327682   &  3.25       &  12.07      &  8.82       & -0.02310118 & -0.6893588  & 0.2074232  \\\\\n",
       "\tdan.grump & 3           & 100         & 63.7100     & 10.049670   & 62.00       & 63.162500   &  9.636900   & 41.00       &  91.00      & 50.00       &  0.43410145 & -0.1576624  & 1.0049670  \\\\\n",
       "\tday & 4           & 100         & 50.5000     & 29.011492   & 50.50       & 50.500000   & 37.065000   &  1.00       & 100.00      & 99.00       &  0.00000000 & -1.2360552  & 2.9011492  \\\\\n",
       "\\end{tabular}\n"
      ],
      "text/markdown": [
       "\n",
       "| <!--/--> | vars | n | mean | sd | median | trimmed | mad | min | max | range | skew | kurtosis | se |\n",
       "|---|---|---|---|---|---|---|---|---|---|---|---|---|---|\n",
       "| dan.sleep | 1           | 100         |  6.9652     |  1.015884   |  7.03       |  7.003125   |  1.089711   |  4.84       |   9.00      |  4.16       | -0.28683284 | -0.7225107  | 0.1015884   |\n",
       "| baby.sleep | 2           | 100         |  8.0492     |  2.074232   |  7.95       |  8.047750   |  2.327682   |  3.25       |  12.07      |  8.82       | -0.02310118 | -0.6893588  | 0.2074232   |\n",
       "| dan.grump | 3           | 100         | 63.7100     | 10.049670   | 62.00       | 63.162500   |  9.636900   | 41.00       |  91.00      | 50.00       |  0.43410145 | -0.1576624  | 1.0049670   |\n",
       "| day | 4           | 100         | 50.5000     | 29.011492   | 50.50       | 50.500000   | 37.065000   |  1.00       | 100.00      | 99.00       |  0.00000000 | -1.2360552  | 2.9011492   |\n",
       "\n"
      ],
      "text/plain": [
       "           vars n   mean    sd        median trimmed   mad       min   max   \n",
       "dan.sleep  1    100  6.9652  1.015884  7.03   7.003125  1.089711  4.84   9.00\n",
       "baby.sleep 2    100  8.0492  2.074232  7.95   8.047750  2.327682  3.25  12.07\n",
       "dan.grump  3    100 63.7100 10.049670 62.00  63.162500  9.636900 41.00  91.00\n",
       "day        4    100 50.5000 29.011492 50.50  50.500000 37.065000  1.00 100.00\n",
       "           range skew        kurtosis   se       \n",
       "dan.sleep   4.16 -0.28683284 -0.7225107 0.1015884\n",
       "baby.sleep  8.82 -0.02310118 -0.6893588 0.2074232\n",
       "dan.grump  50.00  0.43410145 -0.1576624 1.0049670\n",
       "day        99.00  0.00000000 -1.2360552 2.9011492"
      ]
     },
     "metadata": {},
     "output_type": "display_data"
    }
   ],
   "source": [
    "describe(parenthood)"
   ]
  },
  {
   "cell_type": "markdown",
   "id": "0a445a33",
   "metadata": {},
   "source": [
    "### Correlation coefficient\n",
    "\n",
    "**Covariance**\n",
    "$$\n",
    "\\text{Cov}(X, Y) = \\frac{1}{N-1} \\sum_{i=1}^{N} (X_i - \\bar{X})(Y_i - \\bar{Y})\n",
    "$$\n",
    "\n",
    "**pearson's correlation coefficient**\n",
    "\n",
    "$$\n",
    "r_{XY} = \\frac{\\text{Cov}(X, Y)}{\\hat{\\sigma}_X \\hat{\\sigma}_Y}\n",
    "$$\n"
   ]
  },
  {
   "cell_type": "code",
   "execution_count": 50,
   "id": "baaa4314",
   "metadata": {},
   "outputs": [
    {
     "data": {
      "text/html": [
       "-0.903384037465727"
      ],
      "text/latex": [
       "-0.903384037465727"
      ],
      "text/markdown": [
       "-0.903384037465727"
      ],
      "text/plain": [
       "[1] -0.903384"
      ]
     },
     "metadata": {},
     "output_type": "display_data"
    }
   ],
   "source": [
    "cor(x=parenthood$dan.sleep, y=parenthood$dan.grump)"
   ]
  },
  {
   "cell_type": "markdown",
   "id": "eab7f0fd",
   "metadata": {},
   "source": [
    "correlation matrix"
   ]
  },
  {
   "cell_type": "code",
   "execution_count": 51,
   "id": "2cf7b474",
   "metadata": {},
   "outputs": [
    {
     "data": {
      "text/html": [
       "<table>\n",
       "<thead><tr><th></th><th scope=col>dan.sleep</th><th scope=col>baby.sleep</th><th scope=col>dan.grump</th><th scope=col>day</th></tr></thead>\n",
       "<tbody>\n",
       "\t<tr><th scope=row>dan.sleep</th><td> 1.00000000</td><td> 0.62794934</td><td>-0.90338404</td><td>-0.09840768</td></tr>\n",
       "\t<tr><th scope=row>baby.sleep</th><td> 0.62794934</td><td> 1.00000000</td><td>-0.56596373</td><td>-0.01043394</td></tr>\n",
       "\t<tr><th scope=row>dan.grump</th><td>-0.90338404</td><td>-0.56596373</td><td> 1.00000000</td><td> 0.07647926</td></tr>\n",
       "\t<tr><th scope=row>day</th><td>-0.09840768</td><td>-0.01043394</td><td> 0.07647926</td><td> 1.00000000</td></tr>\n",
       "</tbody>\n",
       "</table>\n"
      ],
      "text/latex": [
       "\\begin{tabular}{r|llll}\n",
       "  & dan.sleep & baby.sleep & dan.grump & day\\\\\n",
       "\\hline\n",
       "\tdan.sleep &  1.00000000 &  0.62794934 & -0.90338404 & -0.09840768\\\\\n",
       "\tbaby.sleep &  0.62794934 &  1.00000000 & -0.56596373 & -0.01043394\\\\\n",
       "\tdan.grump & -0.90338404 & -0.56596373 &  1.00000000 &  0.07647926\\\\\n",
       "\tday & -0.09840768 & -0.01043394 &  0.07647926 &  1.00000000\\\\\n",
       "\\end{tabular}\n"
      ],
      "text/markdown": [
       "\n",
       "| <!--/--> | dan.sleep | baby.sleep | dan.grump | day |\n",
       "|---|---|---|---|---|\n",
       "| dan.sleep |  1.00000000 |  0.62794934 | -0.90338404 | -0.09840768 |\n",
       "| baby.sleep |  0.62794934 |  1.00000000 | -0.56596373 | -0.01043394 |\n",
       "| dan.grump | -0.90338404 | -0.56596373 |  1.00000000 |  0.07647926 |\n",
       "| day | -0.09840768 | -0.01043394 |  0.07647926 |  1.00000000 |\n",
       "\n"
      ],
      "text/plain": [
       "           dan.sleep   baby.sleep  dan.grump   day        \n",
       "dan.sleep   1.00000000  0.62794934 -0.90338404 -0.09840768\n",
       "baby.sleep  0.62794934  1.00000000 -0.56596373 -0.01043394\n",
       "dan.grump  -0.90338404 -0.56596373  1.00000000  0.07647926\n",
       "day        -0.09840768 -0.01043394  0.07647926  1.00000000"
      ]
     },
     "metadata": {},
     "output_type": "display_data"
    }
   ],
   "source": [
    "cor(parenthood)"
   ]
  },
  {
   "attachments": {
    "image.png": {
     "image/png": "[encoded data removed]"
    }
   },
   "cell_type": "markdown",
   "id": "17da8810",
   "metadata": {},
   "source": [
    "Interpreting the correlation coefficient is highly context dependent\n",
    "\n",
    "\"Anscombe's Quartet\"\n",
    "\n",
    "![image.png](attachment:image.png)"
   ]
  },
  {
   "cell_type": "markdown",
   "id": "a97a520c",
   "metadata": {},
   "source": [
    "**Spearman's rank correlations**\n",
    "\n",
    "correlation for nonlinear relationships"
   ]
  },
  {
   "cell_type": "code",
   "execution_count": 52,
   "id": "48e37e0e",
   "metadata": {},
   "outputs": [
    {
     "data": {
      "text/plain": [
       "   -- Name --      -- Class --   -- Size --\n",
       "   afl.finalists   factor        400       \n",
       "   afl.margins     numeric       176       \n",
       "   blowouts        logical       176       \n",
       "   clin.trial      data.frame    18 x 3    \n",
       "    $drug          factor        18        \n",
       "    $therapy       factor        18        \n",
       "    $mood.gain     numeric       18        \n",
       "   dataset         numeric       10        \n",
       "   effort          data.frame    10 x 2    \n",
       "    $hours         numeric       10        \n",
       "    $grade         numeric       10        \n",
       "   f2              character     400       \n",
       "   parenthood      data.frame    100 x 4   \n",
       "    $dan.sleep     numeric       100       \n",
       "    $baby.sleep    numeric       100       \n",
       "    $dan.grump     numeric       100       \n",
       "    $day           integer       100       "
      ]
     },
     "metadata": {},
     "output_type": "display_data"
    }
   ],
   "source": [
    "load(\"effort.Rdata\")\n",
    "who(TRUE)"
   ]
  },
  {
   "cell_type": "code",
   "execution_count": 53,
   "id": "a5ff574d",
   "metadata": {},
   "outputs": [
    {
     "data": {
      "text/html": [
       "0.909401965861253"
      ],
      "text/latex": [
       "0.909401965861253"
      ],
      "text/markdown": [
       "0.909401965861253"
      ],
      "text/plain": [
       "[1] 0.909402"
      ]
     },
     "metadata": {},
     "output_type": "display_data"
    }
   ],
   "source": [
    "cor(effort$hours, effort$grade)"
   ]
  },
  {
   "cell_type": "code",
   "execution_count": 55,
   "id": "b28eca96",
   "metadata": {},
   "outputs": [
    {
     "data": {
      "text/html": [
       "1"
      ],
      "text/latex": [
       "1"
      ],
      "text/markdown": [
       "1"
      ],
      "text/plain": [
       "[1] 1"
      ]
     },
     "metadata": {},
     "output_type": "display_data"
    }
   ],
   "source": [
    "hours.rank <- rank(effort$hours)\n",
    "grade.rank <- rank(effort$grade)\n",
    "\n",
    "cor(hours.rank, grade.rank)"
   ]
  },
  {
   "cell_type": "markdown",
   "id": "567d1bcd",
   "metadata": {},
   "source": [
    "this is basically spearman's rank order correlation"
   ]
  },
  {
   "cell_type": "code",
   "execution_count": 56,
   "id": "b9d51c68",
   "metadata": {},
   "outputs": [
    {
     "data": {
      "text/html": [
       "1"
      ],
      "text/latex": [
       "1"
      ],
      "text/markdown": [
       "1"
      ],
      "text/plain": [
       "[1] 1"
      ]
     },
     "metadata": {},
     "output_type": "display_data"
    }
   ],
   "source": [
    "cor(effort$hours, effort$grade, method=\"spearman\")"
   ]
  },
  {
   "cell_type": "markdown",
   "id": "4ae8dc8f",
   "metadata": {},
   "source": [
    "### correlate() function"
   ]
  },
  {
   "cell_type": "code",
   "execution_count": 57,
   "id": "1da1d9f5",
   "metadata": {},
   "outputs": [
    {
     "data": {
      "text/plain": [
       "   -- Name --      -- Class --   -- Size --\n",
       "   afl.finalists   factor        400       \n",
       "   afl.margins     numeric       176       \n",
       "   blowouts        logical       176       \n",
       "   clin.trial      data.frame    18 x 3    \n",
       "    $drug          factor        18        \n",
       "    $therapy       factor        18        \n",
       "    $mood.gain     numeric       18        \n",
       "   dataset         numeric       10        \n",
       "   effort          data.frame    10 x 2    \n",
       "    $hours         numeric       10        \n",
       "    $grade         numeric       10        \n",
       "   f2              character     400       \n",
       "   grade.rank      numeric       10        \n",
       "   hours.rank      numeric       10        \n",
       "   parenthood      data.frame    100 x 4   \n",
       "    $dan.sleep     numeric       100       \n",
       "    $baby.sleep    numeric       100       \n",
       "    $dan.grump     numeric       100       \n",
       "    $day           integer       100       \n",
       "   work            data.frame    49 x 7    \n",
       "    $hours         numeric       49        \n",
       "    $tasks         numeric       49        \n",
       "    $pay           numeric       49        \n",
       "    $day           integer       49        \n",
       "    $weekday       factor        49        \n",
       "    $week          numeric       49        \n",
       "    $day.type      factor        49        "
      ]
     },
     "metadata": {},
     "output_type": "display_data"
    }
   ],
   "source": [
    "load(\"work.Rdata\")\n",
    "who(TRUE)"
   ]
  },
  {
   "cell_type": "code",
   "execution_count": 58,
   "id": "675c51a4",
   "metadata": {},
   "outputs": [
    {
     "data": {
      "text/html": [
       "<table>\n",
       "<thead><tr><th scope=col>hours</th><th scope=col>tasks</th><th scope=col>pay</th><th scope=col>day</th><th scope=col>weekday</th><th scope=col>week</th><th scope=col>day.type</th></tr></thead>\n",
       "<tbody>\n",
       "\t<tr><td>7.2      </td><td>14       </td><td>41       </td><td>1        </td><td>Tuesday  </td><td>1        </td><td>weekday  </td></tr>\n",
       "\t<tr><td>7.4      </td><td>11       </td><td>39       </td><td>2        </td><td>Wednesday</td><td>1        </td><td>weekday  </td></tr>\n",
       "\t<tr><td>6.6      </td><td>14       </td><td>13       </td><td>3        </td><td>Thursday </td><td>1        </td><td>weekday  </td></tr>\n",
       "\t<tr><td>6.5      </td><td>22       </td><td>47       </td><td>4        </td><td>Friday   </td><td>1        </td><td>weekday  </td></tr>\n",
       "\t<tr><td>3.1      </td><td> 5       </td><td> 4       </td><td>5        </td><td>Saturday </td><td>1        </td><td>weekend  </td></tr>\n",
       "\t<tr><td>3.0      </td><td> 7       </td><td>12       </td><td>6        </td><td>Sunday   </td><td>1        </td><td>weekend  </td></tr>\n",
       "</tbody>\n",
       "</table>\n"
      ],
      "text/latex": [
       "\\begin{tabular}{r|lllllll}\n",
       " hours & tasks & pay & day & weekday & week & day.type\\\\\n",
       "\\hline\n",
       "\t 7.2       & 14        & 41        & 1         & Tuesday   & 1         & weekday  \\\\\n",
       "\t 7.4       & 11        & 39        & 2         & Wednesday & 1         & weekday  \\\\\n",
       "\t 6.6       & 14        & 13        & 3         & Thursday  & 1         & weekday  \\\\\n",
       "\t 6.5       & 22        & 47        & 4         & Friday    & 1         & weekday  \\\\\n",
       "\t 3.1       &  5        &  4        & 5         & Saturday  & 1         & weekend  \\\\\n",
       "\t 3.0       &  7        & 12        & 6         & Sunday    & 1         & weekend  \\\\\n",
       "\\end{tabular}\n"
      ],
      "text/markdown": [
       "\n",
       "| hours | tasks | pay | day | weekday | week | day.type |\n",
       "|---|---|---|---|---|---|---|\n",
       "| 7.2       | 14        | 41        | 1         | Tuesday   | 1         | weekday   |\n",
       "| 7.4       | 11        | 39        | 2         | Wednesday | 1         | weekday   |\n",
       "| 6.6       | 14        | 13        | 3         | Thursday  | 1         | weekday   |\n",
       "| 6.5       | 22        | 47        | 4         | Friday    | 1         | weekday   |\n",
       "| 3.1       |  5        |  4        | 5         | Saturday  | 1         | weekend   |\n",
       "| 3.0       |  7        | 12        | 6         | Sunday    | 1         | weekend   |\n",
       "\n"
      ],
      "text/plain": [
       "  hours tasks pay day weekday   week day.type\n",
       "1 7.2   14    41  1   Tuesday   1    weekday \n",
       "2 7.4   11    39  2   Wednesday 1    weekday \n",
       "3 6.6   14    13  3   Thursday  1    weekday \n",
       "4 6.5   22    47  4   Friday    1    weekday \n",
       "5 3.1    5     4  5   Saturday  1    weekend \n",
       "6 3.0    7    12  6   Sunday    1    weekend "
      ]
     },
     "metadata": {},
     "output_type": "display_data"
    }
   ],
   "source": [
    "head(work)"
   ]
  },
  {
   "cell_type": "code",
   "execution_count": 59,
   "id": "0352cbc6",
   "metadata": {},
   "outputs": [
    {
     "ename": "ERROR",
     "evalue": "Error in cor(work): 'x' must be numeric\n",
     "output_type": "error",
     "traceback": [
      "Error in cor(work): 'x' must be numeric\nTraceback:\n",
      "1. cor(work)",
      "2. stop(\"'x' must be numeric\")"
     ]
    }
   ],
   "source": [
    "cor(work)"
   ]
  },
  {
   "cell_type": "code",
   "execution_count": 61,
   "id": "bb6e3070",
   "metadata": {},
   "outputs": [
    {
     "name": "stdout",
     "output_type": "stream",
     "text": [
      "\n",
      "CORRELATIONS\n",
      "============\n",
      "- correlation type:  pearson \n",
      "- correlations shown only when both variables are numeric\n",
      "\n",
      "          hours  tasks   pay    day weekday   week day.type\n",
      "hours         .  0.800 0.760 -0.049       .  0.018        .\n",
      "tasks     0.800      . 0.720 -0.072       . -0.013        .\n",
      "pay       0.760  0.720     .  0.137       .  0.196        .\n",
      "day      -0.049 -0.072 0.137      .       .  0.990        .\n",
      "weekday       .      .     .      .       .      .        .\n",
      "week      0.018 -0.013 0.196  0.990       .      .        .\n",
      "day.type      .      .     .      .       .      .        .\n"
     ]
    }
   ],
   "source": [
    "print(correlate(work))"
   ]
  },
  {
   "cell_type": "markdown",
   "id": "6ac4c938",
   "metadata": {},
   "source": [
    "### Handling missing values"
   ]
  },
  {
   "cell_type": "markdown",
   "id": "390cef33",
   "metadata": {},
   "source": [
    "**single variable case**\""
   ]
  },
  {
   "cell_type": "code",
   "execution_count": 62,
   "id": "8d678046",
   "metadata": {},
   "outputs": [],
   "source": [
    "partial <- c(10, 20, NA, 30)"
   ]
  },
  {
   "cell_type": "code",
   "execution_count": 63,
   "id": "bf8ddb13",
   "metadata": {},
   "outputs": [
    {
     "data": {
      "text/html": [
       "&lt;NA&gt;"
      ],
      "text/latex": [
       "<NA>"
      ],
      "text/markdown": [
       "&lt;NA&gt;"
      ],
      "text/plain": [
       "[1] NA"
      ]
     },
     "metadata": {},
     "output_type": "display_data"
    }
   ],
   "source": [
    "mean(partial)"
   ]
  },
  {
   "cell_type": "markdown",
   "id": "7398d6af",
   "metadata": {},
   "source": [
    "include optional arg: na.rm -> \"remove NA values\""
   ]
  },
  {
   "cell_type": "code",
   "execution_count": 64,
   "id": "f50b9371",
   "metadata": {},
   "outputs": [
    {
     "data": {
      "text/html": [
       "20"
      ],
      "text/latex": [
       "20"
      ],
      "text/markdown": [
       "20"
      ],
      "text/plain": [
       "[1] 20"
      ]
     },
     "metadata": {},
     "output_type": "display_data"
    }
   ],
   "source": [
    "mean(partial, na.rm=TRUE)"
   ]
  },
  {
   "cell_type": "markdown",
   "id": "f2f8f848",
   "metadata": {},
   "source": [
    "In all functions, na.rm will completely ingore missing values (i.e. in the above example N=3, not 4)"
   ]
  },
  {
   "cell_type": "markdown",
   "id": "ab01df03",
   "metadata": {},
   "source": [
    "**missing values in pairwise calculations**"
   ]
  },
  {
   "cell_type": "code",
   "execution_count": 66,
   "id": "c534e080",
   "metadata": {},
   "outputs": [
    {
     "name": "stdout",
     "output_type": "stream",
     "text": [
      "  dan.sleep baby.sleep dan.grump day\n",
      "1      7.59         NA        56   1\n",
      "2      7.91      11.66        60   2\n",
      "3      5.14       7.92        82   3\n",
      "4      7.71       9.61        55   4\n",
      "5      6.68       9.75        NA   5\n",
      "6      5.99       5.04        72   6\n"
     ]
    }
   ],
   "source": [
    "load(\"parenthood2.Rdata\")\n",
    "print(head(parenthood2))"
   ]
  },
  {
   "cell_type": "code",
   "execution_count": 67,
   "id": "c84b6c13",
   "metadata": {},
   "outputs": [
    {
     "data": {
      "text/html": [
       "<table>\n",
       "<thead><tr><th></th><th scope=col>vars</th><th scope=col>n</th><th scope=col>mean</th><th scope=col>sd</th><th scope=col>median</th><th scope=col>trimmed</th><th scope=col>mad</th><th scope=col>min</th><th scope=col>max</th><th scope=col>range</th><th scope=col>skew</th><th scope=col>kurtosis</th><th scope=col>se</th></tr></thead>\n",
       "<tbody>\n",
       "\t<tr><th scope=row>dan.sleep</th><td>1          </td><td> 91        </td><td> 6.976923  </td><td> 1.020409  </td><td> 7.03      </td><td> 7.022740  </td><td> 1.126776  </td><td> 4.84      </td><td>  9.00     </td><td> 4.16      </td><td>-0.33466179</td><td>-0.7278902 </td><td>0.1069679  </td></tr>\n",
       "\t<tr><th scope=row>baby.sleep</th><td>2          </td><td> 89        </td><td> 8.114494  </td><td> 2.046821  </td><td> 8.20      </td><td> 8.129452  </td><td> 2.283204  </td><td> 3.25      </td><td> 12.07     </td><td> 8.82      </td><td>-0.09287191</td><td>-0.5943754 </td><td>0.2169626  </td></tr>\n",
       "\t<tr><th scope=row>dan.grump</th><td>3          </td><td> 92        </td><td>63.152174  </td><td> 9.851574  </td><td>61.00      </td><td>62.662162  </td><td>10.378200  </td><td>41.00      </td><td> 89.00     </td><td>48.00      </td><td> 0.38335860</td><td>-0.3144273 </td><td>1.0270976  </td></tr>\n",
       "\t<tr><th scope=row>day</th><td>4          </td><td>100        </td><td>50.500000  </td><td>29.011492  </td><td>50.50      </td><td>50.500000  </td><td>37.065000  </td><td> 1.00      </td><td>100.00     </td><td>99.00      </td><td> 0.00000000</td><td>-1.2360552 </td><td>2.9011492  </td></tr>\n",
       "</tbody>\n",
       "</table>\n"
      ],
      "text/latex": [
       "\\begin{tabular}{r|lllllllllllll}\n",
       "  & vars & n & mean & sd & median & trimmed & mad & min & max & range & skew & kurtosis & se\\\\\n",
       "\\hline\n",
       "\tdan.sleep & 1           &  91         &  6.976923   &  1.020409   &  7.03       &  7.022740   &  1.126776   &  4.84       &   9.00      &  4.16       & -0.33466179 & -0.7278902  & 0.1069679  \\\\\n",
       "\tbaby.sleep & 2           &  89         &  8.114494   &  2.046821   &  8.20       &  8.129452   &  2.283204   &  3.25       &  12.07      &  8.82       & -0.09287191 & -0.5943754  & 0.2169626  \\\\\n",
       "\tdan.grump & 3           &  92         & 63.152174   &  9.851574   & 61.00       & 62.662162   & 10.378200   & 41.00       &  89.00      & 48.00       &  0.38335860 & -0.3144273  & 1.0270976  \\\\\n",
       "\tday & 4           & 100         & 50.500000   & 29.011492   & 50.50       & 50.500000   & 37.065000   &  1.00       & 100.00      & 99.00       &  0.00000000 & -1.2360552  & 2.9011492  \\\\\n",
       "\\end{tabular}\n"
      ],
      "text/markdown": [
       "\n",
       "| <!--/--> | vars | n | mean | sd | median | trimmed | mad | min | max | range | skew | kurtosis | se |\n",
       "|---|---|---|---|---|---|---|---|---|---|---|---|---|---|\n",
       "| dan.sleep | 1           |  91         |  6.976923   |  1.020409   |  7.03       |  7.022740   |  1.126776   |  4.84       |   9.00      |  4.16       | -0.33466179 | -0.7278902  | 0.1069679   |\n",
       "| baby.sleep | 2           |  89         |  8.114494   |  2.046821   |  8.20       |  8.129452   |  2.283204   |  3.25       |  12.07      |  8.82       | -0.09287191 | -0.5943754  | 0.2169626   |\n",
       "| dan.grump | 3           |  92         | 63.152174   |  9.851574   | 61.00       | 62.662162   | 10.378200   | 41.00       |  89.00      | 48.00       |  0.38335860 | -0.3144273  | 1.0270976   |\n",
       "| day | 4           | 100         | 50.500000   | 29.011492   | 50.50       | 50.500000   | 37.065000   |  1.00       | 100.00      | 99.00       |  0.00000000 | -1.2360552  | 2.9011492   |\n",
       "\n"
      ],
      "text/plain": [
       "           vars n   mean      sd        median trimmed   mad       min   max   \n",
       "dan.sleep  1     91  6.976923  1.020409  7.03   7.022740  1.126776  4.84   9.00\n",
       "baby.sleep 2     89  8.114494  2.046821  8.20   8.129452  2.283204  3.25  12.07\n",
       "dan.grump  3     92 63.152174  9.851574 61.00  62.662162 10.378200 41.00  89.00\n",
       "day        4    100 50.500000 29.011492 50.50  50.500000 37.065000  1.00 100.00\n",
       "           range skew        kurtosis   se       \n",
       "dan.sleep   4.16 -0.33466179 -0.7278902 0.1069679\n",
       "baby.sleep  8.82 -0.09287191 -0.5943754 0.2169626\n",
       "dan.grump  48.00  0.38335860 -0.3144273 1.0270976\n",
       "day        99.00  0.00000000 -1.2360552 2.9011492"
      ]
     },
     "metadata": {},
     "output_type": "display_data"
    }
   ],
   "source": [
    "describe(parenthood2)"
   ]
  },
  {
   "cell_type": "markdown",
   "id": "aa0cf5c6",
   "metadata": {},
   "source": [
    "by default, in describe, na.rm = TRUE"
   ]
  },
  {
   "cell_type": "code",
   "execution_count": 68,
   "id": "4acfc22d",
   "metadata": {},
   "outputs": [
    {
     "data": {
      "text/html": [
       "<table>\n",
       "<thead><tr><th></th><th scope=col>dan.sleep</th><th scope=col>baby.sleep</th><th scope=col>dan.grump</th><th scope=col>day</th></tr></thead>\n",
       "<tbody>\n",
       "\t<tr><th scope=row>dan.sleep</th><td> 1</td><td>NA</td><td>NA</td><td>NA</td></tr>\n",
       "\t<tr><th scope=row>baby.sleep</th><td>NA</td><td> 1</td><td>NA</td><td>NA</td></tr>\n",
       "\t<tr><th scope=row>dan.grump</th><td>NA</td><td>NA</td><td> 1</td><td>NA</td></tr>\n",
       "\t<tr><th scope=row>day</th><td>NA</td><td>NA</td><td>NA</td><td> 1</td></tr>\n",
       "</tbody>\n",
       "</table>\n"
      ],
      "text/latex": [
       "\\begin{tabular}{r|llll}\n",
       "  & dan.sleep & baby.sleep & dan.grump & day\\\\\n",
       "\\hline\n",
       "\tdan.sleep &  1 & NA & NA & NA\\\\\n",
       "\tbaby.sleep & NA &  1 & NA & NA\\\\\n",
       "\tdan.grump & NA & NA &  1 & NA\\\\\n",
       "\tday & NA & NA & NA &  1\\\\\n",
       "\\end{tabular}\n"
      ],
      "text/markdown": [
       "\n",
       "| <!--/--> | dan.sleep | baby.sleep | dan.grump | day |\n",
       "|---|---|---|---|---|\n",
       "| dan.sleep |  1 | NA | NA | NA |\n",
       "| baby.sleep | NA |  1 | NA | NA |\n",
       "| dan.grump | NA | NA |  1 | NA |\n",
       "| day | NA | NA | NA |  1 |\n",
       "\n"
      ],
      "text/plain": [
       "           dan.sleep baby.sleep dan.grump day\n",
       "dan.sleep   1        NA         NA        NA \n",
       "baby.sleep NA         1         NA        NA \n",
       "dan.grump  NA        NA          1        NA \n",
       "day        NA        NA         NA         1 "
      ]
     },
     "metadata": {},
     "output_type": "display_data"
    }
   ],
   "source": [
    "cor(parenthood2)"
   ]
  },
  {
   "cell_type": "markdown",
   "id": "f2563bb1",
   "metadata": {},
   "source": [
    "to handle NAs here, specify use argument\n",
    "\n",
    "use = \"complete.obs\" -> R ignores all cases that have ANY missing values (i.e. competely remove rows that have an NA, then do the correlation)<br>\n",
    "use = \"pairwise.complete.obs\" -> R will ignore NAs observation-by-observation"
   ]
  },
  {
   "cell_type": "code",
   "execution_count": 69,
   "id": "e5e02bf3",
   "metadata": {},
   "outputs": [
    {
     "data": {
      "text/html": [
       "<table>\n",
       "<thead><tr><th></th><th scope=col>dan.sleep</th><th scope=col>baby.sleep</th><th scope=col>dan.grump</th><th scope=col>day</th></tr></thead>\n",
       "<tbody>\n",
       "\t<tr><th scope=row>dan.sleep</th><td> 1.00000000</td><td> 0.6394985 </td><td>-0.89951468</td><td> 0.06132891</td></tr>\n",
       "\t<tr><th scope=row>baby.sleep</th><td> 0.63949845</td><td> 1.0000000 </td><td>-0.58656066</td><td> 0.14555814</td></tr>\n",
       "\t<tr><th scope=row>dan.grump</th><td>-0.89951468</td><td>-0.5865607 </td><td> 1.00000000</td><td>-0.06816586</td></tr>\n",
       "\t<tr><th scope=row>day</th><td> 0.06132891</td><td> 0.1455581 </td><td>-0.06816586</td><td> 1.00000000</td></tr>\n",
       "</tbody>\n",
       "</table>\n"
      ],
      "text/latex": [
       "\\begin{tabular}{r|llll}\n",
       "  & dan.sleep & baby.sleep & dan.grump & day\\\\\n",
       "\\hline\n",
       "\tdan.sleep &  1.00000000 &  0.6394985  & -0.89951468 &  0.06132891\\\\\n",
       "\tbaby.sleep &  0.63949845 &  1.0000000  & -0.58656066 &  0.14555814\\\\\n",
       "\tdan.grump & -0.89951468 & -0.5865607  &  1.00000000 & -0.06816586\\\\\n",
       "\tday &  0.06132891 &  0.1455581  & -0.06816586 &  1.00000000\\\\\n",
       "\\end{tabular}\n"
      ],
      "text/markdown": [
       "\n",
       "| <!--/--> | dan.sleep | baby.sleep | dan.grump | day |\n",
       "|---|---|---|---|---|\n",
       "| dan.sleep |  1.00000000 |  0.6394985  | -0.89951468 |  0.06132891 |\n",
       "| baby.sleep |  0.63949845 |  1.0000000  | -0.58656066 |  0.14555814 |\n",
       "| dan.grump | -0.89951468 | -0.5865607  |  1.00000000 | -0.06816586 |\n",
       "| day |  0.06132891 |  0.1455581  | -0.06816586 |  1.00000000 |\n",
       "\n"
      ],
      "text/plain": [
       "           dan.sleep   baby.sleep dan.grump   day        \n",
       "dan.sleep   1.00000000  0.6394985 -0.89951468  0.06132891\n",
       "baby.sleep  0.63949845  1.0000000 -0.58656066  0.14555814\n",
       "dan.grump  -0.89951468 -0.5865607  1.00000000 -0.06816586\n",
       "day         0.06132891  0.1455581 -0.06816586  1.00000000"
      ]
     },
     "metadata": {},
     "output_type": "display_data"
    }
   ],
   "source": [
    "cor(parenthood2, use=\"complete.obs\")"
   ]
  },
  {
   "cell_type": "code",
   "execution_count": 70,
   "id": "1ae1b452",
   "metadata": {},
   "outputs": [
    {
     "data": {
      "text/html": [
       "<table>\n",
       "<thead><tr><th></th><th scope=col>dan.sleep</th><th scope=col>baby.sleep</th><th scope=col>dan.grump</th><th scope=col>day</th></tr></thead>\n",
       "<tbody>\n",
       "\t<tr><th scope=row>dan.sleep</th><td> 1.00000000 </td><td> 0.61472303 </td><td>-0.903442442</td><td>-0.076796665</td></tr>\n",
       "\t<tr><th scope=row>baby.sleep</th><td> 0.61472303 </td><td> 1.00000000 </td><td>-0.567802669</td><td> 0.058309485</td></tr>\n",
       "\t<tr><th scope=row>dan.grump</th><td>-0.90344244 </td><td>-0.56780267 </td><td> 1.000000000</td><td> 0.005833399</td></tr>\n",
       "\t<tr><th scope=row>day</th><td>-0.07679667 </td><td> 0.05830949 </td><td> 0.005833399</td><td> 1.000000000</td></tr>\n",
       "</tbody>\n",
       "</table>\n"
      ],
      "text/latex": [
       "\\begin{tabular}{r|llll}\n",
       "  & dan.sleep & baby.sleep & dan.grump & day\\\\\n",
       "\\hline\n",
       "\tdan.sleep &  1.00000000  &  0.61472303  & -0.903442442 & -0.076796665\\\\\n",
       "\tbaby.sleep &  0.61472303  &  1.00000000  & -0.567802669 &  0.058309485\\\\\n",
       "\tdan.grump & -0.90344244  & -0.56780267  &  1.000000000 &  0.005833399\\\\\n",
       "\tday & -0.07679667  &  0.05830949  &  0.005833399 &  1.000000000\\\\\n",
       "\\end{tabular}\n"
      ],
      "text/markdown": [
       "\n",
       "| <!--/--> | dan.sleep | baby.sleep | dan.grump | day |\n",
       "|---|---|---|---|---|\n",
       "| dan.sleep |  1.00000000  |  0.61472303  | -0.903442442 | -0.076796665 |\n",
       "| baby.sleep |  0.61472303  |  1.00000000  | -0.567802669 |  0.058309485 |\n",
       "| dan.grump | -0.90344244  | -0.56780267  |  1.000000000 |  0.005833399 |\n",
       "| day | -0.07679667  |  0.05830949  |  0.005833399 |  1.000000000 |\n",
       "\n"
      ],
      "text/plain": [
       "           dan.sleep   baby.sleep  dan.grump    day         \n",
       "dan.sleep   1.00000000  0.61472303 -0.903442442 -0.076796665\n",
       "baby.sleep  0.61472303  1.00000000 -0.567802669  0.058309485\n",
       "dan.grump  -0.90344244 -0.56780267  1.000000000  0.005833399\n",
       "day        -0.07679667  0.05830949  0.005833399  1.000000000"
      ]
     },
     "metadata": {},
     "output_type": "display_data"
    }
   ],
   "source": [
    "cor(parenthood2, use=\"pairwise.complete.obs\")"
   ]
  },
  {
   "cell_type": "markdown",
   "id": "48ed76ee",
   "metadata": {},
   "source": [
    "correlate() uses pairwise.complete by default"
   ]
  },
  {
   "cell_type": "markdown",
   "id": "1956e215",
   "metadata": {},
   "source": [
    "pairwise.complete keeps more observations, but for correlation matrices, every correlation is derived from a slightly different subset of the data\n",
    "\n",
    "which method to use depends on WHY you suspect the data is missing"
   ]
  }
 ],
 "metadata": {
  "kernelspec": {
   "display_name": "R",
   "language": "R",
   "name": "ir"
  },
  "language_info": {
   "codemirror_mode": "r",
   "file_extension": ".r",
   "mimetype": "text/x-r-source",
   "name": "R",
   "pygments_lexer": "r",
   "version": "3.6.1"
  }
 },
 "nbformat": 4,
 "nbformat_minor": 5
}
