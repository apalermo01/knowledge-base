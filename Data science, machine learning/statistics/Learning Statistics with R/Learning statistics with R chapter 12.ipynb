{
 "cells": [
  {
   "cell_type": "markdown",
   "id": "8d751284",
   "metadata": {},
   "source": [
    "# Categorical data analysis\n",
    "\n",
    "working with nominal scale data\n",
    "\n",
    "\n",
    "## The $\\chi^2$ goodness-of-fit test\n",
    "\n",
    "Have people imaging a shuffled deck of cards and pick 2 cards at random. Are the cards that people pick actually random?<br>"
   ]
  },
  {
   "cell_type": "code",
   "execution_count": 1,
   "id": "c1aaf340",
   "metadata": {},
   "outputs": [
    {
     "data": {
      "text/plain": [
       "   -- Name --   -- Class --   -- Size --\n",
       "   cards        data.frame    200 x 3   \n",
       "    $id         factor        200       \n",
       "    $choice_1   factor        200       \n",
       "    $choice_2   factor        200       "
      ]
     },
     "metadata": {},
     "output_type": "display_data"
    }
   ],
   "source": [
    "library(lsr)\n",
    "load(\"randomness.Rdata\")\n",
    "who(TRUE)"
   ]
  },
  {
   "cell_type": "code",
   "execution_count": 2,
   "id": "6c4559ed",
   "metadata": {},
   "outputs": [
    {
     "data": {
      "text/html": [
       "<table>\n",
       "<thead><tr><th scope=col>id</th><th scope=col>choice_1</th><th scope=col>choice_2</th></tr></thead>\n",
       "<tbody>\n",
       "\t<tr><td>subj1   </td><td>spades  </td><td>clubs   </td></tr>\n",
       "\t<tr><td>subj2   </td><td>diamonds</td><td>clubs   </td></tr>\n",
       "\t<tr><td>subj3   </td><td>hearts  </td><td>clubs   </td></tr>\n",
       "\t<tr><td>subj4   </td><td>spades  </td><td>clubs   </td></tr>\n",
       "\t<tr><td>subj5   </td><td>hearts  </td><td>spades  </td></tr>\n",
       "\t<tr><td>subj6   </td><td>clubs   </td><td>hearts  </td></tr>\n",
       "</tbody>\n",
       "</table>\n"
      ],
      "text/latex": [
       "\\begin{tabular}{r|lll}\n",
       " id & choice\\_1 & choice\\_2\\\\\n",
       "\\hline\n",
       "\t subj1    & spades   & clubs   \\\\\n",
       "\t subj2    & diamonds & clubs   \\\\\n",
       "\t subj3    & hearts   & clubs   \\\\\n",
       "\t subj4    & spades   & clubs   \\\\\n",
       "\t subj5    & hearts   & spades  \\\\\n",
       "\t subj6    & clubs    & hearts  \\\\\n",
       "\\end{tabular}\n"
      ],
      "text/markdown": [
       "\n",
       "| id | choice_1 | choice_2 |\n",
       "|---|---|---|\n",
       "| subj1    | spades   | clubs    |\n",
       "| subj2    | diamonds | clubs    |\n",
       "| subj3    | hearts   | clubs    |\n",
       "| subj4    | spades   | clubs    |\n",
       "| subj5    | hearts   | spades   |\n",
       "| subj6    | clubs    | hearts   |\n",
       "\n"
      ],
      "text/plain": [
       "  id    choice_1 choice_2\n",
       "1 subj1 spades   clubs   \n",
       "2 subj2 diamonds clubs   \n",
       "3 subj3 hearts   clubs   \n",
       "4 subj4 spades   clubs   \n",
       "5 subj5 hearts   spades  \n",
       "6 subj6 clubs    hearts  "
      ]
     },
     "metadata": {},
     "output_type": "display_data"
    }
   ],
   "source": [
    "head(cards)"
   ]
  },
  {
   "cell_type": "code",
   "execution_count": 3,
   "id": "304664e6",
   "metadata": {},
   "outputs": [
    {
     "data": {
      "text/plain": [
       "\n",
       "   clubs diamonds   hearts   spades \n",
       "      35       51       64       50 "
      ]
     },
     "metadata": {},
     "output_type": "display_data"
    }
   ],
   "source": [
    "observed <- table(cards$choice_1)\n",
    "observed"
   ]
  },
  {
   "attachments": {
    "image.png": {
     "image/png": "[encoded data removed]"
    }
   },
   "cell_type": "markdown",
   "id": "d083017c",
   "metadata": {},
   "source": [
    "notation:\n",
    "\n",
    "![image.png](attachment:image.png)\n",
    "\n",
    "vector of observations $\\mathbf{O} = (O_1, O_2, O_3, O_4)$"
   ]
  },
  {
   "cell_type": "markdown",
   "id": "84e50145",
   "metadata": {},
   "source": [
    "notat\n",
    "\n",
    "**The null hypothesis and the alternative hypothesis**<br> \n",
    "\n",
    "$H_0$: All four suits are chosen with equal probability<br>\n",
    "$H_0: \\mathbf{P} = (0.25, 0.25, 0.25, 0.25)$ \n",
    "\n",
    "$H_1$: At least one of the suit-choice probabilites is not 0.25<br> \n",
    "$H_1: \\mathbf{P} \\neq (0.25, 0.25, 0.25, 0.25)$<br>"
   ]
  },
  {
   "cell_type": "code",
   "execution_count": 4,
   "id": "87647771",
   "metadata": {},
   "outputs": [
    {
     "data": {
      "text/html": [
       "<dl class=dl-horizontal>\n",
       "\t<dt>clubs</dt>\n",
       "\t\t<dd>0.25</dd>\n",
       "\t<dt>diamonds</dt>\n",
       "\t\t<dd>0.25</dd>\n",
       "\t<dt>hearts</dt>\n",
       "\t\t<dd>0.25</dd>\n",
       "\t<dt>spades</dt>\n",
       "\t\t<dd>0.25</dd>\n",
       "</dl>\n"
      ],
      "text/latex": [
       "\\begin{description*}\n",
       "\\item[clubs] 0.25\n",
       "\\item[diamonds] 0.25\n",
       "\\item[hearts] 0.25\n",
       "\\item[spades] 0.25\n",
       "\\end{description*}\n"
      ],
      "text/markdown": [
       "clubs\n",
       ":   0.25diamonds\n",
       ":   0.25hearts\n",
       ":   0.25spades\n",
       ":   0.25\n",
       "\n"
      ],
      "text/plain": [
       "   clubs diamonds   hearts   spades \n",
       "    0.25     0.25     0.25     0.25 "
      ]
     },
     "metadata": {},
     "output_type": "display_data"
    }
   ],
   "source": [
    "probabilities <- c(clubs=0.25, diamonds=0.25, hearts=0.25, spades=0.25)\n",
    "probabilities"
   ]
  },
  {
   "cell_type": "markdown",
   "id": "21a0e267",
   "metadata": {},
   "source": [
    "**The \"goodness of fit\" test statistic**<br>\n",
    "\n",
    "get something that tells us \"how close\" the data are to the null hypothesis.<br> \n",
    "\n",
    "what are the **expected frequencies**<br> \n",
    "\n",
    "$ E_i = N \\times P_i$ \n",
    "- $E_i$ = number of category i responses that we're expecting if the null is true\n",
    "- N = num samples\n",
    "- $P_i$ = probability"
   ]
  },
  {
   "cell_type": "code",
   "execution_count": 5,
   "id": "2d6bc6be",
   "metadata": {},
   "outputs": [
    {
     "data": {
      "text/html": [
       "<dl class=dl-horizontal>\n",
       "\t<dt>clubs</dt>\n",
       "\t\t<dd>50</dd>\n",
       "\t<dt>diamonds</dt>\n",
       "\t\t<dd>50</dd>\n",
       "\t<dt>hearts</dt>\n",
       "\t\t<dd>50</dd>\n",
       "\t<dt>spades</dt>\n",
       "\t\t<dd>50</dd>\n",
       "</dl>\n"
      ],
      "text/latex": [
       "\\begin{description*}\n",
       "\\item[clubs] 50\n",
       "\\item[diamonds] 50\n",
       "\\item[hearts] 50\n",
       "\\item[spades] 50\n",
       "\\end{description*}\n"
      ],
      "text/markdown": [
       "clubs\n",
       ":   50diamonds\n",
       ":   50hearts\n",
       ":   50spades\n",
       ":   50\n",
       "\n"
      ],
      "text/plain": [
       "   clubs diamonds   hearts   spades \n",
       "      50       50       50       50 "
      ]
     },
     "metadata": {},
     "output_type": "display_data"
    }
   ],
   "source": [
    "N <- 200 # sample size\n",
    "expected <- N * probabilities # expected frequencies\n",
    "expected"
   ]
  },
  {
   "attachments": {
    "image.png": {
     "image/png": "[encoded data removed]"
    }
   },
   "cell_type": "markdown",
   "id": "eb65ed4c",
   "metadata": {},
   "source": [
    "calculate difference score: observed - expected\n",
    "\n",
    "![image.png](attachment:image.png)"
   ]
  },
  {
   "cell_type": "code",
   "execution_count": 6,
   "id": "daad8db7",
   "metadata": {},
   "outputs": [
    {
     "data": {
      "text/plain": [
       "\n",
       "   clubs diamonds   hearts   spades \n",
       "     -15        1       14        0 "
      ]
     },
     "metadata": {},
     "output_type": "display_data"
    }
   ],
   "source": [
    "observed - expected"
   ]
  },
  {
   "cell_type": "markdown",
   "id": "125520fe",
   "metadata": {},
   "source": [
    "difference squared"
   ]
  },
  {
   "cell_type": "code",
   "execution_count": 7,
   "id": "a0566933",
   "metadata": {},
   "outputs": [
    {
     "data": {
      "text/plain": [
       "\n",
       "   clubs diamonds   hearts   spades \n",
       "     225        1      196        0 "
      ]
     },
     "metadata": {},
     "output_type": "display_data"
    }
   ],
   "source": [
    "(observed - expected) ^ 2"
   ]
  },
  {
   "cell_type": "markdown",
   "id": "331af629",
   "metadata": {},
   "source": [
    "divide by expected frequency"
   ]
  },
  {
   "cell_type": "code",
   "execution_count": 8,
   "id": "a99f0696",
   "metadata": {},
   "outputs": [
    {
     "data": {
      "text/plain": [
       "\n",
       "   clubs diamonds   hearts   spades \n",
       "    4.50     0.02     3.92     0.00 "
      ]
     },
     "metadata": {},
     "output_type": "display_data"
    }
   ],
   "source": [
    "(observed-expected)^2 / expected"
   ]
  },
  {
   "attachments": {
    "image.png": {
     "image/png": "[encoded data removed]"
    }
   },
   "cell_type": "markdown",
   "id": "98d74588",
   "metadata": {},
   "source": [
    "now sum these figures up- this gives us our goodness-of-fit statistic\n",
    "\n",
    "![image.png](attachment:image.png)"
   ]
  },
  {
   "cell_type": "markdown",
   "id": "86bd223e",
   "metadata": {},
   "source": [
    "**The sampling distribution of the GOF statistic**<br>\n",
    "\n",
    "this is a *Chi-squared distribution with k-1 degrees of freedom*<br>\n",
    "\n",
    "*Why it works*<br> \n",
    "If the null is true, then $O_i \\sim \\text{Binomial}(P_i, N)$<br> \n",
    "here, central limit theorem holds, so $O_i$ is approx normal. that means $(O_i - E_i)/\\sqrt{E_i}$ is also normally distributed. This means that we are taking a bunch of things that are normally distributed, squaring them, then taking the sum- that's a chi-squared!<br> \n",
    "\n",
    "We use $k-1$ degrees of freedom to count the number of INDEPENDENT elements. "
   ]
  },
  {
   "cell_type": "markdown",
   "id": "d0015f5f",
   "metadata": {},
   "source": [
    "**Degrees of Freedom**\n",
    "\n",
    "in general: add up the number of distinct quantities used to describe the data, then subtract off all the constraints the must satisfy- e.g. k (4) quantities being summed, and since all the probabilities must sum to 1, subtract 1. \n",
    "\n",
    "**Testing the null hypothesis**<br> \n",
    "Use a 1-sided test.<br> \n",
    "if we want a significance value of $\\alpha=0.05$, then we have to pick a critical value such that there is a 5% chances that $X^2$ can be that big if the null hypothesis is true.<br> "
   ]
  },
  {
   "cell_type": "code",
   "execution_count": 9,
   "id": "c7c96092",
   "metadata": {},
   "outputs": [
    {
     "data": {
      "text/html": [
       "7.81472790325118"
      ],
      "text/latex": [
       "7.81472790325118"
      ],
      "text/markdown": [
       "7.81472790325118"
      ],
      "text/plain": [
       "[1] 7.814728"
      ]
     },
     "metadata": {},
     "output_type": "display_data"
    }
   ],
   "source": [
    "qchisq(p=0.95, df=3)"
   ]
  },
  {
   "cell_type": "markdown",
   "id": "b965a2d2",
   "metadata": {},
   "source": [
    "So our critical value is 7.814. Since our GOF statistic came out to be 8.44, **we can reject the null**. \n",
    "\n",
    "get exact p-value"
   ]
  },
  {
   "cell_type": "code",
   "execution_count": 10,
   "id": "5b5f5d40",
   "metadata": {},
   "outputs": [
    {
     "data": {
      "text/html": [
       "0.0377418520240214"
      ],
      "text/latex": [
       "0.0377418520240214"
      ],
      "text/markdown": [
       "0.0377418520240214"
      ],
      "text/plain": [
       "[1] 0.03774185"
      ]
     },
     "metadata": {},
     "output_type": "display_data"
    }
   ],
   "source": [
    "pchisq(q=8.44, df=3, lower.tail=FALSE)"
   ]
  },
  {
   "cell_type": "markdown",
   "id": "2f8b82a7",
   "metadata": {},
   "source": [
    "By default, R gives the probability of getting a value LESS than what we entered, but we want the opposite, so set lower.tail=FALSE<br> \n",
    "\n",
    "we can also do:"
   ]
  },
  {
   "cell_type": "code",
   "execution_count": 11,
   "id": "8b11372a",
   "metadata": {},
   "outputs": [
    {
     "data": {
      "text/html": [
       "0.0377418520240215"
      ],
      "text/latex": [
       "0.0377418520240215"
      ],
      "text/markdown": [
       "0.0377418520240215"
      ],
      "text/plain": [
       "[1] 0.03774185"
      ]
     },
     "metadata": {},
     "output_type": "display_data"
    }
   ],
   "source": [
    "1-pchisq(q=8.44, df=3)"
   ]
  },
  {
   "cell_type": "markdown",
   "id": "7df3de1a",
   "metadata": {},
   "source": [
    "This is called **Pearson's $\\chi^2$ test for the goodness of fit**"
   ]
  },
  {
   "cell_type": "markdown",
   "id": "4788090d",
   "metadata": {},
   "source": [
    "**Doing the test in R**\n",
    "\n",
    "most people use chisq.test(), there is also goodnessOfFitTest() from lsr package"
   ]
  },
  {
   "cell_type": "code",
   "execution_count": 12,
   "id": "134488df",
   "metadata": {},
   "outputs": [
    {
     "data": {
      "text/plain": [
       "\n",
       "     Chi-square test against specified probabilities\n",
       "\n",
       "Data variable:   cards$choice_1 \n",
       "\n",
       "Hypotheses: \n",
       "   null:        true probabilities are as specified\n",
       "   alternative: true probabilities differ from those specified\n",
       "\n",
       "Descriptives: \n",
       "         observed freq. expected freq. specified prob.\n",
       "clubs                35             50            0.25\n",
       "diamonds             51             50            0.25\n",
       "hearts               64             50            0.25\n",
       "spades               50             50            0.25\n",
       "\n",
       "Test results: \n",
       "   X-squared statistic:  8.44 \n",
       "   degrees of freedom:  3 \n",
       "   p-value:  0.038 \n"
      ]
     },
     "metadata": {},
     "output_type": "display_data"
    }
   ],
   "source": [
    "goodnessOfFitTest(cards$choice_1)"
   ]
  },
  {
   "cell_type": "code",
   "execution_count": 13,
   "id": "882aa214",
   "metadata": {},
   "outputs": [
    {
     "data": {
      "text/plain": [
       "\n",
       "     Chi-square test against specified probabilities\n",
       "\n",
       "Data variable:   cards$choice_2 \n",
       "\n",
       "Hypotheses: \n",
       "   null:        true probabilities are as specified\n",
       "   alternative: true probabilities differ from those specified\n",
       "\n",
       "Descriptives: \n",
       "         observed freq. expected freq. specified prob.\n",
       "clubs                68             50            0.25\n",
       "diamonds             44             50            0.25\n",
       "hearts               41             50            0.25\n",
       "spades               47             50            0.25\n",
       "\n",
       "Test results: \n",
       "   X-squared statistic:  9 \n",
       "   degrees of freedom:  3 \n",
       "   p-value:  0.029 \n"
      ]
     },
     "metadata": {},
     "output_type": "display_data"
    }
   ],
   "source": [
    "goodnessOfFitTest(cards$choice_2)"
   ]
  },
  {
   "cell_type": "markdown",
   "id": "a94ed845",
   "metadata": {},
   "source": [
    "**Specifying a different null hypothesis**"
   ]
  },
  {
   "cell_type": "code",
   "execution_count": 14,
   "id": "1252e2b9",
   "metadata": {},
   "outputs": [
    {
     "data": {
      "text/plain": [
       "\n",
       "     Chi-square test against specified probabilities\n",
       "\n",
       "Data variable:   cards$choice_1 \n",
       "\n",
       "Hypotheses: \n",
       "   null:        true probabilities are as specified\n",
       "   alternative: true probabilities differ from those specified\n",
       "\n",
       "Descriptives: \n",
       "         observed freq. expected freq. specified prob.\n",
       "clubs                35             40             0.2\n",
       "diamonds             51             60             0.3\n",
       "hearts               64             60             0.3\n",
       "spades               50             40             0.2\n",
       "\n",
       "Test results: \n",
       "   X-squared statistic:  4.742 \n",
       "   degrees of freedom:  3 \n",
       "   p-value:  0.192 \n"
      ]
     },
     "metadata": {},
     "output_type": "display_data"
    }
   ],
   "source": [
    "nullProbs <- c(clubs=0.2, diamonds=0.3, hearts=0.3, spades=0.2)\n",
    "goodnessOfFitTest(x=cards$choice_1, p=nullProbs)"
   ]
  },
  {
   "attachments": {
    "image.png": {
     "image/png": "[encoded data removed]"
    }
   },
   "cell_type": "markdown",
   "id": "0a24a2ad",
   "metadata": {},
   "source": [
    "**How to report the results of the test**<br> \n",
    "\n",
    "![image.png](attachment:image.png)\n",
    "\n",
    "some notes:<br> \n",
    "- statistical test is preceded by the descriptive statistics \n",
    "- the description tells you what the null hypothesis being tested was\n",
    "- a 'stat block' is included\n",
    "- the results are interpreted\n",
    "\n",
    "**A comment on statistical notation**<br> \n",
    "\n",
    "always separate what the test statistic is and the sampling distribution. E.g: the test statistics was the goodness-of-fit, which came from a chi-squared sampling distribution<br> "
   ]
  },
  {
   "cell_type": "markdown",
   "id": "8e9b0a66",
   "metadata": {},
   "source": [
    "## The $\\chi^2$ test of independence (or association)\n",
    "\n",
    "experiment: found a bunch of robots and humans and asked them what their preferences are: A puppy, a pretty flower from your sweetie, or a properly-formatted data file\n",
    "\n",
    "Do humans and robots have the same preferences?"
   ]
  },
  {
   "cell_type": "code",
   "execution_count": 16,
   "id": "c6bd7c9c",
   "metadata": {},
   "outputs": [
    {
     "data": {
      "text/plain": [
       "   -- Name --      -- Class --   -- Size --\n",
       "   cards           data.frame    200 x 3   \n",
       "    $id            factor        200       \n",
       "    $choice_1      factor        200       \n",
       "    $choice_2      factor        200       \n",
       "   chapek9         data.frame    180 x 2   \n",
       "    $species       factor        180       \n",
       "    $choice        factor        180       \n",
       "   expected        numeric       4         \n",
       "   N               numeric       1         \n",
       "   nullProbs       numeric       4         \n",
       "   observed        table         4         \n",
       "   probabilities   numeric       4         "
      ]
     },
     "metadata": {},
     "output_type": "display_data"
    }
   ],
   "source": [
    "load(\"chapek9.Rdata\")\n",
    "who(TRUE)"
   ]
  },
  {
   "cell_type": "code",
   "execution_count": 17,
   "id": "9f57506c",
   "metadata": {},
   "outputs": [
    {
     "data": {
      "text/html": [
       "<table>\n",
       "<thead><tr><th scope=col>species</th><th scope=col>choice</th></tr></thead>\n",
       "<tbody>\n",
       "\t<tr><td>robot </td><td>flower</td></tr>\n",
       "\t<tr><td>human </td><td>data  </td></tr>\n",
       "\t<tr><td>human </td><td>data  </td></tr>\n",
       "\t<tr><td>human </td><td>data  </td></tr>\n",
       "\t<tr><td>robot </td><td>data  </td></tr>\n",
       "\t<tr><td>human </td><td>flower</td></tr>\n",
       "</tbody>\n",
       "</table>\n"
      ],
      "text/latex": [
       "\\begin{tabular}{r|ll}\n",
       " species & choice\\\\\n",
       "\\hline\n",
       "\t robot  & flower\\\\\n",
       "\t human  & data  \\\\\n",
       "\t human  & data  \\\\\n",
       "\t human  & data  \\\\\n",
       "\t robot  & data  \\\\\n",
       "\t human  & flower\\\\\n",
       "\\end{tabular}\n"
      ],
      "text/markdown": [
       "\n",
       "| species | choice |\n",
       "|---|---|\n",
       "| robot  | flower |\n",
       "| human  | data   |\n",
       "| human  | data   |\n",
       "| human  | data   |\n",
       "| robot  | data   |\n",
       "| human  | flower |\n",
       "\n"
      ],
      "text/plain": [
       "  species choice\n",
       "1 robot   flower\n",
       "2 human   data  \n",
       "3 human   data  \n",
       "4 human   data  \n",
       "5 robot   data  \n",
       "6 human   flower"
      ]
     },
     "metadata": {},
     "output_type": "display_data"
    }
   ],
   "source": [
    "head(chapek9)"
   ]
  },
  {
   "cell_type": "code",
   "execution_count": 18,
   "id": "d59a6d29",
   "metadata": {},
   "outputs": [
    {
     "data": {
      "text/plain": [
       "  species      choice   \n",
       " robot:87   puppy : 28  \n",
       " human:93   flower: 43  \n",
       "            data  :109  "
      ]
     },
     "metadata": {},
     "output_type": "display_data"
    }
   ],
   "source": [
    "summary(chapek9)"
   ]
  },
  {
   "cell_type": "markdown",
   "id": "602c4211",
   "metadata": {},
   "source": [
    "break down the choices by species"
   ]
  },
  {
   "cell_type": "code",
   "execution_count": 19,
   "id": "bf18cb83",
   "metadata": {},
   "outputs": [
    {
     "data": {
      "text/plain": [
       "        species\n",
       "choice   robot human\n",
       "  puppy     13    15\n",
       "  flower    30    13\n",
       "  data      44    65"
      ]
     },
     "metadata": {},
     "output_type": "display_data"
    }
   ],
   "source": [
    "chapekFrequencies <- xtabs(~ choice+species, data=chapek9)\n",
    "chapekFrequencies"
   ]
  },
  {
   "attachments": {
    "image-2.png": {
     "image/png": "[encoded data removed]"
    },
    "image-3.png": {
     "image/png": "[encoded data removed]"
    },
    "image-4.png": {
     "image/png": "[encoded data removed]"
    },
    "image.png": {
     "image/png": "[encoded data removed]"
    }
   },
   "cell_type": "markdown",
   "id": "a28370a7",
   "metadata": {},
   "source": [
    "Is the discrepancy between humans and robots statistically significant?<br> \n",
    "\n",
    "**Constructing the hypothesis test**\n",
    "\n",
    "![image.png](attachment:image.png)\n",
    "\n",
    "![image-2.png](attachment:image-2.png)\n",
    "\n",
    "Note: this is exactly the same as the chi-squared test for homogenity\n",
    "\n",
    "**Calculate expected frequencies**<br> \n",
    "\n",
    "$$\n",
    "\\text{expected frequency} = E_{ij} = C_j (\\text{Cj people in species j})\\times P_i (\\text{probability of choosing i})\n",
    "$$\n",
    "\n",
    "We need to estimate Pi from the data\n",
    "$$\n",
    "\\hat{P}_i = \\frac{R_i}{N}\n",
    "$$\n",
    "\n",
    "so:\n",
    "$$\n",
    "E_{ij} = \\frac{R_i \\times C_j}{N}\n",
    "$$\n",
    "\n",
    "**Define the test statistic**<br> \n",
    "\n",
    "$$\n",
    "X^2 = \\sum_{i=1}^{r}\\sum_{j=1}^{c} = \\frac{(E_{ij}-O_{ij})^2}{E_{ij}}\n",
    "$$\n",
    "\n",
    "this is chi-squared distributed with $r \\times c$ degrees of freedom. However, for constraints:<br> \n",
    "$$\n",
    "df = (r-1)(c-1)\n",
    "$$\n",
    "\n",
    "why depends on experimental design<br> \n",
    "**intended to get exactly 87 robots and 93 humans and left row totals free to vary**:<br> \n",
    "c constraints b/c of fixing column totals. every free parameter in the null hypothesis is like an additional constraint. since probs sum to 1, r-1 of those:\n",
    "\n",
    "![image-3.png](attachment:image-3.png)\n",
    "\n",
    "**Fix total sample size**<br> \n",
    "just test first 180 people that showed up. r-1 free params in null hypothesis, c-1 free params corresponding to species probs<br> \n",
    "\n",
    "![image-4.png](attachment:image-4.png)"
   ]
  },
  {
   "cell_type": "markdown",
   "id": "fd796628",
   "metadata": {},
   "source": [
    "**Doing the test in R**\n",
    "\n",
    "can use chisq.test(), but first use associationTest() in lsr package"
   ]
  },
  {
   "cell_type": "code",
   "execution_count": 22,
   "id": "d0783e37",
   "metadata": {},
   "outputs": [
    {
     "data": {
      "text/plain": [
       "        species\n",
       "choice   robot human\n",
       "  puppy     13    15\n",
       "  flower    30    13\n",
       "  data      44    65"
      ]
     },
     "metadata": {},
     "output_type": "display_data"
    }
   ],
   "source": [
    "xtabs(~choice+species, data=chapek9)"
   ]
  },
  {
   "cell_type": "code",
   "execution_count": 23,
   "id": "30d02ab9",
   "metadata": {},
   "outputs": [
    {
     "data": {
      "text/plain": [
       "\n",
       "     Chi-square test of categorical association\n",
       "\n",
       "Variables:   choice, species \n",
       "\n",
       "Hypotheses: \n",
       "   null:        variables are independent of one another\n",
       "   alternative: some contingency exists between variables\n",
       "\n",
       "Observed contingency table:\n",
       "        species\n",
       "choice   robot human\n",
       "  puppy     13    15\n",
       "  flower    30    13\n",
       "  data      44    65\n",
       "\n",
       "Expected contingency table under the null hypothesis:\n",
       "        species\n",
       "choice   robot human\n",
       "  puppy   13.5  14.5\n",
       "  flower  20.8  22.2\n",
       "  data    52.7  56.3\n",
       "\n",
       "Test results: \n",
       "   X-squared statistic:  10.722 \n",
       "   degrees of freedom:  2 \n",
       "   p-value:  0.005 \n",
       "\n",
       "Other information: \n",
       "   estimated effect size (Cramer's v):  0.244 \n"
      ]
     },
     "metadata": {},
     "output_type": "display_data"
    }
   ],
   "source": [
    "associationTest(formula=~choice+species, data=chapek9)"
   ]
  },
  {
   "attachments": {
    "image.png": {
     "image/png": "[encoded data removed]"
    }
   },
   "cell_type": "markdown",
   "id": "a639cd73",
   "metadata": {},
   "source": [
    "![image.png](attachment:image.png)"
   ]
  },
  {
   "cell_type": "markdown",
   "id": "cb984e1d",
   "metadata": {},
   "source": [
    "## The continuity correction\n",
    "\n",
    "**Yates correction**<br> \n",
    "\n",
    "Things break down when you only have 1 dof. The $\\chi^2$ test is based on the assumption that the binomial distribution looks like a normal for large N, but it doesn't quite work with 1 dof. <br>\n",
    "\n",
    "$X^2$ is actually discrete (b/c of categorical data), but $\\chi^2$ is continuous. Goodness of fit statistic tends to be too big (i.e. p value is too small). Redefine the statistic as:\n",
    "\n",
    "$$\n",
    "X^2 = \\sum_i \\frac{(|E_i-O_i| - 0.5)^2}{E_i}\n",
    "$$\n",
    "\n",
    "It's basically a hack"
   ]
  },
  {
   "cell_type": "markdown",
   "id": "e15cc014",
   "metadata": {},
   "source": [
    "## Effect size\n",
    "\n",
    "$\\phi$ statistic and Cramer's V. \n",
    "\n",
    "\n",
    "$$\n",
    "\\phi = \\sqrt{\\frac{X^2}{N}}\n",
    "$$\n",
    "0 (no association) to 1 (perfect association). may be bigger than 1 when contingency table is larger than 2x2. people usually report V:\n",
    "\n",
    "$$\n",
    "V = \\sqrt{\\frac{X^2}{N(k-1)}}\n",
    "$$\n",
    "\n",
    "where $k=\\text{min(num_rows, num_columns)}$\n",
    "\n",
    "use cramersV() from lsr"
   ]
  },
  {
   "cell_type": "code",
   "execution_count": 24,
   "id": "cc8574d9",
   "metadata": {},
   "outputs": [
    {
     "data": {
      "text/html": [
       "0.24405795978956"
      ],
      "text/latex": [
       "0.24405795978956"
      ],
      "text/markdown": [
       "0.24405795978956"
      ],
      "text/plain": [
       "[1] 0.244058"
      ]
     },
     "metadata": {},
     "output_type": "display_data"
    }
   ],
   "source": [
    "cramersV(chapekFrequencies)"
   ]
  },
  {
   "cell_type": "markdown",
   "id": "3e6524ce",
   "metadata": {},
   "source": [
    "## Assumptions of the test\n",
    "\n",
    "- Expected frequenceis are sufficiently large. In general, all expected frequencies should be larger than 5. \n",
    "- data are independent of one another. \n",
    "\n",
    "if independence is violated: can use McNemar or Cochran test. If cell counts (frequencies?) are too small, use Fisher exact test."
   ]
  },
  {
   "cell_type": "markdown",
   "id": "388076f1",
   "metadata": {},
   "source": [
    "## The most typical way to do chi-square in R"
   ]
  },
  {
   "cell_type": "code",
   "execution_count": 26,
   "id": "adbeccb2",
   "metadata": {},
   "outputs": [
    {
     "data": {
      "text/plain": [
       "\n",
       "\tChi-squared test for given probabilities\n",
       "\n",
       "data:  observed\n",
       "X-squared = 8.44, df = 3, p-value = 0.03774\n"
      ]
     },
     "metadata": {},
     "output_type": "display_data"
    }
   ],
   "source": [
    "chisq.test(x=observed)"
   ]
  },
  {
   "cell_type": "code",
   "execution_count": 27,
   "id": "906f087d",
   "metadata": {},
   "outputs": [
    {
     "data": {
      "text/plain": [
       "\n",
       "\tChi-squared test for given probabilities\n",
       "\n",
       "data:  observed\n",
       "X-squared = 4.7417, df = 3, p-value = 0.1917\n"
      ]
     },
     "metadata": {},
     "output_type": "display_data"
    }
   ],
   "source": [
    "chisq.test(x=observed, p=c(0.2, 0.3, 0.3, 0.2))"
   ]
  },
  {
   "cell_type": "markdown",
   "id": "03e76d83",
   "metadata": {},
   "source": [
    "If you give it a crosstab, the function knows you want a test of independence"
   ]
  },
  {
   "cell_type": "code",
   "execution_count": 29,
   "id": "c3b5e5dc",
   "metadata": {},
   "outputs": [
    {
     "data": {
      "text/plain": [
       "\n",
       "\tPearson's Chi-squared test\n",
       "\n",
       "data:  chapekFrequencies\n",
       "X-squared = 10.722, df = 2, p-value = 0.004697\n"
      ]
     },
     "metadata": {},
     "output_type": "display_data"
    }
   ],
   "source": [
    "chisq.test(chapekFrequencies)"
   ]
  },
  {
   "cell_type": "markdown",
   "id": "a60c5f9d",
   "metadata": {},
   "source": [
    "## Fisher exact test\n",
    "\n",
    "What to do if cell counts are too small? "
   ]
  },
  {
   "cell_type": "code",
   "execution_count": 31,
   "id": "4b29d601",
   "metadata": {},
   "outputs": [
    {
     "data": {
      "text/plain": [
       "   -- Name --          -- Class --   -- Size --\n",
       "   cards               data.frame    200 x 3   \n",
       "    $id                factor        200       \n",
       "    $choice_1          factor        200       \n",
       "    $choice_2          factor        200       \n",
       "   chapek9             data.frame    180 x 2   \n",
       "    $species           factor        180       \n",
       "    $choice            factor        180       \n",
       "   chapekFrequencies   xtabs         3 x 2     \n",
       "   expected            numeric       4         \n",
       "   N                   numeric       1         \n",
       "   nullProbs           numeric       4         \n",
       "   observed            table         4         \n",
       "   probabilities       numeric       4         \n",
       "   trial               data.frame    16 x 2    \n",
       "    $happy             logical       16        \n",
       "    $on.fire           logical       16        "
      ]
     },
     "metadata": {},
     "output_type": "display_data"
    }
   ],
   "source": [
    "load(\"salem.Rdata\")\n",
    "who(TRUE)"
   ]
  },
  {
   "cell_type": "code",
   "execution_count": 32,
   "id": "6ab79190",
   "metadata": {},
   "outputs": [
    {
     "name": "stdout",
     "output_type": "stream",
     "text": [
      "       on.fire\n",
      "happy   FALSE TRUE\n",
      "  FALSE     3    3\n",
      "  TRUE     10    0\n"
     ]
    }
   ],
   "source": [
    "salem.tabs <- table(trial)\n",
    "print(salem.tabs)"
   ]
  },
  {
   "cell_type": "code",
   "execution_count": 33,
   "id": "fc6f173f",
   "metadata": {},
   "outputs": [
    {
     "name": "stderr",
     "output_type": "stream",
     "text": [
      "Warning message in chisq.test(salem.tabs):\n",
      "“Chi-squared approximation may be incorrect”\n"
     ]
    },
    {
     "data": {
      "text/plain": [
       "\n",
       "\tPearson's Chi-squared test with Yates' continuity correction\n",
       "\n",
       "data:  salem.tabs\n",
       "X-squared = 3.3094, df = 1, p-value = 0.06888\n"
      ]
     },
     "metadata": {},
     "output_type": "display_data"
    }
   ],
   "source": [
    "chisq.test(salem.tabs)"
   ]
  },
  {
   "attachments": {
    "image.png": {
     "image/png": "[encoded data removed]"
    }
   },
   "cell_type": "markdown",
   "id": "a89b2b24",
   "metadata": {},
   "source": [
    "Fischer's exact test doesn't use a test statistic, it gets the p-value directly<br> \n",
    "\n",
    "![image.png](attachment:image.png)\n",
    "\n",
    "treats both row and column totals as known, fixed quantities- then gives us the probability that we would have gotten those frequencies. \n",
    "\n",
    "$$\n",
    "P(O_{11}, O_{12}, O_{21}, O_{22} | R_1, R_2, R_3, R_4) \n",
    "$$\n",
    "\n",
    "comes from a hypergeometric distribution<br> \n",
    "\n",
    "calulate the probability of observing this table or a table that is more extreme. "
   ]
  },
  {
   "cell_type": "code",
   "execution_count": 34,
   "id": "305fba15",
   "metadata": {},
   "outputs": [
    {
     "data": {
      "text/plain": [
       "\n",
       "\tFisher's Exact Test for Count Data\n",
       "\n",
       "data:  salem.tabs\n",
       "p-value = 0.03571\n",
       "alternative hypothesis: true odds ratio is not equal to 1\n",
       "95 percent confidence interval:\n",
       " 0.000000 1.202913\n",
       "sample estimates:\n",
       "odds ratio \n",
       "         0 \n"
      ]
     },
     "metadata": {},
     "output_type": "display_data"
    }
   ],
   "source": [
    "fisher.test(salem.tabs)"
   ]
  },
  {
   "attachments": {
    "image-2.png": {
     "image/png": "[encoded data removed]"
    },
    "image-3.png": {
     "image/png": "[encoded data removed]"
    },
    "image.png": {
     "image/png": "[encoded data removed]"
    }
   },
   "cell_type": "markdown",
   "id": "f90e2414",
   "metadata": {},
   "source": [
    "## McNemar test\n",
    "\n",
    "Figure out how effective some political advertisements are. N=100 people to watch ads. Ask who they'll vote for before and after the ads. \n",
    "\n",
    "![image.png](attachment:image.png)\n",
    "\n",
    "100 people, but 200 observations. This is a violation of independence!<br> \n",
    "\n",
    "tabulate your data in a different way: <br>\n",
    "\n",
    "![image-3.png](attachment:image-3.png)\n",
    "\n",
    "when writing data this way, independence assumption can be satisfied. <br> \n",
    "we can use this to give us an $X^2$ goodness of fit statistic.<br> \n",
    "\n",
    "![image-2.png](attachment:image-2.png)\n",
    "\n",
    "\n",
    "Null hypothesis: The before test and after test answers have the same porportion of people saying \"Yes, I will vote for AGPP\". We are testing the hypothesis that the row and column totals come from the same distribution.\n",
    "\n",
    "$$\n",
    "P_a + P_b = P_a + P_c\n",
    "$$\n",
    "\n",
    "$$\n",
    "P_c + P_d = P_b + P_d\n",
    "$$\n",
    "\n",
    "The null hypothesis boils down to:\n",
    "$$\n",
    "P_b = P_c\n",
    "$$\n",
    "\n",
    "So its only the off-diagonal entries that matter!<br> \n",
    "\n",
    "**This is the McNemar test of marginal homogenity**<br> \n",
    "same as a usual $\\chi^2$ test with the yates correction<br> \n",
    "\n",
    "$$\n",
    "X^2 = \\frac{(|b-c|-0.5)^2}{b+c}\n",
    "$$"
   ]
  },
  {
   "cell_type": "markdown",
   "id": "1dc6c064",
   "metadata": {},
   "source": [
    "**Doing the McNemar test in R**"
   ]
  },
  {
   "cell_type": "code",
   "execution_count": 35,
   "id": "f024c0f3",
   "metadata": {},
   "outputs": [
    {
     "data": {
      "text/plain": [
       "   -- Name --          -- Class --   -- Size --\n",
       "   agpp                data.frame    100 x 3   \n",
       "    $id                factor        100       \n",
       "    $response_before   factor        100       \n",
       "    $response_after    factor        100       \n",
       "   cards               data.frame    200 x 3   \n",
       "    $id                factor        200       \n",
       "    $choice_1          factor        200       \n",
       "    $choice_2          factor        200       \n",
       "   chapek9             data.frame    180 x 2   \n",
       "    $species           factor        180       \n",
       "    $choice            factor        180       \n",
       "   chapekFrequencies   xtabs         3 x 2     \n",
       "   expected            numeric       4         \n",
       "   N                   numeric       1         \n",
       "   nullProbs           numeric       4         \n",
       "   observed            table         4         \n",
       "   probabilities       numeric       4         \n",
       "   salem.tabs          table         2 x 2     \n",
       "   trial               data.frame    16 x 2    \n",
       "    $happy             logical       16        \n",
       "    $on.fire           logical       16        "
      ]
     },
     "metadata": {},
     "output_type": "display_data"
    }
   ],
   "source": [
    "load(\"agpp.Rdata\")\n",
    "who(TRUE)"
   ]
  },
  {
   "cell_type": "code",
   "execution_count": 36,
   "id": "2463d61f",
   "metadata": {},
   "outputs": [
    {
     "data": {
      "text/html": [
       "<table>\n",
       "<thead><tr><th scope=col>id</th><th scope=col>response_before</th><th scope=col>response_after</th></tr></thead>\n",
       "<tbody>\n",
       "\t<tr><td>subj.1</td><td>no    </td><td>yes   </td></tr>\n",
       "\t<tr><td>subj.2</td><td>yes   </td><td>no    </td></tr>\n",
       "\t<tr><td>subj.3</td><td>yes   </td><td>no    </td></tr>\n",
       "\t<tr><td>subj.4</td><td>yes   </td><td>no    </td></tr>\n",
       "\t<tr><td>subj.5</td><td>no    </td><td>no    </td></tr>\n",
       "\t<tr><td>subj.6</td><td>no    </td><td>no    </td></tr>\n",
       "</tbody>\n",
       "</table>\n"
      ],
      "text/latex": [
       "\\begin{tabular}{r|lll}\n",
       " id & response\\_before & response\\_after\\\\\n",
       "\\hline\n",
       "\t subj.1 & no     & yes   \\\\\n",
       "\t subj.2 & yes    & no    \\\\\n",
       "\t subj.3 & yes    & no    \\\\\n",
       "\t subj.4 & yes    & no    \\\\\n",
       "\t subj.5 & no     & no    \\\\\n",
       "\t subj.6 & no     & no    \\\\\n",
       "\\end{tabular}\n"
      ],
      "text/markdown": [
       "\n",
       "| id | response_before | response_after |\n",
       "|---|---|---|\n",
       "| subj.1 | no     | yes    |\n",
       "| subj.2 | yes    | no     |\n",
       "| subj.3 | yes    | no     |\n",
       "| subj.4 | yes    | no     |\n",
       "| subj.5 | no     | no     |\n",
       "| subj.6 | no     | no     |\n",
       "\n"
      ],
      "text/plain": [
       "  id     response_before response_after\n",
       "1 subj.1 no              yes           \n",
       "2 subj.2 yes             no            \n",
       "3 subj.3 yes             no            \n",
       "4 subj.4 yes             no            \n",
       "5 subj.5 no              no            \n",
       "6 subj.6 no              no            "
      ]
     },
     "metadata": {},
     "output_type": "display_data"
    }
   ],
   "source": [
    "head(agpp)"
   ]
  },
  {
   "cell_type": "code",
   "execution_count": 39,
   "id": "d0d965cb",
   "metadata": {},
   "outputs": [
    {
     "data": {
      "text/plain": [
       "        id     response_before response_after\n",
       " subj.1  : 1   no :70          no :90        \n",
       " subj.10 : 1   yes:30          yes:10        \n",
       " subj.100: 1                                 \n",
       " subj.11 : 1                                 \n",
       " subj.12 : 1                                 \n",
       " subj.13 : 1                                 \n",
       " (Other) :94                                 "
      ]
     },
     "metadata": {},
     "output_type": "display_data"
    }
   ],
   "source": [
    "summary(agpp)"
   ]
  },
  {
   "cell_type": "code",
   "execution_count": 40,
   "id": "18410224",
   "metadata": {},
   "outputs": [
    {
     "name": "stdout",
     "output_type": "stream",
     "text": [
      "               response_after\n",
      "response_before no yes\n",
      "            no  65   5\n",
      "            yes 25   5\n"
     ]
    }
   ],
   "source": [
    "right.table <- xtabs(~response_before+response_after, data=agpp)\n",
    "print(right.table)"
   ]
  },
  {
   "cell_type": "code",
   "execution_count": 41,
   "id": "48424a30",
   "metadata": {},
   "outputs": [
    {
     "data": {
      "text/plain": [
       "\n",
       "\tMcNemar's Chi-squared test with continuity correction\n",
       "\n",
       "data:  right.table\n",
       "McNemar's chi-squared = 12.033, df = 1, p-value = 0.0005226\n"
      ]
     },
     "metadata": {},
     "output_type": "display_data"
    }
   ],
   "source": [
    "mcnemar.test(right.table)"
   ]
  },
  {
   "cell_type": "markdown",
   "id": "635419cf",
   "metadata": {},
   "source": [
    "## What's the difference between McNemar and independence?"
   ]
  },
  {
   "cell_type": "markdown",
   "id": "b97f0e37",
   "metadata": {},
   "source": [
    "From beginning of chapter: we actually had people make 2 card choices. <br> \n",
    "we can crosstab the first choice against second choice"
   ]
  },
  {
   "cell_type": "code",
   "execution_count": 42,
   "id": "b48caa3b",
   "metadata": {},
   "outputs": [
    {
     "data": {
      "text/plain": [
       "          choice_2\n",
       "choice_1   clubs diamonds hearts spades\n",
       "  clubs       10        9     10      6\n",
       "  diamonds    20        4     13     14\n",
       "  hearts      20       18      3     23\n",
       "  spades      18       13     15      4"
      ]
     },
     "metadata": {},
     "output_type": "display_data"
    }
   ],
   "source": [
    "cardChoices <- xtabs(~choice_1 + choice_2, data=cards)\n",
    "cardChoices"
   ]
  },
  {
   "cell_type": "markdown",
   "id": "d6b7f57b",
   "metadata": {},
   "source": [
    "Is the choice you made the second time dependent on the choice you made the first time? "
   ]
  },
  {
   "cell_type": "code",
   "execution_count": 43,
   "id": "ecc4d322",
   "metadata": {},
   "outputs": [
    {
     "data": {
      "text/plain": [
       "\n",
       "\tPearson's Chi-squared test\n",
       "\n",
       "data:  cardChoices\n",
       "X-squared = 29.237, df = 9, p-value = 0.0005909\n"
      ]
     },
     "metadata": {},
     "output_type": "display_data"
    }
   ],
   "source": [
    "chisq.test(cardChoices)"
   ]
  },
  {
   "cell_type": "markdown",
   "id": "9fa73949",
   "metadata": {},
   "source": [
    "ON average, were the frequencies of suit choices different the second time? (i.e. are the row totals in cardChoices (frequencies for choice 1) different from column totals (frequencies for choice 2))"
   ]
  },
  {
   "cell_type": "code",
   "execution_count": 44,
   "id": "5e21331e",
   "metadata": {},
   "outputs": [
    {
     "data": {
      "text/plain": [
       "\n",
       "\tMcNemar's Chi-squared test\n",
       "\n",
       "data:  cardChoices\n",
       "McNemar's chi-squared = 16.033, df = 6, p-value = 0.01358\n"
      ]
     },
     "metadata": {},
     "output_type": "display_data"
    }
   ],
   "source": [
    "mcnemar.test(cardChoices)"
   ]
  },
  {
   "cell_type": "markdown",
   "id": "ded87a04",
   "metadata": {},
   "source": [
    "## Summary\n",
    "\n",
    "- chi-squared goodness of fit: comparing observed probabilities against what you think the probabilies are\n",
    "- chi-squared test of independence: contingency table (cross-tab) of 2 categorical variables. Null: there is no association\n",
    "- Effect size for contingency: usually Cramer's V\n",
    "- 2 assumptions:\n",
    "    - expected frequencies are sufficiently large (if not, use Fisher exact test)\n",
    "    - data are independent (if not, use mcnemar)"
   ]
  }
 ],
 "metadata": {
  "kernelspec": {
   "display_name": "R",
   "language": "R",
   "name": "ir"
  },
  "language_info": {
   "codemirror_mode": "r",
   "file_extension": ".r",
   "mimetype": "text/x-r-source",
   "name": "R",
   "pygments_lexer": "r",
   "version": "3.6.1"
  }
 },
 "nbformat": 4,
 "nbformat_minor": 5
}
