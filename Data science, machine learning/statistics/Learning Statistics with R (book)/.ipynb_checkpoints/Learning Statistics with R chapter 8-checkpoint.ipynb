{
 "cells": [
  {
   "cell_type": "markdown",
   "id": "5373d921",
   "metadata": {},
   "source": [
    "# Basic programming"
   ]
  },
  {
   "cell_type": "markdown",
   "id": "2e45ef24",
   "metadata": {},
   "source": [
    "save scripts with .R extension\n",
    "\n",
    "run using source()"
   ]
  },
  {
   "cell_type": "code",
   "execution_count": 2,
   "id": "98c8a1e3",
   "metadata": {},
   "outputs": [
    {
     "name": "stdout",
     "output_type": "stream",
     "text": [
      "[1] \"Hello World!\"\n"
     ]
    }
   ],
   "source": [
    "source(\"hello.R\")"
   ]
  },
  {
   "cell_type": "markdown",
   "id": "59ed51fa",
   "metadata": {},
   "source": [
    "best practice is to use require() to load a package in a script"
   ]
  },
  {
   "cell_type": "markdown",
   "id": "59125ae9",
   "metadata": {},
   "source": [
    "### While loops\n",
    "\n",
    "`while ( CONDITION ) {\n",
    "    STATEMENT 1\n",
    "    STATEMENT 2\n",
    "    ETC\n",
    "}`"
   ]
  },
  {
   "cell_type": "code",
   "execution_count": 3,
   "id": "a3b2cf83",
   "metadata": {},
   "outputs": [
    {
     "name": "stdout",
     "output_type": "stream",
     "text": [
      "[1] 1003\n"
     ]
    }
   ],
   "source": [
    "x <- 0\n",
    "\n",
    "while( x < 1000 ) {\n",
    "  x <- x + 17\n",
    "} \n",
    "print(x)"
   ]
  },
  {
   "cell_type": "markdown",
   "id": "515de4a7",
   "metadata": {},
   "source": [
    "### For loops\n",
    "\n",
    "`for ( VAR in VECTOR ) {\n",
    "    STATEMENT1\n",
    "    STATEMENT2\n",
    "    ETC\n",
    "}`"
   ]
  },
  {
   "cell_type": "code",
   "execution_count": 4,
   "id": "d4f1df9e",
   "metadata": {},
   "outputs": [
    {
     "name": "stdout",
     "output_type": "stream",
     "text": [
      "[1] \"Hello\"\n",
      "[1] \"Hello\"\n",
      "[1] \"Hello\"\n"
     ]
    }
   ],
   "source": [
    "for ( i in 1:3 ) {\n",
    "  print(\"Hello\")\n",
    "}"
   ]
  },
  {
   "cell_type": "code",
   "execution_count": 5,
   "id": "1760e4ad",
   "metadata": {},
   "outputs": [
    {
     "name": "stdout",
     "output_type": "stream",
     "text": [
      "[1] \"IT has 2 letters\"\n",
      "[1] \"WAS has 3 letters\"\n",
      "[1] \"THE has 3 letters\"\n",
      "[1] \"DIRTY has 5 letters\"\n",
      "[1] \"END has 3 letters\"\n",
      "[1] \"OF has 2 letters\"\n",
      "[1] \"WINTER has 6 letters\"\n"
     ]
    }
   ],
   "source": [
    "words <- c(\"it\", \"was\", \"the\", \"dirty\", \"end\", \"of\", \"winter\")\n",
    "\n",
    "for (w in words){\n",
    "  x.length <- nchar(w)\n",
    "  W <- toupper(w)\n",
    "  msg <- paste(W, \"has\", x.length, \"letters\", sep=\" \")\n",
    "  print(msg)\n",
    "}"
   ]
  },
  {
   "cell_type": "markdown",
   "id": "d8208370",
   "metadata": {},
   "source": [
    "## conditional statements\n",
    "\n",
    "`if ( CONDITION ) {\n",
    "    STATEMENT1\n",
    "    STATEMENT2\n",
    "    ETC\n",
    "} else{\n",
    "    STATEMENT3\n",
    "    STATEMENT4\n",
    "    ETC\n",
    "}`"
   ]
  },
  {
   "cell_type": "code",
   "execution_count": 6,
   "id": "a511d417",
   "metadata": {},
   "outputs": [
    {
     "name": "stdout",
     "output_type": "stream",
     "text": [
      "[1] \"I don't like Mondays\"\n"
     ]
    }
   ],
   "source": [
    "today <- Sys.Date()\n",
    "day <- weekdays(today)\n",
    "\n",
    "if (day==\"Monday\"){\n",
    "  print(\"I don't like Mondays\")\n",
    "} else {\n",
    "  pirnt(\"I'm a happy little automaton\")\n",
    "}"
   ]
  },
  {
   "cell_type": "markdown",
   "id": "77c58ebd",
   "metadata": {},
   "source": [
    "can also use `ifelse()` and `switch()`"
   ]
  },
  {
   "cell_type": "markdown",
   "id": "04499e34",
   "metadata": {},
   "source": [
    "## Writing functions\n",
    "\n",
    "`FNAME <- function(ARG1, ARG2, ETC){\n",
    "    STATEMENT1\n",
    "    STATEMENT2\n",
    "    ETC\n",
    "    return(VALUE)\n",
    "}`"
   ]
  },
  {
   "cell_type": "code",
   "execution_count": 7,
   "id": "527a5ed6",
   "metadata": {},
   "outputs": [
    {
     "data": {
      "text/html": [
       "'function'"
      ],
      "text/latex": [
       "'function'"
      ],
      "text/markdown": [
       "'function'"
      ],
      "text/plain": [
       "[1] \"function\""
      ]
     },
     "metadata": {},
     "output_type": "display_data"
    }
   ],
   "source": [
    "quadruple <- function(x) {\n",
    "  y <- x*4\n",
    "  return(y)\n",
    "}\n",
    "\n",
    "class(quadruple)"
   ]
  },
  {
   "cell_type": "code",
   "execution_count": 8,
   "id": "6b0fbe7e",
   "metadata": {},
   "outputs": [
    {
     "data": {
      "text/html": [
       "16"
      ],
      "text/latex": [
       "16"
      ],
      "text/markdown": [
       "16"
      ],
      "text/plain": [
       "[1] 16"
      ]
     },
     "metadata": {},
     "output_type": "display_data"
    }
   ],
   "source": [
    "quadruple(4)"
   ]
  },
  {
   "cell_type": "code",
   "execution_count": 10,
   "id": "d54e1c6e",
   "metadata": {},
   "outputs": [
    {
     "data": {
      "text/html": [
       "<pre class=language-r><code>function (x) \n",
       "{\n",
       "<span style=white-space:pre-wrap>    y &lt;- x * 4</span>\n",
       "<span style=white-space:pre-wrap>    return(y)</span>\n",
       "}</code></pre>"
      ],
      "text/latex": [
       "\\begin{minted}{r}\n",
       "function (x) \n",
       "\\{\n",
       "    y <- x * 4\n",
       "    return(y)\n",
       "\\}\n",
       "\\end{minted}"
      ],
      "text/markdown": [
       "```r\n",
       "function (x) \n",
       "{\n",
       "    y <- x * 4\n",
       "    return(y)\n",
       "}\n",
       "```"
      ],
      "text/plain": [
       "function(x) {\n",
       "  y <- x*4\n",
       "  return(y)\n",
       "}"
      ]
     },
     "metadata": {},
     "output_type": "display_data"
    }
   ],
   "source": [
    "quadruple"
   ]
  },
  {
   "cell_type": "markdown",
   "id": "7e955962",
   "metadata": {},
   "source": [
    "Follows the same rules as python for default arguments\n",
    "\n",
    "... = mechanism to allow users to enter as many inputs as they like"
   ]
  },
  {
   "cell_type": "code",
   "execution_count": 12,
   "id": "6189cd2f",
   "metadata": {},
   "outputs": [
    {
     "data": {
      "text/html": [
       "12"
      ],
      "text/latex": [
       "12"
      ],
      "text/markdown": [
       "12"
      ],
      "text/plain": [
       "[1] 12"
      ]
     },
     "metadata": {},
     "output_type": "display_data"
    }
   ],
   "source": [
    "doubleMax <- function(...){\n",
    "  max.val <- max(...)\n",
    "  out <- 2*max.val\n",
    "  return(out)\n",
    "}\n",
    "\n",
    "doubleMax(2, 3, 6)"
   ]
  },
  {
   "cell_type": "markdown",
   "id": "1f44dea0",
   "metadata": {},
   "source": [
    "assign() - create variables in other environments<br> \n",
    "functionas can be assigned as elements of a list<br> "
   ]
  },
  {
   "cell_type": "markdown",
   "id": "e9ffabc0",
   "metadata": {},
   "source": [
    "## Implicit loops"
   ]
  },
  {
   "cell_type": "code",
   "execution_count": 14,
   "id": "4bef9b3d",
   "metadata": {},
   "outputs": [
    {
     "data": {
      "text/html": [
       "<dl class=dl-horizontal>\n",
       "\t<dt>along</dt>\n",
       "\t\t<dd>5</dd>\n",
       "\t<dt>the</dt>\n",
       "\t\t<dd>3</dd>\n",
       "\t<dt>loom</dt>\n",
       "\t\t<dd>4</dd>\n",
       "\t<dt>of</dt>\n",
       "\t\t<dd>2</dd>\n",
       "\t<dt>the</dt>\n",
       "\t\t<dd>3</dd>\n",
       "\t<dt>land</dt>\n",
       "\t\t<dd>4</dd>\n",
       "</dl>\n"
      ],
      "text/latex": [
       "\\begin{description*}\n",
       "\\item[along] 5\n",
       "\\item[the] 3\n",
       "\\item[loom] 4\n",
       "\\item[of] 2\n",
       "\\item[the] 3\n",
       "\\item[land] 4\n",
       "\\end{description*}\n"
      ],
      "text/markdown": [
       "along\n",
       ":   5the\n",
       ":   3loom\n",
       ":   4of\n",
       ":   2the\n",
       ":   3land\n",
       ":   4\n",
       "\n"
      ],
      "text/plain": [
       "along   the  loom    of   the  land \n",
       "    5     3     4     2     3     4 "
      ]
     },
     "metadata": {},
     "output_type": "display_data"
    }
   ],
   "source": [
    "words <- c(\"along\", \"the\", \"loom\", \"of\", \"the\", \"land\")\n",
    "sapply(X=words, FUN=nchar)"
   ]
  },
  {
   "cell_type": "markdown",
   "id": "9f54b7b0",
   "metadata": {},
   "source": [
    "`tapply()` - loop over all different values that appear in INDEX. each value defines a group: tapply() makes a subset of X that corresponds to that group and applies FUN to them"
   ]
  },
  {
   "cell_type": "code",
   "execution_count": 15,
   "id": "295000b4",
   "metadata": {},
   "outputs": [],
   "source": [
    "load(\"nightgarden.Rdata\")"
   ]
  },
  {
   "cell_type": "code",
   "execution_count": 16,
   "id": "80e8d756",
   "metadata": {},
   "outputs": [
    {
     "data": {
      "text/html": [
       "<dl class=dl-horizontal>\n",
       "\t<dt>female</dt>\n",
       "\t\t<dd>10</dd>\n",
       "\t<dt>male</dt>\n",
       "\t\t<dd>11.6666666666667</dd>\n",
       "</dl>\n"
      ],
      "text/latex": [
       "\\begin{description*}\n",
       "\\item[female] 10\n",
       "\\item[male] 11.6666666666667\n",
       "\\end{description*}\n"
      ],
      "text/markdown": [
       "female\n",
       ":   10male\n",
       ":   11.6666666666667\n",
       "\n"
      ],
      "text/plain": [
       "  female     male \n",
       "10.00000 11.66667 "
      ]
     },
     "metadata": {},
     "output_type": "display_data"
    }
   ],
   "source": [
    "gender <- c(\"male\", \"male\", \"female\", \"female\", \"male\")\n",
    "age <- c(10, 12, 9, 11, 13)\n",
    "tapply(X=age, INDEX=gender, FUN=mean)"
   ]
  },
  {
   "cell_type": "markdown",
   "id": "e8881802",
   "metadata": {},
   "source": [
    "by() does something very similar but prints the output differently"
   ]
  },
  {
   "cell_type": "code",
   "execution_count": 17,
   "id": "0391e767",
   "metadata": {},
   "outputs": [
    {
     "data": {
      "text/plain": [
       "gender: female\n",
       "[1] 10\n",
       "------------------------------------------------------------ \n",
       "gender: male\n",
       "[1] 11.66667"
      ]
     },
     "metadata": {},
     "output_type": "display_data"
    }
   ],
   "source": [
    "by(data=age, INDICES=gender, FUN=mean)"
   ]
  },
  {
   "cell_type": "markdown",
   "id": "165334bc",
   "metadata": {},
   "source": [
    "other similar functions: \n",
    "- `lapply()`\n",
    "- `mapply()`\n",
    "- `apply()`\n",
    "- `vapply()`\n",
    "- `rapply()`\n",
    "- `eapply()`"
   ]
  }
 ],
 "metadata": {
  "kernelspec": {
   "display_name": "R",
   "language": "R",
   "name": "ir"
  },
  "language_info": {
   "codemirror_mode": "r",
   "file_extension": ".r",
   "mimetype": "text/x-r-source",
   "name": "R",
   "pygments_lexer": "r",
   "version": "3.6.1"
  }
 },
 "nbformat": 4,
 "nbformat_minor": 5
}
