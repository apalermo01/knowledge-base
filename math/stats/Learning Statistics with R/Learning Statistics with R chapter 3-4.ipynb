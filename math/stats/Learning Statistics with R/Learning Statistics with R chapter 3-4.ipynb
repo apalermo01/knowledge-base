{
 "cells": [
  {
   "cell_type": "markdown",
   "id": "943843e1",
   "metadata": {},
   "source": [
    "# Chapter 3\n",
    "\n",
    "## Vectors"
   ]
  },
  {
   "cell_type": "code",
   "execution_count": 1,
   "id": "d2323eda",
   "metadata": {},
   "outputs": [
    {
     "data": {
      "text/html": [
       "<ol class=list-inline>\n",
       "\t<li>0</li>\n",
       "\t<li>100</li>\n",
       "\t<li>200</li>\n",
       "\t<li>50</li>\n",
       "\t<li>0</li>\n",
       "\t<li>0</li>\n",
       "\t<li>0</li>\n",
       "\t<li>0</li>\n",
       "\t<li>0</li>\n",
       "\t<li>0</li>\n",
       "\t<li>0</li>\n",
       "\t<li>0</li>\n",
       "</ol>\n"
      ],
      "text/latex": [
       "\\begin{enumerate*}\n",
       "\\item 0\n",
       "\\item 100\n",
       "\\item 200\n",
       "\\item 50\n",
       "\\item 0\n",
       "\\item 0\n",
       "\\item 0\n",
       "\\item 0\n",
       "\\item 0\n",
       "\\item 0\n",
       "\\item 0\n",
       "\\item 0\n",
       "\\end{enumerate*}\n"
      ],
      "text/markdown": [
       "1. 0\n",
       "2. 100\n",
       "3. 200\n",
       "4. 50\n",
       "5. 0\n",
       "6. 0\n",
       "7. 0\n",
       "8. 0\n",
       "9. 0\n",
       "10. 0\n",
       "11. 0\n",
       "12. 0\n",
       "\n",
       "\n"
      ],
      "text/plain": [
       " [1]   0 100 200  50   0   0   0   0   0   0   0   0"
      ]
     },
     "metadata": {},
     "output_type": "display_data"
    }
   ],
   "source": [
    "sales.by.month <- c(0, 100, 200, 50, 0, 0, 0, 0, 0, 0, 0, 0)\n",
    "sales.by.month"
   ]
  },
  {
   "cell_type": "markdown",
   "id": "56565c09",
   "metadata": {},
   "source": [
    "Indexing - just like python"
   ]
  },
  {
   "cell_type": "code",
   "execution_count": 2,
   "id": "64adb5a1",
   "metadata": {},
   "outputs": [
    {
     "data": {
      "text/html": [
       "100"
      ],
      "text/latex": [
       "100"
      ],
      "text/markdown": [
       "100"
      ],
      "text/plain": [
       "[1] 100"
      ]
     },
     "metadata": {},
     "output_type": "display_data"
    }
   ],
   "source": [
    "febuary.sales <- sales.by.month[2]\n",
    "febuary.sales"
   ]
  },
  {
   "cell_type": "markdown",
   "id": "f0cb4b1c",
   "metadata": {},
   "source": [
    "altering elements of a vector"
   ]
  },
  {
   "cell_type": "code",
   "execution_count": 3,
   "id": "df7c5b5e",
   "metadata": {},
   "outputs": [
    {
     "data": {
      "text/html": [
       "<ol class=list-inline>\n",
       "\t<li>0</li>\n",
       "\t<li>100</li>\n",
       "\t<li>200</li>\n",
       "\t<li>50</li>\n",
       "\t<li>25</li>\n",
       "\t<li>0</li>\n",
       "\t<li>0</li>\n",
       "\t<li>0</li>\n",
       "\t<li>0</li>\n",
       "\t<li>0</li>\n",
       "\t<li>0</li>\n",
       "\t<li>0</li>\n",
       "</ol>\n"
      ],
      "text/latex": [
       "\\begin{enumerate*}\n",
       "\\item 0\n",
       "\\item 100\n",
       "\\item 200\n",
       "\\item 50\n",
       "\\item 25\n",
       "\\item 0\n",
       "\\item 0\n",
       "\\item 0\n",
       "\\item 0\n",
       "\\item 0\n",
       "\\item 0\n",
       "\\item 0\n",
       "\\end{enumerate*}\n"
      ],
      "text/markdown": [
       "1. 0\n",
       "2. 100\n",
       "3. 200\n",
       "4. 50\n",
       "5. 25\n",
       "6. 0\n",
       "7. 0\n",
       "8. 0\n",
       "9. 0\n",
       "10. 0\n",
       "11. 0\n",
       "12. 0\n",
       "\n",
       "\n"
      ],
      "text/plain": [
       " [1]   0 100 200  50  25   0   0   0   0   0   0   0"
      ]
     },
     "metadata": {},
     "output_type": "display_data"
    }
   ],
   "source": [
    "sales.by.month[5] <- 25\n",
    "sales.by.month"
   ]
  },
  {
   "cell_type": "markdown",
   "id": "4fb7248c",
   "metadata": {},
   "source": [
    "does this automatically do a deep copy?"
   ]
  },
  {
   "cell_type": "code",
   "execution_count": 4,
   "id": "5793e108",
   "metadata": {},
   "outputs": [
    {
     "name": "stdout",
     "output_type": "stream",
     "text": [
      "[1] 0\n",
      "[1] 0\n"
     ]
    }
   ],
   "source": [
    "test_var <- sales.by.month[10]\n",
    "print(test_var)\n",
    "\n",
    "sales.by.month[10] <- 25\n",
    "print(test_var)"
   ]
  },
  {
   "cell_type": "markdown",
   "id": "669aa82b",
   "metadata": {},
   "source": [
    "Other useful stuff about vectors"
   ]
  },
  {
   "cell_type": "code",
   "execution_count": 5,
   "id": "2bfe423c",
   "metadata": {},
   "outputs": [
    {
     "name": "stdout",
     "output_type": "stream",
     "text": [
      "[1] 12\n",
      " [1]    0  700 1400  350  175    0    0    0    0  175    0    0\n",
      " [1]  0.000000 25.000000 45.161290 11.666667  5.645161  0.000000  0.000000\n",
      " [8]  0.000000  0.000000  5.645161  0.000000  0.000000\n"
     ]
    }
   ],
   "source": [
    "# length\n",
    "len = length(sales.by.month)\n",
    "print(len)\n",
    "\n",
    "# alter all elements at once\n",
    "sales_mult = sales.by.month * 7\n",
    "print(sales_mult)\n",
    "\n",
    "# dividing two vectors\n",
    "days.per.month <- c(31, 28, 31, 30, 31, 30, 31, 31, 30, 31, 30, 31)\n",
    "profit <- sales.by.month * 7\n",
    "daily = profit / days.per.month\n",
    "print(daily)"
   ]
  },
  {
   "cell_type": "markdown",
   "id": "beb2ce9f",
   "metadata": {},
   "source": [
    "When initially writing this, I missed a zero in sales.by.month. R only threw a warning, not an exception when the vectors were different lengths"
   ]
  },
  {
   "cell_type": "markdown",
   "id": "ef8ffe39",
   "metadata": {},
   "source": [
    "## Text data"
   ]
  },
  {
   "cell_type": "markdown",
   "id": "3fc5ae99",
   "metadata": {},
   "source": [
    "Strings are single elements"
   ]
  },
  {
   "cell_type": "code",
   "execution_count": 6,
   "id": "e8c1fda4",
   "metadata": {},
   "outputs": [
    {
     "name": "stdout",
     "output_type": "stream",
     "text": [
      "[1] \"hello\"\n"
     ]
    }
   ],
   "source": [
    "greeting <- \"hello\"\n",
    "print(greeting[1])"
   ]
  },
  {
   "cell_type": "markdown",
   "id": "1df00938",
   "metadata": {},
   "source": [
    "vector of strings"
   ]
  },
  {
   "cell_type": "code",
   "execution_count": 7,
   "id": "095888d9",
   "metadata": {},
   "outputs": [
    {
     "name": "stdout",
     "output_type": "stream",
     "text": [
      " [1] \"January\"   \"Feburary\"  \"March\"     \"April\"     \"May\"       \"June\"     \n",
      " [7] \"July\"      \"August\"    \"September\" \"October\"   \"November\"  \"December\" \n"
     ]
    }
   ],
   "source": [
    "months <- c(\"January\", \"Feburary\", \"March\", \"April\", \"May\", \"June\", \"July\", \"August\", \"September\", \"October\", \"November\", \"December\")\n",
    "print(months)"
   ]
  },
  {
   "cell_type": "code",
   "execution_count": 8,
   "id": "ccfd036c",
   "metadata": {},
   "outputs": [
    {
     "name": "stdout",
     "output_type": "stream",
     "text": [
      "[1] \"April\"\n"
     ]
    }
   ],
   "source": [
    "print(months[4])"
   ]
  },
  {
   "cell_type": "markdown",
   "id": "4bdcc974",
   "metadata": {},
   "source": [
    "number of chars in a string"
   ]
  },
  {
   "cell_type": "code",
   "execution_count": 9,
   "id": "f904c514",
   "metadata": {},
   "outputs": [
    {
     "data": {
      "text/html": [
       "5"
      ],
      "text/latex": [
       "5"
      ],
      "text/markdown": [
       "5"
      ],
      "text/plain": [
       "[1] 5"
      ]
     },
     "metadata": {},
     "output_type": "display_data"
    }
   ],
   "source": [
    "nchar(greeting)"
   ]
  },
  {
   "cell_type": "markdown",
   "id": "f76c811c",
   "metadata": {},
   "source": [
    "nchar on vectors"
   ]
  },
  {
   "cell_type": "code",
   "execution_count": 10,
   "id": "261dc6cd",
   "metadata": {},
   "outputs": [
    {
     "data": {
      "text/html": [
       "<ol class=list-inline>\n",
       "\t<li>7</li>\n",
       "\t<li>8</li>\n",
       "\t<li>5</li>\n",
       "\t<li>5</li>\n",
       "\t<li>3</li>\n",
       "\t<li>4</li>\n",
       "\t<li>4</li>\n",
       "\t<li>6</li>\n",
       "\t<li>9</li>\n",
       "\t<li>7</li>\n",
       "\t<li>8</li>\n",
       "\t<li>8</li>\n",
       "</ol>\n"
      ],
      "text/latex": [
       "\\begin{enumerate*}\n",
       "\\item 7\n",
       "\\item 8\n",
       "\\item 5\n",
       "\\item 5\n",
       "\\item 3\n",
       "\\item 4\n",
       "\\item 4\n",
       "\\item 6\n",
       "\\item 9\n",
       "\\item 7\n",
       "\\item 8\n",
       "\\item 8\n",
       "\\end{enumerate*}\n"
      ],
      "text/markdown": [
       "1. 7\n",
       "2. 8\n",
       "3. 5\n",
       "4. 5\n",
       "5. 3\n",
       "6. 4\n",
       "7. 4\n",
       "8. 6\n",
       "9. 9\n",
       "10. 7\n",
       "11. 8\n",
       "12. 8\n",
       "\n",
       "\n"
      ],
      "text/plain": [
       " [1] 7 8 5 5 3 4 4 6 9 7 8 8"
      ]
     },
     "metadata": {},
     "output_type": "display_data"
    }
   ],
   "source": [
    "nchar(months)"
   ]
  },
  {
   "cell_type": "markdown",
   "id": "e5fb71c8",
   "metadata": {},
   "source": [
    "## Boolean data\n",
    "\n",
    "basically the same as python, except is doesnt look like you can use `and` or `or`.<br>\n",
    "reserved words for booleans are TRUE or FALSE (all caps)<br>\n",
    "can do T or F as a shortcut (but they are not reserved words)"
   ]
  },
  {
   "cell_type": "markdown",
   "id": "a774dec0",
   "metadata": {},
   "source": [
    "vectors of booleans (again, basically the same a python"
   ]
  },
  {
   "cell_type": "code",
   "execution_count": 11,
   "id": "dd5de11a",
   "metadata": {},
   "outputs": [
    {
     "data": {
      "text/html": [
       "<ol class=list-inline>\n",
       "\t<li>TRUE</li>\n",
       "\t<li>TRUE</li>\n",
       "\t<li>TRUE</li>\n",
       "</ol>\n"
      ],
      "text/latex": [
       "\\begin{enumerate*}\n",
       "\\item TRUE\n",
       "\\item TRUE\n",
       "\\item TRUE\n",
       "\\end{enumerate*}\n"
      ],
      "text/markdown": [
       "1. TRUE\n",
       "2. TRUE\n",
       "3. TRUE\n",
       "\n",
       "\n"
      ],
      "text/plain": [
       "[1] TRUE TRUE TRUE"
      ]
     },
     "metadata": {},
     "output_type": "display_data"
    }
   ],
   "source": [
    "x <- c(TRUE, TRUE, TRUE)\n",
    "x"
   ]
  },
  {
   "cell_type": "code",
   "execution_count": 12,
   "id": "ce6e7454",
   "metadata": {},
   "outputs": [
    {
     "data": {
      "text/html": [
       "<ol class=list-inline>\n",
       "\t<li>FALSE</li>\n",
       "\t<li>TRUE</li>\n",
       "\t<li>TRUE</li>\n",
       "\t<li>TRUE</li>\n",
       "\t<li>TRUE</li>\n",
       "\t<li>FALSE</li>\n",
       "\t<li>FALSE</li>\n",
       "\t<li>FALSE</li>\n",
       "\t<li>FALSE</li>\n",
       "\t<li>TRUE</li>\n",
       "\t<li>FALSE</li>\n",
       "\t<li>FALSE</li>\n",
       "</ol>\n"
      ],
      "text/latex": [
       "\\begin{enumerate*}\n",
       "\\item FALSE\n",
       "\\item TRUE\n",
       "\\item TRUE\n",
       "\\item TRUE\n",
       "\\item TRUE\n",
       "\\item FALSE\n",
       "\\item FALSE\n",
       "\\item FALSE\n",
       "\\item FALSE\n",
       "\\item TRUE\n",
       "\\item FALSE\n",
       "\\item FALSE\n",
       "\\end{enumerate*}\n"
      ],
      "text/markdown": [
       "1. FALSE\n",
       "2. TRUE\n",
       "3. TRUE\n",
       "4. TRUE\n",
       "5. TRUE\n",
       "6. FALSE\n",
       "7. FALSE\n",
       "8. FALSE\n",
       "9. FALSE\n",
       "10. TRUE\n",
       "11. FALSE\n",
       "12. FALSE\n",
       "\n",
       "\n"
      ],
      "text/plain": [
       " [1] FALSE  TRUE  TRUE  TRUE  TRUE FALSE FALSE FALSE FALSE  TRUE FALSE FALSE"
      ]
     },
     "metadata": {},
     "output_type": "display_data"
    }
   ],
   "source": [
    "sales.by.month > 0"
   ]
  },
  {
   "cell_type": "markdown",
   "id": "bb00cf25",
   "metadata": {},
   "source": [
    "## Indexing"
   ]
  },
  {
   "cell_type": "code",
   "execution_count": 13,
   "id": "456f0c9c",
   "metadata": {},
   "outputs": [
    {
     "data": {
      "text/html": [
       "<ol class=list-inline>\n",
       "\t<li>50</li>\n",
       "\t<li>200</li>\n",
       "\t<li>100</li>\n",
       "</ol>\n"
      ],
      "text/latex": [
       "\\begin{enumerate*}\n",
       "\\item 50\n",
       "\\item 200\n",
       "\\item 100\n",
       "\\end{enumerate*}\n"
      ],
      "text/markdown": [
       "1. 50\n",
       "2. 200\n",
       "3. 100\n",
       "\n",
       "\n"
      ],
      "text/plain": [
       "[1]  50 200 100"
      ]
     },
     "metadata": {},
     "output_type": "display_data"
    }
   ],
   "source": [
    "sales.by.month[c(4, 3, 2)]"
   ]
  },
  {
   "cell_type": "code",
   "execution_count": 14,
   "id": "2f21c5ed",
   "metadata": {},
   "outputs": [
    {
     "data": {
      "text/html": [
       "<ol class=list-inline>\n",
       "\t<li>100</li>\n",
       "\t<li>200</li>\n",
       "\t<li>50</li>\n",
       "\t<li>25</li>\n",
       "\t<li>0</li>\n",
       "\t<li>0</li>\n",
       "\t<li>0</li>\n",
       "</ol>\n"
      ],
      "text/latex": [
       "\\begin{enumerate*}\n",
       "\\item 100\n",
       "\\item 200\n",
       "\\item 50\n",
       "\\item 25\n",
       "\\item 0\n",
       "\\item 0\n",
       "\\item 0\n",
       "\\end{enumerate*}\n"
      ],
      "text/markdown": [
       "1. 100\n",
       "2. 200\n",
       "3. 50\n",
       "4. 25\n",
       "5. 0\n",
       "6. 0\n",
       "7. 0\n",
       "\n",
       "\n"
      ],
      "text/plain": [
       "[1] 100 200  50  25   0   0   0"
      ]
     },
     "metadata": {},
     "output_type": "display_data"
    }
   ],
   "source": [
    "sales.by.month[2:8]"
   ]
  },
  {
   "cell_type": "markdown",
   "id": "8e7e49f1",
   "metadata": {},
   "source": [
    "indexing seems to be the same as with numpy\n",
    "\n",
    "\n",
    "can also do logical indexing"
   ]
  },
  {
   "cell_type": "code",
   "execution_count": 15,
   "id": "e1f89585",
   "metadata": {},
   "outputs": [
    {
     "data": {
      "text/html": [
       "<ol class=list-inline>\n",
       "\t<li>'Feburary'</li>\n",
       "\t<li>'March'</li>\n",
       "\t<li>'April'</li>\n",
       "\t<li>'May'</li>\n",
       "\t<li>'October'</li>\n",
       "</ol>\n"
      ],
      "text/latex": [
       "\\begin{enumerate*}\n",
       "\\item 'Feburary'\n",
       "\\item 'March'\n",
       "\\item 'April'\n",
       "\\item 'May'\n",
       "\\item 'October'\n",
       "\\end{enumerate*}\n"
      ],
      "text/markdown": [
       "1. 'Feburary'\n",
       "2. 'March'\n",
       "3. 'April'\n",
       "4. 'May'\n",
       "5. 'October'\n",
       "\n",
       "\n"
      ],
      "text/plain": [
       "[1] \"Feburary\" \"March\"    \"April\"    \"May\"      \"October\" "
      ]
     },
     "metadata": {},
     "output_type": "display_data"
    }
   ],
   "source": [
    "months[sales.by.month > 0]"
   ]
  },
  {
   "cell_type": "code",
   "execution_count": 16,
   "id": "9d30632d",
   "metadata": {},
   "outputs": [
    {
     "data": {
      "text/html": [
       "<ol class=list-inline>\n",
       "\t<li>'April'</li>\n",
       "\t<li>'May'</li>\n",
       "</ol>\n"
      ],
      "text/latex": [
       "\\begin{enumerate*}\n",
       "\\item 'April'\n",
       "\\item 'May'\n",
       "\\end{enumerate*}\n"
      ],
      "text/markdown": [
       "1. 'April'\n",
       "2. 'May'\n",
       "\n",
       "\n"
      ],
      "text/plain": [
       "[1] \"April\" \"May\"  "
      ]
     },
     "metadata": {},
     "output_type": "display_data"
    }
   ],
   "source": [
    "stock.levels = c(\"high\", \"high\", \"low\", \"out\", \"out\", \"high\", \"high\", \"high\", \"high\", \"high\", \"high\", \"high\")\n",
    "\n",
    "months[stock.levels == \"out\"]"
   ]
  },
  {
   "cell_type": "code",
   "execution_count": 17,
   "id": "519f6faa",
   "metadata": {},
   "outputs": [
    {
     "data": {
      "text/html": [
       "<ol class=list-inline>\n",
       "\t<li>'March'</li>\n",
       "\t<li>'April'</li>\n",
       "\t<li>'May'</li>\n",
       "</ol>\n"
      ],
      "text/latex": [
       "\\begin{enumerate*}\n",
       "\\item 'March'\n",
       "\\item 'April'\n",
       "\\item 'May'\n",
       "\\end{enumerate*}\n"
      ],
      "text/markdown": [
       "1. 'March'\n",
       "2. 'April'\n",
       "3. 'May'\n",
       "\n",
       "\n"
      ],
      "text/plain": [
       "[1] \"March\" \"April\" \"May\"  "
      ]
     },
     "metadata": {},
     "output_type": "display_data"
    }
   ],
   "source": [
    "months[stock.levels == \"out\" | stock.levels == \"low\"]"
   ]
  },
  {
   "cell_type": "markdown",
   "id": "ccab4405",
   "metadata": {},
   "source": [
    "# Chapter 4\n",
    "\n",
    "\\# = comment"
   ]
  },
  {
   "cell_type": "code",
   "execution_count": 18,
   "id": "628974ef",
   "metadata": {},
   "outputs": [
    {
     "name": "stdout",
     "output_type": "stream",
     "text": [
      "[1] 8.539757\n"
     ]
    }
   ],
   "source": [
    "seeker <- 3.14158        # create the first variable\n",
    "lover <- 2.7183          # create the second variable\n",
    "keeper <- seeker * lover # now multiply them to create a third one\n",
    "print(keeper)"
   ]
  },
  {
   "cell_type": "markdown",
   "id": "f48e87f7",
   "metadata": {},
   "source": [
    "## Installing / loading packages\n",
    "\n",
    "(slightly easier with R studio)"
   ]
  },
  {
   "cell_type": "code",
   "execution_count": 19,
   "id": "dff2c7d4",
   "metadata": {},
   "outputs": [
    {
     "data": {
      "text/html": [
       "FALSE"
      ],
      "text/latex": [
       "FALSE"
      ],
      "text/markdown": [
       "FALSE"
      ],
      "text/plain": [
       "[1] FALSE"
      ]
     },
     "metadata": {},
     "output_type": "display_data"
    }
   ],
   "source": [
    "exists(\"read.spss\")"
   ]
  },
  {
   "cell_type": "code",
   "execution_count": 20,
   "id": "ef4c64bd",
   "metadata": {},
   "outputs": [],
   "source": [
    "library(foreign)"
   ]
  },
  {
   "cell_type": "code",
   "execution_count": 21,
   "id": "0ffdeaaf",
   "metadata": {},
   "outputs": [
    {
     "data": {
      "text/html": [
       "TRUE"
      ],
      "text/latex": [
       "TRUE"
      ],
      "text/markdown": [
       "TRUE"
      ],
      "text/plain": [
       "[1] TRUE"
      ]
     },
     "metadata": {},
     "output_type": "display_data"
    }
   ],
   "source": [
    "exists(\"read.spss\")"
   ]
  },
  {
   "cell_type": "code",
   "execution_count": 22,
   "id": "a78f9ae8",
   "metadata": {},
   "outputs": [
    {
     "data": {
      "text/html": [
       "FALSE"
      ],
      "text/latex": [
       "FALSE"
      ],
      "text/markdown": [
       "FALSE"
      ],
      "text/plain": [
       "[1] FALSE"
      ]
     },
     "metadata": {},
     "output_type": "display_data"
    }
   ],
   "source": [
    "detach(\"package:foreign\", unload=T)\n",
    "exists(\"read.spss\")"
   ]
  },
  {
   "cell_type": "markdown",
   "id": "eb35f14a",
   "metadata": {},
   "source": [
    "Downloading packages"
   ]
  },
  {
   "cell_type": "code",
   "execution_count": 23,
   "id": "73fca3c2",
   "metadata": {},
   "outputs": [],
   "source": [
    "# install.packages(\"psych\")"
   ]
  },
  {
   "cell_type": "code",
   "execution_count": 24,
   "id": "70223085",
   "metadata": {},
   "outputs": [],
   "source": [
    "# install.packages(\"lsr\")\n",
    "# install.packages(\"car\")"
   ]
  },
  {
   "cell_type": "markdown",
   "id": "afc14ec2",
   "metadata": {},
   "source": [
    "## Managing the workspace"
   ]
  },
  {
   "cell_type": "code",
   "execution_count": 25,
   "id": "e9f55fd9",
   "metadata": {},
   "outputs": [
    {
     "data": {
      "text/html": [
       "<ol class=list-inline>\n",
       "\t<li>'daily'</li>\n",
       "\t<li>'days.per.month'</li>\n",
       "\t<li>'febuary.sales'</li>\n",
       "\t<li>'greeting'</li>\n",
       "\t<li>'keeper'</li>\n",
       "\t<li>'len'</li>\n",
       "\t<li>'lover'</li>\n",
       "\t<li>'months'</li>\n",
       "\t<li>'profit'</li>\n",
       "\t<li>'sales_mult'</li>\n",
       "\t<li>'sales.by.month'</li>\n",
       "\t<li>'seeker'</li>\n",
       "\t<li>'stock.levels'</li>\n",
       "\t<li>'test_var'</li>\n",
       "\t<li>'x'</li>\n",
       "</ol>\n"
      ],
      "text/latex": [
       "\\begin{enumerate*}\n",
       "\\item 'daily'\n",
       "\\item 'days.per.month'\n",
       "\\item 'febuary.sales'\n",
       "\\item 'greeting'\n",
       "\\item 'keeper'\n",
       "\\item 'len'\n",
       "\\item 'lover'\n",
       "\\item 'months'\n",
       "\\item 'profit'\n",
       "\\item 'sales\\_mult'\n",
       "\\item 'sales.by.month'\n",
       "\\item 'seeker'\n",
       "\\item 'stock.levels'\n",
       "\\item 'test\\_var'\n",
       "\\item 'x'\n",
       "\\end{enumerate*}\n"
      ],
      "text/markdown": [
       "1. 'daily'\n",
       "2. 'days.per.month'\n",
       "3. 'febuary.sales'\n",
       "4. 'greeting'\n",
       "5. 'keeper'\n",
       "6. 'len'\n",
       "7. 'lover'\n",
       "8. 'months'\n",
       "9. 'profit'\n",
       "10. 'sales_mult'\n",
       "11. 'sales.by.month'\n",
       "12. 'seeker'\n",
       "13. 'stock.levels'\n",
       "14. 'test_var'\n",
       "15. 'x'\n",
       "\n",
       "\n"
      ],
      "text/plain": [
       " [1] \"daily\"          \"days.per.month\" \"febuary.sales\"  \"greeting\"      \n",
       " [5] \"keeper\"         \"len\"            \"lover\"          \"months\"        \n",
       " [9] \"profit\"         \"sales_mult\"     \"sales.by.month\" \"seeker\"        \n",
       "[13] \"stock.levels\"   \"test_var\"       \"x\"             "
      ]
     },
     "metadata": {},
     "output_type": "display_data"
    }
   ],
   "source": [
    "objects()"
   ]
  },
  {
   "cell_type": "code",
   "execution_count": 26,
   "id": "d5c3b138",
   "metadata": {},
   "outputs": [
    {
     "data": {
      "text/plain": [
       "   -- Name --       -- Class --   -- Size --\n",
       "   daily            numeric       12        \n",
       "   days.per.month   numeric       12        \n",
       "   febuary.sales    numeric        1        \n",
       "   greeting         character      1        \n",
       "   keeper           numeric        1        \n",
       "   len              integer        1        \n",
       "   lover            numeric        1        \n",
       "   months           character     12        \n",
       "   profit           numeric       12        \n",
       "   sales_mult       numeric       12        \n",
       "   sales.by.month   numeric       12        \n",
       "   seeker           numeric        1        \n",
       "   stock.levels     character     12        \n",
       "   test_var         numeric        1        \n",
       "   x                logical        3        "
      ]
     },
     "metadata": {},
     "output_type": "display_data"
    }
   ],
   "source": [
    "library(lsr)\n",
    "who()"
   ]
  },
  {
   "cell_type": "markdown",
   "id": "6bebdfa0",
   "metadata": {},
   "source": [
    "removing variables from the workspace"
   ]
  },
  {
   "cell_type": "code",
   "execution_count": 27,
   "id": "66767f2b",
   "metadata": {},
   "outputs": [],
   "source": [
    "rm(seeker, lover)"
   ]
  },
  {
   "cell_type": "code",
   "execution_count": 28,
   "id": "2461e25f",
   "metadata": {},
   "outputs": [
    {
     "data": {
      "text/plain": [
       "   -- Name --       -- Class --   -- Size --\n",
       "   daily            numeric       12        \n",
       "   days.per.month   numeric       12        \n",
       "   febuary.sales    numeric        1        \n",
       "   greeting         character      1        \n",
       "   keeper           numeric        1        \n",
       "   len              integer        1        \n",
       "   months           character     12        \n",
       "   profit           numeric       12        \n",
       "   sales_mult       numeric       12        \n",
       "   sales.by.month   numeric       12        \n",
       "   stock.levels     character     12        \n",
       "   test_var         numeric        1        \n",
       "   x                logical        3        "
      ]
     },
     "metadata": {},
     "output_type": "display_data"
    }
   ],
   "source": [
    "who()"
   ]
  },
  {
   "cell_type": "markdown",
   "id": "e2484b1d",
   "metadata": {},
   "source": [
    "## Navigating the file system"
   ]
  },
  {
   "cell_type": "code",
   "execution_count": 29,
   "id": "1567862b",
   "metadata": {},
   "outputs": [
    {
     "data": {
      "text/html": [
       "'/home/alex/Documents/GitHub/Data-science-notes/R'"
      ],
      "text/latex": [
       "'/home/alex/Documents/GitHub/Data-science-notes/R'"
      ],
      "text/markdown": [
       "'/home/alex/Documents/GitHub/Data-science-notes/R'"
      ],
      "text/plain": [
       "[1] \"/home/alex/Documents/GitHub/Data-science-notes/R\""
      ]
     },
     "metadata": {},
     "output_type": "display_data"
    }
   ],
   "source": [
    "getwd()"
   ]
  },
  {
   "cell_type": "code",
   "execution_count": 30,
   "id": "d711d4ac",
   "metadata": {},
   "outputs": [],
   "source": [
    "setwd(\"..\")"
   ]
  },
  {
   "cell_type": "code",
   "execution_count": 31,
   "id": "5197678b",
   "metadata": {},
   "outputs": [
    {
     "data": {
      "text/html": [
       "'/home/alex/Documents/GitHub/Data-science-notes'"
      ],
      "text/latex": [
       "'/home/alex/Documents/GitHub/Data-science-notes'"
      ],
      "text/markdown": [
       "'/home/alex/Documents/GitHub/Data-science-notes'"
      ],
      "text/plain": [
       "[1] \"/home/alex/Documents/GitHub/Data-science-notes\""
      ]
     },
     "metadata": {},
     "output_type": "display_data"
    }
   ],
   "source": [
    "getwd()"
   ]
  },
  {
   "cell_type": "code",
   "execution_count": 32,
   "id": "7795b6da",
   "metadata": {},
   "outputs": [],
   "source": [
    "setwd(\"./R\")"
   ]
  },
  {
   "cell_type": "code",
   "execution_count": 33,
   "id": "fe28634e",
   "metadata": {},
   "outputs": [
    {
     "data": {
      "text/html": [
       "'/home/alex/Documents/GitHub/Data-science-notes/R'"
      ],
      "text/latex": [
       "'/home/alex/Documents/GitHub/Data-science-notes/R'"
      ],
      "text/markdown": [
       "'/home/alex/Documents/GitHub/Data-science-notes/R'"
      ],
      "text/plain": [
       "[1] \"/home/alex/Documents/GitHub/Data-science-notes/R\""
      ]
     },
     "metadata": {},
     "output_type": "display_data"
    }
   ],
   "source": [
    "getwd()"
   ]
  },
  {
   "cell_type": "code",
   "execution_count": 34,
   "id": "7120aa1a",
   "metadata": {},
   "outputs": [
    {
     "data": {
      "text/html": [
       "<ol class=list-inline>\n",
       "\t<li>'booksales.Rdata'</li>\n",
       "\t<li>'Learning Statistics with R chapter 3-4.ipynb'</li>\n",
       "</ol>\n"
      ],
      "text/latex": [
       "\\begin{enumerate*}\n",
       "\\item 'booksales.Rdata'\n",
       "\\item 'Learning Statistics with R chapter 3-4.ipynb'\n",
       "\\end{enumerate*}\n"
      ],
      "text/markdown": [
       "1. 'booksales.Rdata'\n",
       "2. 'Learning Statistics with R chapter 3-4.ipynb'\n",
       "\n",
       "\n"
      ],
      "text/plain": [
       "[1] \"booksales.Rdata\"                             \n",
       "[2] \"Learning Statistics with R chapter 3-4.ipynb\""
      ]
     },
     "metadata": {},
     "output_type": "display_data"
    }
   ],
   "source": [
    "list.files()"
   ]
  },
  {
   "cell_type": "code",
   "execution_count": 35,
   "id": "cdabb113",
   "metadata": {},
   "outputs": [
    {
     "data": {
      "text/html": [
       "<ol class=list-inline>\n",
       "\t<li>'Other'</li>\n",
       "\t<li>'Python'</li>\n",
       "\t<li>'R'</li>\n",
       "\t<li>'Statistics'</li>\n",
       "\t<li>'Tableau'</li>\n",
       "\t<li>'textbooks'</li>\n",
       "</ol>\n"
      ],
      "text/latex": [
       "\\begin{enumerate*}\n",
       "\\item 'Other'\n",
       "\\item 'Python'\n",
       "\\item 'R'\n",
       "\\item 'Statistics'\n",
       "\\item 'Tableau'\n",
       "\\item 'textbooks'\n",
       "\\end{enumerate*}\n"
      ],
      "text/markdown": [
       "1. 'Other'\n",
       "2. 'Python'\n",
       "3. 'R'\n",
       "4. 'Statistics'\n",
       "5. 'Tableau'\n",
       "6. 'textbooks'\n",
       "\n",
       "\n"
      ],
      "text/plain": [
       "[1] \"Other\"      \"Python\"     \"R\"          \"Statistics\" \"Tableau\"   \n",
       "[6] \"textbooks\" "
      ]
     },
     "metadata": {},
     "output_type": "display_data"
    }
   ],
   "source": [
    "setwd(\"..\")\n",
    "list.files()"
   ]
  },
  {
   "cell_type": "code",
   "execution_count": 36,
   "id": "9e4fcf31",
   "metadata": {},
   "outputs": [
    {
     "data": {
      "text/html": [
       "'/home/alex'"
      ],
      "text/latex": [
       "'/home/alex'"
      ],
      "text/markdown": [
       "'/home/alex'"
      ],
      "text/plain": [
       "[1] \"/home/alex\""
      ]
     },
     "metadata": {},
     "output_type": "display_data"
    }
   ],
   "source": [
    "path.expand(\"~\")"
   ]
  },
  {
   "cell_type": "markdown",
   "id": "ddbf4a84",
   "metadata": {},
   "source": [
    "## Loading and saving data\n",
    "\n",
    "3 important file types:<br>\n",
    "- workspace files (.Rdata) - saves whole workspace (data and variables)\n",
    "- .csv\n",
    "- script files: .R"
   ]
  },
  {
   "cell_type": "code",
   "execution_count": 37,
   "id": "5c4bf63d",
   "metadata": {},
   "outputs": [
    {
     "data": {
      "text/html": [
       "'/home/alex/Documents/GitHub/Data-science-notes'"
      ],
      "text/latex": [
       "'/home/alex/Documents/GitHub/Data-science-notes'"
      ],
      "text/markdown": [
       "'/home/alex/Documents/GitHub/Data-science-notes'"
      ],
      "text/plain": [
       "[1] \"/home/alex/Documents/GitHub/Data-science-notes\""
      ]
     },
     "metadata": {},
     "output_type": "display_data"
    }
   ],
   "source": [
    "getwd()"
   ]
  },
  {
   "cell_type": "code",
   "execution_count": 38,
   "id": "7436897a",
   "metadata": {},
   "outputs": [],
   "source": [
    "setwd(\"./R\")"
   ]
  },
  {
   "cell_type": "code",
   "execution_count": 39,
   "id": "d1cf08fd",
   "metadata": {},
   "outputs": [
    {
     "data": {
      "text/html": [
       "'/home/alex/Documents/GitHub/Data-science-notes/R'"
      ],
      "text/latex": [
       "'/home/alex/Documents/GitHub/Data-science-notes/R'"
      ],
      "text/markdown": [
       "'/home/alex/Documents/GitHub/Data-science-notes/R'"
      ],
      "text/plain": [
       "[1] \"/home/alex/Documents/GitHub/Data-science-notes/R\""
      ]
     },
     "metadata": {},
     "output_type": "display_data"
    }
   ],
   "source": [
    "getwd()"
   ]
  },
  {
   "cell_type": "code",
   "execution_count": 40,
   "id": "24634a4c",
   "metadata": {},
   "outputs": [
    {
     "data": {
      "text/html": [
       "<ol class=list-inline>\n",
       "\t<li>'daily'</li>\n",
       "\t<li>'days.per.month'</li>\n",
       "\t<li>'febuary.sales'</li>\n",
       "\t<li>'greeting'</li>\n",
       "\t<li>'keeper'</li>\n",
       "\t<li>'len'</li>\n",
       "\t<li>'months'</li>\n",
       "\t<li>'profit'</li>\n",
       "\t<li>'sales_mult'</li>\n",
       "\t<li>'sales.by.month'</li>\n",
       "\t<li>'stock.levels'</li>\n",
       "\t<li>'test_var'</li>\n",
       "\t<li>'x'</li>\n",
       "</ol>\n"
      ],
      "text/latex": [
       "\\begin{enumerate*}\n",
       "\\item 'daily'\n",
       "\\item 'days.per.month'\n",
       "\\item 'febuary.sales'\n",
       "\\item 'greeting'\n",
       "\\item 'keeper'\n",
       "\\item 'len'\n",
       "\\item 'months'\n",
       "\\item 'profit'\n",
       "\\item 'sales\\_mult'\n",
       "\\item 'sales.by.month'\n",
       "\\item 'stock.levels'\n",
       "\\item 'test\\_var'\n",
       "\\item 'x'\n",
       "\\end{enumerate*}\n"
      ],
      "text/markdown": [
       "1. 'daily'\n",
       "2. 'days.per.month'\n",
       "3. 'febuary.sales'\n",
       "4. 'greeting'\n",
       "5. 'keeper'\n",
       "6. 'len'\n",
       "7. 'months'\n",
       "8. 'profit'\n",
       "9. 'sales_mult'\n",
       "10. 'sales.by.month'\n",
       "11. 'stock.levels'\n",
       "12. 'test_var'\n",
       "13. 'x'\n",
       "\n",
       "\n"
      ],
      "text/plain": [
       " [1] \"daily\"          \"days.per.month\" \"febuary.sales\"  \"greeting\"      \n",
       " [5] \"keeper\"         \"len\"            \"months\"         \"profit\"        \n",
       " [9] \"sales_mult\"     \"sales.by.month\" \"stock.levels\"   \"test_var\"      \n",
       "[13] \"x\"             "
      ]
     },
     "metadata": {},
     "output_type": "display_data"
    }
   ],
   "source": [
    "objects()"
   ]
  },
  {
   "cell_type": "markdown",
   "id": "f10f2d83",
   "metadata": {},
   "source": [
    "Use load to load a workspace file"
   ]
  },
  {
   "cell_type": "code",
   "execution_count": 41,
   "id": "ababc0be",
   "metadata": {},
   "outputs": [],
   "source": [
    "load(\"booksales.Rdata\")"
   ]
  },
  {
   "cell_type": "code",
   "execution_count": 43,
   "id": "990ae286",
   "metadata": {},
   "outputs": [
    {
     "data": {
      "text/plain": [
       "   -- Name --               -- Class --   -- Size --\n",
       "   any.sales.this.month     logical       12        \n",
       "   average.daily.sales      numeric       12        \n",
       "   daily                    numeric       12        \n",
       "   days.per.month           numeric       12        \n",
       "   february.sales           numeric        1        \n",
       "   febuary.sales            numeric        1        \n",
       "   greeting                 character      1        \n",
       "   hourly.wage              numeric        1        \n",
       "   hours.writing.per.week   numeric        1        \n",
       "   keeper                   numeric        1        \n",
       "   len                      integer        1        \n",
       "   months                   character     12        \n",
       "   profit                   numeric       12        \n",
       "   revenue                  numeric        1        \n",
       "   royalty                  numeric        1        \n",
       "   sales                    numeric        1        \n",
       "   sales_mult               numeric       12        \n",
       "   sales.by.month           numeric       12        \n",
       "   stock.levels             character     12        \n",
       "   test_var                 numeric        1        \n",
       "   total.writing.hours      numeric        1        \n",
       "   weeks.writing            numeric        1        \n",
       "   x                        logical        3        "
      ]
     },
     "metadata": {},
     "output_type": "display_data"
    }
   ],
   "source": [
    "who()"
   ]
  },
  {
   "cell_type": "markdown",
   "id": "deab1ec7",
   "metadata": {},
   "source": [
    "Loading a csv file\n",
    "\n",
    "use read.csv(),read.table() does basically the same thing"
   ]
  },
  {
   "cell_type": "code",
   "execution_count": 45,
   "id": "1178e13c",
   "metadata": {},
   "outputs": [
    {
     "data": {
      "text/html": [
       "<table>\n",
       "<thead><tr><th scope=col>Month</th><th scope=col>Days</th><th scope=col>Sales</th><th scope=col>Stock.Levels</th></tr></thead>\n",
       "<tbody>\n",
       "\t<tr><td>January  </td><td>31       </td><td>  0      </td><td>high     </td></tr>\n",
       "\t<tr><td>February </td><td>28       </td><td>100      </td><td>high     </td></tr>\n",
       "\t<tr><td>March    </td><td>31       </td><td>200      </td><td>low      </td></tr>\n",
       "\t<tr><td>April    </td><td>30       </td><td> 50      </td><td>out      </td></tr>\n",
       "\t<tr><td>May      </td><td>31       </td><td>  0      </td><td>out      </td></tr>\n",
       "\t<tr><td>June     </td><td>30       </td><td>  0      </td><td>high     </td></tr>\n",
       "\t<tr><td>July     </td><td>31       </td><td>  0      </td><td>high     </td></tr>\n",
       "\t<tr><td>August   </td><td>31       </td><td>  0      </td><td>high     </td></tr>\n",
       "\t<tr><td>September</td><td>30       </td><td>  0      </td><td>high     </td></tr>\n",
       "\t<tr><td>October  </td><td>31       </td><td>  0      </td><td>high     </td></tr>\n",
       "\t<tr><td>November </td><td>30       </td><td>  0      </td><td>high     </td></tr>\n",
       "\t<tr><td>December </td><td>31       </td><td>  0      </td><td>high     </td></tr>\n",
       "</tbody>\n",
       "</table>\n"
      ],
      "text/latex": [
       "\\begin{tabular}{r|llll}\n",
       " Month & Days & Sales & Stock.Levels\\\\\n",
       "\\hline\n",
       "\t January   & 31        &   0       & high     \\\\\n",
       "\t February  & 28        & 100       & high     \\\\\n",
       "\t March     & 31        & 200       & low      \\\\\n",
       "\t April     & 30        &  50       & out      \\\\\n",
       "\t May       & 31        &   0       & out      \\\\\n",
       "\t June      & 30        &   0       & high     \\\\\n",
       "\t July      & 31        &   0       & high     \\\\\n",
       "\t August    & 31        &   0       & high     \\\\\n",
       "\t September & 30        &   0       & high     \\\\\n",
       "\t October   & 31        &   0       & high     \\\\\n",
       "\t November  & 30        &   0       & high     \\\\\n",
       "\t December  & 31        &   0       & high     \\\\\n",
       "\\end{tabular}\n"
      ],
      "text/markdown": [
       "\n",
       "| Month | Days | Sales | Stock.Levels |\n",
       "|---|---|---|---|\n",
       "| January   | 31        |   0       | high      |\n",
       "| February  | 28        | 100       | high      |\n",
       "| March     | 31        | 200       | low       |\n",
       "| April     | 30        |  50       | out       |\n",
       "| May       | 31        |   0       | out       |\n",
       "| June      | 30        |   0       | high      |\n",
       "| July      | 31        |   0       | high      |\n",
       "| August    | 31        |   0       | high      |\n",
       "| September | 30        |   0       | high      |\n",
       "| October   | 31        |   0       | high      |\n",
       "| November  | 30        |   0       | high      |\n",
       "| December  | 31        |   0       | high      |\n",
       "\n"
      ],
      "text/plain": [
       "   Month     Days Sales Stock.Levels\n",
       "1  January   31     0   high        \n",
       "2  February  28   100   high        \n",
       "3  March     31   200   low         \n",
       "4  April     30    50   out         \n",
       "5  May       31     0   out         \n",
       "6  June      30     0   high        \n",
       "7  July      31     0   high        \n",
       "8  August    31     0   high        \n",
       "9  September 30     0   high        \n",
       "10 October   31     0   high        \n",
       "11 November  30     0   high        \n",
       "12 December  31     0   high        "
      ]
     },
     "metadata": {},
     "output_type": "display_data"
    }
   ],
   "source": [
    "books <- read.csv(file=\"booksales.csv\")\n",
    "books"
   ]
  },
  {
   "cell_type": "markdown",
   "id": "7f93915f",
   "metadata": {},
   "source": [
    "books is a DataFrame- this is what inspired pandas"
   ]
  },
  {
   "cell_type": "markdown",
   "id": "f4b49c4b",
   "metadata": {},
   "source": [
    "Saving workspace files"
   ]
  },
  {
   "cell_type": "code",
   "execution_count": 46,
   "id": "22b97e24",
   "metadata": {},
   "outputs": [
    {
     "data": {
      "text/plain": [
       "   -- Name --               -- Class --   -- Size --\n",
       "   any.sales.this.month     logical       12        \n",
       "   average.daily.sales      numeric       12        \n",
       "   books                    data.frame    12 x 4    \n",
       "   daily                    numeric       12        \n",
       "   days.per.month           numeric       12        \n",
       "   february.sales           numeric       1         \n",
       "   febuary.sales            numeric       1         \n",
       "   greeting                 character     1         \n",
       "   hourly.wage              numeric       1         \n",
       "   hours.writing.per.week   numeric       1         \n",
       "   keeper                   numeric       1         \n",
       "   len                      integer       1         \n",
       "   months                   character     12        \n",
       "   profit                   numeric       12        \n",
       "   revenue                  numeric       1         \n",
       "   royalty                  numeric       1         \n",
       "   sales                    numeric       1         \n",
       "   sales_mult               numeric       12        \n",
       "   sales.by.month           numeric       12        \n",
       "   stock.levels             character     12        \n",
       "   test_var                 numeric       1         \n",
       "   total.writing.hours      numeric       1         \n",
       "   weeks.writing            numeric       1         \n",
       "   x                        logical       3         "
      ]
     },
     "metadata": {},
     "output_type": "display_data"
    }
   ],
   "source": [
    "who()"
   ]
  },
  {
   "cell_type": "code",
   "execution_count": 47,
   "id": "30345e34",
   "metadata": {},
   "outputs": [],
   "source": [
    "save.image(\"all_vars_20210713.Rdata\")"
   ]
  },
  {
   "cell_type": "markdown",
   "id": "41c11889",
   "metadata": {},
   "source": [
    "save some variables"
   ]
  },
  {
   "cell_type": "code",
   "execution_count": 48,
   "id": "7b27540d",
   "metadata": {},
   "outputs": [],
   "source": [
    "save(sales_mult, weeks.writing, file=\"somedata_20210713.Rdata\")"
   ]
  },
  {
   "cell_type": "markdown",
   "id": "916cb437",
   "metadata": {},
   "source": [
    "## Other useful things about variables\n",
    "\n",
    "special values: <br>\n",
    "- `Inf`\n",
    "- `NaN` (not a number- still treated as numeric) - there is a value but its insane (0/0)\n",
    "- `NA`(not available- something is missing) - there is supposed to be a value there\n",
    "- `NULL` - No value whatsoever"
   ]
  },
  {
   "cell_type": "markdown",
   "id": "055f7abc",
   "metadata": {},
   "source": [
    "naming vector elements"
   ]
  },
  {
   "cell_type": "code",
   "execution_count": 49,
   "id": "aa179835",
   "metadata": {},
   "outputs": [
    {
     "name": "stdout",
     "output_type": "stream",
     "text": [
      "[1]  3.1  0.1 -1.4  1.1\n"
     ]
    }
   ],
   "source": [
    "profit <- c(3.1, 0.1, -1.4, 1.1)\n",
    "print(profit)"
   ]
  },
  {
   "cell_type": "code",
   "execution_count": 50,
   "id": "84edb2cf",
   "metadata": {},
   "outputs": [
    {
     "name": "stdout",
     "output_type": "stream",
     "text": [
      "  Q1   Q2   Q3   Q4 \n",
      " 3.1  0.1 -1.4  1.1 \n"
     ]
    }
   ],
   "source": [
    "names(profit) <- c(\"Q1\", \"Q2\", \"Q3\", \"Q4\")\n",
    "print(profit)"
   ]
  },
  {
   "cell_type": "markdown",
   "id": "5ef7afa5",
   "metadata": {},
   "source": [
    "This is kind of like the indices for a pandas series"
   ]
  },
  {
   "cell_type": "markdown",
   "id": "794bca58",
   "metadata": {},
   "source": [
    "delete the names"
   ]
  },
  {
   "cell_type": "code",
   "execution_count": 52,
   "id": "f0a06093",
   "metadata": {},
   "outputs": [
    {
     "name": "stdout",
     "output_type": "stream",
     "text": [
      "[1]  3.1  0.1 -1.4  1.1\n"
     ]
    }
   ],
   "source": [
    "names(profit) <- NULL\n",
    "print(profit)"
   ]
  },
  {
   "cell_type": "code",
   "execution_count": 53,
   "id": "611ba4e1",
   "metadata": {},
   "outputs": [
    {
     "name": "stdout",
     "output_type": "stream",
     "text": [
      "  Q1   Q2   Q3   Q4 \n",
      " 3.1  0.1 -1.4  1.1 \n"
     ]
    }
   ],
   "source": [
    "profit <- c(\"Q1\" = 3.1, \"Q2\" = 0.1, \"Q3\" = -1.4, \"Q4\" = 1.1)\n",
    "print(profit)"
   ]
  },
  {
   "cell_type": "code",
   "execution_count": 54,
   "id": "3d4c59ef",
   "metadata": {},
   "outputs": [
    {
     "data": {
      "text/html": [
       "<strong>Q1:</strong> 3.1"
      ],
      "text/latex": [
       "\\textbf{Q1:} 3.1"
      ],
      "text/markdown": [
       "**Q1:** 3.1"
      ],
      "text/plain": [
       " Q1 \n",
       "3.1 "
      ]
     },
     "metadata": {},
     "output_type": "display_data"
    }
   ],
   "source": [
    "profit[\"Q1\"]"
   ]
  },
  {
   "cell_type": "markdown",
   "id": "e18035ec",
   "metadata": {},
   "source": [
    "These names work a lot like key-value pairs in a python dictionary"
   ]
  },
  {
   "cell_type": "markdown",
   "id": "2d86314d",
   "metadata": {},
   "source": [
    "variable classes:\n",
    "\n",
    "- class()\n",
    "- mode()\n",
    "- type()"
   ]
  },
  {
   "cell_type": "code",
   "execution_count": 55,
   "id": "98201e88",
   "metadata": {},
   "outputs": [
    {
     "data": {
      "text/html": [
       "'numeric'"
      ],
      "text/latex": [
       "'numeric'"
      ],
      "text/markdown": [
       "'numeric'"
      ],
      "text/plain": [
       "[1] \"numeric\""
      ]
     },
     "metadata": {},
     "output_type": "display_data"
    }
   ],
   "source": [
    "class(profit[\"Q1\"])"
   ]
  },
  {
   "cell_type": "code",
   "execution_count": 56,
   "id": "202a8875",
   "metadata": {},
   "outputs": [
    {
     "data": {
      "text/html": [
       "'numeric'"
      ],
      "text/latex": [
       "'numeric'"
      ],
      "text/markdown": [
       "'numeric'"
      ],
      "text/plain": [
       "[1] \"numeric\""
      ]
     },
     "metadata": {},
     "output_type": "display_data"
    }
   ],
   "source": [
    "mode(profit[\"Q1\"])"
   ]
  },
  {
   "cell_type": "code",
   "execution_count": 57,
   "id": "c7d31757",
   "metadata": {},
   "outputs": [
    {
     "data": {
      "text/html": [
       "'double'"
      ],
      "text/latex": [
       "'double'"
      ],
      "text/markdown": [
       "'double'"
      ],
      "text/plain": [
       "[1] \"double\""
      ]
     },
     "metadata": {},
     "output_type": "display_data"
    }
   ],
   "source": [
    "typeof(profit[\"Q1\"])"
   ]
  },
  {
   "cell_type": "markdown",
   "id": "d87fb78c",
   "metadata": {},
   "source": [
    "## Factors"
   ]
  },
  {
   "cell_type": "markdown",
   "id": "3998427b",
   "metadata": {},
   "source": [
    "numeric already works with ratio scale data"
   ]
  },
  {
   "cell_type": "code",
   "execution_count": 58,
   "id": "12e54d82",
   "metadata": {},
   "outputs": [],
   "source": [
    "# response time for 5 different events\n",
    "RT <- c(342, 401, 590, 391, 554)"
   ]
  },
  {
   "cell_type": "markdown",
   "id": "096e8f94",
   "metadata": {},
   "source": [
    "May also work with interval scale data- just remember not to do any multiplication or division since that would be meaningless\n",
    "\n",
    "can also tolerate numerical values for ordinal data (i.e. ranking items)\n",
    "\n",
    "absolutely terrible for nominal scale data- that's where **factors** come in"
   ]
  },
  {
   "cell_type": "markdown",
   "id": "2af53094",
   "metadata": {},
   "source": [
    "ex: tracking who had what set of instructions"
   ]
  },
  {
   "cell_type": "code",
   "execution_count": 60,
   "id": "ad2f44e2",
   "metadata": {},
   "outputs": [
    {
     "data": {
      "text/html": [
       "<ol class=list-inline>\n",
       "\t<li>1</li>\n",
       "\t<li>1</li>\n",
       "\t<li>1</li>\n",
       "\t<li>2</li>\n",
       "\t<li>2</li>\n",
       "\t<li>2</li>\n",
       "\t<li>3</li>\n",
       "\t<li>3</li>\n",
       "\t<li>3</li>\n",
       "</ol>\n",
       "\n",
       "<details>\n",
       "\t<summary style=display:list-item;cursor:pointer>\n",
       "\t\t<strong>Levels</strong>:\n",
       "\t</summary>\n",
       "\t<ol class=list-inline>\n",
       "\t\t<li>'1'</li>\n",
       "\t\t<li>'2'</li>\n",
       "\t\t<li>'3'</li>\n",
       "\t</ol>\n",
       "</details>"
      ],
      "text/latex": [
       "\\begin{enumerate*}\n",
       "\\item 1\n",
       "\\item 1\n",
       "\\item 1\n",
       "\\item 2\n",
       "\\item 2\n",
       "\\item 2\n",
       "\\item 3\n",
       "\\item 3\n",
       "\\item 3\n",
       "\\end{enumerate*}\n",
       "\n",
       "\\emph{Levels}: \\begin{enumerate*}\n",
       "\\item '1'\n",
       "\\item '2'\n",
       "\\item '3'\n",
       "\\end{enumerate*}\n"
      ],
      "text/markdown": [
       "1. 1\n",
       "2. 1\n",
       "3. 1\n",
       "4. 2\n",
       "5. 2\n",
       "6. 2\n",
       "7. 3\n",
       "8. 3\n",
       "9. 3\n",
       "\n",
       "\n",
       "\n",
       "**Levels**: 1. '1'\n",
       "2. '2'\n",
       "3. '3'\n",
       "\n",
       "\n"
      ],
      "text/plain": [
       "[1] 1 1 1 2 2 2 3 3 3\n",
       "Levels: 1 2 3"
      ]
     },
     "metadata": {},
     "output_type": "display_data"
    }
   ],
   "source": [
    "group <- c(1, 1, 1, 2, 2, 2, 3, 3, 3)\n",
    "group <- as.factor(group)\n",
    "group"
   ]
  },
  {
   "cell_type": "code",
   "execution_count": 61,
   "id": "b210d851",
   "metadata": {},
   "outputs": [
    {
     "data": {
      "text/html": [
       "'factor'"
      ],
      "text/latex": [
       "'factor'"
      ],
      "text/markdown": [
       "'factor'"
      ],
      "text/plain": [
       "[1] \"factor\""
      ]
     },
     "metadata": {},
     "output_type": "display_data"
    }
   ],
   "source": [
    "class(group)"
   ]
  },
  {
   "cell_type": "code",
   "execution_count": 62,
   "id": "48320c6c",
   "metadata": {},
   "outputs": [
    {
     "name": "stderr",
     "output_type": "stream",
     "text": [
      "Warning message in Ops.factor(group, 2):\n",
      "“‘+’ not meaningful for factors”"
     ]
    },
    {
     "data": {
      "text/html": [
       "<ol class=list-inline>\n",
       "\t<li>&lt;NA&gt;</li>\n",
       "\t<li>&lt;NA&gt;</li>\n",
       "\t<li>&lt;NA&gt;</li>\n",
       "\t<li>&lt;NA&gt;</li>\n",
       "\t<li>&lt;NA&gt;</li>\n",
       "\t<li>&lt;NA&gt;</li>\n",
       "\t<li>&lt;NA&gt;</li>\n",
       "\t<li>&lt;NA&gt;</li>\n",
       "\t<li>&lt;NA&gt;</li>\n",
       "</ol>\n"
      ],
      "text/latex": [
       "\\begin{enumerate*}\n",
       "\\item <NA>\n",
       "\\item <NA>\n",
       "\\item <NA>\n",
       "\\item <NA>\n",
       "\\item <NA>\n",
       "\\item <NA>\n",
       "\\item <NA>\n",
       "\\item <NA>\n",
       "\\item <NA>\n",
       "\\end{enumerate*}\n"
      ],
      "text/markdown": [
       "1. &lt;NA&gt;\n",
       "2. &lt;NA&gt;\n",
       "3. &lt;NA&gt;\n",
       "4. &lt;NA&gt;\n",
       "5. &lt;NA&gt;\n",
       "6. &lt;NA&gt;\n",
       "7. &lt;NA&gt;\n",
       "8. &lt;NA&gt;\n",
       "9. &lt;NA&gt;\n",
       "\n",
       "\n"
      ],
      "text/plain": [
       "[1] NA NA NA NA NA NA NA NA NA"
      ]
     },
     "metadata": {},
     "output_type": "display_data"
    }
   ],
   "source": [
    "group + 2"
   ]
  },
  {
   "cell_type": "markdown",
   "id": "9ca1c3ef",
   "metadata": {},
   "source": [
    "**levels**"
   ]
  },
  {
   "cell_type": "code",
   "execution_count": 72,
   "id": "cfe31b84",
   "metadata": {},
   "outputs": [
    {
     "name": "stdout",
     "output_type": "stream",
     "text": [
      "[1] 1 1 1 1 1 2 2 2 2\n",
      "Levels: 1 2\n"
     ]
    }
   ],
   "source": [
    "gender <- as.factor(c(1, 1, 1, 1, 1, 2, 2, 2, 2))\n",
    "print(gender)"
   ]
  },
  {
   "cell_type": "code",
   "execution_count": 73,
   "id": "c4bc0de1",
   "metadata": {},
   "outputs": [
    {
     "name": "stdout",
     "output_type": "stream",
     "text": [
      "[1] group 1 group 1 group 1 group 2 group 2 group 2 group 3 group 3 group 3\n",
      "Levels: group 1 group 2 group 3\n"
     ]
    }
   ],
   "source": [
    "levels(group) <- c(\"group 1\", \"group 2\", \"group 3\")\n",
    "print(group)"
   ]
  },
  {
   "cell_type": "code",
   "execution_count": 74,
   "id": "dfba7412",
   "metadata": {},
   "outputs": [
    {
     "name": "stdout",
     "output_type": "stream",
     "text": [
      "[1] male   male   male   male   male   female female female female\n",
      "Levels: male female\n"
     ]
    }
   ],
   "source": [
    "levels(gender) <- c(\"male\", \"female\")\n",
    "print(gender)"
   ]
  },
  {
   "cell_type": "markdown",
   "id": "47fbce9b",
   "metadata": {},
   "source": [
    "## Data frames"
   ]
  },
  {
   "cell_type": "code",
   "execution_count": 75,
   "id": "36b6f21e",
   "metadata": {},
   "outputs": [],
   "source": [
    "age <- c(17, 19, 21, 37, 18, 19, 47, 18, 19)\n",
    "score <- c(12, 10, 11, 15, 16, 14, 25, 21, 29)"
   ]
  },
  {
   "cell_type": "code",
   "execution_count": 77,
   "id": "adc6d1f3",
   "metadata": {},
   "outputs": [
    {
     "data": {
      "text/html": [
       "<table>\n",
       "<thead><tr><th scope=col>age</th><th scope=col>gender</th><th scope=col>group</th><th scope=col>score</th></tr></thead>\n",
       "<tbody>\n",
       "\t<tr><td>17     </td><td>male   </td><td>group 1</td><td>12     </td></tr>\n",
       "\t<tr><td>19     </td><td>male   </td><td>group 1</td><td>10     </td></tr>\n",
       "\t<tr><td>21     </td><td>male   </td><td>group 1</td><td>11     </td></tr>\n",
       "\t<tr><td>37     </td><td>male   </td><td>group 2</td><td>15     </td></tr>\n",
       "\t<tr><td>18     </td><td>male   </td><td>group 2</td><td>16     </td></tr>\n",
       "\t<tr><td>19     </td><td>female </td><td>group 2</td><td>14     </td></tr>\n",
       "\t<tr><td>47     </td><td>female </td><td>group 3</td><td>25     </td></tr>\n",
       "\t<tr><td>18     </td><td>female </td><td>group 3</td><td>21     </td></tr>\n",
       "\t<tr><td>19     </td><td>female </td><td>group 3</td><td>29     </td></tr>\n",
       "</tbody>\n",
       "</table>\n"
      ],
      "text/latex": [
       "\\begin{tabular}{r|llll}\n",
       " age & gender & group & score\\\\\n",
       "\\hline\n",
       "\t 17      & male    & group 1 & 12     \\\\\n",
       "\t 19      & male    & group 1 & 10     \\\\\n",
       "\t 21      & male    & group 1 & 11     \\\\\n",
       "\t 37      & male    & group 2 & 15     \\\\\n",
       "\t 18      & male    & group 2 & 16     \\\\\n",
       "\t 19      & female  & group 2 & 14     \\\\\n",
       "\t 47      & female  & group 3 & 25     \\\\\n",
       "\t 18      & female  & group 3 & 21     \\\\\n",
       "\t 19      & female  & group 3 & 29     \\\\\n",
       "\\end{tabular}\n"
      ],
      "text/markdown": [
       "\n",
       "| age | gender | group | score |\n",
       "|---|---|---|---|\n",
       "| 17      | male    | group 1 | 12      |\n",
       "| 19      | male    | group 1 | 10      |\n",
       "| 21      | male    | group 1 | 11      |\n",
       "| 37      | male    | group 2 | 15      |\n",
       "| 18      | male    | group 2 | 16      |\n",
       "| 19      | female  | group 2 | 14      |\n",
       "| 47      | female  | group 3 | 25      |\n",
       "| 18      | female  | group 3 | 21      |\n",
       "| 19      | female  | group 3 | 29      |\n",
       "\n"
      ],
      "text/plain": [
       "  age gender group   score\n",
       "1 17  male   group 1 12   \n",
       "2 19  male   group 1 10   \n",
       "3 21  male   group 1 11   \n",
       "4 37  male   group 2 15   \n",
       "5 18  male   group 2 16   \n",
       "6 19  female group 2 14   \n",
       "7 47  female group 3 25   \n",
       "8 18  female group 3 21   \n",
       "9 19  female group 3 29   "
      ]
     },
     "metadata": {},
     "output_type": "display_data"
    }
   ],
   "source": [
    "expt <- data.frame(age, gender, group, score)\n",
    "expt"
   ]
  },
  {
   "cell_type": "markdown",
   "id": "745121ce",
   "metadata": {},
   "source": [
    "expt is completely independent from the variables used to make it. Changing or deleting `age` will NOT change the age column in expt"
   ]
  },
  {
   "cell_type": "markdown",
   "id": "a786f95e",
   "metadata": {},
   "source": [
    "Extract column from expt"
   ]
  },
  {
   "cell_type": "code",
   "execution_count": 78,
   "id": "d39218df",
   "metadata": {},
   "outputs": [
    {
     "data": {
      "text/html": [
       "<ol class=list-inline>\n",
       "\t<li>12</li>\n",
       "\t<li>10</li>\n",
       "\t<li>11</li>\n",
       "\t<li>15</li>\n",
       "\t<li>16</li>\n",
       "\t<li>14</li>\n",
       "\t<li>25</li>\n",
       "\t<li>21</li>\n",
       "\t<li>29</li>\n",
       "</ol>\n"
      ],
      "text/latex": [
       "\\begin{enumerate*}\n",
       "\\item 12\n",
       "\\item 10\n",
       "\\item 11\n",
       "\\item 15\n",
       "\\item 16\n",
       "\\item 14\n",
       "\\item 25\n",
       "\\item 21\n",
       "\\item 29\n",
       "\\end{enumerate*}\n"
      ],
      "text/markdown": [
       "1. 12\n",
       "2. 10\n",
       "3. 11\n",
       "4. 15\n",
       "5. 16\n",
       "6. 14\n",
       "7. 25\n",
       "8. 21\n",
       "9. 29\n",
       "\n",
       "\n"
      ],
      "text/plain": [
       "[1] 12 10 11 15 16 14 25 21 29"
      ]
     },
     "metadata": {},
     "output_type": "display_data"
    }
   ],
   "source": [
    "expt$score"
   ]
  },
  {
   "cell_type": "code",
   "execution_count": 79,
   "id": "738792a3",
   "metadata": {},
   "outputs": [
    {
     "data": {
      "text/html": [
       "<ol class=list-inline>\n",
       "\t<li>'age'</li>\n",
       "\t<li>'gender'</li>\n",
       "\t<li>'group'</li>\n",
       "\t<li>'score'</li>\n",
       "</ol>\n"
      ],
      "text/latex": [
       "\\begin{enumerate*}\n",
       "\\item 'age'\n",
       "\\item 'gender'\n",
       "\\item 'group'\n",
       "\\item 'score'\n",
       "\\end{enumerate*}\n"
      ],
      "text/markdown": [
       "1. 'age'\n",
       "2. 'gender'\n",
       "3. 'group'\n",
       "4. 'score'\n",
       "\n",
       "\n"
      ],
      "text/plain": [
       "[1] \"age\"    \"gender\" \"group\"  \"score\" "
      ]
     },
     "metadata": {},
     "output_type": "display_data"
    }
   ],
   "source": [
    "names(expt)"
   ]
  },
  {
   "cell_type": "code",
   "execution_count": 80,
   "id": "924597fc",
   "metadata": {},
   "outputs": [
    {
     "data": {
      "text/plain": [
       "   -- Name --               -- Class --   -- Size --\n",
       "   age                      numeric       9         \n",
       "   any.sales.this.month     logical       12        \n",
       "   average.daily.sales      numeric       12        \n",
       "   books                    data.frame    12 x 4    \n",
       "    $Month                  factor        12        \n",
       "    $Days                   integer       12        \n",
       "    $Sales                  integer       12        \n",
       "    $Stock.Levels           factor        12        \n",
       "   daily                    numeric       12        \n",
       "   days.per.month           numeric       12        \n",
       "   expt                     data.frame    9 x 4     \n",
       "    $age                    numeric       9         \n",
       "    $gender                 factor        9         \n",
       "    $group                  factor        9         \n",
       "    $score                  numeric       9         \n",
       "   february.sales           numeric       1         \n",
       "   febuary.sales            numeric       1         \n",
       "   gender                   factor        9         \n",
       "   greeting                 character     1         \n",
       "   group                    factor        9         \n",
       "   hourly.wage              numeric       1         \n",
       "   hours.writing.per.week   numeric       1         \n",
       "   keeper                   numeric       1         \n",
       "   len                      integer       1         \n",
       "   months                   character     12        \n",
       "   profit                   numeric       4         \n",
       "   revenue                  numeric       1         \n",
       "   royalty                  numeric       1         \n",
       "   RT                       numeric       5         \n",
       "   sales                    numeric       1         \n",
       "   sales_mult               numeric       12        \n",
       "   sales.by.month           numeric       12        \n",
       "   score                    numeric       9         \n",
       "   stock.levels             character     12        \n",
       "   test_var                 numeric       1         \n",
       "   total.writing.hours      numeric       1         \n",
       "   weeks.writing            numeric       1         \n",
       "   x                        logical       3         "
      ]
     },
     "metadata": {},
     "output_type": "display_data"
    }
   ],
   "source": [
    "who(expand = TRUE)"
   ]
  },
  {
   "cell_type": "markdown",
   "id": "20bf7f39",
   "metadata": {},
   "source": [
    "## Lists\n",
    "\n",
    "access elements the same way you would access them in a df"
   ]
  },
  {
   "cell_type": "code",
   "execution_count": 81,
   "id": "e03735a7",
   "metadata": {},
   "outputs": [
    {
     "name": "stdout",
     "output_type": "stream",
     "text": [
      "$age\n",
      "[1] 34\n",
      "\n",
      "$nerd\n",
      "[1] TRUE\n",
      "\n",
      "$parents\n",
      "[1] \"Joe\" \"Liz\"\n",
      "\n"
     ]
    }
   ],
   "source": [
    "Danielle <- list(age=34, nerd=TRUE, parents=c(\"Joe\", \"Liz\"))\n",
    "print(Danielle)"
   ]
  },
  {
   "cell_type": "code",
   "execution_count": 82,
   "id": "6c7ebe20",
   "metadata": {},
   "outputs": [
    {
     "data": {
      "text/html": [
       "TRUE"
      ],
      "text/latex": [
       "TRUE"
      ],
      "text/markdown": [
       "TRUE"
      ],
      "text/plain": [
       "[1] TRUE"
      ]
     },
     "metadata": {},
     "output_type": "display_data"
    }
   ],
   "source": [
    "Danielle$nerd"
   ]
  },
  {
   "cell_type": "markdown",
   "id": "baa71592",
   "metadata": {},
   "source": [
    "new entry into list"
   ]
  },
  {
   "cell_type": "code",
   "execution_count": 83,
   "id": "a78e9f2b",
   "metadata": {},
   "outputs": [],
   "source": [
    "Danielle$children <- \"Bob\""
   ]
  },
  {
   "cell_type": "markdown",
   "id": "2d0fd8f2",
   "metadata": {},
   "source": [
    "Lists can also contain other lists"
   ]
  },
  {
   "cell_type": "markdown",
   "id": "1dbb1090",
   "metadata": {},
   "source": [
    "## Formulas\n",
    "\n",
    "a variable that specifies a relationship between 2 other variables."
   ]
  },
  {
   "cell_type": "code",
   "execution_count": 84,
   "id": "89f44cdb",
   "metadata": {},
   "outputs": [
    {
     "data": {
      "text/plain": [
       "out ~ pred"
      ]
     },
     "metadata": {},
     "output_type": "display_data"
    }
   ],
   "source": [
    "formula1 <- out ~ pred\n",
    "formula1"
   ]
  },
  {
   "cell_type": "markdown",
   "id": "1e7c726d",
   "metadata": {},
   "source": [
    "R doesn't care if out or pred actually exist\n",
    "\n",
    "Generally, this means \"The out (outcome) variable, analyzed in terms of the pred (predictor) variable\"\n",
    "\n",
    "other formats:"
   ]
  },
  {
   "cell_type": "code",
   "execution_count": 85,
   "id": "a403321a",
   "metadata": {},
   "outputs": [],
   "source": [
    "formula2 <- out ~ pred1 + pred2\n",
    "formula3 <- out ~ pred1 * pred2\n",
    "formula4 <- ~ var1 + var2"
   ]
  },
  {
   "cell_type": "markdown",
   "id": "ec849d4a",
   "metadata": {},
   "source": [
    "## Generic functions\n",
    "\n",
    "print(), summary(), plot(), ect. \n",
    "\n",
    "Changes behavior based on class"
   ]
  },
  {
   "cell_type": "code",
   "execution_count": 86,
   "id": "79ebf409",
   "metadata": {},
   "outputs": [
    {
     "name": "stdout",
     "output_type": "stream",
     "text": [
      "blah ~ blah.blah\n"
     ]
    }
   ],
   "source": [
    "my.formula <- blah ~ blah.blah\n",
    "print(my.formula)"
   ]
  },
  {
   "cell_type": "markdown",
   "id": "6011ccf9",
   "metadata": {},
   "source": [
    "print() checks the class of the var, then calls the method associated with that class (method dispatch)"
   ]
  },
  {
   "cell_type": "code",
   "execution_count": 87,
   "id": "b92b6aec",
   "metadata": {
    "scrolled": true
   },
   "outputs": [
    {
     "ename": "ERROR",
     "evalue": "Error in print.formula(my.formula): could not find function \"print.formula\"\n",
     "output_type": "error",
     "traceback": [
      "Error in print.formula(my.formula): could not find function \"print.formula\"\nTraceback:\n"
     ]
    }
   ],
   "source": [
    "print.formula(my.formula)"
   ]
  },
  {
   "cell_type": "markdown",
   "id": "e599825d",
   "metadata": {},
   "source": [
    "(I'm assuming this is some kind of version issue)\n",
    "\n",
    "If no dedicated method could be found, then resort to the default function"
   ]
  },
  {
   "cell_type": "code",
   "execution_count": 88,
   "id": "8d8e3e59",
   "metadata": {},
   "outputs": [
    {
     "name": "stdout",
     "output_type": "stream",
     "text": [
      "blah ~ blah.blah\n",
      "attr(,\"class\")\n",
      "[1] \"formula\"\n",
      "attr(,\".Environment\")\n",
      "<environment: R_GlobalEnv>\n"
     ]
    }
   ],
   "source": [
    "print.default(my.formula)"
   ]
  },
  {
   "cell_type": "markdown",
   "id": "40affa51",
   "metadata": {},
   "source": [
    "## help documentation"
   ]
  },
  {
   "cell_type": "code",
   "execution_count": 89,
   "id": "f5eab47b",
   "metadata": {},
   "outputs": [],
   "source": [
    "?load"
   ]
  },
  {
   "cell_type": "code",
   "execution_count": 90,
   "id": "ba555d39",
   "metadata": {},
   "outputs": [],
   "source": [
    "help(load)"
   ]
  },
  {
   "cell_type": "markdown",
   "id": "4b2f9a30",
   "metadata": {},
   "source": [
    "fuzzy search"
   ]
  },
  {
   "cell_type": "code",
   "execution_count": 91,
   "id": "0f2e3f91",
   "metadata": {},
   "outputs": [],
   "source": [
    "??load"
   ]
  },
  {
   "cell_type": "code",
   "execution_count": 92,
   "id": "6241b824",
   "metadata": {},
   "outputs": [],
   "source": [
    "help.search(\"load\")"
   ]
  }
 ],
 "metadata": {
  "kernelspec": {
   "display_name": "R",
   "language": "R",
   "name": "ir"
  },
  "language_info": {
   "codemirror_mode": "r",
   "file_extension": ".r",
   "mimetype": "text/x-r-source",
   "name": "R",
   "pygments_lexer": "r",
   "version": "3.6.1"
  }
 },
 "nbformat": 4,
 "nbformat_minor": 5
}
