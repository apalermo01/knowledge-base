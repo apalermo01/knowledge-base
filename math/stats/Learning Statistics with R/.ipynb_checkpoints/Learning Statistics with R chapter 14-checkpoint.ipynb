{
 "cells": [
  {
   "cell_type": "markdown",
   "id": "d0b6a2ba",
   "metadata": {},
   "source": [
    "# Comparing several means (one-way ANOVA)\n",
    "\n",
    "We have several groups of observations. Do these groups differ in terms of some outcome variable of interest?"
   ]
  },
  {
   "cell_type": "markdown",
   "id": "4b972f01",
   "metadata": {},
   "source": [
    "## An illustrative data set\n",
    "\n",
    "18 participants in a clinical trail for depression treatment. <br> \n",
    "therapy: 9 in CBT, 9 none<br>\n",
    "drugs: 6 joyzepam, 6 anxifree, 6 placebo<br> \n",
    "\n",
    "assess the mood of each person after a 3 month run with each drug. Overall improvement in mood is assessed on a scale ranging from -5 to +5"
   ]
  },
  {
   "cell_type": "code",
   "execution_count": 2,
   "id": "5546bb3b",
   "metadata": {},
   "outputs": [
    {
     "data": {
      "text/plain": [
       "   -- Name --    -- Class --   -- Size --\n",
       "   clin.trial    data.frame    18 x 3    \n",
       "    $drug        factor        18        \n",
       "    $therapy     factor        18        \n",
       "    $mood.gain   numeric       18        "
      ]
     },
     "metadata": {},
     "output_type": "display_data"
    }
   ],
   "source": [
    "library(lsr)\n",
    "load(\"clinicaltrial.Rdata\")\n",
    "who(TRUE)"
   ]
  },
  {
   "cell_type": "code",
   "execution_count": 3,
   "id": "693ac0fd",
   "metadata": {},
   "outputs": [
    {
     "name": "stdout",
     "output_type": "stream",
     "text": [
      "       drug    therapy mood.gain\n",
      "1   placebo no.therapy       0.5\n",
      "2   placebo no.therapy       0.3\n",
      "3   placebo no.therapy       0.1\n",
      "4  anxifree no.therapy       0.6\n",
      "5  anxifree no.therapy       0.4\n",
      "6  anxifree no.therapy       0.2\n",
      "7  joyzepam no.therapy       1.4\n",
      "8  joyzepam no.therapy       1.7\n",
      "9  joyzepam no.therapy       1.3\n",
      "10  placebo        CBT       0.6\n",
      "11  placebo        CBT       0.9\n",
      "12  placebo        CBT       0.3\n",
      "13 anxifree        CBT       1.1\n",
      "14 anxifree        CBT       0.8\n",
      "15 anxifree        CBT       1.2\n",
      "16 joyzepam        CBT       1.8\n",
      "17 joyzepam        CBT       1.3\n",
      "18 joyzepam        CBT       1.4\n"
     ]
    }
   ],
   "source": [
    "print(clin.trial)"
   ]
  },
  {
   "cell_type": "markdown",
   "id": "fb58e8be",
   "metadata": {},
   "source": [
    "we are really interested in the effect of drug on mood.gain"
   ]
  },
  {
   "cell_type": "code",
   "execution_count": 4,
   "id": "72de5c55",
   "metadata": {},
   "outputs": [
    {
     "data": {
      "text/plain": [
       "drug\n",
       " placebo anxifree joyzepam \n",
       "       6        6        6 "
      ]
     },
     "metadata": {},
     "output_type": "display_data"
    }
   ],
   "source": [
    "xtabs(~drug, clin.trial)"
   ]
  },
  {
   "cell_type": "code",
   "execution_count": 5,
   "id": "dba64c63",
   "metadata": {},
   "outputs": [
    {
     "data": {
      "text/html": [
       "<table>\n",
       "<thead><tr><th scope=col>drug</th><th scope=col>mood.gain</th></tr></thead>\n",
       "<tbody>\n",
       "\t<tr><td>placebo  </td><td>0.4500000</td></tr>\n",
       "\t<tr><td>anxifree </td><td>0.7166667</td></tr>\n",
       "\t<tr><td>joyzepam </td><td>1.4833333</td></tr>\n",
       "</tbody>\n",
       "</table>\n"
      ],
      "text/latex": [
       "\\begin{tabular}{r|ll}\n",
       " drug & mood.gain\\\\\n",
       "\\hline\n",
       "\t placebo   & 0.4500000\\\\\n",
       "\t anxifree  & 0.7166667\\\\\n",
       "\t joyzepam  & 1.4833333\\\\\n",
       "\\end{tabular}\n"
      ],
      "text/markdown": [
       "\n",
       "| drug | mood.gain |\n",
       "|---|---|\n",
       "| placebo   | 0.4500000 |\n",
       "| anxifree  | 0.7166667 |\n",
       "| joyzepam  | 1.4833333 |\n",
       "\n"
      ],
      "text/plain": [
       "  drug     mood.gain\n",
       "1 placebo  0.4500000\n",
       "2 anxifree 0.7166667\n",
       "3 joyzepam 1.4833333"
      ]
     },
     "metadata": {},
     "output_type": "display_data"
    }
   ],
   "source": [
    "aggregate(mood.gain ~ drug, clin.trial, mean)"
   ]
  },
  {
   "cell_type": "code",
   "execution_count": 6,
   "id": "0400ccbf",
   "metadata": {},
   "outputs": [
    {
     "data": {
      "text/html": [
       "<table>\n",
       "<thead><tr><th scope=col>drug</th><th scope=col>mood.gain</th></tr></thead>\n",
       "<tbody>\n",
       "\t<tr><td>placebo  </td><td>0.2810694</td></tr>\n",
       "\t<tr><td>anxifree </td><td>0.3920034</td></tr>\n",
       "\t<tr><td>joyzepam </td><td>0.2136976</td></tr>\n",
       "</tbody>\n",
       "</table>\n"
      ],
      "text/latex": [
       "\\begin{tabular}{r|ll}\n",
       " drug & mood.gain\\\\\n",
       "\\hline\n",
       "\t placebo   & 0.2810694\\\\\n",
       "\t anxifree  & 0.3920034\\\\\n",
       "\t joyzepam  & 0.2136976\\\\\n",
       "\\end{tabular}\n"
      ],
      "text/markdown": [
       "\n",
       "| drug | mood.gain |\n",
       "|---|---|\n",
       "| placebo   | 0.2810694 |\n",
       "| anxifree  | 0.3920034 |\n",
       "| joyzepam  | 0.2136976 |\n",
       "\n"
      ],
      "text/plain": [
       "  drug     mood.gain\n",
       "1 placebo  0.2810694\n",
       "2 anxifree 0.3920034\n",
       "3 joyzepam 0.2136976"
      ]
     },
     "metadata": {},
     "output_type": "display_data"
    }
   ],
   "source": [
    "aggregate(mood.gain~drug, clin.trial, sd)"
   ]
  },
  {
   "cell_type": "code",
   "execution_count": 7,
   "id": "38b60b37",
   "metadata": {},
   "outputs": [
    {
     "name": "stderr",
     "output_type": "stream",
     "text": [
      "\n",
      "Attaching package: ‘gplots’\n",
      "\n",
      "\n",
      "The following object is masked from ‘package:stats’:\n",
      "\n",
      "    lowess\n",
      "\n",
      "\n"
     ]
    },
    {
     "data": {
      "image/png": "[encoded data removed]",
      "text/plain": [
       "plot without title"
      ]
     },
     "metadata": {
      "image/png": {
       "height": 420,
       "width": 420
      }
     },
     "output_type": "display_data"
    }
   ],
   "source": [
    "library(gplots)\n",
    "plotmeans(formula=mood.gain~drug, # plot mood gain by drug\n",
    "          data=clin.trial,        # data frame\n",
    "          xlab = \"Drug Administered\", \n",
    "          ylab = \"Mood Gain\",\n",
    "          n.label=FALSE)"
   ]
  },
  {
   "cell_type": "markdown",
   "id": "be5f3c8b",
   "metadata": {},
   "source": [
    "Is the difference between the drugs \"real\" or are they due to chance?"
   ]
  },
  {
   "cell_type": "markdown",
   "id": "16f055b3",
   "metadata": {},
   "source": [
    "## How ANOVA works\n",
    "\n",
    "compare the average mood change for 3 different drugs. similar to t-test but more groups. \n",
    "\n",
    "$$\n",
    "H_0 : \\text{it is true that } \\mu_p = \\mu_A = \\mu_J\n",
    "$$\n",
    "\n",
    "$$\n",
    "H_1 : \\text{it is NOT true that } \\mu_p = \\mu_A = \\mu_J\n",
    "$$"
   ]
  },
  {
   "attachments": {
    "image.png": {
     "image/png": "[encoded data removed]"
    }
   },
   "cell_type": "markdown",
   "id": "a5f25a23",
   "metadata": {},
   "source": [
    "**Two formulas for the variance of Y**\n",
    "\n",
    "- $G$ = total number of groups ($G=3$)\n",
    "- $N$ = total sample size ($N=18$)\n",
    "- $N_k$ = number of people in the k-th group ($N_k$ = 6 for all 3 groups (this means the dataset is balanced))\n",
    "- $Y$ = outcome variable\n",
    "\n",
    "sample variance:\n",
    "\n",
    "![image.png](attachment:image.png)"
   ]
  },
  {
   "attachments": {
    "image-2.png": {
     "image/png": "[encoded data removed]"
    },
    "image-3.png": {
     "image/png": "[encoded data removed]"
    },
    "image-4.png": {
     "image/png": "[encoded data removed]"
    },
    "image.png": {
     "image/png": "[encoded data removed]"
    }
   },
   "cell_type": "markdown",
   "id": "1755e0b9",
   "metadata": {},
   "source": [
    "**From variances to sum of squares**\n",
    "\n",
    "instead of variance, go for total sum of squares ($SS_{tot}$)\n",
    "\n",
    "![image.png](attachment:image.png)\n",
    "\n",
    "2 different sums of squares: \n",
    "\n",
    "**within group sum of squares**\n",
    "How is each individual different from their own group mean?\n",
    "![image-2.png](attachment:image-2.png)\n",
    "\n",
    "**between-group sum of squares**\n",
    "How is look at differences beetween group means and grand mean\n",
    "![image-3.png](attachment:image-3.png)\n",
    "\n",
    "\n",
    "relationship between total sum of squares and within group, between-group, and within-group<br>\n",
    "![image-4.png](attachment:image-4.png)\n",
    "\n",
    "\n",
    "total variability = variation due to differences in sample means for different groups + rest of variation. If null=True, the all sample means should be close to each other, so SSb < SSw"
   ]
  },
  {
   "attachments": {
    "image.png": {
     "image/png": "[encoded data removed]"
    }
   },
   "cell_type": "markdown",
   "id": "bfca735f",
   "metadata": {},
   "source": [
    "**From sums of squares to the F-test**\n",
    "\n",
    "first get degrees of freedom associated with SSb and SSw. \n",
    "\n",
    "$$\n",
    "\\text{df}_b = G - 1\n",
    "$$\n",
    "$$\n",
    "\\text{df}_w = N - G\n",
    "$$\n",
    "\n",
    "covert summed squares into mean squares\n",
    "\n",
    "$$\n",
    "\\text{MS}_b = \\frac{\\text{SS}_b}{\\text{df}_b}\n",
    "$$\n",
    "$$\n",
    "\\text{MS}_w = \\frac{\\text{SS}_w}{\\text{df}_w}\n",
    "$$\n",
    "\n",
    "now calculate the F-ratio\n",
    "\n",
    "$$\n",
    "F = \\frac{\\text{MS}_b}{\\text{MS}_w}\n",
    "$$\n",
    "\n",
    "How large does F have to be to reject the null?<br> \n",
    "\n",
    "![image.png](attachment:image.png)"
   ]
  },
  {
   "cell_type": "markdown",
   "id": "a0776381",
   "metadata": {},
   "source": [
    "**The model for the data and the meaning of F**\n",
    "\n",
    "Null hypothesis:<br> \n",
    "$$\n",
    "Y_{ik} = \\mu + \\epsilon_{ik}\n",
    "$$\n",
    "\n",
    "observation = mean + error (i.e. residual- stuff the model can't explain)\n",
    "\n",
    "We make the assumption that residuals are normally distributed ($\\epsilon_{ik} \\sim \\text{Normal}(0, \\sigma^2)$\n",
    "\n",
    "alternative hypothesis:\n",
    "$$\n",
    "Y_{ik} = \\mu_k + \\epsilon_{ik}\n",
    "$$\n",
    "\n",
    "the within-groups mean square ($\\text{MS}_w$) can be an estimator for the variance $\\sigma^2$<br> \n",
    "The between-groups mean square ($\\text{MS}_b$) estimates the error variance PLUS something that depends on the true difference among group means (call it $Q$), so:\n",
    "$$\n",
    "F = \\frac{\\hat Q + \\hat \\sigma^2}{\\hat \\sigma^2}\n",
    "$$\n",
    "\n",
    "where $Q=0$ if the null hypothesis is true and and $Q>0$ if the alternative hypothesis is True. <br> \n",
    "\n",
    "So F must be larger than 1 if we can safely reject the null. "
   ]
  },
  {
   "cell_type": "markdown",
   "id": "29f31510",
   "metadata": {},
   "source": [
    "**A worked example**"
   ]
  },
  {
   "cell_type": "code",
   "execution_count": 18,
   "id": "9a340398",
   "metadata": {},
   "outputs": [
    {
     "name": "stdout",
     "output_type": "stream",
     "text": [
      "      group outcome gp.means dev.from.gp.means squared.devs\n",
      "1   placebo     0.5     0.45             0.050       0.0025\n",
      "2   placebo     0.3     0.45            -0.150       0.0225\n",
      "3   placebo     0.1     0.45            -0.350       0.1225\n",
      "4  anxifree     0.6     0.72            -0.117       0.0136\n",
      "5  anxifree     0.4     0.72            -0.317       0.1003\n",
      "6  anxifree     0.2     0.72            -0.517       0.2669\n",
      "7  joyzepam     1.4     1.48            -0.083       0.0069\n",
      "8  joyzepam     1.7     1.48             0.217       0.0469\n",
      "9  joyzepam     1.3     1.48            -0.183       0.0336\n",
      "10  placebo     0.6     0.45             0.150       0.0225\n",
      "11  placebo     0.9     0.45             0.450       0.2025\n",
      "12  placebo     0.3     0.45            -0.150       0.0225\n",
      "13 anxifree     1.1     0.72             0.383       0.1469\n",
      "14 anxifree     0.8     0.72             0.083       0.0069\n",
      "15 anxifree     1.2     0.72             0.483       0.2336\n",
      "16 joyzepam     1.8     1.48             0.317       0.1003\n",
      "17 joyzepam     1.3     1.48            -0.183       0.0336\n",
      "18 joyzepam     1.4     1.48            -0.083       0.0069\n"
     ]
    }
   ],
   "source": [
    "outcome <- clin.trial$mood.gain\n",
    "group <- clin.trial$drug\n",
    "gp.means <- tapply(outcome, group, mean)\n",
    "gp.means <- gp.means[group]\n",
    "dev.from.gp.means <- outcome - gp.means\n",
    "squared.devs <- dev.from.gp.means ^2\n",
    "Y <- data.frame(group, outcome, gp.means, dev.from.gp.means, squared.devs)\n",
    "print(Y, digits=2)"
   ]
  },
  {
   "cell_type": "code",
   "execution_count": 19,
   "id": "eaf034e9",
   "metadata": {},
   "outputs": [
    {
     "name": "stdout",
     "output_type": "stream",
     "text": [
      "[1] 1.391667\n"
     ]
    }
   ],
   "source": [
    "SSw <- sum(squared.devs)\n",
    "print(SSw)"
   ]
  },
  {
   "cell_type": "code",
   "execution_count": 21,
   "id": "7a15860b",
   "metadata": {},
   "outputs": [
    {
     "name": "stdout",
     "output_type": "stream",
     "text": [
      "         gp.means grand.mean dev.from.grand.mean squared.devs gp.sizes\n",
      "placebo      0.45       0.88               -0.43        0.188        6\n",
      "anxifree     0.72       0.88               -0.17        0.028        6\n",
      "joyzepam     1.48       0.88                0.60        0.360        6\n",
      "         wt.squared.devs\n",
      "placebo             1.13\n",
      "anxifree            0.17\n",
      "joyzepam            2.16\n"
     ]
    }
   ],
   "source": [
    "gp.means <- tapply(outcome, group, mean)\n",
    "grand.mean <- mean(outcome)\n",
    "dev.from.grand.mean <- gp.means - grand.mean\n",
    "squared.devs <- dev.from.grand.mean^2\n",
    "gp.sizes <- tapply(outcome, group, length)\n",
    "wt.squared.devs <- gp.sizes * squared.devs\n",
    "Y2 <- data.frame(gp.means, grand.mean, dev.from.grand.mean, squared.devs, gp.sizes, wt.squared.devs)\n",
    "print(Y2, digits=2)"
   ]
  },
  {
   "cell_type": "code",
   "execution_count": 22,
   "id": "1cc4e4dd",
   "metadata": {},
   "outputs": [
    {
     "name": "stdout",
     "output_type": "stream",
     "text": [
      "[1] 3.453333\n"
     ]
    }
   ],
   "source": [
    "SSb <- sum(wt.squared.devs)\n",
    "print(SSb)"
   ]
  },
  {
   "cell_type": "markdown",
   "id": "11fb77b1",
   "metadata": {},
   "source": [
    "calculate F-statistic"
   ]
  },
  {
   "cell_type": "code",
   "execution_count": 29,
   "id": "887b2d8e",
   "metadata": {},
   "outputs": [
    {
     "name": "stdout",
     "output_type": "stream",
     "text": [
      "[1] 18.61078\n"
     ]
    }
   ],
   "source": [
    "dfb = 3-1\n",
    "dfw = 18-3\n",
    "\n",
    "MSb = SSb/dfb\n",
    "MSw = SSw/dfw\n",
    "\n",
    "F = MSb/MSw\n",
    "print(F)"
   ]
  },
  {
   "cell_type": "markdown",
   "id": "a46c1c46",
   "metadata": {},
   "source": [
    "Now calulate p-value. \n",
    "\n",
    "Note: F-test is always one sided (upper tail)"
   ]
  },
  {
   "cell_type": "code",
   "execution_count": 30,
   "id": "d5f5905c",
   "metadata": {},
   "outputs": [
    {
     "data": {
      "text/html": [
       "8.67272689040298e-05"
      ],
      "text/latex": [
       "8.67272689040298e-05"
      ],
      "text/markdown": [
       "8.67272689040298e-05"
      ],
      "text/plain": [
       "[1] 8.672727e-05"
      ]
     },
     "metadata": {},
     "output_type": "display_data"
    }
   ],
   "source": [
    "pf(18.6, df1=2, df2=15, lower.tail=FALSE)"
   ]
  },
  {
   "cell_type": "markdown",
   "id": "5fbc8ed4",
   "metadata": {},
   "source": [
    "## Running an ANOVA in R"
   ]
  },
  {
   "cell_type": "markdown",
   "id": "c9a34e2f",
   "metadata": {},
   "source": [
    "**USing the aov() function to specify your ANOVA**"
   ]
  },
  {
   "cell_type": "code",
   "execution_count": 32,
   "id": "ca617912",
   "metadata": {},
   "outputs": [],
   "source": [
    "my.anova <- aov(formula=mood.gain~drug, data=clin.trial)"
   ]
  },
  {
   "cell_type": "markdown",
   "id": "aa51eaee",
   "metadata": {},
   "source": [
    "**Understanding what the aov() function produces**"
   ]
  },
  {
   "cell_type": "code",
   "execution_count": 33,
   "id": "43b96acd",
   "metadata": {},
   "outputs": [
    {
     "data": {
      "text/html": [
       "<ol class=list-inline>\n",
       "\t<li>'aov'</li>\n",
       "\t<li>'lm'</li>\n",
       "</ol>\n"
      ],
      "text/latex": [
       "\\begin{enumerate*}\n",
       "\\item 'aov'\n",
       "\\item 'lm'\n",
       "\\end{enumerate*}\n"
      ],
      "text/markdown": [
       "1. 'aov'\n",
       "2. 'lm'\n",
       "\n",
       "\n"
      ],
      "text/plain": [
       "[1] \"aov\" \"lm\" "
      ]
     },
     "metadata": {},
     "output_type": "display_data"
    }
   ],
   "source": [
    "class(my.anova)"
   ]
  },
  {
   "cell_type": "markdown",
   "id": "421a3b17",
   "metadata": {},
   "source": [
    "this is both an aov and linear model object. (this means anything that exists in R for handling regressions can be applied to aov objects) (there are a lot to these objects)"
   ]
  },
  {
   "cell_type": "code",
   "execution_count": 34,
   "id": "fe5f2b6a",
   "metadata": {},
   "outputs": [
    {
     "data": {
      "text/html": [
       "<ol class=list-inline>\n",
       "\t<li>'coefficients'</li>\n",
       "\t<li>'residuals'</li>\n",
       "\t<li>'effects'</li>\n",
       "\t<li>'rank'</li>\n",
       "\t<li>'fitted.values'</li>\n",
       "\t<li>'assign'</li>\n",
       "\t<li>'qr'</li>\n",
       "\t<li>'df.residual'</li>\n",
       "\t<li>'contrasts'</li>\n",
       "\t<li>'xlevels'</li>\n",
       "\t<li>'call'</li>\n",
       "\t<li>'terms'</li>\n",
       "\t<li>'model'</li>\n",
       "</ol>\n"
      ],
      "text/latex": [
       "\\begin{enumerate*}\n",
       "\\item 'coefficients'\n",
       "\\item 'residuals'\n",
       "\\item 'effects'\n",
       "\\item 'rank'\n",
       "\\item 'fitted.values'\n",
       "\\item 'assign'\n",
       "\\item 'qr'\n",
       "\\item 'df.residual'\n",
       "\\item 'contrasts'\n",
       "\\item 'xlevels'\n",
       "\\item 'call'\n",
       "\\item 'terms'\n",
       "\\item 'model'\n",
       "\\end{enumerate*}\n"
      ],
      "text/markdown": [
       "1. 'coefficients'\n",
       "2. 'residuals'\n",
       "3. 'effects'\n",
       "4. 'rank'\n",
       "5. 'fitted.values'\n",
       "6. 'assign'\n",
       "7. 'qr'\n",
       "8. 'df.residual'\n",
       "9. 'contrasts'\n",
       "10. 'xlevels'\n",
       "11. 'call'\n",
       "12. 'terms'\n",
       "13. 'model'\n",
       "\n",
       "\n"
      ],
      "text/plain": [
       " [1] \"coefficients\"  \"residuals\"     \"effects\"       \"rank\"         \n",
       " [5] \"fitted.values\" \"assign\"        \"qr\"            \"df.residual\"  \n",
       " [9] \"contrasts\"     \"xlevels\"       \"call\"          \"terms\"        \n",
       "[13] \"model\"        "
      ]
     },
     "metadata": {},
     "output_type": "display_data"
    }
   ],
   "source": [
    "names(my.anova)"
   ]
  },
  {
   "cell_type": "code",
   "execution_count": 35,
   "id": "63d40b62",
   "metadata": {},
   "outputs": [
    {
     "name": "stdout",
     "output_type": "stream",
     "text": [
      "Call:\n",
      "   aov(formula = mood.gain ~ drug, data = clin.trial)\n",
      "\n",
      "Terms:\n",
      "                    drug Residuals\n",
      "Sum of Squares  3.453333  1.391667\n",
      "Deg. of Freedom        2        15\n",
      "\n",
      "Residual standard error: 0.3045944\n",
      "Estimated effects may be unbalanced\n"
     ]
    }
   ],
   "source": [
    "print(my.anova)"
   ]
  },
  {
   "cell_type": "markdown",
   "id": "23336267",
   "metadata": {},
   "source": [
    "**Running hypothesis tests for the ANOVA**"
   ]
  },
  {
   "cell_type": "code",
   "execution_count": 36,
   "id": "f01720b5",
   "metadata": {},
   "outputs": [
    {
     "data": {
      "text/plain": [
       "            Df Sum Sq Mean Sq F value   Pr(>F)    \n",
       "drug         2  3.453  1.7267   18.61 8.65e-05 ***\n",
       "Residuals   15  1.392  0.0928                     \n",
       "---\n",
       "Signif. codes:  0 ‘***’ 0.001 ‘**’ 0.01 ‘*’ 0.05 ‘.’ 0.1 ‘ ’ 1"
      ]
     },
     "metadata": {},
     "output_type": "display_data"
    }
   ],
   "source": [
    "summary(my.anova)"
   ]
  },
  {
   "cell_type": "markdown",
   "id": "d587836a",
   "metadata": {},
   "source": [
    "## Effect Size\n",
    "\n",
    "$$\n",
    "\\eta^2 = \\frac{\\text{SS}_b}{\\text{SS}_{tot}}\n",
    "$$\n",
    "\n",
    "refers to proportion of the variability in the outcome variable that can be explained in terms of the predictor\n",
    "\n",
    "very closely related to person's correlation ($r^2$)"
   ]
  },
  {
   "cell_type": "code",
   "execution_count": 38,
   "id": "634eccc1",
   "metadata": {},
   "outputs": [
    {
     "name": "stdout",
     "output_type": "stream",
     "text": [
      "[1] 0.7127623\n"
     ]
    }
   ],
   "source": [
    "SStot <- SSb + SSw\n",
    "eta.squared <- SSb / SStot\n",
    "print(eta.squared)"
   ]
  },
  {
   "cell_type": "markdown",
   "id": "e2e4b3c4",
   "metadata": {},
   "source": [
    "can use etaSquared function in lsr package"
   ]
  },
  {
   "cell_type": "code",
   "execution_count": 39,
   "id": "01cd5929",
   "metadata": {},
   "outputs": [
    {
     "data": {
      "text/html": [
       "<table>\n",
       "<thead><tr><th></th><th scope=col>eta.sq</th><th scope=col>eta.sq.part</th></tr></thead>\n",
       "<tbody>\n",
       "\t<tr><th scope=row>drug</th><td>0.7127623</td><td>0.7127623</td></tr>\n",
       "</tbody>\n",
       "</table>\n"
      ],
      "text/latex": [
       "\\begin{tabular}{r|ll}\n",
       "  & eta.sq & eta.sq.part\\\\\n",
       "\\hline\n",
       "\tdrug & 0.7127623 & 0.7127623\\\\\n",
       "\\end{tabular}\n"
      ],
      "text/markdown": [
       "\n",
       "| <!--/--> | eta.sq | eta.sq.part |\n",
       "|---|---|---|\n",
       "| drug | 0.7127623 | 0.7127623 |\n",
       "\n"
      ],
      "text/plain": [
       "     eta.sq    eta.sq.part\n",
       "drug 0.7127623 0.7127623  "
      ]
     },
     "metadata": {},
     "output_type": "display_data"
    }
   ],
   "source": [
    "etaSquared(my.anova)"
   ]
  },
  {
   "cell_type": "markdown",
   "id": "423a0b99",
   "metadata": {},
   "source": [
    "note: see etaSquared in lsr may be buggy for more advanced analyses<br> \n",
    "another note: [blog post](http://daniellakens.blogspot.com/2015/06/why-you-should-use-omega-squared.html) on bias in eta-squared"
   ]
  },
  {
   "cell_type": "markdown",
   "id": "c3008fb3",
   "metadata": {},
   "source": [
    "## Multiple comparisons and post hoc tests\n",
    "\n",
    "So which groups are actually different? \n",
    "\n"
   ]
  },
  {
   "cell_type": "markdown",
   "id": "39d2cb87",
   "metadata": {},
   "source": [
    "**Running 'pairwise' t-tests**"
   ]
  },
  {
   "cell_type": "code",
   "execution_count": 41,
   "id": "5d105200",
   "metadata": {},
   "outputs": [
    {
     "data": {
      "text/plain": [
       "\n",
       "\tPairwise comparisons using t tests with pooled SD \n",
       "\n",
       "data:  clin.trial$mood.gain and clin.trial$drug \n",
       "\n",
       "         placebo anxifree\n",
       "anxifree 0.15021 -       \n",
       "joyzepam 3e-05   0.00056 \n",
       "\n",
       "P value adjustment method: none "
      ]
     },
     "metadata": {},
     "output_type": "display_data"
    }
   ],
   "source": [
    "pairwise.t.test(x=clin.trial$mood.gain,  # outcome variable\n",
    "                g = clin.trial$drug,     # grouping variable\n",
    "                p.adjust.method = \"none\" # which correction to use? \n",
    "               )"
   ]
  },
  {
   "cell_type": "markdown",
   "id": "9adba9f8",
   "metadata": {},
   "source": [
    "can use lsr package to do pairwise t-test on aov object"
   ]
  },
  {
   "cell_type": "code",
   "execution_count": 42,
   "id": "848dcafe",
   "metadata": {},
   "outputs": [
    {
     "data": {
      "text/plain": [
       "\n",
       "\tPairwise comparisons using t tests with pooled SD \n",
       "\n",
       "data:  mood.gain and drug \n",
       "\n",
       "         placebo anxifree\n",
       "anxifree 0.15021 -       \n",
       "joyzepam 3e-05   0.00056 \n",
       "\n",
       "P value adjustment method: none "
      ]
     },
     "metadata": {},
     "output_type": "display_data"
    }
   ],
   "source": [
    "posthocPairwiseT(x=my.anova, p.adjust.method=\"none\")"
   ]
  },
  {
   "cell_type": "markdown",
   "id": "c362a38a",
   "metadata": {},
   "source": [
    "**Corrections for multiple testing**\n",
    "\n",
    "Essentially running multiple tests like this is a fishing expedition. <br> \n",
    "\n",
    "For the analysis above, each t-test has a 5% type I error rate. If you have 10 groups (45 t-test), then you'd expect 2-3 of those tests to be significant by chance alone!<br> \n",
    "\n",
    "The type I error rate of all the tests has blown up. \n",
    "\n",
    "To fix this, there are multiple methods of correcting the p-value"
   ]
  },
  {
   "cell_type": "markdown",
   "id": "cca3821b",
   "metadata": {},
   "source": [
    "**Bonferroni corrections**\n",
    "\n",
    "m separate tests, ansure that the probability of making any Type I errors is < $\\alpha$\n",
    "\n",
    "use: \n",
    "$$\n",
    "p' = m \\times p\n",
    "$$\n",
    "\n",
    "This arranges things so that each test has a Type I error rate of at most $\\alpha / m$"
   ]
  },
  {
   "cell_type": "code",
   "execution_count": 43,
   "id": "3f119c3c",
   "metadata": {},
   "outputs": [
    {
     "data": {
      "text/plain": [
       "\n",
       "\tPairwise comparisons using t tests with pooled SD \n",
       "\n",
       "data:  mood.gain and drug \n",
       "\n",
       "         placebo anxifree\n",
       "anxifree 0.4506  -       \n",
       "joyzepam 9.1e-05 0.0017  \n",
       "\n",
       "P value adjustment method: bonferroni "
      ]
     },
     "metadata": {},
     "output_type": "display_data"
    }
   ],
   "source": [
    "posthocPairwiseT(my.anova, p.adjust.method = \"bonferroni\")"
   ]
  },
  {
   "attachments": {
    "image.png": {
     "image/png": "[encoded data removed]"
    }
   },
   "cell_type": "markdown",
   "id": "9b8c7e10",
   "metadata": {},
   "source": [
    "**Holm corrections**\n",
    "\n",
    "pretend you're doing the tests sequentially\n",
    "\n",
    "for the j-th largest of the p-values, the adjustment is either:\n",
    "$$\n",
    "p_j' = j \\times p_j\n",
    "$$\n",
    "\n",
    "OR\n",
    "\n",
    "$$\n",
    "p_j' = p'_{j+1}\n",
    "$$\n",
    "\n",
    "whichever is larger\n",
    "\n",
    "![image.png](attachment:image.png)\n",
    "\n",
    "lower Type II error rate than Bonferroni and same Type I error rate\n",
    "\n",
    "Holm is the default correction in the native R function and lsr function"
   ]
  },
  {
   "cell_type": "code",
   "execution_count": 45,
   "id": "c10d9037",
   "metadata": {},
   "outputs": [
    {
     "data": {
      "text/plain": [
       "\n",
       "\tPairwise comparisons using t tests with pooled SD \n",
       "\n",
       "data:  mood.gain and drug \n",
       "\n",
       "         placebo anxifree\n",
       "anxifree 0.1502  -       \n",
       "joyzepam 9.1e-05 0.0011  \n",
       "\n",
       "P value adjustment method: holm "
      ]
     },
     "metadata": {},
     "output_type": "display_data"
    }
   ],
   "source": [
    "posthocPairwiseT(my.anova)"
   ]
  },
  {
   "cell_type": "markdown",
   "id": "6e99e650",
   "metadata": {},
   "source": [
    "## Assumptions of the one-way ANOVA\n",
    "\n",
    "- Normality (QQ plots or Shapiro-Wilk test)\n",
    "- Homogeneity of variance\n",
    "- independence- knowing one residual tells you nothing about any other residual"
   ]
  },
  {
   "cell_type": "markdown",
   "id": "1f6c21ba",
   "metadata": {},
   "source": [
    "## Checking the homogenity of variance\n",
    "\n",
    "Levene test and Brown-Forsythe test (also Bartlett test)\n",
    "\n",
    "Levene test:\n",
    "$$\n",
    "Z_{ik} = |Y_{ik} - \\bar Y_k|\n",
    "$$\n",
    "\n",
    "hypothesis: the population means of Z are identical for all groups. Just run ANOVA on the variable $Z_{ik}$\n",
    "\n",
    "Brown-Forsythe test:\n",
    "$$\n",
    "Z_{ik} = |Y_{ik} - \\text{median}_k (Y)|\n",
    "$$"
   ]
  },
  {
   "cell_type": "markdown",
   "id": "5e2a4d98",
   "metadata": {},
   "source": [
    "**Running the Levene's test in R**"
   ]
  },
  {
   "cell_type": "markdown",
   "id": "cf2a8077",
   "metadata": {},
   "source": [
    "use the leveneTest() in car package (had trouble installing car so not copying the code here)"
   ]
  },
  {
   "cell_type": "code",
   "execution_count": 48,
   "id": "84049637",
   "metadata": {},
   "outputs": [
    {
     "name": "stderr",
     "output_type": "stream",
     "text": [
      "also installing the dependencies ‘nloptr’, ‘pbkrtest’, ‘lme4’\n",
      "\n",
      "\n",
      "Warning message in install.packages(\"car\"):\n",
      "“installation of package ‘nloptr’ had non-zero exit status”\n",
      "Warning message in install.packages(\"car\"):\n",
      "“installation of package ‘lme4’ had non-zero exit status”\n",
      "Warning message in install.packages(\"car\"):\n",
      "“installation of package ‘pbkrtest’ had non-zero exit status”\n",
      "Warning message in install.packages(\"car\"):\n",
      "“installation of package ‘car’ had non-zero exit status”\n",
      "Updating HTML index of packages in '.Library'\n",
      "\n",
      "Making 'packages.html' ...\n",
      " done\n",
      "\n"
     ]
    }
   ],
   "source": [
    "install.packages(\"car\")"
   ]
  },
  {
   "cell_type": "markdown",
   "id": "8871fa5b",
   "metadata": {},
   "source": [
    "by default, leveneTest() actually runs Brown-Forsythe since it's more robust. can specify center=mean to use original Levene"
   ]
  },
  {
   "cell_type": "code",
   "execution_count": 50,
   "id": "b0c93d7a",
   "metadata": {},
   "outputs": [
    {
     "data": {
      "text/plain": [
       "            Df Sum Sq Mean Sq F value Pr(>F)\n",
       "G            2 0.0616 0.03080    1.45  0.266\n",
       "Residuals   15 0.3187 0.02125               "
      ]
     },
     "metadata": {},
     "output_type": "display_data"
    }
   ],
   "source": [
    "Y <- clin.trial$mood.gain\n",
    "G <- clin.trial$drug\n",
    "gp.mean <- tapply(Y, G, mean)\n",
    "Ybar <- gp.mean[G]\n",
    "Z <- abs(Y - Ybar)\n",
    "summary(aov(Z~G))"
   ]
  },
  {
   "cell_type": "markdown",
   "id": "10ecdfad",
   "metadata": {},
   "source": [
    "## Removing the homogenity of variance\n",
    "\n",
    "run `oneway.test()` (this is a welch one-way test). set var.equal=FALSE (this is the default)"
   ]
  },
  {
   "cell_type": "code",
   "execution_count": 51,
   "id": "b69fd98a",
   "metadata": {},
   "outputs": [
    {
     "data": {
      "text/plain": [
       "\n",
       "\tOne-way analysis of means (not assuming equal variances)\n",
       "\n",
       "data:  mood.gain and drug\n",
       "F = 26.322, num df = 2.0000, denom df = 9.4932, p-value = 0.000134\n"
      ]
     },
     "metadata": {},
     "output_type": "display_data"
    }
   ],
   "source": [
    "oneway.test(mood.gain~drug, data=clin.trial)"
   ]
  },
  {
   "cell_type": "code",
   "execution_count": 52,
   "id": "c91d2112",
   "metadata": {},
   "outputs": [
    {
     "data": {
      "text/plain": [
       "\n",
       "\tOne-way analysis of means\n",
       "\n",
       "data:  mood.gain and drug\n",
       "F = 18.611, num df = 2, denom df = 15, p-value = 8.646e-05\n"
      ]
     },
     "metadata": {},
     "output_type": "display_data"
    }
   ],
   "source": [
    "oneway.test(mood.gain~drug, data=clin.trial, var.equal=TRUE)"
   ]
  },
  {
   "cell_type": "markdown",
   "id": "808b3f96",
   "metadata": {},
   "source": [
    "## Checking the normality assumption\n",
    "\n",
    "use the $\\epsilon_{ik}$ values to draw a QQ plot and run a shapiro-wilkes test"
   ]
  },
  {
   "cell_type": "code",
   "execution_count": 53,
   "id": "de8117d2",
   "metadata": {},
   "outputs": [
    {
     "data": {
      "image/png": "[encoded data removed]",
      "text/plain": [
       "Plot with title “Histogram of my.anova.residuals”"
      ]
     },
     "metadata": {
      "image/png": {
       "height": 420,
       "width": 420
      }
     },
     "output_type": "display_data"
    },
    {
     "data": {
      "text/plain": [
       "\n",
       "\tShapiro-Wilk normality test\n",
       "\n",
       "data:  my.anova.residuals\n",
       "W = 0.96019, p-value = 0.6053\n"
      ]
     },
     "metadata": {},
     "output_type": "display_data"
    },
    {
     "data": {
      "image/png": "[encoded data removed]",
      "text/plain": [
       "Plot with title “Normal Q-Q Plot”"
      ]
     },
     "metadata": {
      "image/png": {
       "height": 420,
       "width": 420
      }
     },
     "output_type": "display_data"
    }
   ],
   "source": [
    "my.anova.residuals <- residuals(object=my.anova)\n",
    "hist(my.anova.residuals)\n",
    "qqnorm(my.anova.residuals)\n",
    "shapiro.test(my.anova.residuals)"
   ]
  },
  {
   "attachments": {
    "image-2.png": {
     "image/png": "[encoded data removed]"
    },
    "image-3.png": {
     "image/png": "[encoded data removed]"
    },
    "image-4.png": {
     "image/png": "[encoded data removed]"
    },
    "image-5.png": {
     "image/png": "[encoded data removed]"
    },
    "image-6.png": {
     "image/png": "[encoded data removed]"
    },
    "image.png": {
     "image/png": "[encoded data removed]"
    }
   },
   "cell_type": "markdown",
   "id": "e4713b3e",
   "metadata": {},
   "source": [
    "## Removing the normality assumption\n",
    "\n",
    "best to use a non-parameteric test\n",
    "\n",
    "use the **Kruskal-Wallis rank sum test**\n",
    "\n",
    "**The logic behind the Kruskal-Wallis test**<br> \n",
    "\n",
    "rank the order of $Y_{ik}$ values. let $R_{ik}$ be the ranking given to the ith member of the kth group. calculate the average rank given to observations in the k-th group\n",
    "\n",
    "![image.png](attachment:image.png)\n",
    "\n",
    "grand mean rank\n",
    "\n",
    "![image-2.png](attachment:image-2.png)\n",
    "\n",
    "then do the same thing we did with ANOVA, but squared differences with the ranks\n",
    "\n",
    "![image-3.png](attachment:image-3.png)\n",
    "![image-4.png](attachment:image-4.png)\n",
    "![image-5.png](attachment:image-5.png)\n",
    "\n",
    "If null is true, the K is approx $\\chi^2$ with $G-1$ dof\n",
    "\n",
    "\n",
    "If there are ties, we need a tie correction factor. Divide K by this quantity\n",
    "\n",
    "![image-6.png](attachment:image-6.png)"
   ]
  },
  {
   "cell_type": "markdown",
   "id": "f9613241",
   "metadata": {},
   "source": [
    "**How to run the Kruskal-Wallis test in R**"
   ]
  },
  {
   "cell_type": "code",
   "execution_count": 54,
   "id": "43254065",
   "metadata": {},
   "outputs": [
    {
     "data": {
      "text/plain": [
       "\n",
       "\tKruskal-Wallis rank sum test\n",
       "\n",
       "data:  mood.gain by drug\n",
       "Kruskal-Wallis chi-squared = 12.076, df = 2, p-value = 0.002386\n"
      ]
     },
     "metadata": {},
     "output_type": "display_data"
    }
   ],
   "source": [
    "kruskal.test(mood.gain ~ drug, data=clin.trial)"
   ]
  },
  {
   "cell_type": "markdown",
   "id": "ba0cd28e",
   "metadata": {},
   "source": [
    "## On the relationship between ANOVA and the student t-test\n",
    "\n",
    "ANOVA is equivalent to the student t-test when there are 2 means"
   ]
  },
  {
   "cell_type": "code",
   "execution_count": 55,
   "id": "088a6abe",
   "metadata": {},
   "outputs": [
    {
     "data": {
      "text/plain": [
       "            Df Sum Sq Mean Sq F value Pr(>F)\n",
       "therapy      1  0.467  0.4672   1.708   0.21\n",
       "Residuals   16  4.378  0.2736               "
      ]
     },
     "metadata": {},
     "output_type": "display_data"
    }
   ],
   "source": [
    "summary(aov(mood.gain~therapy, data=clin.trial))"
   ]
  },
  {
   "cell_type": "code",
   "execution_count": 56,
   "id": "130f5154",
   "metadata": {},
   "outputs": [
    {
     "data": {
      "text/plain": [
       "\n",
       "\tTwo Sample t-test\n",
       "\n",
       "data:  mood.gain by therapy\n",
       "t = -1.3068, df = 16, p-value = 0.2098\n",
       "alternative hypothesis: true difference in means is not equal to 0\n",
       "95 percent confidence interval:\n",
       " -0.8449518  0.2005073\n",
       "sample estimates:\n",
       "mean in group no.therapy        mean in group CBT \n",
       "               0.7222222                1.0444444 \n"
      ]
     },
     "metadata": {},
     "output_type": "display_data"
    }
   ],
   "source": [
    "t.test(mood.gain~therapy, data=clin.trial, var.equal=TRUE)"
   ]
  }
 ],
 "metadata": {
  "kernelspec": {
   "display_name": "R",
   "language": "R",
   "name": "ir"
  },
  "language_info": {
   "codemirror_mode": "r",
   "file_extension": ".r",
   "mimetype": "text/x-r-source",
   "name": "R",
   "pygments_lexer": "r",
   "version": "3.6.1"
  }
 },
 "nbformat": 4,
 "nbformat_minor": 5
}
