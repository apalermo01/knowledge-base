{
 "cells": [
  {
   "cell_type": "markdown",
   "id": "3836c5ae",
   "metadata": {},
   "source": [
    "# Chapter 7: pragmatic matters"
   ]
  },
  {
   "cell_type": "markdown",
   "id": "2431b405",
   "metadata": {},
   "source": [
    "## Tabulating and cross-tabulating data"
   ]
  },
  {
   "cell_type": "markdown",
   "id": "ba47aa23",
   "metadata": {},
   "source": [
    "**Creating tables from vectors**"
   ]
  },
  {
   "cell_type": "code",
   "execution_count": 1,
   "id": "68aa222f",
   "metadata": {},
   "outputs": [
    {
     "data": {
      "text/plain": [
       "   -- Name --   -- Class --   -- Size --\n",
       "   speaker      character     10        \n",
       "   utterance    character     10        "
      ]
     },
     "metadata": {},
     "output_type": "display_data"
    }
   ],
   "source": [
    "library(lsr)\n",
    "load(\"nightgarden.Rdata\")\n",
    "who()"
   ]
  },
  {
   "cell_type": "code",
   "execution_count": 2,
   "id": "8ffeb0e6",
   "metadata": {},
   "outputs": [
    {
     "name": "stdout",
     "output_type": "stream",
     "text": [
      " [1] \"upsy-daisy\"  \"upsy-daisy\"  \"upsy-daisy\"  \"upsy-daisy\"  \"tombliboo\"  \n",
      " [6] \"tombliboo\"   \"makka-pakka\" \"makka-pakka\" \"makka-pakka\" \"makka-pakka\"\n"
     ]
    }
   ],
   "source": [
    "print(speaker)"
   ]
  },
  {
   "cell_type": "code",
   "execution_count": 3,
   "id": "81f14d5a",
   "metadata": {},
   "outputs": [
    {
     "name": "stdout",
     "output_type": "stream",
     "text": [
      " [1] \"pip\" \"pip\" \"onk\" \"onk\" \"ee\"  \"oo\"  \"pip\" \"pip\" \"onk\" \"onk\"\n"
     ]
    }
   ],
   "source": [
    "print(utterance)"
   ]
  },
  {
   "cell_type": "code",
   "execution_count": 4,
   "id": "dbf2a021",
   "metadata": {},
   "outputs": [
    {
     "data": {
      "text/plain": [
       "speaker\n",
       "makka-pakka   tombliboo  upsy-daisy \n",
       "          4           2           4 "
      ]
     },
     "metadata": {},
     "output_type": "display_data"
    }
   ],
   "source": [
    "table(speaker)"
   ]
  },
  {
   "cell_type": "code",
   "execution_count": 5,
   "id": "202e1288",
   "metadata": {},
   "outputs": [
    {
     "data": {
      "text/plain": [
       "             utterance\n",
       "speaker       ee onk oo pip\n",
       "  makka-pakka  0   2  0   2\n",
       "  tombliboo    1   0  1   0\n",
       "  upsy-daisy   0   2  0   2"
      ]
     },
     "metadata": {},
     "output_type": "display_data"
    }
   ],
   "source": [
    "table(speaker, utterance)"
   ]
  },
  {
   "cell_type": "markdown",
   "id": "12706f73",
   "metadata": {},
   "source": [
    "**Creating tables from data frames**"
   ]
  },
  {
   "cell_type": "code",
   "execution_count": 6,
   "id": "244c43d4",
   "metadata": {},
   "outputs": [
    {
     "data": {
      "text/html": [
       "<table>\n",
       "<thead><tr><th scope=col>speaker</th><th scope=col>utterance</th></tr></thead>\n",
       "<tbody>\n",
       "\t<tr><td>upsy-daisy </td><td>pip        </td></tr>\n",
       "\t<tr><td>upsy-daisy </td><td>pip        </td></tr>\n",
       "\t<tr><td>upsy-daisy </td><td>onk        </td></tr>\n",
       "\t<tr><td>upsy-daisy </td><td>onk        </td></tr>\n",
       "\t<tr><td>tombliboo  </td><td>ee         </td></tr>\n",
       "\t<tr><td>tombliboo  </td><td>oo         </td></tr>\n",
       "\t<tr><td>makka-pakka</td><td>pip        </td></tr>\n",
       "\t<tr><td>makka-pakka</td><td>pip        </td></tr>\n",
       "\t<tr><td>makka-pakka</td><td>onk        </td></tr>\n",
       "\t<tr><td>makka-pakka</td><td>onk        </td></tr>\n",
       "</tbody>\n",
       "</table>\n"
      ],
      "text/latex": [
       "\\begin{tabular}{r|ll}\n",
       " speaker & utterance\\\\\n",
       "\\hline\n",
       "\t upsy-daisy  & pip        \\\\\n",
       "\t upsy-daisy  & pip        \\\\\n",
       "\t upsy-daisy  & onk        \\\\\n",
       "\t upsy-daisy  & onk        \\\\\n",
       "\t tombliboo   & ee         \\\\\n",
       "\t tombliboo   & oo         \\\\\n",
       "\t makka-pakka & pip        \\\\\n",
       "\t makka-pakka & pip        \\\\\n",
       "\t makka-pakka & onk        \\\\\n",
       "\t makka-pakka & onk        \\\\\n",
       "\\end{tabular}\n"
      ],
      "text/markdown": [
       "\n",
       "| speaker | utterance |\n",
       "|---|---|\n",
       "| upsy-daisy  | pip         |\n",
       "| upsy-daisy  | pip         |\n",
       "| upsy-daisy  | onk         |\n",
       "| upsy-daisy  | onk         |\n",
       "| tombliboo   | ee          |\n",
       "| tombliboo   | oo          |\n",
       "| makka-pakka | pip         |\n",
       "| makka-pakka | pip         |\n",
       "| makka-pakka | onk         |\n",
       "| makka-pakka | onk         |\n",
       "\n"
      ],
      "text/plain": [
       "   speaker     utterance\n",
       "1  upsy-daisy  pip      \n",
       "2  upsy-daisy  pip      \n",
       "3  upsy-daisy  onk      \n",
       "4  upsy-daisy  onk      \n",
       "5  tombliboo   ee       \n",
       "6  tombliboo   oo       \n",
       "7  makka-pakka pip      \n",
       "8  makka-pakka pip      \n",
       "9  makka-pakka onk      \n",
       "10 makka-pakka onk      "
      ]
     },
     "metadata": {},
     "output_type": "display_data"
    }
   ],
   "source": [
    "itng <- data.frame(speaker, utterance)\n",
    "itng"
   ]
  },
  {
   "cell_type": "code",
   "execution_count": 7,
   "id": "e6f9b661",
   "metadata": {},
   "outputs": [
    {
     "data": {
      "text/plain": [
       "             utterance\n",
       "speaker       ee onk oo pip\n",
       "  makka-pakka  0   2  0   2\n",
       "  tombliboo    1   0  1   0\n",
       "  upsy-daisy   0   2  0   2"
      ]
     },
     "metadata": {},
     "output_type": "display_data"
    }
   ],
   "source": [
    "table(itng)"
   ]
  },
  {
   "cell_type": "markdown",
   "id": "aa408387",
   "metadata": {},
   "source": [
    "tabulate specific variables"
   ]
  },
  {
   "cell_type": "code",
   "execution_count": 8,
   "id": "fea36fed",
   "metadata": {},
   "outputs": [
    {
     "data": {
      "text/plain": [
       "             utterance\n",
       "speaker       ee onk oo pip\n",
       "  makka-pakka  0   2  0   2\n",
       "  tombliboo    1   0  1   0\n",
       "  upsy-daisy   0   2  0   2"
      ]
     },
     "metadata": {},
     "output_type": "display_data"
    }
   ],
   "source": [
    "xtabs(formula=~speaker+utterance, data=itng)"
   ]
  },
  {
   "cell_type": "markdown",
   "id": "b95e8870",
   "metadata": {},
   "source": [
    "**Converting a table of counts to a table of porportions**"
   ]
  },
  {
   "cell_type": "code",
   "execution_count": 9,
   "id": "b7a580d8",
   "metadata": {},
   "outputs": [
    {
     "data": {
      "text/plain": [
       "             utterance\n",
       "speaker       ee onk oo pip\n",
       "  makka-pakka  0   2  0   2\n",
       "  tombliboo    1   0  1   0\n",
       "  upsy-daisy   0   2  0   2"
      ]
     },
     "metadata": {},
     "output_type": "display_data"
    }
   ],
   "source": [
    "itng.table <- table(itng)\n",
    "itng.table"
   ]
  },
  {
   "cell_type": "code",
   "execution_count": 10,
   "id": "88290f5f",
   "metadata": {},
   "outputs": [
    {
     "data": {
      "text/plain": [
       "             utterance\n",
       "speaker        ee onk  oo pip\n",
       "  makka-pakka 0.0 0.2 0.0 0.2\n",
       "  tombliboo   0.1 0.0 0.1 0.0\n",
       "  upsy-daisy  0.0 0.2 0.0 0.2"
      ]
     },
     "metadata": {},
     "output_type": "display_data"
    }
   ],
   "source": [
    "prop.table(itng.table)"
   ]
  },
  {
   "cell_type": "markdown",
   "id": "cadf7ea5",
   "metadata": {},
   "source": [
    "porortion by row"
   ]
  },
  {
   "cell_type": "code",
   "execution_count": 11,
   "id": "ae62ca53",
   "metadata": {},
   "outputs": [
    {
     "data": {
      "text/plain": [
       "             utterance\n",
       "speaker        ee onk  oo pip\n",
       "  makka-pakka 0.0 0.5 0.0 0.5\n",
       "  tombliboo   0.5 0.0 0.5 0.0\n",
       "  upsy-daisy  0.0 0.5 0.0 0.5"
      ]
     },
     "metadata": {},
     "output_type": "display_data"
    }
   ],
   "source": [
    "prop.table(itng.table, margin=1)"
   ]
  },
  {
   "cell_type": "markdown",
   "id": "c7eb55f3",
   "metadata": {},
   "source": [
    "porportion by column"
   ]
  },
  {
   "cell_type": "code",
   "execution_count": 12,
   "id": "f02f18b2",
   "metadata": {},
   "outputs": [
    {
     "data": {
      "text/plain": [
       "             utterance\n",
       "speaker        ee onk  oo pip\n",
       "  makka-pakka 0.0 0.5 0.0 0.5\n",
       "  tombliboo   1.0 0.0 1.0 0.0\n",
       "  upsy-daisy  0.0 0.5 0.0 0.5"
      ]
     },
     "metadata": {},
     "output_type": "display_data"
    }
   ],
   "source": [
    "prop.table(itng.table, margin=2)"
   ]
  },
  {
   "cell_type": "markdown",
   "id": "e496ecd9",
   "metadata": {},
   "source": [
    "## Transforming and recoding a variable"
   ]
  },
  {
   "cell_type": "code",
   "execution_count": 13,
   "id": "253f3b55",
   "metadata": {},
   "outputs": [
    {
     "data": {
      "text/html": [
       "<ol class=list-inline>\n",
       "\t<li>1</li>\n",
       "\t<li>7</li>\n",
       "\t<li>3</li>\n",
       "\t<li>4</li>\n",
       "\t<li>4</li>\n",
       "\t<li>4</li>\n",
       "\t<li>2</li>\n",
       "\t<li>6</li>\n",
       "\t<li>5</li>\n",
       "\t<li>5</li>\n",
       "</ol>\n"
      ],
      "text/latex": [
       "\\begin{enumerate*}\n",
       "\\item 1\n",
       "\\item 7\n",
       "\\item 3\n",
       "\\item 4\n",
       "\\item 4\n",
       "\\item 4\n",
       "\\item 2\n",
       "\\item 6\n",
       "\\item 5\n",
       "\\item 5\n",
       "\\end{enumerate*}\n"
      ],
      "text/markdown": [
       "1. 1\n",
       "2. 7\n",
       "3. 3\n",
       "4. 4\n",
       "5. 4\n",
       "6. 4\n",
       "7. 2\n",
       "8. 6\n",
       "9. 5\n",
       "10. 5\n",
       "\n",
       "\n"
      ],
      "text/plain": [
       " [1] 1 7 3 4 4 4 2 6 5 5"
      ]
     },
     "metadata": {},
     "output_type": "display_data"
    }
   ],
   "source": [
    "load(\"likert.Rdata\")\n",
    "likert.raw"
   ]
  },
  {
   "cell_type": "markdown",
   "id": "33cd6ddc",
   "metadata": {},
   "source": [
    "center the likert data on 4 since it's \"no opinion\""
   ]
  },
  {
   "cell_type": "code",
   "execution_count": 14,
   "id": "da323131",
   "metadata": {},
   "outputs": [
    {
     "data": {
      "text/html": [
       "<ol class=list-inline>\n",
       "\t<li>-3</li>\n",
       "\t<li>3</li>\n",
       "\t<li>-1</li>\n",
       "\t<li>0</li>\n",
       "\t<li>0</li>\n",
       "\t<li>0</li>\n",
       "\t<li>-2</li>\n",
       "\t<li>2</li>\n",
       "\t<li>1</li>\n",
       "\t<li>1</li>\n",
       "</ol>\n"
      ],
      "text/latex": [
       "\\begin{enumerate*}\n",
       "\\item -3\n",
       "\\item 3\n",
       "\\item -1\n",
       "\\item 0\n",
       "\\item 0\n",
       "\\item 0\n",
       "\\item -2\n",
       "\\item 2\n",
       "\\item 1\n",
       "\\item 1\n",
       "\\end{enumerate*}\n"
      ],
      "text/markdown": [
       "1. -3\n",
       "2. 3\n",
       "3. -1\n",
       "4. 0\n",
       "5. 0\n",
       "6. 0\n",
       "7. -2\n",
       "8. 2\n",
       "9. 1\n",
       "10. 1\n",
       "\n",
       "\n"
      ],
      "text/plain": [
       " [1] -3  3 -1  0  0  0 -2  2  1  1"
      ]
     },
     "metadata": {},
     "output_type": "display_data"
    }
   ],
   "source": [
    "likert.centered <- likert.raw-4\n",
    "likert.centered"
   ]
  },
  {
   "cell_type": "markdown",
   "id": "2b747195",
   "metadata": {},
   "source": [
    "strength of opinion"
   ]
  },
  {
   "cell_type": "code",
   "execution_count": 15,
   "id": "64ee0048",
   "metadata": {},
   "outputs": [
    {
     "data": {
      "text/html": [
       "<ol class=list-inline>\n",
       "\t<li>3</li>\n",
       "\t<li>3</li>\n",
       "\t<li>1</li>\n",
       "\t<li>0</li>\n",
       "\t<li>0</li>\n",
       "\t<li>0</li>\n",
       "\t<li>2</li>\n",
       "\t<li>2</li>\n",
       "\t<li>1</li>\n",
       "\t<li>1</li>\n",
       "</ol>\n"
      ],
      "text/latex": [
       "\\begin{enumerate*}\n",
       "\\item 3\n",
       "\\item 3\n",
       "\\item 1\n",
       "\\item 0\n",
       "\\item 0\n",
       "\\item 0\n",
       "\\item 2\n",
       "\\item 2\n",
       "\\item 1\n",
       "\\item 1\n",
       "\\end{enumerate*}\n"
      ],
      "text/markdown": [
       "1. 3\n",
       "2. 3\n",
       "3. 1\n",
       "4. 0\n",
       "5. 0\n",
       "6. 0\n",
       "7. 2\n",
       "8. 2\n",
       "9. 1\n",
       "10. 1\n",
       "\n",
       "\n"
      ],
      "text/plain": [
       " [1] 3 3 1 0 0 0 2 2 1 1"
      ]
     },
     "metadata": {},
     "output_type": "display_data"
    }
   ],
   "source": [
    "opinion.strength <- abs(likert.centered)\n",
    "opinion.strength"
   ]
  },
  {
   "cell_type": "markdown",
   "id": "882d894a",
   "metadata": {},
   "source": [
    "direction of opinion, ignore strength"
   ]
  },
  {
   "cell_type": "code",
   "execution_count": 16,
   "id": "8f9abee5",
   "metadata": {},
   "outputs": [
    {
     "data": {
      "text/html": [
       "<ol class=list-inline>\n",
       "\t<li>-1</li>\n",
       "\t<li>1</li>\n",
       "\t<li>-1</li>\n",
       "\t<li>0</li>\n",
       "\t<li>0</li>\n",
       "\t<li>0</li>\n",
       "\t<li>-1</li>\n",
       "\t<li>1</li>\n",
       "\t<li>1</li>\n",
       "\t<li>1</li>\n",
       "</ol>\n"
      ],
      "text/latex": [
       "\\begin{enumerate*}\n",
       "\\item -1\n",
       "\\item 1\n",
       "\\item -1\n",
       "\\item 0\n",
       "\\item 0\n",
       "\\item 0\n",
       "\\item -1\n",
       "\\item 1\n",
       "\\item 1\n",
       "\\item 1\n",
       "\\end{enumerate*}\n"
      ],
      "text/markdown": [
       "1. -1\n",
       "2. 1\n",
       "3. -1\n",
       "4. 0\n",
       "5. 0\n",
       "6. 0\n",
       "7. -1\n",
       "8. 1\n",
       "9. 1\n",
       "10. 1\n",
       "\n",
       "\n"
      ],
      "text/plain": [
       " [1] -1  1 -1  0  0  0 -1  1  1  1"
      ]
     },
     "metadata": {},
     "output_type": "display_data"
    }
   ],
   "source": [
    "opinion.dir <- sign(likert.centered)\n",
    "opinion.dir"
   ]
  },
  {
   "cell_type": "markdown",
   "id": "0988c4ef",
   "metadata": {},
   "source": [
    "**Cutting a numeric variable into categories**"
   ]
  },
  {
   "cell_type": "code",
   "execution_count": 17,
   "id": "1218ba2b",
   "metadata": {},
   "outputs": [
    {
     "data": {
      "text/html": [
       "<ol class=list-inline>\n",
       "\t<li>0</li>\n",
       "\t<li>20</li>\n",
       "\t<li>40</li>\n",
       "\t<li>60</li>\n",
       "</ol>\n"
      ],
      "text/latex": [
       "\\begin{enumerate*}\n",
       "\\item 0\n",
       "\\item 20\n",
       "\\item 40\n",
       "\\item 60\n",
       "\\end{enumerate*}\n"
      ],
      "text/markdown": [
       "1. 0\n",
       "2. 20\n",
       "3. 40\n",
       "4. 60\n",
       "\n",
       "\n"
      ],
      "text/plain": [
       "[1]  0 20 40 60"
      ]
     },
     "metadata": {},
     "output_type": "display_data"
    }
   ],
   "source": [
    "age <- c(60, 58, 24, 26, 34, 42, 31, 30, 33, 2, 9)\n",
    "\n",
    "age.breaks <- seq(from=0, to=60, by=20)\n",
    "age.breaks"
   ]
  },
  {
   "cell_type": "code",
   "execution_count": 18,
   "id": "923ce097",
   "metadata": {},
   "outputs": [
    {
     "data": {
      "text/html": [
       "<ol class=list-inline>\n",
       "\t<li>'young'</li>\n",
       "\t<li>'adult'</li>\n",
       "\t<li>'older'</li>\n",
       "</ol>\n"
      ],
      "text/latex": [
       "\\begin{enumerate*}\n",
       "\\item 'young'\n",
       "\\item 'adult'\n",
       "\\item 'older'\n",
       "\\end{enumerate*}\n"
      ],
      "text/markdown": [
       "1. 'young'\n",
       "2. 'adult'\n",
       "3. 'older'\n",
       "\n",
       "\n"
      ],
      "text/plain": [
       "[1] \"young\" \"adult\" \"older\""
      ]
     },
     "metadata": {},
     "output_type": "display_data"
    }
   ],
   "source": [
    "age.labels <- c(\"young\", \"adult\", \"older\")\n",
    "age.labels"
   ]
  },
  {
   "cell_type": "code",
   "execution_count": 19,
   "id": "bdc15678",
   "metadata": {},
   "outputs": [
    {
     "data": {
      "text/html": [
       "<table>\n",
       "<thead><tr><th scope=col>age</th><th scope=col>age.group</th></tr></thead>\n",
       "<tbody>\n",
       "\t<tr><td>60   </td><td>older</td></tr>\n",
       "\t<tr><td>58   </td><td>older</td></tr>\n",
       "\t<tr><td>24   </td><td>adult</td></tr>\n",
       "\t<tr><td>26   </td><td>adult</td></tr>\n",
       "\t<tr><td>34   </td><td>adult</td></tr>\n",
       "\t<tr><td>42   </td><td>older</td></tr>\n",
       "\t<tr><td>31   </td><td>adult</td></tr>\n",
       "\t<tr><td>30   </td><td>adult</td></tr>\n",
       "\t<tr><td>33   </td><td>adult</td></tr>\n",
       "\t<tr><td> 2   </td><td>young</td></tr>\n",
       "\t<tr><td> 9   </td><td>young</td></tr>\n",
       "</tbody>\n",
       "</table>\n"
      ],
      "text/latex": [
       "\\begin{tabular}{r|ll}\n",
       " age & age.group\\\\\n",
       "\\hline\n",
       "\t 60    & older\\\\\n",
       "\t 58    & older\\\\\n",
       "\t 24    & adult\\\\\n",
       "\t 26    & adult\\\\\n",
       "\t 34    & adult\\\\\n",
       "\t 42    & older\\\\\n",
       "\t 31    & adult\\\\\n",
       "\t 30    & adult\\\\\n",
       "\t 33    & adult\\\\\n",
       "\t  2    & young\\\\\n",
       "\t  9    & young\\\\\n",
       "\\end{tabular}\n"
      ],
      "text/markdown": [
       "\n",
       "| age | age.group |\n",
       "|---|---|\n",
       "| 60    | older |\n",
       "| 58    | older |\n",
       "| 24    | adult |\n",
       "| 26    | adult |\n",
       "| 34    | adult |\n",
       "| 42    | older |\n",
       "| 31    | adult |\n",
       "| 30    | adult |\n",
       "| 33    | adult |\n",
       "|  2    | young |\n",
       "|  9    | young |\n",
       "\n"
      ],
      "text/plain": [
       "   age age.group\n",
       "1  60  older    \n",
       "2  58  older    \n",
       "3  24  adult    \n",
       "4  26  adult    \n",
       "5  34  adult    \n",
       "6  42  older    \n",
       "7  31  adult    \n",
       "8  30  adult    \n",
       "9  33  adult    \n",
       "10  2  young    \n",
       "11  9  young    "
      ]
     },
     "metadata": {},
     "output_type": "display_data"
    }
   ],
   "source": [
    "age.group <- cut(x=age, breaks=age.breaks, labels=age.labels)\n",
    "data.frame(age, age.group)\n"
   ]
  },
  {
   "cell_type": "code",
   "execution_count": 20,
   "id": "fa7e5750",
   "metadata": {},
   "outputs": [
    {
     "data": {
      "text/plain": [
       "age.group\n",
       "young adult older \n",
       "    2     6     3 "
      ]
     },
     "metadata": {},
     "output_type": "display_data"
    }
   ],
   "source": [
    "table(age.group)"
   ]
  },
  {
   "cell_type": "markdown",
   "id": "1b09c826",
   "metadata": {},
   "source": [
    "R can do that for us"
   ]
  },
  {
   "cell_type": "code",
   "execution_count": 21,
   "id": "54a2ea1e",
   "metadata": {},
   "outputs": [
    {
     "data": {
      "text/plain": [
       "age.group2\n",
       "(1.94,21.3] (21.3,40.7] (40.7,60.1] \n",
       "          2           6           3 "
      ]
     },
     "metadata": {},
     "output_type": "display_data"
    }
   ],
   "source": [
    "age.group2 <- cut(age, breaks=3)\n",
    "table(age.group2)"
   ]
  },
  {
   "cell_type": "markdown",
   "id": "f94641b8",
   "metadata": {},
   "source": [
    "separate into roughly equal numbers of people\n",
    "\n",
    "use quantileCut() in lsr package"
   ]
  },
  {
   "cell_type": "code",
   "execution_count": 22,
   "id": "91c6dfd1",
   "metadata": {},
   "outputs": [
    {
     "data": {
      "text/plain": [
       "age.group3\n",
       "(1.94,27.3] (27.3,33.7] (33.7,60.1] \n",
       "          4           3           4 "
      ]
     },
     "metadata": {},
     "output_type": "display_data"
    }
   ],
   "source": [
    "age.group3 <- quantileCut(age, n=3)\n",
    "table(age.group3)"
   ]
  },
  {
   "cell_type": "markdown",
   "id": "130c3fe6",
   "metadata": {},
   "source": [
    "## A few more mathematical functions and operations\n",
    "\n",
    "- sqrt() - square root\n",
    "- abs() - absolute value\n",
    "- log10() - log base 10\n",
    "- log() - log (base=3 by default\n",
    "- exp() - exponentiation\n",
    "- round() - round to nearest; use digits to specify number of digits to round to\n",
    "- signif() - round to selected number of significant digits\n",
    "- floor() - round down\n",
    "- ceiling() - round up\n",
    "\n",
    "- %/% - integer division\n",
    "- % - modulus"
   ]
  },
  {
   "cell_type": "markdown",
   "id": "7a1d775a",
   "metadata": {},
   "source": [
    "## Extacting a subset of a vector"
   ]
  },
  {
   "cell_type": "code",
   "execution_count": 23,
   "id": "3b129824",
   "metadata": {},
   "outputs": [
    {
     "data": {
      "text/html": [
       "<ol class=list-inline>\n",
       "\t<li>FALSE</li>\n",
       "\t<li>FALSE</li>\n",
       "\t<li>FALSE</li>\n",
       "\t<li>FALSE</li>\n",
       "\t<li>FALSE</li>\n",
       "\t<li>FALSE</li>\n",
       "\t<li>TRUE</li>\n",
       "\t<li>TRUE</li>\n",
       "\t<li>TRUE</li>\n",
       "\t<li>TRUE</li>\n",
       "</ol>\n"
      ],
      "text/latex": [
       "\\begin{enumerate*}\n",
       "\\item FALSE\n",
       "\\item FALSE\n",
       "\\item FALSE\n",
       "\\item FALSE\n",
       "\\item FALSE\n",
       "\\item FALSE\n",
       "\\item TRUE\n",
       "\\item TRUE\n",
       "\\item TRUE\n",
       "\\item TRUE\n",
       "\\end{enumerate*}\n"
      ],
      "text/markdown": [
       "1. FALSE\n",
       "2. FALSE\n",
       "3. FALSE\n",
       "4. FALSE\n",
       "5. FALSE\n",
       "6. FALSE\n",
       "7. TRUE\n",
       "8. TRUE\n",
       "9. TRUE\n",
       "10. TRUE\n",
       "\n",
       "\n"
      ],
      "text/plain": [
       " [1] FALSE FALSE FALSE FALSE FALSE FALSE  TRUE  TRUE  TRUE  TRUE"
      ]
     },
     "metadata": {},
     "output_type": "display_data"
    }
   ],
   "source": [
    "is.MP.speaking <- speaker == 'makka-pakka'\n",
    "is.MP.speaking"
   ]
  },
  {
   "cell_type": "code",
   "execution_count": 24,
   "id": "fe74aa36",
   "metadata": {},
   "outputs": [
    {
     "data": {
      "text/html": [
       "<ol class=list-inline>\n",
       "\t<li>'pip'</li>\n",
       "\t<li>'pip'</li>\n",
       "\t<li>'onk'</li>\n",
       "\t<li>'onk'</li>\n",
       "</ol>\n"
      ],
      "text/latex": [
       "\\begin{enumerate*}\n",
       "\\item 'pip'\n",
       "\\item 'pip'\n",
       "\\item 'onk'\n",
       "\\item 'onk'\n",
       "\\end{enumerate*}\n"
      ],
      "text/markdown": [
       "1. 'pip'\n",
       "2. 'pip'\n",
       "3. 'onk'\n",
       "4. 'onk'\n",
       "\n",
       "\n"
      ],
      "text/plain": [
       "[1] \"pip\" \"pip\" \"onk\" \"onk\""
      ]
     },
     "metadata": {},
     "output_type": "display_data"
    }
   ],
   "source": [
    "utterance[is.MP.speaking]"
   ]
  },
  {
   "cell_type": "code",
   "execution_count": 25,
   "id": "d57eb87f",
   "metadata": {},
   "outputs": [
    {
     "data": {
      "text/html": [
       "<ol class=list-inline>\n",
       "\t<li>'pip'</li>\n",
       "\t<li>'pip'</li>\n",
       "\t<li>'onk'</li>\n",
       "\t<li>'onk'</li>\n",
       "</ol>\n"
      ],
      "text/latex": [
       "\\begin{enumerate*}\n",
       "\\item 'pip'\n",
       "\\item 'pip'\n",
       "\\item 'onk'\n",
       "\\item 'onk'\n",
       "\\end{enumerate*}\n"
      ],
      "text/markdown": [
       "1. 'pip'\n",
       "2. 'pip'\n",
       "3. 'onk'\n",
       "4. 'onk'\n",
       "\n",
       "\n"
      ],
      "text/plain": [
       "[1] \"pip\" \"pip\" \"onk\" \"onk\""
      ]
     },
     "metadata": {},
     "output_type": "display_data"
    }
   ],
   "source": [
    "utterance[speaker == 'makka-pakka']"
   ]
  },
  {
   "cell_type": "markdown",
   "id": "1655daa7",
   "metadata": {},
   "source": [
    "**%in% operator**\n",
    "\n",
    "similar to == but can match multiple values"
   ]
  },
  {
   "cell_type": "code",
   "execution_count": 26,
   "id": "575e8091",
   "metadata": {},
   "outputs": [
    {
     "data": {
      "text/html": [
       "<ol class=list-inline>\n",
       "\t<li>'upsy-daisy'</li>\n",
       "\t<li>'upsy-daisy'</li>\n",
       "\t<li>'tombliboo'</li>\n",
       "\t<li>'makka-pakka'</li>\n",
       "\t<li>'makka-pakka'</li>\n",
       "</ol>\n"
      ],
      "text/latex": [
       "\\begin{enumerate*}\n",
       "\\item 'upsy-daisy'\n",
       "\\item 'upsy-daisy'\n",
       "\\item 'tombliboo'\n",
       "\\item 'makka-pakka'\n",
       "\\item 'makka-pakka'\n",
       "\\end{enumerate*}\n"
      ],
      "text/markdown": [
       "1. 'upsy-daisy'\n",
       "2. 'upsy-daisy'\n",
       "3. 'tombliboo'\n",
       "4. 'makka-pakka'\n",
       "5. 'makka-pakka'\n",
       "\n",
       "\n"
      ],
      "text/plain": [
       "[1] \"upsy-daisy\"  \"upsy-daisy\"  \"tombliboo\"   \"makka-pakka\" \"makka-pakka\""
      ]
     },
     "metadata": {},
     "output_type": "display_data"
    }
   ],
   "source": [
    "speaker[utterance %in% c(\"pip\", \"oo\")]"
   ]
  },
  {
   "cell_type": "markdown",
   "id": "51d39dc1",
   "metadata": {},
   "source": [
    "pick elements 2 and 3"
   ]
  },
  {
   "cell_type": "code",
   "execution_count": 27,
   "id": "808c7d35",
   "metadata": {},
   "outputs": [
    {
     "data": {
      "text/html": [
       "<ol class=list-inline>\n",
       "\t<li>'pip'</li>\n",
       "\t<li>'onk'</li>\n",
       "</ol>\n"
      ],
      "text/latex": [
       "\\begin{enumerate*}\n",
       "\\item 'pip'\n",
       "\\item 'onk'\n",
       "\\end{enumerate*}\n"
      ],
      "text/markdown": [
       "1. 'pip'\n",
       "2. 'onk'\n",
       "\n",
       "\n"
      ],
      "text/plain": [
       "[1] \"pip\" \"onk\""
      ]
     },
     "metadata": {},
     "output_type": "display_data"
    }
   ],
   "source": [
    "utterance[2:3]"
   ]
  },
  {
   "cell_type": "markdown",
   "id": "13474a1b",
   "metadata": {},
   "source": [
    "drop elements 2 and 3"
   ]
  },
  {
   "cell_type": "code",
   "execution_count": 28,
   "id": "1c9e19a5",
   "metadata": {},
   "outputs": [
    {
     "data": {
      "text/html": [
       "<ol class=list-inline>\n",
       "\t<li>'pip'</li>\n",
       "\t<li>'onk'</li>\n",
       "\t<li>'ee'</li>\n",
       "\t<li>'oo'</li>\n",
       "\t<li>'pip'</li>\n",
       "\t<li>'pip'</li>\n",
       "\t<li>'onk'</li>\n",
       "\t<li>'onk'</li>\n",
       "</ol>\n"
      ],
      "text/latex": [
       "\\begin{enumerate*}\n",
       "\\item 'pip'\n",
       "\\item 'onk'\n",
       "\\item 'ee'\n",
       "\\item 'oo'\n",
       "\\item 'pip'\n",
       "\\item 'pip'\n",
       "\\item 'onk'\n",
       "\\item 'onk'\n",
       "\\end{enumerate*}\n"
      ],
      "text/markdown": [
       "1. 'pip'\n",
       "2. 'onk'\n",
       "3. 'ee'\n",
       "4. 'oo'\n",
       "5. 'pip'\n",
       "6. 'pip'\n",
       "7. 'onk'\n",
       "8. 'onk'\n",
       "\n",
       "\n"
      ],
      "text/plain": [
       "[1] \"pip\" \"onk\" \"ee\"  \"oo\"  \"pip\" \"pip\" \"onk\" \"onk\""
      ]
     },
     "metadata": {},
     "output_type": "display_data"
    }
   ],
   "source": [
    "utterance[-(2:3)]"
   ]
  },
  {
   "cell_type": "markdown",
   "id": "96462c93",
   "metadata": {},
   "source": [
    "**Splitting a vector by group**\n",
    "\n",
    "split(x=variable that nees to be plit into groups, f=grouping variable)"
   ]
  },
  {
   "cell_type": "code",
   "execution_count": 29,
   "id": "d076e7bf",
   "metadata": {},
   "outputs": [
    {
     "name": "stdout",
     "output_type": "stream",
     "text": [
      "$`makka-pakka`\n",
      "[1] \"pip\" \"pip\" \"onk\" \"onk\"\n",
      "\n",
      "$tombliboo\n",
      "[1] \"ee\" \"oo\"\n",
      "\n",
      "$`upsy-daisy`\n",
      "[1] \"pip\" \"pip\" \"onk\" \"onk\"\n",
      "\n"
     ]
    }
   ],
   "source": [
    "speech.by.char <- split(x=utterance, f=speaker)\n",
    "print(speech.by.char)"
   ]
  },
  {
   "cell_type": "markdown",
   "id": "3309da5e",
   "metadata": {},
   "source": [
    "first utterance by makka-pakka:"
   ]
  },
  {
   "cell_type": "code",
   "execution_count": 30,
   "id": "de322f78",
   "metadata": {},
   "outputs": [
    {
     "data": {
      "text/html": [
       "'pip'"
      ],
      "text/latex": [
       "'pip'"
      ],
      "text/markdown": [
       "'pip'"
      ],
      "text/plain": [
       "[1] \"pip\""
      ]
     },
     "metadata": {},
     "output_type": "display_data"
    }
   ],
   "source": [
    "speech.by.char$'makka-pakka'[1]"
   ]
  },
  {
   "cell_type": "code",
   "execution_count": 31,
   "id": "b659dba5",
   "metadata": {},
   "outputs": [
    {
     "data": {
      "text/html": [
       "<ol class=list-inline>\n",
       "\t<li>'ee'</li>\n",
       "\t<li>'oo'</li>\n",
       "</ol>\n"
      ],
      "text/latex": [
       "\\begin{enumerate*}\n",
       "\\item 'ee'\n",
       "\\item 'oo'\n",
       "\\end{enumerate*}\n"
      ],
      "text/markdown": [
       "1. 'ee'\n",
       "2. 'oo'\n",
       "\n",
       "\n"
      ],
      "text/plain": [
       "[1] \"ee\" \"oo\""
      ]
     },
     "metadata": {},
     "output_type": "display_data"
    }
   ],
   "source": [
    "speech.by.char$tombliboo"
   ]
  },
  {
   "cell_type": "markdown",
   "id": "f73bc6d7",
   "metadata": {},
   "source": [
    "note: R requires the quotes when the original record had a space"
   ]
  },
  {
   "cell_type": "markdown",
   "id": "5386f237",
   "metadata": {},
   "source": [
    "use importList() from the lsr package to import these split variables into the workspace"
   ]
  },
  {
   "cell_type": "code",
   "execution_count": 32,
   "id": "099e832e",
   "metadata": {},
   "outputs": [
    {
     "data": {
      "text/plain": [
       "   -- Name --         -- Class --   -- Size --\n",
       "   age                numeric       11        \n",
       "   age.breaks         numeric       4         \n",
       "   age.group          factor        11        \n",
       "   age.group2         factor        11        \n",
       "   age.group3         factor        11        \n",
       "   age.labels         character     3         \n",
       "   is.MP.speaking     logical       10        \n",
       "   itng               data.frame    10 x 2    \n",
       "   itng.table         table         3 x 4     \n",
       "   likert.centered    numeric       10        \n",
       "   likert.raw         numeric       10        \n",
       "   opinion.dir        numeric       10        \n",
       "   opinion.strength   numeric       10        \n",
       "   speaker            character     10        \n",
       "   speech.by.char     list          3         \n",
       "   utterance          character     10        "
      ]
     },
     "metadata": {},
     "output_type": "display_data"
    }
   ],
   "source": [
    "who()"
   ]
  },
  {
   "cell_type": "code",
   "execution_count": 35,
   "id": "be2076f8",
   "metadata": {},
   "outputs": [
    {
     "name": "stdout",
     "output_type": "stream",
     "text": [
      "Create these variables? [y/n] \n",
      "Create these variables? [y/n] \n",
      "Create these variables? [y/n] \n",
      "Create these variables? [y/n] y\n",
      "Names of variables to be created:\n",
      "[1] \"makka.pakka\" \"tombliboo\"   \"upsy.daisy\" \n"
     ]
    }
   ],
   "source": [
    "importList(speech.by.char)"
   ]
  },
  {
   "cell_type": "code",
   "execution_count": 36,
   "id": "bdd3eaed",
   "metadata": {},
   "outputs": [
    {
     "data": {
      "text/plain": [
       "   -- Name --         -- Class --   -- Size --\n",
       "   age                numeric       11        \n",
       "   age.breaks         numeric       4         \n",
       "   age.group          factor        11        \n",
       "   age.group2         factor        11        \n",
       "   age.group3         factor        11        \n",
       "   age.labels         character     3         \n",
       "   is.MP.speaking     logical       10        \n",
       "   itng               data.frame    10 x 2    \n",
       "   itng.table         table         3 x 4     \n",
       "   likert.centered    numeric       10        \n",
       "   likert.raw         numeric       10        \n",
       "   makka.pakka        character     4         \n",
       "   opinion.dir        numeric       10        \n",
       "   opinion.strength   numeric       10        \n",
       "   speaker            character     10        \n",
       "   speech.by.char     list          3         \n",
       "   tombliboo          character     2         \n",
       "   upsy.daisy         character     4         \n",
       "   utterance          character     10        "
      ]
     },
     "metadata": {},
     "output_type": "display_data"
    }
   ],
   "source": [
    "who()"
   ]
  },
  {
   "cell_type": "code",
   "execution_count": 37,
   "id": "3a97cc0b",
   "metadata": {},
   "outputs": [
    {
     "data": {
      "text/html": [
       "<ol class=list-inline>\n",
       "\t<li>'pip'</li>\n",
       "\t<li>'pip'</li>\n",
       "\t<li>'onk'</li>\n",
       "\t<li>'onk'</li>\n",
       "</ol>\n"
      ],
      "text/latex": [
       "\\begin{enumerate*}\n",
       "\\item 'pip'\n",
       "\\item 'pip'\n",
       "\\item 'onk'\n",
       "\\item 'onk'\n",
       "\\end{enumerate*}\n"
      ],
      "text/markdown": [
       "1. 'pip'\n",
       "2. 'pip'\n",
       "3. 'onk'\n",
       "4. 'onk'\n",
       "\n",
       "\n"
      ],
      "text/plain": [
       "[1] \"pip\" \"pip\" \"onk\" \"onk\""
      ]
     },
     "metadata": {},
     "output_type": "display_data"
    }
   ],
   "source": [
    "makka.pakka"
   ]
  },
  {
   "cell_type": "markdown",
   "id": "a9b256b5",
   "metadata": {},
   "source": [
    "## Extracting a subset of a data frame\n",
    "\n",
    "note: this is pretty much identical to indexing with pandas"
   ]
  },
  {
   "cell_type": "markdown",
   "id": "5bcc4a6d",
   "metadata": {},
   "source": [
    "**subset function**\n",
    "\n",
    "x = data frame<br> \n",
    "subset = vector of logical values indicating cases (i.e. rows) to keep<br> \n",
    "select = indicates which varialbes (columns) to keep\n"
   ]
  },
  {
   "cell_type": "code",
   "execution_count": 38,
   "id": "5f8a78d2",
   "metadata": {},
   "outputs": [],
   "source": [
    "df <- subset(x=itng,\n",
    "            subset= speaker=='makka-pakka',\n",
    "            select=utterance)"
   ]
  },
  {
   "cell_type": "code",
   "execution_count": 39,
   "id": "d76e4fff",
   "metadata": {},
   "outputs": [
    {
     "name": "stdout",
     "output_type": "stream",
     "text": [
      "   utterance\n",
      "7        pip\n",
      "8        pip\n",
      "9        onk\n",
      "10       onk\n"
     ]
    }
   ],
   "source": [
    "print(df)"
   ]
  },
  {
   "cell_type": "markdown",
   "id": "1b0631fe",
   "metadata": {},
   "source": [
    "note that row numbers are preserved"
   ]
  },
  {
   "cell_type": "code",
   "execution_count": 40,
   "id": "8f062672",
   "metadata": {},
   "outputs": [
    {
     "data": {
      "text/html": [
       "<table>\n",
       "<thead><tr><th></th><th scope=col>speaker</th><th scope=col>utterance</th></tr></thead>\n",
       "<tbody>\n",
       "\t<tr><th scope=row>7</th><td>makka-pakka</td><td>pip        </td></tr>\n",
       "\t<tr><th scope=row>8</th><td>makka-pakka</td><td>pip        </td></tr>\n",
       "\t<tr><th scope=row>9</th><td>makka-pakka</td><td>onk        </td></tr>\n",
       "\t<tr><th scope=row>10</th><td>makka-pakka</td><td>onk        </td></tr>\n",
       "</tbody>\n",
       "</table>\n"
      ],
      "text/latex": [
       "\\begin{tabular}{r|ll}\n",
       "  & speaker & utterance\\\\\n",
       "\\hline\n",
       "\t7 & makka-pakka & pip        \\\\\n",
       "\t8 & makka-pakka & pip        \\\\\n",
       "\t9 & makka-pakka & onk        \\\\\n",
       "\t10 & makka-pakka & onk        \\\\\n",
       "\\end{tabular}\n"
      ],
      "text/markdown": [
       "\n",
       "| <!--/--> | speaker | utterance |\n",
       "|---|---|---|\n",
       "| 7 | makka-pakka | pip         |\n",
       "| 8 | makka-pakka | pip         |\n",
       "| 9 | makka-pakka | onk         |\n",
       "| 10 | makka-pakka | onk         |\n",
       "\n"
      ],
      "text/plain": [
       "   speaker     utterance\n",
       "7  makka-pakka pip      \n",
       "8  makka-pakka pip      \n",
       "9  makka-pakka onk      \n",
       "10 makka-pakka onk      "
      ]
     },
     "metadata": {},
     "output_type": "display_data"
    }
   ],
   "source": [
    "subset(x=itng,\n",
    "      subset=speaker=='makka-pakka')"
   ]
  },
  {
   "cell_type": "code",
   "execution_count": 41,
   "id": "ff059242",
   "metadata": {},
   "outputs": [
    {
     "data": {
      "text/html": [
       "<table>\n",
       "<thead><tr><th scope=col>utterance</th></tr></thead>\n",
       "<tbody>\n",
       "\t<tr><td>pip</td></tr>\n",
       "\t<tr><td>pip</td></tr>\n",
       "\t<tr><td>onk</td></tr>\n",
       "\t<tr><td>onk</td></tr>\n",
       "\t<tr><td>ee </td></tr>\n",
       "\t<tr><td>oo </td></tr>\n",
       "\t<tr><td>pip</td></tr>\n",
       "\t<tr><td>pip</td></tr>\n",
       "\t<tr><td>onk</td></tr>\n",
       "\t<tr><td>onk</td></tr>\n",
       "</tbody>\n",
       "</table>\n"
      ],
      "text/latex": [
       "\\begin{tabular}{r|l}\n",
       " utterance\\\\\n",
       "\\hline\n",
       "\t pip\\\\\n",
       "\t pip\\\\\n",
       "\t onk\\\\\n",
       "\t onk\\\\\n",
       "\t ee \\\\\n",
       "\t oo \\\\\n",
       "\t pip\\\\\n",
       "\t pip\\\\\n",
       "\t onk\\\\\n",
       "\t onk\\\\\n",
       "\\end{tabular}\n"
      ],
      "text/markdown": [
       "\n",
       "| utterance |\n",
       "|---|\n",
       "| pip |\n",
       "| pip |\n",
       "| onk |\n",
       "| onk |\n",
       "| ee  |\n",
       "| oo  |\n",
       "| pip |\n",
       "| pip |\n",
       "| onk |\n",
       "| onk |\n",
       "\n"
      ],
      "text/plain": [
       "   utterance\n",
       "1  pip      \n",
       "2  pip      \n",
       "3  onk      \n",
       "4  onk      \n",
       "5  ee       \n",
       "6  oo       \n",
       "7  pip      \n",
       "8  pip      \n",
       "9  onk      \n",
       "10 onk      "
      ]
     },
     "metadata": {},
     "output_type": "display_data"
    }
   ],
   "source": [
    "subset(x=itng, select=utterance)"
   ]
  },
  {
   "cell_type": "markdown",
   "id": "04bc1ed5",
   "metadata": {},
   "source": [
    "**using square brackets 1. rows and columns**"
   ]
  },
  {
   "cell_type": "code",
   "execution_count": 42,
   "id": "f220a0d1",
   "metadata": {},
   "outputs": [],
   "source": [
    "load(\"nightgarden2.Rdata\")"
   ]
  },
  {
   "cell_type": "code",
   "execution_count": 43,
   "id": "e4e0c857",
   "metadata": {},
   "outputs": [
    {
     "data": {
      "text/html": [
       "<table>\n",
       "<thead><tr><th></th><th scope=col>speaker</th><th scope=col>utterance</th><th scope=col>line</th></tr></thead>\n",
       "<tbody>\n",
       "\t<tr><th scope=row>case.1</th><td>upsy-daisy </td><td>pip        </td><td>1          </td></tr>\n",
       "\t<tr><th scope=row>case.2</th><td>upsy-daisy </td><td>pip        </td><td>2          </td></tr>\n",
       "\t<tr><th scope=row>case.3</th><td>tombliboo  </td><td>ee         </td><td>5          </td></tr>\n",
       "\t<tr><th scope=row>case.4</th><td>makka-pakka</td><td>pip        </td><td>7          </td></tr>\n",
       "\t<tr><th scope=row>case.5</th><td>makka-pakka</td><td>onk        </td><td>9          </td></tr>\n",
       "</tbody>\n",
       "</table>\n"
      ],
      "text/latex": [
       "\\begin{tabular}{r|lll}\n",
       "  & speaker & utterance & line\\\\\n",
       "\\hline\n",
       "\tcase.1 & upsy-daisy  & pip         & 1          \\\\\n",
       "\tcase.2 & upsy-daisy  & pip         & 2          \\\\\n",
       "\tcase.3 & tombliboo   & ee          & 5          \\\\\n",
       "\tcase.4 & makka-pakka & pip         & 7          \\\\\n",
       "\tcase.5 & makka-pakka & onk         & 9          \\\\\n",
       "\\end{tabular}\n"
      ],
      "text/markdown": [
       "\n",
       "| <!--/--> | speaker | utterance | line |\n",
       "|---|---|---|---|\n",
       "| case.1 | upsy-daisy  | pip         | 1           |\n",
       "| case.2 | upsy-daisy  | pip         | 2           |\n",
       "| case.3 | tombliboo   | ee          | 5           |\n",
       "| case.4 | makka-pakka | pip         | 7           |\n",
       "| case.5 | makka-pakka | onk         | 9           |\n",
       "\n"
      ],
      "text/plain": [
       "       speaker     utterance line\n",
       "case.1 upsy-daisy  pip       1   \n",
       "case.2 upsy-daisy  pip       2   \n",
       "case.3 tombliboo   ee        5   \n",
       "case.4 makka-pakka pip       7   \n",
       "case.5 makka-pakka onk       9   "
      ]
     },
     "metadata": {},
     "output_type": "display_data"
    }
   ],
   "source": [
    "garden"
   ]
  },
  {
   "cell_type": "code",
   "execution_count": 44,
   "id": "63308f5e",
   "metadata": {},
   "outputs": [
    {
     "data": {
      "text/html": [
       "<table>\n",
       "<thead><tr><th></th><th scope=col>speaker</th><th scope=col>utterance</th></tr></thead>\n",
       "<tbody>\n",
       "\t<tr><th scope=row>case.4</th><td>makka-pakka</td><td>pip        </td></tr>\n",
       "\t<tr><th scope=row>case.5</th><td>makka-pakka</td><td>onk        </td></tr>\n",
       "</tbody>\n",
       "</table>\n"
      ],
      "text/latex": [
       "\\begin{tabular}{r|ll}\n",
       "  & speaker & utterance\\\\\n",
       "\\hline\n",
       "\tcase.4 & makka-pakka & pip        \\\\\n",
       "\tcase.5 & makka-pakka & onk        \\\\\n",
       "\\end{tabular}\n"
      ],
      "text/markdown": [
       "\n",
       "| <!--/--> | speaker | utterance |\n",
       "|---|---|---|\n",
       "| case.4 | makka-pakka | pip         |\n",
       "| case.5 | makka-pakka | onk         |\n",
       "\n"
      ],
      "text/plain": [
       "       speaker     utterance\n",
       "case.4 makka-pakka pip      \n",
       "case.5 makka-pakka onk      "
      ]
     },
     "metadata": {},
     "output_type": "display_data"
    }
   ],
   "source": [
    "garden[4:5, 1:2]"
   ]
  },
  {
   "cell_type": "code",
   "execution_count": 45,
   "id": "c83b1d9c",
   "metadata": {},
   "outputs": [
    {
     "data": {
      "text/html": [
       "<table>\n",
       "<thead><tr><th></th><th scope=col>speaker</th><th scope=col>utterance</th></tr></thead>\n",
       "<tbody>\n",
       "\t<tr><th scope=row>case.4</th><td>makka-pakka</td><td>pip        </td></tr>\n",
       "\t<tr><th scope=row>case.5</th><td>makka-pakka</td><td>onk        </td></tr>\n",
       "</tbody>\n",
       "</table>\n"
      ],
      "text/latex": [
       "\\begin{tabular}{r|ll}\n",
       "  & speaker & utterance\\\\\n",
       "\\hline\n",
       "\tcase.4 & makka-pakka & pip        \\\\\n",
       "\tcase.5 & makka-pakka & onk        \\\\\n",
       "\\end{tabular}\n"
      ],
      "text/markdown": [
       "\n",
       "| <!--/--> | speaker | utterance |\n",
       "|---|---|---|\n",
       "| case.4 | makka-pakka | pip         |\n",
       "| case.5 | makka-pakka | onk         |\n",
       "\n"
      ],
      "text/plain": [
       "       speaker     utterance\n",
       "case.4 makka-pakka pip      \n",
       "case.5 makka-pakka onk      "
      ]
     },
     "metadata": {},
     "output_type": "display_data"
    }
   ],
   "source": [
    "garden[c(4,5), c(1,2)]"
   ]
  },
  {
   "cell_type": "code",
   "execution_count": 46,
   "id": "9473e377",
   "metadata": {},
   "outputs": [
    {
     "data": {
      "text/html": [
       "<table>\n",
       "<thead><tr><th></th><th scope=col>speaker</th><th scope=col>utterance</th></tr></thead>\n",
       "<tbody>\n",
       "\t<tr><th scope=row>case.4</th><td>makka-pakka</td><td>pip        </td></tr>\n",
       "\t<tr><th scope=row>case.5</th><td>makka-pakka</td><td>onk        </td></tr>\n",
       "</tbody>\n",
       "</table>\n"
      ],
      "text/latex": [
       "\\begin{tabular}{r|ll}\n",
       "  & speaker & utterance\\\\\n",
       "\\hline\n",
       "\tcase.4 & makka-pakka & pip        \\\\\n",
       "\tcase.5 & makka-pakka & onk        \\\\\n",
       "\\end{tabular}\n"
      ],
      "text/markdown": [
       "\n",
       "| <!--/--> | speaker | utterance |\n",
       "|---|---|---|\n",
       "| case.4 | makka-pakka | pip         |\n",
       "| case.5 | makka-pakka | onk         |\n",
       "\n"
      ],
      "text/plain": [
       "       speaker     utterance\n",
       "case.4 makka-pakka pip      \n",
       "case.5 makka-pakka onk      "
      ]
     },
     "metadata": {},
     "output_type": "display_data"
    }
   ],
   "source": [
    "garden[c(\"case.4\", \"case.5\"), c(\"speaker\", \"utterance\")]"
   ]
  },
  {
   "cell_type": "code",
   "execution_count": 47,
   "id": "3b5903be",
   "metadata": {},
   "outputs": [
    {
     "data": {
      "text/html": [
       "<table>\n",
       "<thead><tr><th></th><th scope=col>speaker</th><th scope=col>utterance</th></tr></thead>\n",
       "<tbody>\n",
       "\t<tr><th scope=row>case.4</th><td>makka-pakka</td><td>pip        </td></tr>\n",
       "\t<tr><th scope=row>case.5</th><td>makka-pakka</td><td>onk        </td></tr>\n",
       "</tbody>\n",
       "</table>\n"
      ],
      "text/latex": [
       "\\begin{tabular}{r|ll}\n",
       "  & speaker & utterance\\\\\n",
       "\\hline\n",
       "\tcase.4 & makka-pakka & pip        \\\\\n",
       "\tcase.5 & makka-pakka & onk        \\\\\n",
       "\\end{tabular}\n"
      ],
      "text/markdown": [
       "\n",
       "| <!--/--> | speaker | utterance |\n",
       "|---|---|---|\n",
       "| case.4 | makka-pakka | pip         |\n",
       "| case.5 | makka-pakka | onk         |\n",
       "\n"
      ],
      "text/plain": [
       "       speaker     utterance\n",
       "case.4 makka-pakka pip      \n",
       "case.5 makka-pakka onk      "
      ]
     },
     "metadata": {},
     "output_type": "display_data"
    }
   ],
   "source": [
    "garden[4:5, c(\"speaker\", \"utterance\")]"
   ]
  },
  {
   "cell_type": "code",
   "execution_count": 48,
   "id": "13d50dd3",
   "metadata": {},
   "outputs": [
    {
     "data": {
      "text/html": [
       "<table>\n",
       "<thead><tr><th></th><th scope=col>speaker</th><th scope=col>utterance</th></tr></thead>\n",
       "<tbody>\n",
       "\t<tr><th scope=row>case.4</th><td>makka-pakka</td><td>pip        </td></tr>\n",
       "\t<tr><th scope=row>case.5</th><td>makka-pakka</td><td>onk        </td></tr>\n",
       "</tbody>\n",
       "</table>\n"
      ],
      "text/latex": [
       "\\begin{tabular}{r|ll}\n",
       "  & speaker & utterance\\\\\n",
       "\\hline\n",
       "\tcase.4 & makka-pakka & pip        \\\\\n",
       "\tcase.5 & makka-pakka & onk        \\\\\n",
       "\\end{tabular}\n"
      ],
      "text/markdown": [
       "\n",
       "| <!--/--> | speaker | utterance |\n",
       "|---|---|---|\n",
       "| case.4 | makka-pakka | pip         |\n",
       "| case.5 | makka-pakka | onk         |\n",
       "\n"
      ],
      "text/plain": [
       "       speaker     utterance\n",
       "case.4 makka-pakka pip      \n",
       "case.5 makka-pakka onk      "
      ]
     },
     "metadata": {},
     "output_type": "display_data"
    }
   ],
   "source": [
    "is.MP.speaking <- garden$speaker == \"makka-pakka\"\n",
    "garden[is.MP.speaking, c(\"speaker\", \"utterance\")]"
   ]
  },
  {
   "cell_type": "markdown",
   "id": "9d5d36b6",
   "metadata": {},
   "source": [
    "**Using square brackets 2: some elaborations**"
   ]
  },
  {
   "cell_type": "code",
   "execution_count": 49,
   "id": "36fbb8bb",
   "metadata": {},
   "outputs": [
    {
     "data": {
      "text/html": [
       "<table>\n",
       "<thead><tr><th></th><th scope=col>speaker</th><th scope=col>utterance</th></tr></thead>\n",
       "<tbody>\n",
       "\t<tr><th scope=row>case.1</th><td>upsy-daisy </td><td>pip        </td></tr>\n",
       "\t<tr><th scope=row>case.2</th><td>upsy-daisy </td><td>pip        </td></tr>\n",
       "\t<tr><th scope=row>case.3</th><td>tombliboo  </td><td>ee         </td></tr>\n",
       "\t<tr><th scope=row>case.4</th><td>makka-pakka</td><td>pip        </td></tr>\n",
       "\t<tr><th scope=row>case.5</th><td>makka-pakka</td><td>onk        </td></tr>\n",
       "</tbody>\n",
       "</table>\n"
      ],
      "text/latex": [
       "\\begin{tabular}{r|ll}\n",
       "  & speaker & utterance\\\\\n",
       "\\hline\n",
       "\tcase.1 & upsy-daisy  & pip        \\\\\n",
       "\tcase.2 & upsy-daisy  & pip        \\\\\n",
       "\tcase.3 & tombliboo   & ee         \\\\\n",
       "\tcase.4 & makka-pakka & pip        \\\\\n",
       "\tcase.5 & makka-pakka & onk        \\\\\n",
       "\\end{tabular}\n"
      ],
      "text/markdown": [
       "\n",
       "| <!--/--> | speaker | utterance |\n",
       "|---|---|---|\n",
       "| case.1 | upsy-daisy  | pip         |\n",
       "| case.2 | upsy-daisy  | pip         |\n",
       "| case.3 | tombliboo   | ee          |\n",
       "| case.4 | makka-pakka | pip         |\n",
       "| case.5 | makka-pakka | onk         |\n",
       "\n"
      ],
      "text/plain": [
       "       speaker     utterance\n",
       "case.1 upsy-daisy  pip      \n",
       "case.2 upsy-daisy  pip      \n",
       "case.3 tombliboo   ee       \n",
       "case.4 makka-pakka pip      \n",
       "case.5 makka-pakka onk      "
      ]
     },
     "metadata": {},
     "output_type": "display_data"
    }
   ],
   "source": [
    "garden[,1:2]"
   ]
  },
  {
   "cell_type": "code",
   "execution_count": 50,
   "id": "daab4c88",
   "metadata": {},
   "outputs": [
    {
     "data": {
      "text/html": [
       "<table>\n",
       "<thead><tr><th></th><th scope=col>speaker</th><th scope=col>utterance</th><th scope=col>line</th></tr></thead>\n",
       "<tbody>\n",
       "\t<tr><th scope=row>case.4</th><td>makka-pakka</td><td>pip        </td><td>7          </td></tr>\n",
       "\t<tr><th scope=row>case.5</th><td>makka-pakka</td><td>onk        </td><td>9          </td></tr>\n",
       "</tbody>\n",
       "</table>\n"
      ],
      "text/latex": [
       "\\begin{tabular}{r|lll}\n",
       "  & speaker & utterance & line\\\\\n",
       "\\hline\n",
       "\tcase.4 & makka-pakka & pip         & 7          \\\\\n",
       "\tcase.5 & makka-pakka & onk         & 9          \\\\\n",
       "\\end{tabular}\n"
      ],
      "text/markdown": [
       "\n",
       "| <!--/--> | speaker | utterance | line |\n",
       "|---|---|---|---|\n",
       "| case.4 | makka-pakka | pip         | 7           |\n",
       "| case.5 | makka-pakka | onk         | 9           |\n",
       "\n"
      ],
      "text/plain": [
       "       speaker     utterance line\n",
       "case.4 makka-pakka pip       7   \n",
       "case.5 makka-pakka onk       9   "
      ]
     },
     "metadata": {},
     "output_type": "display_data"
    }
   ],
   "source": [
    "garden[4:5,]"
   ]
  },
  {
   "cell_type": "markdown",
   "id": "61fcadd3",
   "metadata": {},
   "source": [
    "delete 3rd column"
   ]
  },
  {
   "cell_type": "code",
   "execution_count": 51,
   "id": "39cc9ae1",
   "metadata": {},
   "outputs": [
    {
     "data": {
      "text/html": [
       "<table>\n",
       "<thead><tr><th></th><th scope=col>speaker</th><th scope=col>utterance</th></tr></thead>\n",
       "<tbody>\n",
       "\t<tr><th scope=row>case.1</th><td>upsy-daisy </td><td>pip        </td></tr>\n",
       "\t<tr><th scope=row>case.2</th><td>upsy-daisy </td><td>pip        </td></tr>\n",
       "\t<tr><th scope=row>case.3</th><td>tombliboo  </td><td>ee         </td></tr>\n",
       "\t<tr><th scope=row>case.4</th><td>makka-pakka</td><td>pip        </td></tr>\n",
       "\t<tr><th scope=row>case.5</th><td>makka-pakka</td><td>onk        </td></tr>\n",
       "</tbody>\n",
       "</table>\n"
      ],
      "text/latex": [
       "\\begin{tabular}{r|ll}\n",
       "  & speaker & utterance\\\\\n",
       "\\hline\n",
       "\tcase.1 & upsy-daisy  & pip        \\\\\n",
       "\tcase.2 & upsy-daisy  & pip        \\\\\n",
       "\tcase.3 & tombliboo   & ee         \\\\\n",
       "\tcase.4 & makka-pakka & pip        \\\\\n",
       "\tcase.5 & makka-pakka & onk        \\\\\n",
       "\\end{tabular}\n"
      ],
      "text/markdown": [
       "\n",
       "| <!--/--> | speaker | utterance |\n",
       "|---|---|---|\n",
       "| case.1 | upsy-daisy  | pip         |\n",
       "| case.2 | upsy-daisy  | pip         |\n",
       "| case.3 | tombliboo   | ee          |\n",
       "| case.4 | makka-pakka | pip         |\n",
       "| case.5 | makka-pakka | onk         |\n",
       "\n"
      ],
      "text/plain": [
       "       speaker     utterance\n",
       "case.1 upsy-daisy  pip      \n",
       "case.2 upsy-daisy  pip      \n",
       "case.3 tombliboo   ee       \n",
       "case.4 makka-pakka pip      \n",
       "case.5 makka-pakka onk      "
      ]
     },
     "metadata": {},
     "output_type": "display_data"
    }
   ],
   "source": [
    "garden[,-3]"
   ]
  },
  {
   "cell_type": "markdown",
   "id": "b6f02866",
   "metadata": {},
   "source": [
    "**Using square brackets: 3. understanding 'dropping'**"
   ]
  },
  {
   "cell_type": "code",
   "execution_count": 52,
   "id": "0b7131e5",
   "metadata": {},
   "outputs": [
    {
     "data": {
      "text/html": [
       "<table>\n",
       "<thead><tr><th></th><th scope=col>speaker</th><th scope=col>utterance</th><th scope=col>line</th></tr></thead>\n",
       "<tbody>\n",
       "\t<tr><th scope=row>case.5</th><td>makka-pakka</td><td>onk        </td><td>9          </td></tr>\n",
       "</tbody>\n",
       "</table>\n"
      ],
      "text/latex": [
       "\\begin{tabular}{r|lll}\n",
       "  & speaker & utterance & line\\\\\n",
       "\\hline\n",
       "\tcase.5 & makka-pakka & onk         & 9          \\\\\n",
       "\\end{tabular}\n"
      ],
      "text/markdown": [
       "\n",
       "| <!--/--> | speaker | utterance | line |\n",
       "|---|---|---|---|\n",
       "| case.5 | makka-pakka | onk         | 9           |\n",
       "\n"
      ],
      "text/plain": [
       "       speaker     utterance line\n",
       "case.5 makka-pakka onk       9   "
      ]
     },
     "metadata": {},
     "output_type": "display_data"
    }
   ],
   "source": [
    "garden[5,]"
   ]
  },
  {
   "cell_type": "code",
   "execution_count": 53,
   "id": "f9f10a65",
   "metadata": {},
   "outputs": [
    {
     "data": {
      "text/html": [
       "<table>\n",
       "<thead><tr><th></th><th scope=col>speaker</th><th scope=col>utterance</th><th scope=col>line</th></tr></thead>\n",
       "<tbody>\n",
       "\t<tr><th scope=row>case.1</th><td>upsy-daisy </td><td>pip        </td><td>1          </td></tr>\n",
       "\t<tr><th scope=row>case.2</th><td>upsy-daisy </td><td>pip        </td><td>2          </td></tr>\n",
       "\t<tr><th scope=row>case.3</th><td>tombliboo  </td><td>ee         </td><td>5          </td></tr>\n",
       "\t<tr><th scope=row>case.4</th><td>makka-pakka</td><td>pip        </td><td>7          </td></tr>\n",
       "\t<tr><th scope=row>case.5</th><td>makka-pakka</td><td>onk        </td><td>9          </td></tr>\n",
       "</tbody>\n",
       "</table>\n"
      ],
      "text/latex": [
       "\\begin{tabular}{r|lll}\n",
       "  & speaker & utterance & line\\\\\n",
       "\\hline\n",
       "\tcase.1 & upsy-daisy  & pip         & 1          \\\\\n",
       "\tcase.2 & upsy-daisy  & pip         & 2          \\\\\n",
       "\tcase.3 & tombliboo   & ee          & 5          \\\\\n",
       "\tcase.4 & makka-pakka & pip         & 7          \\\\\n",
       "\tcase.5 & makka-pakka & onk         & 9          \\\\\n",
       "\\end{tabular}\n"
      ],
      "text/markdown": [
       "\n",
       "| <!--/--> | speaker | utterance | line |\n",
       "|---|---|---|---|\n",
       "| case.1 | upsy-daisy  | pip         | 1           |\n",
       "| case.2 | upsy-daisy  | pip         | 2           |\n",
       "| case.3 | tombliboo   | ee          | 5           |\n",
       "| case.4 | makka-pakka | pip         | 7           |\n",
       "| case.5 | makka-pakka | onk         | 9           |\n",
       "\n"
      ],
      "text/plain": [
       "       speaker     utterance line\n",
       "case.1 upsy-daisy  pip       1   \n",
       "case.2 upsy-daisy  pip       2   \n",
       "case.3 tombliboo   ee        5   \n",
       "case.4 makka-pakka pip       7   \n",
       "case.5 makka-pakka onk       9   "
      ]
     },
     "metadata": {},
     "output_type": "display_data"
    }
   ],
   "source": [
    "garden"
   ]
  },
  {
   "cell_type": "code",
   "execution_count": 54,
   "id": "5c2baa8c",
   "metadata": {},
   "outputs": [
    {
     "data": {
      "text/html": [
       "<ol class=list-inline>\n",
       "\t<li>1</li>\n",
       "\t<li>2</li>\n",
       "\t<li>5</li>\n",
       "\t<li>7</li>\n",
       "\t<li>9</li>\n",
       "</ol>\n"
      ],
      "text/latex": [
       "\\begin{enumerate*}\n",
       "\\item 1\n",
       "\\item 2\n",
       "\\item 5\n",
       "\\item 7\n",
       "\\item 9\n",
       "\\end{enumerate*}\n"
      ],
      "text/markdown": [
       "1. 1\n",
       "2. 2\n",
       "3. 5\n",
       "4. 7\n",
       "5. 9\n",
       "\n",
       "\n"
      ],
      "text/plain": [
       "[1] 1 2 5 7 9"
      ]
     },
     "metadata": {},
     "output_type": "display_data"
    }
   ],
   "source": [
    "garden[,3]"
   ]
  },
  {
   "cell_type": "markdown",
   "id": "ee89fb14",
   "metadata": {},
   "source": [
    "R noticed that the outpute doesn't need a data frame becuase it's only one variable. "
   ]
  },
  {
   "cell_type": "code",
   "execution_count": 55,
   "id": "cb2659f5",
   "metadata": {},
   "outputs": [
    {
     "data": {
      "text/html": [
       "<table>\n",
       "<thead><tr><th></th><th scope=col>line</th></tr></thead>\n",
       "<tbody>\n",
       "\t<tr><th scope=row>case.1</th><td>1</td></tr>\n",
       "\t<tr><th scope=row>case.2</th><td>2</td></tr>\n",
       "\t<tr><th scope=row>case.3</th><td>5</td></tr>\n",
       "\t<tr><th scope=row>case.4</th><td>7</td></tr>\n",
       "\t<tr><th scope=row>case.5</th><td>9</td></tr>\n",
       "</tbody>\n",
       "</table>\n"
      ],
      "text/latex": [
       "\\begin{tabular}{r|l}\n",
       "  & line\\\\\n",
       "\\hline\n",
       "\tcase.1 & 1\\\\\n",
       "\tcase.2 & 2\\\\\n",
       "\tcase.3 & 5\\\\\n",
       "\tcase.4 & 7\\\\\n",
       "\tcase.5 & 9\\\\\n",
       "\\end{tabular}\n"
      ],
      "text/markdown": [
       "\n",
       "| <!--/--> | line |\n",
       "|---|---|\n",
       "| case.1 | 1 |\n",
       "| case.2 | 2 |\n",
       "| case.3 | 5 |\n",
       "| case.4 | 7 |\n",
       "| case.5 | 9 |\n",
       "\n"
      ],
      "text/plain": [
       "       line\n",
       "case.1 1   \n",
       "case.2 2   \n",
       "case.3 5   \n",
       "case.4 7   \n",
       "case.5 9   "
      ]
     },
     "metadata": {},
     "output_type": "display_data"
    }
   ],
   "source": [
    "garden[,3,drop=FALSE]"
   ]
  },
  {
   "cell_type": "markdown",
   "id": "a350696a",
   "metadata": {},
   "source": [
    "**Using square brackets: 4. columns only**"
   ]
  },
  {
   "cell_type": "code",
   "execution_count": 56,
   "id": "15d03dbf",
   "metadata": {},
   "outputs": [
    {
     "data": {
      "text/html": [
       "<table>\n",
       "<thead><tr><th></th><th scope=col>speaker</th><th scope=col>utterance</th></tr></thead>\n",
       "<tbody>\n",
       "\t<tr><th scope=row>case.1</th><td>upsy-daisy </td><td>pip        </td></tr>\n",
       "\t<tr><th scope=row>case.2</th><td>upsy-daisy </td><td>pip        </td></tr>\n",
       "\t<tr><th scope=row>case.3</th><td>tombliboo  </td><td>ee         </td></tr>\n",
       "\t<tr><th scope=row>case.4</th><td>makka-pakka</td><td>pip        </td></tr>\n",
       "\t<tr><th scope=row>case.5</th><td>makka-pakka</td><td>onk        </td></tr>\n",
       "</tbody>\n",
       "</table>\n"
      ],
      "text/latex": [
       "\\begin{tabular}{r|ll}\n",
       "  & speaker & utterance\\\\\n",
       "\\hline\n",
       "\tcase.1 & upsy-daisy  & pip        \\\\\n",
       "\tcase.2 & upsy-daisy  & pip        \\\\\n",
       "\tcase.3 & tombliboo   & ee         \\\\\n",
       "\tcase.4 & makka-pakka & pip        \\\\\n",
       "\tcase.5 & makka-pakka & onk        \\\\\n",
       "\\end{tabular}\n"
      ],
      "text/markdown": [
       "\n",
       "| <!--/--> | speaker | utterance |\n",
       "|---|---|---|\n",
       "| case.1 | upsy-daisy  | pip         |\n",
       "| case.2 | upsy-daisy  | pip         |\n",
       "| case.3 | tombliboo   | ee          |\n",
       "| case.4 | makka-pakka | pip         |\n",
       "| case.5 | makka-pakka | onk         |\n",
       "\n"
      ],
      "text/plain": [
       "       speaker     utterance\n",
       "case.1 upsy-daisy  pip      \n",
       "case.2 upsy-daisy  pip      \n",
       "case.3 tombliboo   ee       \n",
       "case.4 makka-pakka pip      \n",
       "case.5 makka-pakka onk      "
      ]
     },
     "metadata": {},
     "output_type": "display_data"
    }
   ],
   "source": [
    "garden[1:2]"
   ]
  },
  {
   "cell_type": "code",
   "execution_count": 57,
   "id": "c8e7ce02",
   "metadata": {},
   "outputs": [
    {
     "data": {
      "text/html": [
       "<table>\n",
       "<thead><tr><th></th><th scope=col>line</th></tr></thead>\n",
       "<tbody>\n",
       "\t<tr><th scope=row>case.1</th><td>1</td></tr>\n",
       "\t<tr><th scope=row>case.2</th><td>2</td></tr>\n",
       "\t<tr><th scope=row>case.3</th><td>5</td></tr>\n",
       "\t<tr><th scope=row>case.4</th><td>7</td></tr>\n",
       "\t<tr><th scope=row>case.5</th><td>9</td></tr>\n",
       "</tbody>\n",
       "</table>\n"
      ],
      "text/latex": [
       "\\begin{tabular}{r|l}\n",
       "  & line\\\\\n",
       "\\hline\n",
       "\tcase.1 & 1\\\\\n",
       "\tcase.2 & 2\\\\\n",
       "\tcase.3 & 5\\\\\n",
       "\tcase.4 & 7\\\\\n",
       "\tcase.5 & 9\\\\\n",
       "\\end{tabular}\n"
      ],
      "text/markdown": [
       "\n",
       "| <!--/--> | line |\n",
       "|---|---|\n",
       "| case.1 | 1 |\n",
       "| case.2 | 2 |\n",
       "| case.3 | 5 |\n",
       "| case.4 | 7 |\n",
       "| case.5 | 9 |\n",
       "\n"
      ],
      "text/plain": [
       "       line\n",
       "case.1 1   \n",
       "case.2 2   \n",
       "case.3 5   \n",
       "case.4 7   \n",
       "case.5 9   "
      ]
     },
     "metadata": {},
     "output_type": "display_data"
    }
   ],
   "source": [
    "garden[3]"
   ]
  },
  {
   "cell_type": "code",
   "execution_count": 58,
   "id": "5b61bf7a",
   "metadata": {},
   "outputs": [
    {
     "data": {
      "text/html": [
       "<ol class=list-inline>\n",
       "\t<li>1</li>\n",
       "\t<li>2</li>\n",
       "\t<li>5</li>\n",
       "\t<li>7</li>\n",
       "\t<li>9</li>\n",
       "</ol>\n"
      ],
      "text/latex": [
       "\\begin{enumerate*}\n",
       "\\item 1\n",
       "\\item 2\n",
       "\\item 5\n",
       "\\item 7\n",
       "\\item 9\n",
       "\\end{enumerate*}\n"
      ],
      "text/markdown": [
       "1. 1\n",
       "2. 2\n",
       "3. 5\n",
       "4. 7\n",
       "5. 9\n",
       "\n",
       "\n"
      ],
      "text/plain": [
       "[1] 1 2 5 7 9"
      ]
     },
     "metadata": {},
     "output_type": "display_data"
    }
   ],
   "source": [
    "garden[[3]]"
   ]
  },
  {
   "cell_type": "markdown",
   "id": "7da966ec",
   "metadata": {},
   "source": [
    "## Sorting, flipping, and merging data"
   ]
  },
  {
   "cell_type": "markdown",
   "id": "ea8095bf",
   "metadata": {},
   "source": [
    "**Sorting a numeric or character vector**"
   ]
  },
  {
   "cell_type": "code",
   "execution_count": 59,
   "id": "802c72b3",
   "metadata": {},
   "outputs": [
    {
     "data": {
      "text/html": [
       "<ol class=list-inline>\n",
       "\t<li>2</li>\n",
       "\t<li>3</li>\n",
       "\t<li>4</li>\n",
       "</ol>\n"
      ],
      "text/latex": [
       "\\begin{enumerate*}\n",
       "\\item 2\n",
       "\\item 3\n",
       "\\item 4\n",
       "\\end{enumerate*}\n"
      ],
      "text/markdown": [
       "1. 2\n",
       "2. 3\n",
       "3. 4\n",
       "\n",
       "\n"
      ],
      "text/plain": [
       "[1] 2 3 4"
      ]
     },
     "metadata": {},
     "output_type": "display_data"
    }
   ],
   "source": [
    "numbers <- c(2, 4, 3)\n",
    "sort(numbers)"
   ]
  },
  {
   "cell_type": "code",
   "execution_count": 60,
   "id": "217a67cc",
   "metadata": {},
   "outputs": [
    {
     "data": {
      "text/html": [
       "<ol class=list-inline>\n",
       "\t<li>4</li>\n",
       "\t<li>3</li>\n",
       "\t<li>2</li>\n",
       "</ol>\n"
      ],
      "text/latex": [
       "\\begin{enumerate*}\n",
       "\\item 4\n",
       "\\item 3\n",
       "\\item 2\n",
       "\\end{enumerate*}\n"
      ],
      "text/markdown": [
       "1. 4\n",
       "2. 3\n",
       "3. 2\n",
       "\n",
       "\n"
      ],
      "text/plain": [
       "[1] 4 3 2"
      ]
     },
     "metadata": {},
     "output_type": "display_data"
    }
   ],
   "source": [
    "sort(numbers, decreasing=TRUE)"
   ]
  },
  {
   "cell_type": "code",
   "execution_count": 61,
   "id": "223a76ec",
   "metadata": {},
   "outputs": [
    {
     "data": {
      "text/html": [
       "<ol class=list-inline>\n",
       "\t<li>'aardvark'</li>\n",
       "\t<li>'swing'</li>\n",
       "\t<li>'zebra'</li>\n",
       "</ol>\n"
      ],
      "text/latex": [
       "\\begin{enumerate*}\n",
       "\\item 'aardvark'\n",
       "\\item 'swing'\n",
       "\\item 'zebra'\n",
       "\\end{enumerate*}\n"
      ],
      "text/markdown": [
       "1. 'aardvark'\n",
       "2. 'swing'\n",
       "3. 'zebra'\n",
       "\n",
       "\n"
      ],
      "text/plain": [
       "[1] \"aardvark\" \"swing\"    \"zebra\"   "
      ]
     },
     "metadata": {},
     "output_type": "display_data"
    }
   ],
   "source": [
    "text <- c(\"aardvark\", \"zebra\", \"swing\")\n",
    "sort(text)"
   ]
  },
  {
   "cell_type": "markdown",
   "id": "fb56eedb",
   "metadata": {},
   "source": [
    "**Sorting a factor**"
   ]
  },
  {
   "cell_type": "code",
   "execution_count": 62,
   "id": "269b33ef",
   "metadata": {},
   "outputs": [
    {
     "name": "stdout",
     "output_type": "stream",
     "text": [
      "[1] aardvark zebra    swing   \n",
      "Levels: aardvark swing zebra\n"
     ]
    }
   ],
   "source": [
    "fac <- factor(text)\n",
    "print(fac)"
   ]
  },
  {
   "cell_type": "code",
   "execution_count": 63,
   "id": "c07aecb6",
   "metadata": {},
   "outputs": [
    {
     "name": "stdout",
     "output_type": "stream",
     "text": [
      "[1] aardvark swing    zebra   \n",
      "Levels: aardvark swing zebra\n"
     ]
    }
   ],
   "source": [
    "print(sort(fac))"
   ]
  },
  {
   "cell_type": "code",
   "execution_count": 64,
   "id": "5fec6971",
   "metadata": {},
   "outputs": [
    {
     "name": "stdout",
     "output_type": "stream",
     "text": [
      "[1] aardvark zebra    swing   \n",
      "Levels: zebra swing aardvark\n"
     ]
    }
   ],
   "source": [
    "fac <- factor(text, levels=c(\"zebra\", \"swing\", \"aardvark\"))\n",
    "print(fac)"
   ]
  },
  {
   "cell_type": "code",
   "execution_count": 65,
   "id": "bee38582",
   "metadata": {},
   "outputs": [
    {
     "name": "stdout",
     "output_type": "stream",
     "text": [
      "[1] zebra    swing    aardvark\n",
      "Levels: zebra swing aardvark\n"
     ]
    }
   ],
   "source": [
    "print(sort(fac))"
   ]
  },
  {
   "cell_type": "markdown",
   "id": "d83182b1",
   "metadata": {},
   "source": [
    "**Sorting a data frame**\n",
    "\n",
    "bit difficult normally, but use the `sortFrame()` method in lsr package"
   ]
  },
  {
   "cell_type": "code",
   "execution_count": 66,
   "id": "90fdf591",
   "metadata": {},
   "outputs": [
    {
     "data": {
      "text/html": [
       "<table>\n",
       "<thead><tr><th></th><th scope=col>speaker</th><th scope=col>utterance</th><th scope=col>line</th></tr></thead>\n",
       "<tbody>\n",
       "\t<tr><th scope=row>case.4</th><td>makka-pakka</td><td>pip        </td><td>7          </td></tr>\n",
       "\t<tr><th scope=row>case.5</th><td>makka-pakka</td><td>onk        </td><td>9          </td></tr>\n",
       "\t<tr><th scope=row>case.3</th><td>tombliboo  </td><td>ee         </td><td>5          </td></tr>\n",
       "\t<tr><th scope=row>case.1</th><td>upsy-daisy </td><td>pip        </td><td>1          </td></tr>\n",
       "\t<tr><th scope=row>case.2</th><td>upsy-daisy </td><td>pip        </td><td>2          </td></tr>\n",
       "</tbody>\n",
       "</table>\n"
      ],
      "text/latex": [
       "\\begin{tabular}{r|lll}\n",
       "  & speaker & utterance & line\\\\\n",
       "\\hline\n",
       "\tcase.4 & makka-pakka & pip         & 7          \\\\\n",
       "\tcase.5 & makka-pakka & onk         & 9          \\\\\n",
       "\tcase.3 & tombliboo   & ee          & 5          \\\\\n",
       "\tcase.1 & upsy-daisy  & pip         & 1          \\\\\n",
       "\tcase.2 & upsy-daisy  & pip         & 2          \\\\\n",
       "\\end{tabular}\n"
      ],
      "text/markdown": [
       "\n",
       "| <!--/--> | speaker | utterance | line |\n",
       "|---|---|---|---|\n",
       "| case.4 | makka-pakka | pip         | 7           |\n",
       "| case.5 | makka-pakka | onk         | 9           |\n",
       "| case.3 | tombliboo   | ee          | 5           |\n",
       "| case.1 | upsy-daisy  | pip         | 1           |\n",
       "| case.2 | upsy-daisy  | pip         | 2           |\n",
       "\n"
      ],
      "text/plain": [
       "       speaker     utterance line\n",
       "case.4 makka-pakka pip       7   \n",
       "case.5 makka-pakka onk       9   \n",
       "case.3 tombliboo   ee        5   \n",
       "case.1 upsy-daisy  pip       1   \n",
       "case.2 upsy-daisy  pip       2   "
      ]
     },
     "metadata": {},
     "output_type": "display_data"
    }
   ],
   "source": [
    "sortFrame(garden, speaker, line)"
   ]
  },
  {
   "cell_type": "markdown",
   "id": "54707730",
   "metadata": {},
   "source": [
    "Sorts by speaker, then sorts by line"
   ]
  },
  {
   "cell_type": "markdown",
   "id": "f4d94ee6",
   "metadata": {},
   "source": [
    "use minus sign for reverse order"
   ]
  },
  {
   "cell_type": "code",
   "execution_count": 67,
   "id": "4468963a",
   "metadata": {},
   "outputs": [
    {
     "data": {
      "text/html": [
       "<table>\n",
       "<thead><tr><th></th><th scope=col>speaker</th><th scope=col>utterance</th><th scope=col>line</th></tr></thead>\n",
       "<tbody>\n",
       "\t<tr><th scope=row>case.5</th><td>makka-pakka</td><td>onk        </td><td>9          </td></tr>\n",
       "\t<tr><th scope=row>case.4</th><td>makka-pakka</td><td>pip        </td><td>7          </td></tr>\n",
       "\t<tr><th scope=row>case.3</th><td>tombliboo  </td><td>ee         </td><td>5          </td></tr>\n",
       "\t<tr><th scope=row>case.2</th><td>upsy-daisy </td><td>pip        </td><td>2          </td></tr>\n",
       "\t<tr><th scope=row>case.1</th><td>upsy-daisy </td><td>pip        </td><td>1          </td></tr>\n",
       "</tbody>\n",
       "</table>\n"
      ],
      "text/latex": [
       "\\begin{tabular}{r|lll}\n",
       "  & speaker & utterance & line\\\\\n",
       "\\hline\n",
       "\tcase.5 & makka-pakka & onk         & 9          \\\\\n",
       "\tcase.4 & makka-pakka & pip         & 7          \\\\\n",
       "\tcase.3 & tombliboo   & ee          & 5          \\\\\n",
       "\tcase.2 & upsy-daisy  & pip         & 2          \\\\\n",
       "\tcase.1 & upsy-daisy  & pip         & 1          \\\\\n",
       "\\end{tabular}\n"
      ],
      "text/markdown": [
       "\n",
       "| <!--/--> | speaker | utterance | line |\n",
       "|---|---|---|---|\n",
       "| case.5 | makka-pakka | onk         | 9           |\n",
       "| case.4 | makka-pakka | pip         | 7           |\n",
       "| case.3 | tombliboo   | ee          | 5           |\n",
       "| case.2 | upsy-daisy  | pip         | 2           |\n",
       "| case.1 | upsy-daisy  | pip         | 1           |\n",
       "\n"
      ],
      "text/plain": [
       "       speaker     utterance line\n",
       "case.5 makka-pakka onk       9   \n",
       "case.4 makka-pakka pip       7   \n",
       "case.3 tombliboo   ee        5   \n",
       "case.2 upsy-daisy  pip       2   \n",
       "case.1 upsy-daisy  pip       1   "
      ]
     },
     "metadata": {},
     "output_type": "display_data"
    }
   ],
   "source": [
    "sortFrame(garden, speaker, -line)"
   ]
  },
  {
   "cell_type": "markdown",
   "id": "e452c4df",
   "metadata": {},
   "source": [
    "**Binding vectors together**"
   ]
  },
  {
   "cell_type": "code",
   "execution_count": 68,
   "id": "9bf6721f",
   "metadata": {},
   "outputs": [],
   "source": [
    "cake.1 <- c(100, 80, 0, 0, 0)\n",
    "cake.2 <- c(100, 100, 90, 30, 10)"
   ]
  },
  {
   "cell_type": "markdown",
   "id": "3a71939e",
   "metadata": {},
   "source": [
    "combine with data frame"
   ]
  },
  {
   "cell_type": "code",
   "execution_count": 69,
   "id": "2daca0f4",
   "metadata": {},
   "outputs": [
    {
     "data": {
      "text/html": [
       "<table>\n",
       "<thead><tr><th scope=col>cake.1</th><th scope=col>cake.2</th></tr></thead>\n",
       "<tbody>\n",
       "\t<tr><td>100</td><td>100</td></tr>\n",
       "\t<tr><td> 80</td><td>100</td></tr>\n",
       "\t<tr><td>  0</td><td> 90</td></tr>\n",
       "\t<tr><td>  0</td><td> 30</td></tr>\n",
       "\t<tr><td>  0</td><td> 10</td></tr>\n",
       "</tbody>\n",
       "</table>\n"
      ],
      "text/latex": [
       "\\begin{tabular}{r|ll}\n",
       " cake.1 & cake.2\\\\\n",
       "\\hline\n",
       "\t 100 & 100\\\\\n",
       "\t  80 & 100\\\\\n",
       "\t   0 &  90\\\\\n",
       "\t   0 &  30\\\\\n",
       "\t   0 &  10\\\\\n",
       "\\end{tabular}\n"
      ],
      "text/markdown": [
       "\n",
       "| cake.1 | cake.2 |\n",
       "|---|---|\n",
       "| 100 | 100 |\n",
       "|  80 | 100 |\n",
       "|   0 |  90 |\n",
       "|   0 |  30 |\n",
       "|   0 |  10 |\n",
       "\n"
      ],
      "text/plain": [
       "  cake.1 cake.2\n",
       "1 100    100   \n",
       "2  80    100   \n",
       "3   0     90   \n",
       "4   0     30   \n",
       "5   0     10   "
      ]
     },
     "metadata": {},
     "output_type": "display_data"
    }
   ],
   "source": [
    "cake.df <- data.frame(cake.1, cake.2)\n",
    "cake.df"
   ]
  },
  {
   "cell_type": "markdown",
   "id": "9d8613f3",
   "metadata": {},
   "source": [
    "column bind (cbind())"
   ]
  },
  {
   "cell_type": "code",
   "execution_count": 70,
   "id": "81889f63",
   "metadata": {},
   "outputs": [
    {
     "name": "stdout",
     "output_type": "stream",
     "text": [
      "     cake.1 cake.2\n",
      "[1,]    100    100\n",
      "[2,]     80    100\n",
      "[3,]      0     90\n",
      "[4,]      0     30\n",
      "[5,]      0     10\n"
     ]
    }
   ],
   "source": [
    "cake.mat1 <- cbind(cake.1, cake.2)\n",
    "print(cake.mat1)"
   ]
  },
  {
   "cell_type": "markdown",
   "id": "6279ab21",
   "metadata": {},
   "source": [
    "note that this is a matrix, not data.frame"
   ]
  },
  {
   "cell_type": "markdown",
   "id": "6b4122ec",
   "metadata": {},
   "source": [
    "rbind() binds row-wise, not column-wise"
   ]
  },
  {
   "cell_type": "code",
   "execution_count": 71,
   "id": "a4e65430",
   "metadata": {},
   "outputs": [
    {
     "name": "stdout",
     "output_type": "stream",
     "text": [
      "       [,1] [,2] [,3] [,4] [,5]\n",
      "cake.1  100   80    0    0    0\n",
      "cake.2  100  100   90   30   10\n"
     ]
    }
   ],
   "source": [
    "cake.mat2 <- rbind(cake.1, cake.2)\n",
    "print(cake.mat2)"
   ]
  },
  {
   "cell_type": "markdown",
   "id": "acb35054",
   "metadata": {},
   "source": [
    "can add names using rownames() and colnames(). merge() can do database-like merging of vectors and data frames"
   ]
  },
  {
   "cell_type": "markdown",
   "id": "57c0340c",
   "metadata": {},
   "source": [
    "**Binding multiple copies of the same vector together**"
   ]
  },
  {
   "cell_type": "code",
   "execution_count": 72,
   "id": "30a96e12",
   "metadata": {},
   "outputs": [
    {
     "name": "stdout",
     "output_type": "stream",
     "text": [
      "          [,1] [,2] [,3] [,4] [,5] [,6]\n",
      "fibonacci    1    1    2    3    5    8\n",
      "fibonacci    1    1    2    3    5    8\n",
      "fibonacci    1    1    2    3    5    8\n"
     ]
    }
   ],
   "source": [
    "fibonacci <- c(1, 1, 2, 3, 5, 8)\n",
    "print(rbind(fibonacci, fibonacci, fibonacci))"
   ]
  },
  {
   "cell_type": "markdown",
   "id": "144f9b3c",
   "metadata": {},
   "source": [
    "lsr package: rowCopy and colCopy"
   ]
  },
  {
   "cell_type": "code",
   "execution_count": 73,
   "id": "1b09cb2f",
   "metadata": {},
   "outputs": [
    {
     "name": "stdout",
     "output_type": "stream",
     "text": [
      "     [,1] [,2] [,3] [,4] [,5] [,6]\n",
      "[1,]    1    1    2    3    5    8\n",
      "[2,]    1    1    2    3    5    8\n",
      "[3,]    1    1    2    3    5    8\n"
     ]
    }
   ],
   "source": [
    "print(rowCopy(fibonacci, times=3))"
   ]
  },
  {
   "cell_type": "markdown",
   "id": "0abcaf36",
   "metadata": {},
   "source": [
    "**Transposing a matrix or data frame**"
   ]
  },
  {
   "cell_type": "code",
   "execution_count": 74,
   "id": "ce25986c",
   "metadata": {},
   "outputs": [
    {
     "name": "stdout",
     "output_type": "stream",
     "text": [
      "       time.1 time.2 time.3 time.4 time.5\n",
      "cake.1    100     80      0      0      0\n",
      "cake.2    100    100     90     30     10\n",
      "cake.3    100     20     20     20     20\n",
      "cake.4    100    100    100    100    100\n"
     ]
    }
   ],
   "source": [
    "load(\"cakes.Rdata\")\n",
    "print(cakes)"
   ]
  },
  {
   "cell_type": "code",
   "execution_count": 75,
   "id": "cd6045d1",
   "metadata": {},
   "outputs": [
    {
     "data": {
      "text/html": [
       "'matrix'"
      ],
      "text/latex": [
       "'matrix'"
      ],
      "text/markdown": [
       "'matrix'"
      ],
      "text/plain": [
       "[1] \"matrix\""
      ]
     },
     "metadata": {},
     "output_type": "display_data"
    }
   ],
   "source": [
    "class(cakes)"
   ]
  },
  {
   "cell_type": "code",
   "execution_count": 76,
   "id": "0b9bc149",
   "metadata": {},
   "outputs": [
    {
     "name": "stdout",
     "output_type": "stream",
     "text": [
      "       cake.1 cake.2 cake.3 cake.4\n",
      "time.1    100    100    100    100\n",
      "time.2     80    100     20    100\n",
      "time.3      0     90     20    100\n",
      "time.4      0     30     20    100\n",
      "time.5      0     10     20    100\n"
     ]
    }
   ],
   "source": [
    "cakes.flipped <- t(cakes)\n",
    "print(cakes.flipped)"
   ]
  },
  {
   "cell_type": "markdown",
   "id": "5616b9d3",
   "metadata": {},
   "source": [
    "use tFrame() from lsr package to transpose dataframes"
   ]
  },
  {
   "cell_type": "code",
   "execution_count": 77,
   "id": "c0be4fe9",
   "metadata": {},
   "outputs": [
    {
     "data": {
      "text/html": [
       "<table>\n",
       "<thead><tr><th></th><th scope=col>V1</th><th scope=col>V2</th><th scope=col>V3</th><th scope=col>V4</th><th scope=col>V5</th><th scope=col>V6</th><th scope=col>V7</th><th scope=col>V8</th><th scope=col>V9</th><th scope=col>V10</th></tr></thead>\n",
       "<tbody>\n",
       "\t<tr><th scope=row>speaker</th><td>upsy-daisy </td><td>upsy-daisy </td><td>upsy-daisy </td><td>upsy-daisy </td><td>tombliboo  </td><td>tombliboo  </td><td>makka-pakka</td><td>makka-pakka</td><td>makka-pakka</td><td>makka-pakka</td></tr>\n",
       "\t<tr><th scope=row>utterance</th><td>pip        </td><td>pip        </td><td>onk        </td><td>onk        </td><td>ee         </td><td>oo         </td><td>pip        </td><td>pip        </td><td>onk        </td><td>onk        </td></tr>\n",
       "</tbody>\n",
       "</table>\n"
      ],
      "text/latex": [
       "\\begin{tabular}{r|llllllllll}\n",
       "  & V1 & V2 & V3 & V4 & V5 & V6 & V7 & V8 & V9 & V10\\\\\n",
       "\\hline\n",
       "\tspeaker & upsy-daisy  & upsy-daisy  & upsy-daisy  & upsy-daisy  & tombliboo   & tombliboo   & makka-pakka & makka-pakka & makka-pakka & makka-pakka\\\\\n",
       "\tutterance & pip         & pip         & onk         & onk         & ee          & oo          & pip         & pip         & onk         & onk        \\\\\n",
       "\\end{tabular}\n"
      ],
      "text/markdown": [
       "\n",
       "| <!--/--> | V1 | V2 | V3 | V4 | V5 | V6 | V7 | V8 | V9 | V10 |\n",
       "|---|---|---|---|---|---|---|---|---|---|---|\n",
       "| speaker | upsy-daisy  | upsy-daisy  | upsy-daisy  | upsy-daisy  | tombliboo   | tombliboo   | makka-pakka | makka-pakka | makka-pakka | makka-pakka |\n",
       "| utterance | pip         | pip         | onk         | onk         | ee          | oo          | pip         | pip         | onk         | onk         |\n",
       "\n"
      ],
      "text/plain": [
       "          V1         V2         V3         V4         V5        V6       \n",
       "speaker   upsy-daisy upsy-daisy upsy-daisy upsy-daisy tombliboo tombliboo\n",
       "utterance pip        pip        onk        onk        ee        oo       \n",
       "          V7          V8          V9          V10        \n",
       "speaker   makka-pakka makka-pakka makka-pakka makka-pakka\n",
       "utterance pip         pip         onk         onk        "
      ]
     },
     "metadata": {},
     "output_type": "display_data"
    }
   ],
   "source": [
    "tFrame(itng)"
   ]
  },
  {
   "cell_type": "markdown",
   "id": "03955cd3",
   "metadata": {},
   "source": [
    "## Reshaping a data frame"
   ]
  },
  {
   "cell_type": "markdown",
   "id": "8aa35d45",
   "metadata": {},
   "source": [
    "**Long form and wide form data**"
   ]
  },
  {
   "cell_type": "code",
   "execution_count": 78,
   "id": "2df893f3",
   "metadata": {},
   "outputs": [
    {
     "data": {
      "text/plain": [
       "   -- Name --         -- Class --   -- Size --\n",
       "   age                numeric       11        \n",
       "   age.breaks         numeric       4         \n",
       "   age.group          factor        11        \n",
       "   age.group2         factor        11        \n",
       "   age.group3         factor        11        \n",
       "   age.labels         character     3         \n",
       "   cake.1             numeric       5         \n",
       "   cake.2             numeric       5         \n",
       "   cake.df            data.frame    5 x 2     \n",
       "   cake.mat1          matrix        5 x 2     \n",
       "   cake.mat2          matrix        2 x 5     \n",
       "   cakes              matrix        4 x 5     \n",
       "   cakes.flipped      matrix        5 x 4     \n",
       "   choice             data.frame    4 x 10    \n",
       "   df                 data.frame    4 x 1     \n",
       "   drugs              data.frame    10 x 8    \n",
       "   fac                factor        3         \n",
       "   fibonacci          numeric       6         \n",
       "   garden             data.frame    5 x 3     \n",
       "   is.MP.speaking     logical       5         \n",
       "   itng               data.frame    10 x 2    \n",
       "   itng.table         table         3 x 4     \n",
       "   likert.centered    numeric       10        \n",
       "   likert.raw         numeric       10        \n",
       "   makka.pakka        character     4         \n",
       "   numbers            numeric       3         \n",
       "   opinion.dir        numeric       10        \n",
       "   opinion.strength   numeric       10        \n",
       "   speaker            character     10        \n",
       "   speech.by.char     list          3         \n",
       "   text               character     3         \n",
       "   tombliboo          character     2         \n",
       "   upsy.daisy         character     4         \n",
       "   utterance          character     10        "
      ]
     },
     "metadata": {},
     "output_type": "display_data"
    }
   ],
   "source": [
    "load(\"repeated.Rdata\")\n",
    "who()"
   ]
  },
  {
   "cell_type": "code",
   "execution_count": 79,
   "id": "069e307c",
   "metadata": {},
   "outputs": [
    {
     "data": {
      "text/html": [
       "<table>\n",
       "<thead><tr><th scope=col>id</th><th scope=col>gender</th><th scope=col>WMC_alcohol</th><th scope=col>WMC_caffeine</th><th scope=col>WMC_no.drug</th><th scope=col>RT_alcohol</th><th scope=col>RT_caffeine</th><th scope=col>RT_no.drug</th></tr></thead>\n",
       "<tbody>\n",
       "\t<tr><td>1     </td><td>female</td><td>3.7   </td><td>3.7   </td><td>3.9   </td><td>488   </td><td>236   </td><td>371   </td></tr>\n",
       "\t<tr><td>2     </td><td>female</td><td>6.4   </td><td>7.3   </td><td>7.9   </td><td>607   </td><td>376   </td><td>349   </td></tr>\n",
       "\t<tr><td>3     </td><td>female</td><td>4.6   </td><td>7.4   </td><td>7.3   </td><td>643   </td><td>226   </td><td>412   </td></tr>\n",
       "\t<tr><td>4     </td><td>male  </td><td>6.4   </td><td>7.8   </td><td>8.2   </td><td>684   </td><td>206   </td><td>252   </td></tr>\n",
       "\t<tr><td>5     </td><td>female</td><td>4.9   </td><td>5.2   </td><td>7.0   </td><td>593   </td><td>262   </td><td>439   </td></tr>\n",
       "\t<tr><td>6     </td><td>male  </td><td>5.4   </td><td>6.6   </td><td>7.2   </td><td>492   </td><td>230   </td><td>464   </td></tr>\n",
       "\t<tr><td>7     </td><td>male  </td><td>7.9   </td><td>7.9   </td><td>8.9   </td><td>690   </td><td>259   </td><td>327   </td></tr>\n",
       "\t<tr><td>8     </td><td>male  </td><td>4.1   </td><td>5.9   </td><td>4.5   </td><td>486   </td><td>230   </td><td>305   </td></tr>\n",
       "\t<tr><td>9     </td><td>female</td><td>5.2   </td><td>6.2   </td><td>7.2   </td><td>686   </td><td>273   </td><td>327   </td></tr>\n",
       "\t<tr><td>10    </td><td>female</td><td>6.2   </td><td>7.4   </td><td>7.8   </td><td>645   </td><td>240   </td><td>498   </td></tr>\n",
       "</tbody>\n",
       "</table>\n"
      ],
      "text/latex": [
       "\\begin{tabular}{r|llllllll}\n",
       " id & gender & WMC\\_alcohol & WMC\\_caffeine & WMC\\_no.drug & RT\\_alcohol & RT\\_caffeine & RT\\_no.drug\\\\\n",
       "\\hline\n",
       "\t 1      & female & 3.7    & 3.7    & 3.9    & 488    & 236    & 371   \\\\\n",
       "\t 2      & female & 6.4    & 7.3    & 7.9    & 607    & 376    & 349   \\\\\n",
       "\t 3      & female & 4.6    & 7.4    & 7.3    & 643    & 226    & 412   \\\\\n",
       "\t 4      & male   & 6.4    & 7.8    & 8.2    & 684    & 206    & 252   \\\\\n",
       "\t 5      & female & 4.9    & 5.2    & 7.0    & 593    & 262    & 439   \\\\\n",
       "\t 6      & male   & 5.4    & 6.6    & 7.2    & 492    & 230    & 464   \\\\\n",
       "\t 7      & male   & 7.9    & 7.9    & 8.9    & 690    & 259    & 327   \\\\\n",
       "\t 8      & male   & 4.1    & 5.9    & 4.5    & 486    & 230    & 305   \\\\\n",
       "\t 9      & female & 5.2    & 6.2    & 7.2    & 686    & 273    & 327   \\\\\n",
       "\t 10     & female & 6.2    & 7.4    & 7.8    & 645    & 240    & 498   \\\\\n",
       "\\end{tabular}\n"
      ],
      "text/markdown": [
       "\n",
       "| id | gender | WMC_alcohol | WMC_caffeine | WMC_no.drug | RT_alcohol | RT_caffeine | RT_no.drug |\n",
       "|---|---|---|---|---|---|---|---|\n",
       "| 1      | female | 3.7    | 3.7    | 3.9    | 488    | 236    | 371    |\n",
       "| 2      | female | 6.4    | 7.3    | 7.9    | 607    | 376    | 349    |\n",
       "| 3      | female | 4.6    | 7.4    | 7.3    | 643    | 226    | 412    |\n",
       "| 4      | male   | 6.4    | 7.8    | 8.2    | 684    | 206    | 252    |\n",
       "| 5      | female | 4.9    | 5.2    | 7.0    | 593    | 262    | 439    |\n",
       "| 6      | male   | 5.4    | 6.6    | 7.2    | 492    | 230    | 464    |\n",
       "| 7      | male   | 7.9    | 7.9    | 8.9    | 690    | 259    | 327    |\n",
       "| 8      | male   | 4.1    | 5.9    | 4.5    | 486    | 230    | 305    |\n",
       "| 9      | female | 5.2    | 6.2    | 7.2    | 686    | 273    | 327    |\n",
       "| 10     | female | 6.2    | 7.4    | 7.8    | 645    | 240    | 498    |\n",
       "\n"
      ],
      "text/plain": [
       "   id gender WMC_alcohol WMC_caffeine WMC_no.drug RT_alcohol RT_caffeine\n",
       "1  1  female 3.7         3.7          3.9         488        236        \n",
       "2  2  female 6.4         7.3          7.9         607        376        \n",
       "3  3  female 4.6         7.4          7.3         643        226        \n",
       "4  4  male   6.4         7.8          8.2         684        206        \n",
       "5  5  female 4.9         5.2          7.0         593        262        \n",
       "6  6  male   5.4         6.6          7.2         492        230        \n",
       "7  7  male   7.9         7.9          8.9         690        259        \n",
       "8  8  male   4.1         5.9          4.5         486        230        \n",
       "9  9  female 5.2         6.2          7.2         686        273        \n",
       "10 10 female 6.2         7.4          7.8         645        240        \n",
       "   RT_no.drug\n",
       "1  371       \n",
       "2  349       \n",
       "3  412       \n",
       "4  252       \n",
       "5  439       \n",
       "6  464       \n",
       "7  327       \n",
       "8  305       \n",
       "9  327       \n",
       "10 498       "
      ]
     },
     "metadata": {},
     "output_type": "display_data"
    }
   ],
   "source": [
    "drugs"
   ]
  },
  {
   "cell_type": "markdown",
   "id": "1880f24f",
   "metadata": {},
   "source": [
    "wide form: each participant is a single row<br>\n",
    "two vars which are characteristic of subject (id and gender)<br> \n",
    "6 variables -> 2 measured variables in 3 testing conditions<br> \n",
    "drug type is a **within-subject factor**"
   ]
  },
  {
   "cell_type": "markdown",
   "id": "5964c7fa",
   "metadata": {},
   "source": [
    "**Reshaping with wideToLong()**\n",
    "\n",
    "if we want a separate row for each testing occasion\n",
    "\n",
    "wideToLong() is in lsr package. relies format of variable names\n",
    "\n",
    "`id', 'gender` = **between-subject** variables"
   ]
  },
  {
   "cell_type": "code",
   "execution_count": 80,
   "id": "2f496aed",
   "metadata": {},
   "outputs": [
    {
     "data": {
      "text/html": [
       "<table>\n",
       "<thead><tr><th scope=col>id</th><th scope=col>gender</th><th scope=col>drug</th><th scope=col>WMC</th><th scope=col>RT</th></tr></thead>\n",
       "<tbody>\n",
       "\t<tr><td>1       </td><td>female  </td><td>alcohol </td><td>3.7     </td><td>488     </td></tr>\n",
       "\t<tr><td>2       </td><td>female  </td><td>alcohol </td><td>6.4     </td><td>607     </td></tr>\n",
       "\t<tr><td>3       </td><td>female  </td><td>alcohol </td><td>4.6     </td><td>643     </td></tr>\n",
       "\t<tr><td>4       </td><td>male    </td><td>alcohol </td><td>6.4     </td><td>684     </td></tr>\n",
       "\t<tr><td>5       </td><td>female  </td><td>alcohol </td><td>4.9     </td><td>593     </td></tr>\n",
       "\t<tr><td>6       </td><td>male    </td><td>alcohol </td><td>5.4     </td><td>492     </td></tr>\n",
       "\t<tr><td>7       </td><td>male    </td><td>alcohol </td><td>7.9     </td><td>690     </td></tr>\n",
       "\t<tr><td>8       </td><td>male    </td><td>alcohol </td><td>4.1     </td><td>486     </td></tr>\n",
       "\t<tr><td>9       </td><td>female  </td><td>alcohol </td><td>5.2     </td><td>686     </td></tr>\n",
       "\t<tr><td>10      </td><td>female  </td><td>alcohol </td><td>6.2     </td><td>645     </td></tr>\n",
       "\t<tr><td>1       </td><td>female  </td><td>caffeine</td><td>3.7     </td><td>236     </td></tr>\n",
       "\t<tr><td>2       </td><td>female  </td><td>caffeine</td><td>7.3     </td><td>376     </td></tr>\n",
       "\t<tr><td>3       </td><td>female  </td><td>caffeine</td><td>7.4     </td><td>226     </td></tr>\n",
       "\t<tr><td>4       </td><td>male    </td><td>caffeine</td><td>7.8     </td><td>206     </td></tr>\n",
       "\t<tr><td>5       </td><td>female  </td><td>caffeine</td><td>5.2     </td><td>262     </td></tr>\n",
       "\t<tr><td>6       </td><td>male    </td><td>caffeine</td><td>6.6     </td><td>230     </td></tr>\n",
       "\t<tr><td>7       </td><td>male    </td><td>caffeine</td><td>7.9     </td><td>259     </td></tr>\n",
       "\t<tr><td>8       </td><td>male    </td><td>caffeine</td><td>5.9     </td><td>230     </td></tr>\n",
       "\t<tr><td>9       </td><td>female  </td><td>caffeine</td><td>6.2     </td><td>273     </td></tr>\n",
       "\t<tr><td>10      </td><td>female  </td><td>caffeine</td><td>7.4     </td><td>240     </td></tr>\n",
       "\t<tr><td>1       </td><td>female  </td><td>no.drug </td><td>3.9     </td><td>371     </td></tr>\n",
       "\t<tr><td>2       </td><td>female  </td><td>no.drug </td><td>7.9     </td><td>349     </td></tr>\n",
       "\t<tr><td>3       </td><td>female  </td><td>no.drug </td><td>7.3     </td><td>412     </td></tr>\n",
       "\t<tr><td>4       </td><td>male    </td><td>no.drug </td><td>8.2     </td><td>252     </td></tr>\n",
       "\t<tr><td>5       </td><td>female  </td><td>no.drug </td><td>7.0     </td><td>439     </td></tr>\n",
       "\t<tr><td>6       </td><td>male    </td><td>no.drug </td><td>7.2     </td><td>464     </td></tr>\n",
       "\t<tr><td>7       </td><td>male    </td><td>no.drug </td><td>8.9     </td><td>327     </td></tr>\n",
       "\t<tr><td>8       </td><td>male    </td><td>no.drug </td><td>4.5     </td><td>305     </td></tr>\n",
       "\t<tr><td>9       </td><td>female  </td><td>no.drug </td><td>7.2     </td><td>327     </td></tr>\n",
       "\t<tr><td>10      </td><td>female  </td><td>no.drug </td><td>7.8     </td><td>498     </td></tr>\n",
       "</tbody>\n",
       "</table>\n"
      ],
      "text/latex": [
       "\\begin{tabular}{r|lllll}\n",
       " id & gender & drug & WMC & RT\\\\\n",
       "\\hline\n",
       "\t 1        & female   & alcohol  & 3.7      & 488     \\\\\n",
       "\t 2        & female   & alcohol  & 6.4      & 607     \\\\\n",
       "\t 3        & female   & alcohol  & 4.6      & 643     \\\\\n",
       "\t 4        & male     & alcohol  & 6.4      & 684     \\\\\n",
       "\t 5        & female   & alcohol  & 4.9      & 593     \\\\\n",
       "\t 6        & male     & alcohol  & 5.4      & 492     \\\\\n",
       "\t 7        & male     & alcohol  & 7.9      & 690     \\\\\n",
       "\t 8        & male     & alcohol  & 4.1      & 486     \\\\\n",
       "\t 9        & female   & alcohol  & 5.2      & 686     \\\\\n",
       "\t 10       & female   & alcohol  & 6.2      & 645     \\\\\n",
       "\t 1        & female   & caffeine & 3.7      & 236     \\\\\n",
       "\t 2        & female   & caffeine & 7.3      & 376     \\\\\n",
       "\t 3        & female   & caffeine & 7.4      & 226     \\\\\n",
       "\t 4        & male     & caffeine & 7.8      & 206     \\\\\n",
       "\t 5        & female   & caffeine & 5.2      & 262     \\\\\n",
       "\t 6        & male     & caffeine & 6.6      & 230     \\\\\n",
       "\t 7        & male     & caffeine & 7.9      & 259     \\\\\n",
       "\t 8        & male     & caffeine & 5.9      & 230     \\\\\n",
       "\t 9        & female   & caffeine & 6.2      & 273     \\\\\n",
       "\t 10       & female   & caffeine & 7.4      & 240     \\\\\n",
       "\t 1        & female   & no.drug  & 3.9      & 371     \\\\\n",
       "\t 2        & female   & no.drug  & 7.9      & 349     \\\\\n",
       "\t 3        & female   & no.drug  & 7.3      & 412     \\\\\n",
       "\t 4        & male     & no.drug  & 8.2      & 252     \\\\\n",
       "\t 5        & female   & no.drug  & 7.0      & 439     \\\\\n",
       "\t 6        & male     & no.drug  & 7.2      & 464     \\\\\n",
       "\t 7        & male     & no.drug  & 8.9      & 327     \\\\\n",
       "\t 8        & male     & no.drug  & 4.5      & 305     \\\\\n",
       "\t 9        & female   & no.drug  & 7.2      & 327     \\\\\n",
       "\t 10       & female   & no.drug  & 7.8      & 498     \\\\\n",
       "\\end{tabular}\n"
      ],
      "text/markdown": [
       "\n",
       "| id | gender | drug | WMC | RT |\n",
       "|---|---|---|---|---|\n",
       "| 1        | female   | alcohol  | 3.7      | 488      |\n",
       "| 2        | female   | alcohol  | 6.4      | 607      |\n",
       "| 3        | female   | alcohol  | 4.6      | 643      |\n",
       "| 4        | male     | alcohol  | 6.4      | 684      |\n",
       "| 5        | female   | alcohol  | 4.9      | 593      |\n",
       "| 6        | male     | alcohol  | 5.4      | 492      |\n",
       "| 7        | male     | alcohol  | 7.9      | 690      |\n",
       "| 8        | male     | alcohol  | 4.1      | 486      |\n",
       "| 9        | female   | alcohol  | 5.2      | 686      |\n",
       "| 10       | female   | alcohol  | 6.2      | 645      |\n",
       "| 1        | female   | caffeine | 3.7      | 236      |\n",
       "| 2        | female   | caffeine | 7.3      | 376      |\n",
       "| 3        | female   | caffeine | 7.4      | 226      |\n",
       "| 4        | male     | caffeine | 7.8      | 206      |\n",
       "| 5        | female   | caffeine | 5.2      | 262      |\n",
       "| 6        | male     | caffeine | 6.6      | 230      |\n",
       "| 7        | male     | caffeine | 7.9      | 259      |\n",
       "| 8        | male     | caffeine | 5.9      | 230      |\n",
       "| 9        | female   | caffeine | 6.2      | 273      |\n",
       "| 10       | female   | caffeine | 7.4      | 240      |\n",
       "| 1        | female   | no.drug  | 3.9      | 371      |\n",
       "| 2        | female   | no.drug  | 7.9      | 349      |\n",
       "| 3        | female   | no.drug  | 7.3      | 412      |\n",
       "| 4        | male     | no.drug  | 8.2      | 252      |\n",
       "| 5        | female   | no.drug  | 7.0      | 439      |\n",
       "| 6        | male     | no.drug  | 7.2      | 464      |\n",
       "| 7        | male     | no.drug  | 8.9      | 327      |\n",
       "| 8        | male     | no.drug  | 4.5      | 305      |\n",
       "| 9        | female   | no.drug  | 7.2      | 327      |\n",
       "| 10       | female   | no.drug  | 7.8      | 498      |\n",
       "\n"
      ],
      "text/plain": [
       "   id gender drug     WMC RT \n",
       "1  1  female alcohol  3.7 488\n",
       "2  2  female alcohol  6.4 607\n",
       "3  3  female alcohol  4.6 643\n",
       "4  4  male   alcohol  6.4 684\n",
       "5  5  female alcohol  4.9 593\n",
       "6  6  male   alcohol  5.4 492\n",
       "7  7  male   alcohol  7.9 690\n",
       "8  8  male   alcohol  4.1 486\n",
       "9  9  female alcohol  5.2 686\n",
       "10 10 female alcohol  6.2 645\n",
       "11 1  female caffeine 3.7 236\n",
       "12 2  female caffeine 7.3 376\n",
       "13 3  female caffeine 7.4 226\n",
       "14 4  male   caffeine 7.8 206\n",
       "15 5  female caffeine 5.2 262\n",
       "16 6  male   caffeine 6.6 230\n",
       "17 7  male   caffeine 7.9 259\n",
       "18 8  male   caffeine 5.9 230\n",
       "19 9  female caffeine 6.2 273\n",
       "20 10 female caffeine 7.4 240\n",
       "21 1  female no.drug  3.9 371\n",
       "22 2  female no.drug  7.9 349\n",
       "23 3  female no.drug  7.3 412\n",
       "24 4  male   no.drug  8.2 252\n",
       "25 5  female no.drug  7.0 439\n",
       "26 6  male   no.drug  7.2 464\n",
       "27 7  male   no.drug  8.9 327\n",
       "28 8  male   no.drug  4.5 305\n",
       "29 9  female no.drug  7.2 327\n",
       "30 10 female no.drug  7.8 498"
      ]
     },
     "metadata": {},
     "output_type": "display_data"
    }
   ],
   "source": [
    "drugs.2 <- wideToLong(drugs, within=\"drug\")\n",
    "drugs.2"
   ]
  },
  {
   "cell_type": "markdown",
   "id": "5dca6577",
   "metadata": {},
   "source": [
    "**Reshaping data using longToWide()**\n",
    "\n",
    "use a formula to indicate which variables are measured separately for each condition, and which is the within-subject factor specifying the condition\n",
    "\n",
    "2 sided formula: measured vars ~ within-subject factor vars"
   ]
  },
  {
   "cell_type": "code",
   "execution_count": 81,
   "id": "d37816c0",
   "metadata": {},
   "outputs": [
    {
     "data": {
      "text/html": [
       "<table>\n",
       "<thead><tr><th scope=col>id</th><th scope=col>gender</th><th scope=col>WMC_alcohol</th><th scope=col>RT_alcohol</th><th scope=col>WMC_caffeine</th><th scope=col>RT_caffeine</th><th scope=col>WMC_no.drug</th><th scope=col>RT_no.drug</th></tr></thead>\n",
       "<tbody>\n",
       "\t<tr><td>1     </td><td>female</td><td>3.7   </td><td>488   </td><td>3.7   </td><td>236   </td><td>3.9   </td><td>371   </td></tr>\n",
       "\t<tr><td>2     </td><td>female</td><td>6.4   </td><td>607   </td><td>7.3   </td><td>376   </td><td>7.9   </td><td>349   </td></tr>\n",
       "\t<tr><td>3     </td><td>female</td><td>4.6   </td><td>643   </td><td>7.4   </td><td>226   </td><td>7.3   </td><td>412   </td></tr>\n",
       "\t<tr><td>4     </td><td>male  </td><td>6.4   </td><td>684   </td><td>7.8   </td><td>206   </td><td>8.2   </td><td>252   </td></tr>\n",
       "\t<tr><td>5     </td><td>female</td><td>4.9   </td><td>593   </td><td>5.2   </td><td>262   </td><td>7.0   </td><td>439   </td></tr>\n",
       "\t<tr><td>6     </td><td>male  </td><td>5.4   </td><td>492   </td><td>6.6   </td><td>230   </td><td>7.2   </td><td>464   </td></tr>\n",
       "\t<tr><td>7     </td><td>male  </td><td>7.9   </td><td>690   </td><td>7.9   </td><td>259   </td><td>8.9   </td><td>327   </td></tr>\n",
       "\t<tr><td>8     </td><td>male  </td><td>4.1   </td><td>486   </td><td>5.9   </td><td>230   </td><td>4.5   </td><td>305   </td></tr>\n",
       "\t<tr><td>9     </td><td>female</td><td>5.2   </td><td>686   </td><td>6.2   </td><td>273   </td><td>7.2   </td><td>327   </td></tr>\n",
       "\t<tr><td>10    </td><td>female</td><td>6.2   </td><td>645   </td><td>7.4   </td><td>240   </td><td>7.8   </td><td>498   </td></tr>\n",
       "</tbody>\n",
       "</table>\n"
      ],
      "text/latex": [
       "\\begin{tabular}{r|llllllll}\n",
       " id & gender & WMC\\_alcohol & RT\\_alcohol & WMC\\_caffeine & RT\\_caffeine & WMC\\_no.drug & RT\\_no.drug\\\\\n",
       "\\hline\n",
       "\t 1      & female & 3.7    & 488    & 3.7    & 236    & 3.9    & 371   \\\\\n",
       "\t 2      & female & 6.4    & 607    & 7.3    & 376    & 7.9    & 349   \\\\\n",
       "\t 3      & female & 4.6    & 643    & 7.4    & 226    & 7.3    & 412   \\\\\n",
       "\t 4      & male   & 6.4    & 684    & 7.8    & 206    & 8.2    & 252   \\\\\n",
       "\t 5      & female & 4.9    & 593    & 5.2    & 262    & 7.0    & 439   \\\\\n",
       "\t 6      & male   & 5.4    & 492    & 6.6    & 230    & 7.2    & 464   \\\\\n",
       "\t 7      & male   & 7.9    & 690    & 7.9    & 259    & 8.9    & 327   \\\\\n",
       "\t 8      & male   & 4.1    & 486    & 5.9    & 230    & 4.5    & 305   \\\\\n",
       "\t 9      & female & 5.2    & 686    & 6.2    & 273    & 7.2    & 327   \\\\\n",
       "\t 10     & female & 6.2    & 645    & 7.4    & 240    & 7.8    & 498   \\\\\n",
       "\\end{tabular}\n"
      ],
      "text/markdown": [
       "\n",
       "| id | gender | WMC_alcohol | RT_alcohol | WMC_caffeine | RT_caffeine | WMC_no.drug | RT_no.drug |\n",
       "|---|---|---|---|---|---|---|---|\n",
       "| 1      | female | 3.7    | 488    | 3.7    | 236    | 3.9    | 371    |\n",
       "| 2      | female | 6.4    | 607    | 7.3    | 376    | 7.9    | 349    |\n",
       "| 3      | female | 4.6    | 643    | 7.4    | 226    | 7.3    | 412    |\n",
       "| 4      | male   | 6.4    | 684    | 7.8    | 206    | 8.2    | 252    |\n",
       "| 5      | female | 4.9    | 593    | 5.2    | 262    | 7.0    | 439    |\n",
       "| 6      | male   | 5.4    | 492    | 6.6    | 230    | 7.2    | 464    |\n",
       "| 7      | male   | 7.9    | 690    | 7.9    | 259    | 8.9    | 327    |\n",
       "| 8      | male   | 4.1    | 486    | 5.9    | 230    | 4.5    | 305    |\n",
       "| 9      | female | 5.2    | 686    | 6.2    | 273    | 7.2    | 327    |\n",
       "| 10     | female | 6.2    | 645    | 7.4    | 240    | 7.8    | 498    |\n",
       "\n"
      ],
      "text/plain": [
       "   id gender WMC_alcohol RT_alcohol WMC_caffeine RT_caffeine WMC_no.drug\n",
       "1  1  female 3.7         488        3.7          236         3.9        \n",
       "2  2  female 6.4         607        7.3          376         7.9        \n",
       "3  3  female 4.6         643        7.4          226         7.3        \n",
       "4  4  male   6.4         684        7.8          206         8.2        \n",
       "5  5  female 4.9         593        5.2          262         7.0        \n",
       "6  6  male   5.4         492        6.6          230         7.2        \n",
       "7  7  male   7.9         690        7.9          259         8.9        \n",
       "8  8  male   4.1         486        5.9          230         4.5        \n",
       "9  9  female 5.2         686        6.2          273         7.2        \n",
       "10 10 female 6.2         645        7.4          240         7.8        \n",
       "   RT_no.drug\n",
       "1  371       \n",
       "2  349       \n",
       "3  412       \n",
       "4  252       \n",
       "5  439       \n",
       "6  464       \n",
       "7  327       \n",
       "8  305       \n",
       "9  327       \n",
       "10 498       "
      ]
     },
     "metadata": {},
     "output_type": "display_data"
    }
   ],
   "source": [
    "longToWide(drugs.2, formula = WMC+RT~drug)"
   ]
  },
  {
   "cell_type": "markdown",
   "id": "8fbda3f0",
   "metadata": {},
   "source": [
    "**Reshaping with multiple within-subject factors**"
   ]
  },
  {
   "cell_type": "code",
   "execution_count": 82,
   "id": "a9eead99",
   "metadata": {},
   "outputs": [
    {
     "data": {
      "text/html": [
       "<table>\n",
       "<thead><tr><th scope=col>id</th><th scope=col>gender</th><th scope=col>MRT/block1/day1</th><th scope=col>MRT/block1/day2</th><th scope=col>MRT/block2/day1</th><th scope=col>MRT/block2/day2</th><th scope=col>PC/block1/day1</th><th scope=col>PC/block1/day2</th><th scope=col>PC/block2/day1</th><th scope=col>PC/block2/day2</th></tr></thead>\n",
       "<tbody>\n",
       "\t<tr><td>1     </td><td>male  </td><td>415   </td><td>400   </td><td>455   </td><td>450   </td><td>79    </td><td>88    </td><td>82    </td><td> 93   </td></tr>\n",
       "\t<tr><td>2     </td><td>male  </td><td>500   </td><td>490   </td><td>532   </td><td>518   </td><td>83    </td><td>92    </td><td>86    </td><td> 97   </td></tr>\n",
       "\t<tr><td>3     </td><td>female</td><td>478   </td><td>468   </td><td>499   </td><td>474   </td><td>91    </td><td>98    </td><td>90    </td><td>100   </td></tr>\n",
       "\t<tr><td>4     </td><td>female</td><td>550   </td><td>502   </td><td>602   </td><td>588   </td><td>75    </td><td>89    </td><td>78    </td><td> 95   </td></tr>\n",
       "</tbody>\n",
       "</table>\n"
      ],
      "text/latex": [
       "\\begin{tabular}{r|llllllllll}\n",
       " id & gender & MRT/block1/day1 & MRT/block1/day2 & MRT/block2/day1 & MRT/block2/day2 & PC/block1/day1 & PC/block1/day2 & PC/block2/day1 & PC/block2/day2\\\\\n",
       "\\hline\n",
       "\t 1      & male   & 415    & 400    & 455    & 450    & 79     & 88     & 82     &  93   \\\\\n",
       "\t 2      & male   & 500    & 490    & 532    & 518    & 83     & 92     & 86     &  97   \\\\\n",
       "\t 3      & female & 478    & 468    & 499    & 474    & 91     & 98     & 90     & 100   \\\\\n",
       "\t 4      & female & 550    & 502    & 602    & 588    & 75     & 89     & 78     &  95   \\\\\n",
       "\\end{tabular}\n"
      ],
      "text/markdown": [
       "\n",
       "| id | gender | MRT/block1/day1 | MRT/block1/day2 | MRT/block2/day1 | MRT/block2/day2 | PC/block1/day1 | PC/block1/day2 | PC/block2/day1 | PC/block2/day2 |\n",
       "|---|---|---|---|---|---|---|---|---|---|\n",
       "| 1      | male   | 415    | 400    | 455    | 450    | 79     | 88     | 82     |  93    |\n",
       "| 2      | male   | 500    | 490    | 532    | 518    | 83     | 92     | 86     |  97    |\n",
       "| 3      | female | 478    | 468    | 499    | 474    | 91     | 98     | 90     | 100    |\n",
       "| 4      | female | 550    | 502    | 602    | 588    | 75     | 89     | 78     |  95    |\n",
       "\n"
      ],
      "text/plain": [
       "  id gender MRT/block1/day1 MRT/block1/day2 MRT/block2/day1 MRT/block2/day2\n",
       "1 1  male   415             400             455             450            \n",
       "2 2  male   500             490             532             518            \n",
       "3 3  female 478             468             499             474            \n",
       "4 4  female 550             502             602             588            \n",
       "  PC/block1/day1 PC/block1/day2 PC/block2/day1 PC/block2/day2\n",
       "1 79             88             82              93           \n",
       "2 83             92             86              97           \n",
       "3 91             98             90             100           \n",
       "4 75             89             78              95           "
      ]
     },
     "metadata": {},
     "output_type": "display_data"
    }
   ],
   "source": [
    "choice"
   ]
  },
  {
   "cell_type": "code",
   "execution_count": 83,
   "id": "37dcd63c",
   "metadata": {},
   "outputs": [
    {
     "data": {
      "text/html": [
       "<table>\n",
       "<thead><tr><th scope=col>id</th><th scope=col>gender</th><th scope=col>MRT</th><th scope=col>PC</th><th scope=col>block</th><th scope=col>day</th></tr></thead>\n",
       "<tbody>\n",
       "\t<tr><td>1     </td><td>male  </td><td>415   </td><td> 79   </td><td>block1</td><td>day1  </td></tr>\n",
       "\t<tr><td>2     </td><td>male  </td><td>500   </td><td> 83   </td><td>block1</td><td>day1  </td></tr>\n",
       "\t<tr><td>3     </td><td>female</td><td>478   </td><td> 91   </td><td>block1</td><td>day1  </td></tr>\n",
       "\t<tr><td>4     </td><td>female</td><td>550   </td><td> 75   </td><td>block1</td><td>day1  </td></tr>\n",
       "\t<tr><td>1     </td><td>male  </td><td>400   </td><td> 88   </td><td>block1</td><td>day2  </td></tr>\n",
       "\t<tr><td>2     </td><td>male  </td><td>490   </td><td> 92   </td><td>block1</td><td>day2  </td></tr>\n",
       "\t<tr><td>3     </td><td>female</td><td>468   </td><td> 98   </td><td>block1</td><td>day2  </td></tr>\n",
       "\t<tr><td>4     </td><td>female</td><td>502   </td><td> 89   </td><td>block1</td><td>day2  </td></tr>\n",
       "\t<tr><td>1     </td><td>male  </td><td>455   </td><td> 82   </td><td>block2</td><td>day1  </td></tr>\n",
       "\t<tr><td>2     </td><td>male  </td><td>532   </td><td> 86   </td><td>block2</td><td>day1  </td></tr>\n",
       "\t<tr><td>3     </td><td>female</td><td>499   </td><td> 90   </td><td>block2</td><td>day1  </td></tr>\n",
       "\t<tr><td>4     </td><td>female</td><td>602   </td><td> 78   </td><td>block2</td><td>day1  </td></tr>\n",
       "\t<tr><td>1     </td><td>male  </td><td>450   </td><td> 93   </td><td>block2</td><td>day2  </td></tr>\n",
       "\t<tr><td>2     </td><td>male  </td><td>518   </td><td> 97   </td><td>block2</td><td>day2  </td></tr>\n",
       "\t<tr><td>3     </td><td>female</td><td>474   </td><td>100   </td><td>block2</td><td>day2  </td></tr>\n",
       "\t<tr><td>4     </td><td>female</td><td>588   </td><td> 95   </td><td>block2</td><td>day2  </td></tr>\n",
       "</tbody>\n",
       "</table>\n"
      ],
      "text/latex": [
       "\\begin{tabular}{r|llllll}\n",
       " id & gender & MRT & PC & block & day\\\\\n",
       "\\hline\n",
       "\t 1      & male   & 415    &  79    & block1 & day1  \\\\\n",
       "\t 2      & male   & 500    &  83    & block1 & day1  \\\\\n",
       "\t 3      & female & 478    &  91    & block1 & day1  \\\\\n",
       "\t 4      & female & 550    &  75    & block1 & day1  \\\\\n",
       "\t 1      & male   & 400    &  88    & block1 & day2  \\\\\n",
       "\t 2      & male   & 490    &  92    & block1 & day2  \\\\\n",
       "\t 3      & female & 468    &  98    & block1 & day2  \\\\\n",
       "\t 4      & female & 502    &  89    & block1 & day2  \\\\\n",
       "\t 1      & male   & 455    &  82    & block2 & day1  \\\\\n",
       "\t 2      & male   & 532    &  86    & block2 & day1  \\\\\n",
       "\t 3      & female & 499    &  90    & block2 & day1  \\\\\n",
       "\t 4      & female & 602    &  78    & block2 & day1  \\\\\n",
       "\t 1      & male   & 450    &  93    & block2 & day2  \\\\\n",
       "\t 2      & male   & 518    &  97    & block2 & day2  \\\\\n",
       "\t 3      & female & 474    & 100    & block2 & day2  \\\\\n",
       "\t 4      & female & 588    &  95    & block2 & day2  \\\\\n",
       "\\end{tabular}\n"
      ],
      "text/markdown": [
       "\n",
       "| id | gender | MRT | PC | block | day |\n",
       "|---|---|---|---|---|---|\n",
       "| 1      | male   | 415    |  79    | block1 | day1   |\n",
       "| 2      | male   | 500    |  83    | block1 | day1   |\n",
       "| 3      | female | 478    |  91    | block1 | day1   |\n",
       "| 4      | female | 550    |  75    | block1 | day1   |\n",
       "| 1      | male   | 400    |  88    | block1 | day2   |\n",
       "| 2      | male   | 490    |  92    | block1 | day2   |\n",
       "| 3      | female | 468    |  98    | block1 | day2   |\n",
       "| 4      | female | 502    |  89    | block1 | day2   |\n",
       "| 1      | male   | 455    |  82    | block2 | day1   |\n",
       "| 2      | male   | 532    |  86    | block2 | day1   |\n",
       "| 3      | female | 499    |  90    | block2 | day1   |\n",
       "| 4      | female | 602    |  78    | block2 | day1   |\n",
       "| 1      | male   | 450    |  93    | block2 | day2   |\n",
       "| 2      | male   | 518    |  97    | block2 | day2   |\n",
       "| 3      | female | 474    | 100    | block2 | day2   |\n",
       "| 4      | female | 588    |  95    | block2 | day2   |\n",
       "\n"
      ],
      "text/plain": [
       "   id gender MRT PC  block  day \n",
       "1  1  male   415  79 block1 day1\n",
       "2  2  male   500  83 block1 day1\n",
       "3  3  female 478  91 block1 day1\n",
       "4  4  female 550  75 block1 day1\n",
       "5  1  male   400  88 block1 day2\n",
       "6  2  male   490  92 block1 day2\n",
       "7  3  female 468  98 block1 day2\n",
       "8  4  female 502  89 block1 day2\n",
       "9  1  male   455  82 block2 day1\n",
       "10 2  male   532  86 block2 day1\n",
       "11 3  female 499  90 block2 day1\n",
       "12 4  female 602  78 block2 day1\n",
       "13 1  male   450  93 block2 day2\n",
       "14 2  male   518  97 block2 day2\n",
       "15 3  female 474 100 block2 day2\n",
       "16 4  female 588  95 block2 day2"
      ]
     },
     "metadata": {},
     "output_type": "display_data"
    }
   ],
   "source": [
    "choice.2 <- wideToLong(choice, within=c(\"block\", \"day\"), sep=\"/\")\n",
    "choice.2"
   ]
  },
  {
   "cell_type": "code",
   "execution_count": 84,
   "id": "bec9947f",
   "metadata": {},
   "outputs": [
    {
     "data": {
      "text/html": [
       "<table>\n",
       "<thead><tr><th scope=col>id</th><th scope=col>gender</th><th scope=col>MRT/block1/day1</th><th scope=col>PC/block1/day1</th><th scope=col>MRT/block1/day2</th><th scope=col>PC/block1/day2</th><th scope=col>MRT/block2/day1</th><th scope=col>PC/block2/day1</th><th scope=col>MRT/block2/day2</th><th scope=col>PC/block2/day2</th></tr></thead>\n",
       "<tbody>\n",
       "\t<tr><td>1     </td><td>male  </td><td>415   </td><td>79    </td><td>400   </td><td>88    </td><td>455   </td><td>82    </td><td>450   </td><td> 93   </td></tr>\n",
       "\t<tr><td>2     </td><td>male  </td><td>500   </td><td>83    </td><td>490   </td><td>92    </td><td>532   </td><td>86    </td><td>518   </td><td> 97   </td></tr>\n",
       "\t<tr><td>3     </td><td>female</td><td>478   </td><td>91    </td><td>468   </td><td>98    </td><td>499   </td><td>90    </td><td>474   </td><td>100   </td></tr>\n",
       "\t<tr><td>4     </td><td>female</td><td>550   </td><td>75    </td><td>502   </td><td>89    </td><td>602   </td><td>78    </td><td>588   </td><td> 95   </td></tr>\n",
       "</tbody>\n",
       "</table>\n"
      ],
      "text/latex": [
       "\\begin{tabular}{r|llllllllll}\n",
       " id & gender & MRT/block1/day1 & PC/block1/day1 & MRT/block1/day2 & PC/block1/day2 & MRT/block2/day1 & PC/block2/day1 & MRT/block2/day2 & PC/block2/day2\\\\\n",
       "\\hline\n",
       "\t 1      & male   & 415    & 79     & 400    & 88     & 455    & 82     & 450    &  93   \\\\\n",
       "\t 2      & male   & 500    & 83     & 490    & 92     & 532    & 86     & 518    &  97   \\\\\n",
       "\t 3      & female & 478    & 91     & 468    & 98     & 499    & 90     & 474    & 100   \\\\\n",
       "\t 4      & female & 550    & 75     & 502    & 89     & 602    & 78     & 588    &  95   \\\\\n",
       "\\end{tabular}\n"
      ],
      "text/markdown": [
       "\n",
       "| id | gender | MRT/block1/day1 | PC/block1/day1 | MRT/block1/day2 | PC/block1/day2 | MRT/block2/day1 | PC/block2/day1 | MRT/block2/day2 | PC/block2/day2 |\n",
       "|---|---|---|---|---|---|---|---|---|---|\n",
       "| 1      | male   | 415    | 79     | 400    | 88     | 455    | 82     | 450    |  93    |\n",
       "| 2      | male   | 500    | 83     | 490    | 92     | 532    | 86     | 518    |  97    |\n",
       "| 3      | female | 478    | 91     | 468    | 98     | 499    | 90     | 474    | 100    |\n",
       "| 4      | female | 550    | 75     | 502    | 89     | 602    | 78     | 588    |  95    |\n",
       "\n"
      ],
      "text/plain": [
       "  id gender MRT/block1/day1 PC/block1/day1 MRT/block1/day2 PC/block1/day2\n",
       "1 1  male   415             79             400             88            \n",
       "2 2  male   500             83             490             92            \n",
       "3 3  female 478             91             468             98            \n",
       "4 4  female 550             75             502             89            \n",
       "  MRT/block2/day1 PC/block2/day1 MRT/block2/day2 PC/block2/day2\n",
       "1 455             82             450              93           \n",
       "2 532             86             518              97           \n",
       "3 499             90             474             100           \n",
       "4 602             78             588              95           "
      ]
     },
     "metadata": {},
     "output_type": "display_data"
    }
   ],
   "source": [
    "longToWide(choice.2, MRT+PC~block+day, sep=\"/\")"
   ]
  },
  {
   "cell_type": "markdown",
   "id": "e97f9a85",
   "metadata": {},
   "source": [
    "**What other options are there?**\n",
    "\n",
    "reshape(), stack(), unstack()<br> \n",
    "\n",
    "reshape package -> melt() and cast()<br> "
   ]
  },
  {
   "cell_type": "markdown",
   "id": "a288eaa9",
   "metadata": {},
   "source": [
    "## Working with Text"
   ]
  },
  {
   "cell_type": "markdown",
   "id": "74162851",
   "metadata": {},
   "source": [
    "**Shortening a string**"
   ]
  },
  {
   "cell_type": "code",
   "execution_count": 86,
   "id": "ff9623c0",
   "metadata": {},
   "outputs": [
    {
     "data": {
      "text/html": [
       "<ol class=list-inline>\n",
       "\t<li>'cat'</li>\n",
       "\t<li>'dog'</li>\n",
       "\t<li>'kan'</li>\n",
       "\t<li>'wha'</li>\n",
       "</ol>\n"
      ],
      "text/latex": [
       "\\begin{enumerate*}\n",
       "\\item 'cat'\n",
       "\\item 'dog'\n",
       "\\item 'kan'\n",
       "\\item 'wha'\n",
       "\\end{enumerate*}\n"
      ],
      "text/markdown": [
       "1. 'cat'\n",
       "2. 'dog'\n",
       "3. 'kan'\n",
       "4. 'wha'\n",
       "\n",
       "\n"
      ],
      "text/plain": [
       "[1] \"cat\" \"dog\" \"kan\" \"wha\""
      ]
     },
     "metadata": {},
     "output_type": "display_data"
    }
   ],
   "source": [
    "animals <- c(\"cat\", \"dog\", \"kangaroo\", \"whale\")\n",
    "strtrim(animals, width=3)"
   ]
  },
  {
   "cell_type": "code",
   "execution_count": 87,
   "id": "9cdbbb14",
   "metadata": {},
   "outputs": [
    {
     "data": {
      "text/html": [
       "<ol class=list-inline>\n",
       "\t<li>'at'</li>\n",
       "\t<li>'og'</li>\n",
       "\t<li>'an'</li>\n",
       "\t<li>'ha'</li>\n",
       "</ol>\n"
      ],
      "text/latex": [
       "\\begin{enumerate*}\n",
       "\\item 'at'\n",
       "\\item 'og'\n",
       "\\item 'an'\n",
       "\\item 'ha'\n",
       "\\end{enumerate*}\n"
      ],
      "text/markdown": [
       "1. 'at'\n",
       "2. 'og'\n",
       "3. 'an'\n",
       "4. 'ha'\n",
       "\n",
       "\n"
      ],
      "text/plain": [
       "[1] \"at\" \"og\" \"an\" \"ha\""
      ]
     },
     "metadata": {},
     "output_type": "display_data"
    }
   ],
   "source": [
    "substr(animals, start=2, stop=3)"
   ]
  },
  {
   "cell_type": "markdown",
   "id": "ea4ddff8",
   "metadata": {},
   "source": [
    "**pasting strings together**\n",
    "paste():<br> \n",
    "- \\<strings to paste together\\>\n",
    "- sep = seperators (\" \" by default)\n",
    "- collapse- whether the inputs should be collapsed. default: None\n",
    "    "
   ]
  },
  {
   "cell_type": "code",
   "execution_count": 89,
   "id": "d0153f82",
   "metadata": {},
   "outputs": [
    {
     "data": {
      "text/html": [
       "'hello world'"
      ],
      "text/latex": [
       "'hello world'"
      ],
      "text/markdown": [
       "'hello world'"
      ],
      "text/plain": [
       "[1] \"hello world\""
      ]
     },
     "metadata": {},
     "output_type": "display_data"
    }
   ],
   "source": [
    "paste(\"hello\", \"world\")"
   ]
  },
  {
   "cell_type": "code",
   "execution_count": 91,
   "id": "d42e53ac",
   "metadata": {},
   "outputs": [
    {
     "data": {
      "text/html": [
       "'hello.world'"
      ],
      "text/latex": [
       "'hello.world'"
      ],
      "text/markdown": [
       "'hello.world'"
      ],
      "text/plain": [
       "[1] \"hello.world\""
      ]
     },
     "metadata": {},
     "output_type": "display_data"
    }
   ],
   "source": [
    "paste(\"hello\", \"world\", sep=\".\")"
   ]
  },
  {
   "cell_type": "code",
   "execution_count": 92,
   "id": "f8aa4ec6",
   "metadata": {},
   "outputs": [],
   "source": [
    "hw <- c(\"hello\", \"world\")\n",
    "ng <- c(\"nasty\", \"government\")"
   ]
  },
  {
   "cell_type": "code",
   "execution_count": 94,
   "id": "a7253937",
   "metadata": {},
   "outputs": [
    {
     "data": {
      "text/html": [
       "<ol class=list-inline>\n",
       "\t<li>'hello nasty'</li>\n",
       "\t<li>'world government'</li>\n",
       "</ol>\n"
      ],
      "text/latex": [
       "\\begin{enumerate*}\n",
       "\\item 'hello nasty'\n",
       "\\item 'world government'\n",
       "\\end{enumerate*}\n"
      ],
      "text/markdown": [
       "1. 'hello nasty'\n",
       "2. 'world government'\n",
       "\n",
       "\n"
      ],
      "text/plain": [
       "[1] \"hello nasty\"      \"world government\""
      ]
     },
     "metadata": {},
     "output_type": "display_data"
    }
   ],
   "source": [
    "paste(hw, ng)"
   ]
  },
  {
   "cell_type": "code",
   "execution_count": 95,
   "id": "fb975689",
   "metadata": {},
   "outputs": [
    {
     "data": {
      "text/html": [
       "<ol class=list-inline>\n",
       "\t<li>'hello.nasty'</li>\n",
       "\t<li>'world.government'</li>\n",
       "</ol>\n"
      ],
      "text/latex": [
       "\\begin{enumerate*}\n",
       "\\item 'hello.nasty'\n",
       "\\item 'world.government'\n",
       "\\end{enumerate*}\n"
      ],
      "text/markdown": [
       "1. 'hello.nasty'\n",
       "2. 'world.government'\n",
       "\n",
       "\n"
      ],
      "text/plain": [
       "[1] \"hello.nasty\"      \"world.government\""
      ]
     },
     "metadata": {},
     "output_type": "display_data"
    }
   ],
   "source": [
    "paste(hw, ng, sep=\".\")"
   ]
  },
  {
   "cell_type": "code",
   "execution_count": 96,
   "id": "801676e6",
   "metadata": {},
   "outputs": [
    {
     "data": {
      "text/html": [
       "'hello nasty.world government'"
      ],
      "text/latex": [
       "'hello nasty.world government'"
      ],
      "text/markdown": [
       "'hello nasty.world government'"
      ],
      "text/plain": [
       "[1] \"hello nasty.world government\""
      ]
     },
     "metadata": {},
     "output_type": "display_data"
    }
   ],
   "source": [
    "paste(hw, ng, collapse=\".\")"
   ]
  },
  {
   "cell_type": "code",
   "execution_count": 97,
   "id": "76f5523e",
   "metadata": {},
   "outputs": [
    {
     "data": {
      "text/html": [
       "'hello.nasty:::world.government'"
      ],
      "text/latex": [
       "'hello.nasty:::world.government'"
      ],
      "text/markdown": [
       "'hello.nasty:::world.government'"
      ],
      "text/plain": [
       "[1] \"hello.nasty:::world.government\""
      ]
     },
     "metadata": {},
     "output_type": "display_data"
    }
   ],
   "source": [
    "paste(hw, ng, sep=\".\", collapse=\":::\")"
   ]
  },
  {
   "cell_type": "markdown",
   "id": "ac759b6f",
   "metadata": {},
   "source": [
    "**splitting strings**"
   ]
  },
  {
   "cell_type": "code",
   "execution_count": 98,
   "id": "9a388db2",
   "metadata": {},
   "outputs": [],
   "source": [
    "monkey <- \"It was the best of times. It was the blurst of times.\""
   ]
  },
  {
   "cell_type": "markdown",
   "id": "d9486993",
   "metadata": {},
   "source": [
    "use strsplit()<br>\n",
    "- x=vector of character strings to be split\n",
    "- split = fixed string or regular expression\n",
    "- fixed = fixed delimiter (FALSE by default, should usually be set to true)"
   ]
  },
  {
   "cell_type": "code",
   "execution_count": 100,
   "id": "e13855e8",
   "metadata": {},
   "outputs": [
    {
     "name": "stdout",
     "output_type": "stream",
     "text": [
      "[[1]]\n",
      " [1] \"It\"     \"was\"    \"the\"    \"best\"   \"of\"     \"times.\" \"It\"     \"was\"   \n",
      " [9] \"the\"    \"blurst\" \"of\"     \"times.\"\n",
      "\n"
     ]
    }
   ],
   "source": [
    "monkey.1 <- strsplit(monkey, split=\" \", fixed=TRUE)\n",
    "print(monkey.1)"
   ]
  },
  {
   "cell_type": "markdown",
   "id": "c174a12b",
   "metadata": {},
   "source": [
    "can use unlist function for single inputs"
   ]
  },
  {
   "cell_type": "code",
   "execution_count": 102,
   "id": "64b09556",
   "metadata": {},
   "outputs": [
    {
     "name": "stdout",
     "output_type": "stream",
     "text": [
      " [1] \"It\"     \"was\"    \"the\"    \"best\"   \"of\"     \"times.\" \"It\"     \"was\"   \n",
      " [9] \"the\"    \"blurst\" \"of\"     \"times.\"\n"
     ]
    }
   ],
   "source": [
    "print(unlist(monkey.1))"
   ]
  },
  {
   "cell_type": "markdown",
   "id": "f69a1b81",
   "metadata": {},
   "source": [
    "**Making simple conversions**\n",
    "\n",
    "toupper(), tolower() (does what you think they do)\n",
    "\n",
    "chartr() - character by character substitution"
   ]
  },
  {
   "cell_type": "code",
   "execution_count": 107,
   "id": "8d7ac095",
   "metadata": {},
   "outputs": [
    {
     "data": {
      "text/html": [
       "'notflix'"
      ],
      "text/latex": [
       "'notflix'"
      ],
      "text/markdown": [
       "'notflix'"
      ],
      "text/plain": [
       "[1] \"notflix\""
      ]
     },
     "metadata": {},
     "output_type": "display_data"
    }
   ],
   "source": [
    "old.text <- \"netflix\"\n",
    "chartr(old=c(\"e\"), new=c(\"o\"), x=old.text)"
   ]
  },
  {
   "cell_type": "markdown",
   "id": "f31ae2af",
   "metadata": {},
   "source": [
    "**Applying logical operators to text**\n",
    "\n",
    "- uppercase letters come before lowercase"
   ]
  },
  {
   "cell_type": "code",
   "execution_count": 109,
   "id": "c96443e2",
   "metadata": {},
   "outputs": [
    {
     "data": {
      "text/html": [
       "TRUE"
      ],
      "text/latex": [
       "TRUE"
      ],
      "text/markdown": [
       "TRUE"
      ],
      "text/plain": [
       "[1] TRUE"
      ]
     },
     "metadata": {},
     "output_type": "display_data"
    }
   ],
   "source": [
    "\"anteater\" < \"ZEBRA\""
   ]
  },
  {
   "cell_type": "markdown",
   "id": "7dfceaa1",
   "metadata": {},
   "source": [
    "may have been changed in an update or something"
   ]
  },
  {
   "cell_type": "markdown",
   "id": "299f3959",
   "metadata": {},
   "source": [
    "**Concatenating and printing with cat()**"
   ]
  },
  {
   "cell_type": "code",
   "execution_count": 110,
   "id": "c97c1c10",
   "metadata": {},
   "outputs": [
    {
     "name": "stdout",
     "output_type": "stream",
     "text": [
      "hello world nasty government"
     ]
    }
   ],
   "source": [
    "cat(hw, ng)"
   ]
  },
  {
   "cell_type": "code",
   "execution_count": 111,
   "id": "668f2499",
   "metadata": {},
   "outputs": [
    {
     "data": {
      "text/html": [
       "'hello nasty world government'"
      ],
      "text/latex": [
       "'hello nasty world government'"
      ],
      "text/markdown": [
       "'hello nasty world government'"
      ],
      "text/plain": [
       "[1] \"hello nasty world government\""
      ]
     },
     "metadata": {},
     "output_type": "display_data"
    }
   ],
   "source": [
    "paste(hw, ng, collapse=\" \")"
   ]
  },
  {
   "cell_type": "markdown",
   "id": "029635e3",
   "metadata": {},
   "source": [
    "cat is for printing. It does not return anything"
   ]
  },
  {
   "cell_type": "code",
   "execution_count": 112,
   "id": "8e343da6",
   "metadata": {},
   "outputs": [
    {
     "name": "stdout",
     "output_type": "stream",
     "text": [
      "hello world nasty government"
     ]
    },
    {
     "data": {
      "text/plain": [
       "NULL"
      ]
     },
     "metadata": {},
     "output_type": "display_data"
    }
   ],
   "source": [
    "x<-cat(hw, ng)\n",
    "x"
   ]
  },
  {
   "cell_type": "markdown",
   "id": "f7f385a1",
   "metadata": {},
   "source": [
    "print will print literally"
   ]
  },
  {
   "cell_type": "code",
   "execution_count": 113,
   "id": "2958ad9b",
   "metadata": {},
   "outputs": [
    {
     "name": "stdout",
     "output_type": "stream",
     "text": [
      "[1] \"hello\\nworld\"\n"
     ]
    }
   ],
   "source": [
    "print(\"hello\\nworld\")"
   ]
  },
  {
   "cell_type": "markdown",
   "id": "a895617b",
   "metadata": {},
   "source": [
    "cat will interpret special characters"
   ]
  },
  {
   "cell_type": "code",
   "execution_count": 114,
   "id": "01c5834e",
   "metadata": {},
   "outputs": [
    {
     "name": "stdout",
     "output_type": "stream",
     "text": [
      "hello\n",
      "world"
     ]
    }
   ],
   "source": [
    "cat(\"hello\\nworld\")"
   ]
  },
  {
   "attachments": {
    "image.png": {
     "image/png": "[encoded data removed]"
    }
   },
   "cell_type": "markdown",
   "id": "14fb7dad",
   "metadata": {},
   "source": [
    "**Using escape characters in text**\n",
    "\n",
    "![image.png](attachment:image.png)"
   ]
  },
  {
   "cell_type": "code",
   "execution_count": 116,
   "id": "776f4f0c",
   "metadata": {},
   "outputs": [
    {
     "name": "stdout",
     "output_type": "stream",
     "text": [
      "[1] \"P.J. O'Rourke says, \\\"Yay, money!\\\". It's a joke, but no-one laughs.\"\n"
     ]
    }
   ],
   "source": [
    "PJ <- \"P.J. O\\'Rourke says, \\\"Yay, money!\\\". It\\'s a joke, but no-one laughs.\"\n",
    "print(PJ)"
   ]
  },
  {
   "cell_type": "code",
   "execution_count": 117,
   "id": "e561f4e2",
   "metadata": {},
   "outputs": [
    {
     "name": "stdout",
     "output_type": "stream",
     "text": [
      "[1] P.J. O'Rourke says, \"Yay, money!\". It's a joke, but no-one laughs.\n"
     ]
    }
   ],
   "source": [
    "print.noquote(PJ)"
   ]
  },
  {
   "cell_type": "code",
   "execution_count": 118,
   "id": "aa729ddd",
   "metadata": {},
   "outputs": [
    {
     "name": "stdout",
     "output_type": "stream",
     "text": [
      "P.J. O'Rourke says, \"Yay, money!\". It's a joke, but no-one laughs."
     ]
    }
   ],
   "source": [
    "cat(PJ)"
   ]
  },
  {
   "cell_type": "markdown",
   "id": "9808c0ab",
   "metadata": {},
   "source": [
    "**Matching and substituting text**\n",
    "\n",
    "grep(), gsub(), and sub()"
   ]
  },
  {
   "cell_type": "code",
   "execution_count": 120,
   "id": "581edec7",
   "metadata": {},
   "outputs": [
    {
     "data": {
      "text/html": [
       "<ol class=list-inline>\n",
       "\t<li>2</li>\n",
       "\t<li>3</li>\n",
       "</ol>\n"
      ],
      "text/latex": [
       "\\begin{enumerate*}\n",
       "\\item 2\n",
       "\\item 3\n",
       "\\end{enumerate*}\n"
      ],
      "text/markdown": [
       "1. 2\n",
       "2. 3\n",
       "\n",
       "\n"
      ],
      "text/plain": [
       "[1] 2 3"
      ]
     },
     "metadata": {},
     "output_type": "display_data"
    }
   ],
   "source": [
    "beers <- c(\"little creatures\", \"sierra nevada\", \"coopers pale\")\n",
    "grep(patter=\"er\", x=beers, fixed=TRUE)"
   ]
  },
  {
   "cell_type": "markdown",
   "id": "4b6a0aa0",
   "metadata": {},
   "source": [
    "gsub() - replace all instances<br> \n",
    "sub() - replaces first instance<br> "
   ]
  },
  {
   "cell_type": "code",
   "execution_count": 121,
   "id": "7f8ffc48",
   "metadata": {},
   "outputs": [
    {
     "data": {
      "text/html": [
       "<ol class=list-inline>\n",
       "\t<li>'little creBLAHtures'</li>\n",
       "\t<li>'sierrBLAH nevBLAHdBLAH'</li>\n",
       "\t<li>'coopers pBLAHle'</li>\n",
       "</ol>\n"
      ],
      "text/latex": [
       "\\begin{enumerate*}\n",
       "\\item 'little creBLAHtures'\n",
       "\\item 'sierrBLAH nevBLAHdBLAH'\n",
       "\\item 'coopers pBLAHle'\n",
       "\\end{enumerate*}\n"
      ],
      "text/markdown": [
       "1. 'little creBLAHtures'\n",
       "2. 'sierrBLAH nevBLAHdBLAH'\n",
       "3. 'coopers pBLAHle'\n",
       "\n",
       "\n"
      ],
      "text/plain": [
       "[1] \"little creBLAHtures\"    \"sierrBLAH nevBLAHdBLAH\" \"coopers pBLAHle\"       "
      ]
     },
     "metadata": {},
     "output_type": "display_data"
    }
   ],
   "source": [
    "gsub(pattern=\"a\", replacement=\"BLAH\", x=beers, fixed=TRUE)"
   ]
  },
  {
   "cell_type": "code",
   "execution_count": 122,
   "id": "6c79dbb5",
   "metadata": {},
   "outputs": [
    {
     "data": {
      "text/html": [
       "<ol class=list-inline>\n",
       "\t<li>'little creBLAHtures'</li>\n",
       "\t<li>'sierrBLAH nevada'</li>\n",
       "\t<li>'coopers pBLAHle'</li>\n",
       "</ol>\n"
      ],
      "text/latex": [
       "\\begin{enumerate*}\n",
       "\\item 'little creBLAHtures'\n",
       "\\item 'sierrBLAH nevada'\n",
       "\\item 'coopers pBLAHle'\n",
       "\\end{enumerate*}\n"
      ],
      "text/markdown": [
       "1. 'little creBLAHtures'\n",
       "2. 'sierrBLAH nevada'\n",
       "3. 'coopers pBLAHle'\n",
       "\n",
       "\n"
      ],
      "text/plain": [
       "[1] \"little creBLAHtures\" \"sierrBLAH nevada\"    \"coopers pBLAHle\"    "
      ]
     },
     "metadata": {},
     "output_type": "display_data"
    }
   ],
   "source": [
    "sub(pattern=\"a\", replacement=\"BLAH\", x=beers, fixed=TRUE)"
   ]
  },
  {
   "cell_type": "markdown",
   "id": "1421b0da",
   "metadata": {},
   "source": [
    "**Regular expressions**"
   ]
  },
  {
   "cell_type": "markdown",
   "id": "54e362ae",
   "metadata": {},
   "source": [
    "## Reading unusual data files"
   ]
  },
  {
   "cell_type": "markdown",
   "id": "d9b4cf30",
   "metadata": {},
   "source": [
    "**Loading data from text files**\n",
    "\n",
    "**read_csv**<br> \n",
    "- header: if the first row does not contain column names, set this to False\n",
    "- sep: delimeter (usually \",\")\n",
    "- quote: specify which character is used for quotes\n",
    "- skip: number of lines to ignore\n",
    "- na.strings: special string to indicate that an entry is missing"
   ]
  },
  {
   "cell_type": "code",
   "execution_count": 123,
   "id": "a86d2251",
   "metadata": {},
   "outputs": [],
   "source": [
    "data <- read.csv(file=\"booksales2.csv\",\n",
    "                header=FALSE,\n",
    "                skip=8,\n",
    "                quote=\"*\",\n",
    "                sep=\"\\t\",\n",
    "                na.strings=\"NFI\")"
   ]
  },
  {
   "cell_type": "code",
   "execution_count": 124,
   "id": "33933e67",
   "metadata": {},
   "outputs": [
    {
     "data": {
      "text/html": [
       "<table>\n",
       "<thead><tr><th scope=col>V1</th><th scope=col>V2</th><th scope=col>V3</th><th scope=col>V4</th></tr></thead>\n",
       "<tbody>\n",
       "\t<tr><td>January  </td><td>31       </td><td>  0      </td><td>high     </td></tr>\n",
       "\t<tr><td>February </td><td>28       </td><td>100      </td><td>high     </td></tr>\n",
       "\t<tr><td>March    </td><td>31       </td><td>200      </td><td>low      </td></tr>\n",
       "\t<tr><td>April    </td><td>30       </td><td> 50      </td><td>out      </td></tr>\n",
       "\t<tr><td>May      </td><td>31       </td><td> NA      </td><td>out      </td></tr>\n",
       "\t<tr><td>June     </td><td>30       </td><td>  0      </td><td>high     </td></tr>\n",
       "</tbody>\n",
       "</table>\n"
      ],
      "text/latex": [
       "\\begin{tabular}{r|llll}\n",
       " V1 & V2 & V3 & V4\\\\\n",
       "\\hline\n",
       "\t January   & 31        &   0       & high     \\\\\n",
       "\t February  & 28        & 100       & high     \\\\\n",
       "\t March     & 31        & 200       & low      \\\\\n",
       "\t April     & 30        &  50       & out      \\\\\n",
       "\t May       & 31        &  NA       & out      \\\\\n",
       "\t June      & 30        &   0       & high     \\\\\n",
       "\\end{tabular}\n"
      ],
      "text/markdown": [
       "\n",
       "| V1 | V2 | V3 | V4 |\n",
       "|---|---|---|---|\n",
       "| January   | 31        |   0       | high      |\n",
       "| February  | 28        | 100       | high      |\n",
       "| March     | 31        | 200       | low       |\n",
       "| April     | 30        |  50       | out       |\n",
       "| May       | 31        |  NA       | out       |\n",
       "| June      | 30        |   0       | high      |\n",
       "\n"
      ],
      "text/plain": [
       "  V1        V2 V3  V4  \n",
       "1 January   31   0 high\n",
       "2 February  28 100 high\n",
       "3 March     31 200 low \n",
       "4 April     30  50 out \n",
       "5 May       31  NA out \n",
       "6 June      30   0 high"
      ]
     },
     "metadata": {},
     "output_type": "display_data"
    }
   ],
   "source": [
    "head(data)"
   ]
  },
  {
   "cell_type": "markdown",
   "id": "dd6ebdc1",
   "metadata": {},
   "source": [
    "other functions for opening other types of data files (using foreign library)\n",
    "\n",
    "- read.spss()\n",
    "\n",
    "\n",
    "library(gdata)<br> \n",
    "- read.xls()\n",
    "\n",
    "library(R.matlab) (MATLAB & Octave)<br> \n",
    "- readMat()\n",
    "\n",
    "ect ect. "
   ]
  },
  {
   "cell_type": "markdown",
   "id": "93205b90",
   "metadata": {},
   "source": [
    "## Coercing data from one class to another"
   ]
  },
  {
   "cell_type": "code",
   "execution_count": 125,
   "id": "4cd9fd7c",
   "metadata": {},
   "outputs": [
    {
     "data": {
      "text/html": [
       "'character'"
      ],
      "text/latex": [
       "'character'"
      ],
      "text/markdown": [
       "'character'"
      ],
      "text/plain": [
       "[1] \"character\""
      ]
     },
     "metadata": {},
     "output_type": "display_data"
    }
   ],
   "source": [
    "x <- \"100\"\n",
    "class(x)"
   ]
  },
  {
   "cell_type": "code",
   "execution_count": 126,
   "id": "5c906a67",
   "metadata": {},
   "outputs": [
    {
     "data": {
      "text/html": [
       "'numeric'"
      ],
      "text/latex": [
       "'numeric'"
      ],
      "text/markdown": [
       "'numeric'"
      ],
      "text/plain": [
       "[1] \"numeric\""
      ]
     },
     "metadata": {},
     "output_type": "display_data"
    }
   ],
   "source": [
    "x <- as.numeric(x)\n",
    "class(x)"
   ]
  },
  {
   "cell_type": "code",
   "execution_count": 127,
   "id": "2b1f6c08",
   "metadata": {},
   "outputs": [
    {
     "data": {
      "text/html": [
       "101"
      ],
      "text/latex": [
       "101"
      ],
      "text/markdown": [
       "101"
      ],
      "text/plain": [
       "[1] 101"
      ]
     },
     "metadata": {},
     "output_type": "display_data"
    }
   ],
   "source": [
    "x+1"
   ]
  },
  {
   "cell_type": "code",
   "execution_count": 128,
   "id": "7a14c5c2",
   "metadata": {},
   "outputs": [
    {
     "data": {
      "text/html": [
       "'character'"
      ],
      "text/latex": [
       "'character'"
      ],
      "text/markdown": [
       "'character'"
      ],
      "text/plain": [
       "[1] \"character\""
      ]
     },
     "metadata": {},
     "output_type": "display_data"
    }
   ],
   "source": [
    "x <- as.character(x)\n",
    "class(x)"
   ]
  },
  {
   "cell_type": "code",
   "execution_count": 129,
   "id": "f1b1c74b",
   "metadata": {},
   "outputs": [
    {
     "name": "stderr",
     "output_type": "stream",
     "text": [
      "Warning message in eval(expr, envir, enclos):\n",
      "“NAs introduced by coercion”"
     ]
    },
    {
     "data": {
      "text/html": [
       "&lt;NA&gt;"
      ],
      "text/latex": [
       "<NA>"
      ],
      "text/markdown": [
       "&lt;NA&gt;"
      ],
      "text/plain": [
       "[1] NA"
      ]
     },
     "metadata": {},
     "output_type": "display_data"
    }
   ],
   "source": [
    "as.numeric(\"hello world\")"
   ]
  },
  {
   "cell_type": "markdown",
   "id": "ecb181c6",
   "metadata": {},
   "source": [
    "**for booleans**\n",
    "- can be coerced to TRUE: \"T\", \"TRUE\", \"True\", \"true\", 1\n",
    "- can be coerced to FALSE: \"F\", \"FALSE\", \"False\", \"false\", 0"
   ]
  },
  {
   "cell_type": "markdown",
   "id": "a6edaeed",
   "metadata": {},
   "source": []
  },
  {
   "cell_type": "markdown",
   "id": "2914fc92",
   "metadata": {},
   "source": [
    "## Other useful data structures\n",
    "\n",
    "\n",
    "**Matricies (and arrays)**"
   ]
  },
  {
   "cell_type": "code",
   "execution_count": 143,
   "id": "a7b85fbc",
   "metadata": {},
   "outputs": [
    {
     "name": "stdout",
     "output_type": "stream",
     "text": [
      "      [,1] [,2] [,3]\n",
      "row.1    2    3    1\n",
      "row.2    5    6    7\n"
     ]
    }
   ],
   "source": [
    "row.1 <- c(2, 3, 1)\n",
    "row.2 <- c(5, 6, 7)\n",
    "\n",
    "M <- rbind(row.1, row.2)\n",
    "print(M)"
   ]
  },
  {
   "cell_type": "code",
   "execution_count": 144,
   "id": "7b8377fe",
   "metadata": {},
   "outputs": [
    {
     "name": "stdout",
     "output_type": "stream",
     "text": [
      "      col.1 col.2 col.3\n",
      "row.1     2     3     1\n",
      "row.2     5     6     7\n"
     ]
    }
   ],
   "source": [
    "colnames(M) <- c(\"col.1\", \"col.2\", \"col.3\")\n",
    "print(M)"
   ]
  },
  {
   "cell_type": "code",
   "execution_count": 145,
   "id": "94dd17aa",
   "metadata": {},
   "outputs": [
    {
     "data": {
      "text/html": [
       "7"
      ],
      "text/latex": [
       "7"
      ],
      "text/markdown": [
       "7"
      ],
      "text/plain": [
       "[1] 7"
      ]
     },
     "metadata": {},
     "output_type": "display_data"
    }
   ],
   "source": [
    "M[2, 3]"
   ]
  },
  {
   "cell_type": "code",
   "execution_count": 146,
   "id": "8557c3f2",
   "metadata": {},
   "outputs": [
    {
     "data": {
      "text/html": [
       "<dl class=dl-horizontal>\n",
       "\t<dt>col.1</dt>\n",
       "\t\t<dd>5</dd>\n",
       "\t<dt>col.2</dt>\n",
       "\t\t<dd>6</dd>\n",
       "\t<dt>col.3</dt>\n",
       "\t\t<dd>7</dd>\n",
       "</dl>\n"
      ],
      "text/latex": [
       "\\begin{description*}\n",
       "\\item[col.1] 5\n",
       "\\item[col.2] 6\n",
       "\\item[col.3] 7\n",
       "\\end{description*}\n"
      ],
      "text/markdown": [
       "col.1\n",
       ":   5col.2\n",
       ":   6col.3\n",
       ":   7\n",
       "\n"
      ],
      "text/plain": [
       "col.1 col.2 col.3 \n",
       "    5     6     7 "
      ]
     },
     "metadata": {},
     "output_type": "display_data"
    }
   ],
   "source": [
    "M[2,]"
   ]
  },
  {
   "cell_type": "code",
   "execution_count": 147,
   "id": "e07a2bd8",
   "metadata": {},
   "outputs": [
    {
     "data": {
      "text/html": [
       "<dl class=dl-horizontal>\n",
       "\t<dt>row.1</dt>\n",
       "\t\t<dd>1</dd>\n",
       "\t<dt>row.2</dt>\n",
       "\t\t<dd>7</dd>\n",
       "</dl>\n"
      ],
      "text/latex": [
       "\\begin{description*}\n",
       "\\item[row.1] 1\n",
       "\\item[row.2] 7\n",
       "\\end{description*}\n"
      ],
      "text/markdown": [
       "row.1\n",
       ":   1row.2\n",
       ":   7\n",
       "\n"
      ],
      "text/plain": [
       "row.1 row.2 \n",
       "    1     7 "
      ]
     },
     "metadata": {},
     "output_type": "display_data"
    }
   ],
   "source": [
    "M[,3]"
   ]
  },
  {
   "cell_type": "markdown",
   "id": "ac74c438",
   "metadata": {},
   "source": [
    "Note on matrix multiplication: R has no concept of a row vector or column vector, so when doing matrix\\*vector, R treates the vector as being in whichever orientation makes the calculation work. "
   ]
  },
  {
   "cell_type": "markdown",
   "id": "23be4e1d",
   "metadata": {},
   "source": [
    "matricies must be of a homogeneous datatype"
   ]
  },
  {
   "cell_type": "code",
   "execution_count": 148,
   "id": "4b63a2ed",
   "metadata": {},
   "outputs": [
    {
     "data": {
      "text/html": [
       "'numeric'"
      ],
      "text/latex": [
       "'numeric'"
      ],
      "text/markdown": [
       "'numeric'"
      ],
      "text/plain": [
       "[1] \"numeric\""
      ]
     },
     "metadata": {},
     "output_type": "display_data"
    }
   ],
   "source": [
    "class(M[1])"
   ]
  },
  {
   "cell_type": "code",
   "execution_count": 149,
   "id": "9b11c955",
   "metadata": {},
   "outputs": [],
   "source": [
    "M[1, 2] <- \"text\""
   ]
  },
  {
   "cell_type": "code",
   "execution_count": 150,
   "id": "5bedd9d7",
   "metadata": {},
   "outputs": [
    {
     "data": {
      "text/html": [
       "<table>\n",
       "<thead><tr><th></th><th scope=col>col.1</th><th scope=col>col.2</th><th scope=col>col.3</th></tr></thead>\n",
       "<tbody>\n",
       "\t<tr><th scope=row>row.1</th><td>2   </td><td>text</td><td>1   </td></tr>\n",
       "\t<tr><th scope=row>row.2</th><td>5   </td><td>6   </td><td>7   </td></tr>\n",
       "</tbody>\n",
       "</table>\n"
      ],
      "text/latex": [
       "\\begin{tabular}{r|lll}\n",
       "  & col.1 & col.2 & col.3\\\\\n",
       "\\hline\n",
       "\trow.1 & 2    & text & 1   \\\\\n",
       "\trow.2 & 5    & 6    & 7   \\\\\n",
       "\\end{tabular}\n"
      ],
      "text/markdown": [
       "\n",
       "| <!--/--> | col.1 | col.2 | col.3 |\n",
       "|---|---|---|---|\n",
       "| row.1 | 2    | text | 1    |\n",
       "| row.2 | 5    | 6    | 7    |\n",
       "\n"
      ],
      "text/plain": [
       "      col.1 col.2 col.3\n",
       "row.1 2     text  1    \n",
       "row.2 5     6     7    "
      ]
     },
     "metadata": {},
     "output_type": "display_data"
    }
   ],
   "source": [
    "M"
   ]
  },
  {
   "cell_type": "code",
   "execution_count": 151,
   "id": "58052d25",
   "metadata": {},
   "outputs": [
    {
     "data": {
      "text/html": [
       "'character'"
      ],
      "text/latex": [
       "'character'"
      ],
      "text/markdown": [
       "'character'"
      ],
      "text/plain": [
       "[1] \"character\""
      ]
     },
     "metadata": {},
     "output_type": "display_data"
    }
   ],
   "source": [
    "class(M[1])"
   ]
  },
  {
   "cell_type": "markdown",
   "id": "b0a8b9c8",
   "metadata": {},
   "source": [
    "**arrays / 3d data structures**"
   ]
  },
  {
   "cell_type": "code",
   "execution_count": 154,
   "id": "9293ca91",
   "metadata": {},
   "outputs": [
    {
     "name": "stdout",
     "output_type": "stream",
     "text": [
      ", , dan.awake = FALSE\n",
      "\n",
      "             utterance\n",
      "speaker       ee onk oo pip\n",
      "  makka-pakka  0   2  0   2\n",
      "  tombliboo    0   0  1   0\n",
      "  upsy-daisy   0   0  0   0\n",
      "\n",
      ", , dan.awake = TRUE\n",
      "\n",
      "             utterance\n",
      "speaker       ee onk oo pip\n",
      "  makka-pakka  0   0  0   0\n",
      "  tombliboo    1   0  0   0\n",
      "  upsy-daisy   0   2  0   2\n",
      "\n"
     ]
    }
   ],
   "source": [
    "dan.awake <- c(T, T, T, T, T, F, F, F, F, F)\n",
    "xtab.3d <- table(speaker, utterance, dan.awake)\n",
    "print(xtab.3d)"
   ]
  },
  {
   "cell_type": "markdown",
   "id": "105cc9ef",
   "metadata": {},
   "source": [
    "**Ordered factors**"
   ]
  },
  {
   "cell_type": "markdown",
   "id": "6d422f0e",
   "metadata": {},
   "source": [
    "2 different types of factors in R: ordered and unordered<br> \n",
    "\n",
    "unordered factor = nominal scaled variable"
   ]
  },
  {
   "cell_type": "code",
   "execution_count": 155,
   "id": "f9ff0df0",
   "metadata": {},
   "outputs": [
    {
     "data": {
      "text/html": [
       "<ol class=list-inline>\n",
       "\t<li>1</li>\n",
       "\t<li>7</li>\n",
       "\t<li>3</li>\n",
       "\t<li>4</li>\n",
       "\t<li>4</li>\n",
       "\t<li>4</li>\n",
       "\t<li>2</li>\n",
       "\t<li>6</li>\n",
       "\t<li>5</li>\n",
       "\t<li>5</li>\n",
       "</ol>\n"
      ],
      "text/latex": [
       "\\begin{enumerate*}\n",
       "\\item 1\n",
       "\\item 7\n",
       "\\item 3\n",
       "\\item 4\n",
       "\\item 4\n",
       "\\item 4\n",
       "\\item 2\n",
       "\\item 6\n",
       "\\item 5\n",
       "\\item 5\n",
       "\\end{enumerate*}\n"
      ],
      "text/markdown": [
       "1. 1\n",
       "2. 7\n",
       "3. 3\n",
       "4. 4\n",
       "5. 4\n",
       "6. 4\n",
       "7. 2\n",
       "8. 6\n",
       "9. 5\n",
       "10. 5\n",
       "\n",
       "\n"
      ],
      "text/plain": [
       " [1] 1 7 3 4 4 4 2 6 5 5"
      ]
     },
     "metadata": {},
     "output_type": "display_data"
    }
   ],
   "source": [
    "likert.raw"
   ]
  },
  {
   "cell_type": "code",
   "execution_count": 156,
   "id": "88d867d8",
   "metadata": {},
   "outputs": [
    {
     "name": "stdout",
     "output_type": "stream",
     "text": [
      " [1] 1 7 3 4 4 4 2 6 5 5\n",
      "Levels: 7 < 6 < 5 < 4 < 3 < 2 < 1\n"
     ]
    }
   ],
   "source": [
    "likert.ordinal <- factor(x=likert.raw,\n",
    "                        levels=seq(7, 1, -1),\n",
    "                        ordered=TRUE)\n",
    "print(likert.ordinal)"
   ]
  },
  {
   "cell_type": "markdown",
   "id": "b2bcbb2e",
   "metadata": {},
   "source": [
    "*always ensure that your ordered factors are ordered properly*"
   ]
  },
  {
   "cell_type": "code",
   "execution_count": 157,
   "id": "10c5ff46",
   "metadata": {},
   "outputs": [
    {
     "name": "stdout",
     "output_type": "stream",
     "text": [
      " [1] strong.agree    strong.disagree weak.agree      neutral        \n",
      " [5] neutral         neutral         agree           disagree       \n",
      " [9] weak.disagree   weak.disagree  \n",
      "7 Levels: strong.disagree < disagree < weak.disagree < ... < strong.agree\n"
     ]
    }
   ],
   "source": [
    "levels(likert.ordinal) <- c(\"strong.disagree\", \"disagree\", \"weak.disagree\",\n",
    "                           \"neutral\", \"weak.agree\", \"agree\", \"strong.agree\")\n",
    "print(likert.ordinal)"
   ]
  },
  {
   "cell_type": "markdown",
   "id": "ef552247",
   "metadata": {},
   "source": [
    "**Dates and times**"
   ]
  },
  {
   "cell_type": "code",
   "execution_count": 158,
   "id": "49e2c1d9",
   "metadata": {},
   "outputs": [
    {
     "name": "stdout",
     "output_type": "stream",
     "text": [
      "[1] \"2021-07-18\"\n"
     ]
    }
   ],
   "source": [
    "print(Sys.Date())"
   ]
  },
  {
   "cell_type": "code",
   "execution_count": 159,
   "id": "0dcd63b8",
   "metadata": {},
   "outputs": [
    {
     "name": "stdout",
     "output_type": "stream",
     "text": [
      "[1] \"2022-07-18\"\n"
     ]
    }
   ],
   "source": [
    "today <- Sys.Date()\n",
    "print(today+365)"
   ]
  },
  {
   "cell_type": "markdown",
   "id": "93b7a686",
   "metadata": {},
   "source": [
    "weekdays() - tells you what day of the week a particular day is on"
   ]
  },
  {
   "cell_type": "code",
   "execution_count": 160,
   "id": "76fa0eef",
   "metadata": {},
   "outputs": [
    {
     "data": {
      "text/html": [
       "'Sunday'"
      ],
      "text/latex": [
       "'Sunday'"
      ],
      "text/markdown": [
       "'Sunday'"
      ],
      "text/plain": [
       "[1] \"Sunday\""
      ]
     },
     "metadata": {},
     "output_type": "display_data"
    }
   ],
   "source": [
    "weekdays(today)"
   ]
  },
  {
   "cell_type": "markdown",
   "id": "8d707f6d",
   "metadata": {},
   "source": [
    "## MIscellaneous topics"
   ]
  },
  {
   "cell_type": "markdown",
   "id": "c2bc6a74",
   "metadata": {},
   "source": [
    "**Problems with floating point arithmetic**"
   ]
  },
  {
   "cell_type": "code",
   "execution_count": 161,
   "id": "c1a9a39b",
   "metadata": {},
   "outputs": [
    {
     "data": {
      "text/html": [
       "FALSE"
      ],
      "text/latex": [
       "FALSE"
      ],
      "text/markdown": [
       "FALSE"
      ],
      "text/plain": [
       "[1] FALSE"
      ]
     },
     "metadata": {},
     "output_type": "display_data"
    }
   ],
   "source": [
    "0.1+0.2==0.3"
   ]
  },
  {
   "cell_type": "markdown",
   "id": "55b3d8a3",
   "metadata": {},
   "source": [
    "There are super small rounding errors that occur when the computer stores these results in memory: "
   ]
  },
  {
   "cell_type": "code",
   "execution_count": 162,
   "id": "50fc8398",
   "metadata": {},
   "outputs": [
    {
     "data": {
      "text/html": [
       "5.55111512312578e-17"
      ],
      "text/latex": [
       "5.55111512312578e-17"
      ],
      "text/markdown": [
       "5.55111512312578e-17"
      ],
      "text/plain": [
       "[1] 5.551115e-17"
      ]
     },
     "metadata": {},
     "output_type": "display_data"
    }
   ],
   "source": [
    "0.1+0.2-0.3"
   ]
  },
  {
   "cell_type": "markdown",
   "id": "f4a6325d",
   "metadata": {},
   "source": [
    "decimals like 0.1 are actually very long in binary"
   ]
  },
  {
   "cell_type": "markdown",
   "id": "8c37f5e4",
   "metadata": {},
   "source": [
    "**The recycling rule**"
   ]
  },
  {
   "cell_type": "code",
   "execution_count": 163,
   "id": "0da0110a",
   "metadata": {},
   "outputs": [
    {
     "data": {
      "text/html": [
       "<ol class=list-inline>\n",
       "\t<li>1</li>\n",
       "\t<li>2</li>\n",
       "\t<li>1</li>\n",
       "\t<li>2</li>\n",
       "\t<li>1</li>\n",
       "\t<li>2</li>\n",
       "</ol>\n"
      ],
      "text/latex": [
       "\\begin{enumerate*}\n",
       "\\item 1\n",
       "\\item 2\n",
       "\\item 1\n",
       "\\item 2\n",
       "\\item 1\n",
       "\\item 2\n",
       "\\end{enumerate*}\n"
      ],
      "text/markdown": [
       "1. 1\n",
       "2. 2\n",
       "3. 1\n",
       "4. 2\n",
       "5. 1\n",
       "6. 2\n",
       "\n",
       "\n"
      ],
      "text/plain": [
       "[1] 1 2 1 2 1 2"
      ]
     },
     "metadata": {},
     "output_type": "display_data"
    }
   ],
   "source": [
    "x <- c(1, 1, 1, 1, 1, 1)\n",
    "y <- c(0, 1)\n",
    "x+y"
   ]
  },
  {
   "cell_type": "markdown",
   "id": "32174092",
   "metadata": {},
   "source": [
    "R recycled the shorter vector several times (i.e. broadcasted?)"
   ]
  },
  {
   "cell_type": "markdown",
   "id": "ab115020",
   "metadata": {},
   "source": [
    "**Environments**"
   ]
  },
  {
   "cell_type": "code",
   "execution_count": 164,
   "id": "b2f0bdf8",
   "metadata": {},
   "outputs": [
    {
     "data": {
      "text/html": [
       "<ol class=list-inline>\n",
       "\t<li>'.GlobalEnv'</li>\n",
       "\t<li>'package:lsr'</li>\n",
       "\t<li>'jupyter:irkernel'</li>\n",
       "\t<li>'package:stats'</li>\n",
       "\t<li>'package:graphics'</li>\n",
       "\t<li>'package:grDevices'</li>\n",
       "\t<li>'package:utils'</li>\n",
       "\t<li>'package:datasets'</li>\n",
       "\t<li>'package:methods'</li>\n",
       "\t<li>'Autoloads'</li>\n",
       "\t<li>'package:base'</li>\n",
       "</ol>\n"
      ],
      "text/latex": [
       "\\begin{enumerate*}\n",
       "\\item '.GlobalEnv'\n",
       "\\item 'package:lsr'\n",
       "\\item 'jupyter:irkernel'\n",
       "\\item 'package:stats'\n",
       "\\item 'package:graphics'\n",
       "\\item 'package:grDevices'\n",
       "\\item 'package:utils'\n",
       "\\item 'package:datasets'\n",
       "\\item 'package:methods'\n",
       "\\item 'Autoloads'\n",
       "\\item 'package:base'\n",
       "\\end{enumerate*}\n"
      ],
      "text/markdown": [
       "1. '.GlobalEnv'\n",
       "2. 'package:lsr'\n",
       "3. 'jupyter:irkernel'\n",
       "4. 'package:stats'\n",
       "5. 'package:graphics'\n",
       "6. 'package:grDevices'\n",
       "7. 'package:utils'\n",
       "8. 'package:datasets'\n",
       "9. 'package:methods'\n",
       "10. 'Autoloads'\n",
       "11. 'package:base'\n",
       "\n",
       "\n"
      ],
      "text/plain": [
       " [1] \".GlobalEnv\"        \"package:lsr\"       \"jupyter:irkernel\" \n",
       " [4] \"package:stats\"     \"package:graphics\"  \"package:grDevices\"\n",
       " [7] \"package:utils\"     \"package:datasets\"  \"package:methods\"  \n",
       "[10] \"Autoloads\"         \"package:base\"     "
      ]
     },
     "metadata": {},
     "output_type": "display_data"
    }
   ],
   "source": [
    "search()"
   ]
  },
  {
   "cell_type": "markdown",
   "id": "db48bef6",
   "metadata": {},
   "source": [
    "**Attaching a data frame**"
   ]
  },
  {
   "cell_type": "markdown",
   "id": "0fa91c6a",
   "metadata": {},
   "source": [
    "attach() copies the columns from a dataframe to the workspace"
   ]
  }
 ],
 "metadata": {
  "kernelspec": {
   "display_name": "R",
   "language": "R",
   "name": "ir"
  },
  "language_info": {
   "codemirror_mode": "r",
   "file_extension": ".r",
   "mimetype": "text/x-r-source",
   "name": "R",
   "pygments_lexer": "r",
   "version": "3.6.1"
  }
 },
 "nbformat": 4,
 "nbformat_minor": 5
}
